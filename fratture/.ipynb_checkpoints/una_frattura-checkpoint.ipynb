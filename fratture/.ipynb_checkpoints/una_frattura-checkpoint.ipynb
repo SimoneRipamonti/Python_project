{
 "cells": [
  {
   "cell_type": "code",
   "execution_count": 1,
   "id": "49ae5b5b",
   "metadata": {},
   "outputs": [],
   "source": [
    "import numpy as np\n",
    "import porepy as pp\n",
    "import scipy.sparse as sps\n",
    "import math \n",
    "import sys\n",
    "sys.path.append(\"../class\")\n",
    "from Flow_class import Flow\n",
    "from Transport_class import Transport\n",
    "from Reaction_class import Reaction"
   ]
  },
  {
   "cell_type": "code",
   "execution_count": 2,
   "id": "6356d3df",
   "metadata": {},
   "outputs": [],
   "source": [
    "Nx=30\n",
    "Ny=30"
   ]
  },
  {
   "cell_type": "code",
   "execution_count": 3,
   "id": "1a946935",
   "metadata": {
    "scrolled": true
   },
   "outputs": [],
   "source": [
    "#gb= pp.grid_buckets_2d.single_vertical([Nx, Ny], y_endpoints=[0.6, 0.2], simplex=False)\n",
    "#gb, domain = pp.grid_buckets_2d.single_horizontal([Nx, Ny], x_endpoints=[0.2, 0.8], simplex=False)\n",
    "#print(domain)\n",
    "#pp.plot_grid(gb,figsize=[15,12])\n",
    "#domain={'xmin': 0, 'xmax': 1, 'ymin': 0, 'ymax': 1}\n",
    "\n",
    "\n"
   ]
  },
  {
   "cell_type": "code",
   "execution_count": null,
   "id": "31ba50a2",
   "metadata": {},
   "outputs": [],
   "source": [
    "# Point coordinates, as a 2xn array\n",
    "p = np.array([[0, 2, 1, 1], [0, 0, 0, 3]])\n",
    "# Point connections as a 2 x num_frac arary\n",
    "e = np.array([[0, 2], [1, 3]])\n",
    "\n",
    "# The domain contains two fractures: The first from (0, 0) - (2,0), the second (1, 0) to (1, 1)\n",
    "# Set domain boundaries\n",
    "domain = {'xmin': -2, 'xmax': 3, 'ymin': -2, 'ymax': 3}\n",
    "\n",
    "# Define a fracture network in 2d\n",
    "network_2d = pp.FractureNetwork2d(p, e, domain)\n",
    "\n",
    "# Set preferred mesh size close to the fracture, and at the boundary (essentially this is a far-field value)\n",
    "mesh_args = {'mesh_size_frac': 0.2, 'mesh_size_bound': 0.3}\n",
    "\n",
    "# Generate a mixed-dimensional mesh\n",
    "gb = network_2d.mesh(mesh_args)\n",
    "pp.plot_grid(gb,figsize=(15,12))"
   ]
  },
  {
   "cell_type": "code",
   "execution_count": null,
   "id": "cd5bce6c",
   "metadata": {},
   "outputs": [],
   "source": [
    "print(gb.edges)"
   ]
  },
  {
   "cell_type": "code",
   "execution_count": null,
   "id": "c6539541",
   "metadata": {},
   "outputs": [],
   "source": [
    "parameter={\"aperture\":1e-3,\n",
    "          \"fracture_perm_1\":0.00001,\n",
    "          \"fracture_perm_2\":1e5,\n",
    "           #\"fracture_perm\":1e5,\n",
    "          #\"fracture_perm\":0.001,\n",
    "          \"perm\":1,\n",
    "          #\"f_lambda\":lambda x,y,z:math.pi*math.pi*2*math.sin(math.pi*x)*math.sin(math.pi*y),\n",
    "          \"f_lambda\":lambda x,y,z:0.0,\n",
    "          \"bc_value\":[0.0,0.0],\n",
    "          \"bc_type\":['dir','dir'],\n",
    "          \"method\":\"Tpfa\"}"
   ]
  },
  {
   "cell_type": "code",
   "execution_count": null,
   "id": "6e5988aa",
   "metadata": {},
   "outputs": [],
   "source": [
    "flow=Flow(gb,domain,parameter)\n",
    "#flow.add_data()\n",
    "flow.set_data()\n",
    "flow.discretize()\n",
    "flow.solve()\n",
    "flow.plot_pressure()"
   ]
  },
  {
   "cell_type": "code",
   "execution_count": null,
   "id": "dda10a95",
   "metadata": {},
   "outputs": [],
   "source": [
    "parameter={\n",
    "    \"aperture\":1e-4,\n",
    "    \"por\":0.2,\n",
    "    \"por_frac\":0.8,\n",
    "    #\"time_step\":1 / 60,\n",
    "    #\"time_step\":34.56,\n",
    "    \"time_step\":0.001,\n",
    "    #\"t_max\":1 /3,\n",
    "    #\"t_max\":345600,\n",
    "    \"t_max\":0.1,\n",
    "    \"initial_cond\":lambda x,y,z:0.0}\n",
    "\n",
    "transport=Transport(gb,domain,parameter)"
   ]
  },
  {
   "cell_type": "code",
   "execution_count": null,
   "id": "bec517a4",
   "metadata": {},
   "outputs": [],
   "source": [
    "Ca_value=[1.0,0.0]\n",
    "Ca_type=['dir','dir']\n",
    "Ca=\"Ca\""
   ]
  },
  {
   "cell_type": "code",
   "execution_count": null,
   "id": "66b29cd4",
   "metadata": {},
   "outputs": [],
   "source": [
    "transport.set_data(Ca_value,Ca_type,Ca)\n",
    "transport.get_flux(Ca)\n",
    "transport.discretize(Ca)\n",
    "lhs_Ca,rhs_source_adv_Ca,rhs_mass_Ca,assembler_Ca=transport.get_transport_lhs_rhs(Ca)\n"
   ]
  },
  {
   "cell_type": "code",
   "execution_count": null,
   "id": "1065be25",
   "metadata": {},
   "outputs": [],
   "source": [
    "for g,d in gb:\n",
    "    print(d[pp.PARAMETERS][\"Ca\"][\"darcy_flux\"])"
   ]
  },
  {
   "cell_type": "code",
   "execution_count": null,
   "id": "14840b82",
   "metadata": {},
   "outputs": [],
   "source": [
    "## to export the flux\n",
    "key='Ca'\n",
    "flux='darcy_flux'\n",
    "mortar='mortar_flux'\n",
    "flux_P0=\"P0_flux\"\n",
    "\n",
    "discr_P0_flux = pp.MVEM(key)\n",
    "for g, d in gb:\n",
    "    discr_P0_flux.discretize(g, d)\n",
    "    d[pp.STATE][flux] = d[pp.PARAMETERS][key][flux]\n",
    "\n",
    "## construct the P0 flux reconstruction\n",
    "pp.project_flux(gb, discr_P0_flux, flux, flux_P0, mortar)\n",
    "\n",
    "for g,d in gb:\n",
    "    print(\"P0_flux\")\n",
    "    print(d[pp.STATE][\"P0_flux\"])\n",
    "\n",
    "for g,d in gb:\n",
    "    print(\"pressure\")\n",
    "    print(d[pp.STATE][\"pressure\"])\n",
    "    \n",
    "for g,d in gb:\n",
    "    d[pp.STATE][\"P0_flux\"]*=0.01\n",
    "pp.plot_grid(gb,\"pressure\",\"P0_flux\",figsize=(15,12))"
   ]
  },
  {
   "cell_type": "code",
   "execution_count": null,
   "id": "d4df36e0",
   "metadata": {},
   "outputs": [],
   "source": [
    "save_every = 1\n",
    "n_steps = int(np.round(parameter[\"t_max\"] / parameter[\"time_step\"]))\n",
    "\n",
    "# Initial condition\n",
    "tracer1 = np.zeros(rhs_source_adv_Ca.size)\n",
    "assembler_Ca.distribute_variable(\n",
    "    tracer1, variable_names=[Ca,transport.mortar_variable]\n",
    ")\n",
    "\n",
    "\n",
    "# Exporter\n",
    "exporter1 = pp.Exporter(gb, file_name=\"Ca\", folder_name=\"Ca\")\n",
    "export_field1 = [\"Ca\"]\n",
    "IEsolver_Ca = sps.linalg.factorized(lhs_Ca)"
   ]
  },
  {
   "cell_type": "code",
   "execution_count": null,
   "id": "69e1f0fc",
   "metadata": {},
   "outputs": [],
   "source": [
    "for i in range(n_steps):\n",
    "    if np.isclose(i % save_every, 0):\n",
    "        # Export existing solution (final export is taken care of below)\n",
    "        assembler_Ca.distribute_variable(\n",
    "        tracer1,\n",
    "        variable_names=[Ca,transport.mortar_variable],\n",
    "    )\n",
    "        exporter1.write_vtu(export_field1, time_step=int(i // save_every))\n",
    "    tracer1 = IEsolver_Ca(rhs_mass_Ca * tracer1 + rhs_source_adv_Ca)\n",
    "    for g,d in gb:\n",
    "        print(\"Ca\")\n",
    "        print(d[pp.STATE][\"Ca\"])\n",
    "    print(\"FINE\")\n",
    "    \n",
    "    \n",
    "exporter1.write_vtu(export_field1, time_step=(n_steps // save_every))\n",
    "time_steps = np.arange(\n",
    "    0, parameter[\"t_max\"] + parameter[\"time_step\"], save_every * parameter[\"time_step\"]\n",
    ")\n",
    "    \n",
    "exporter1.write_pvd(time_steps)\n",
    "transport.plot_tracer(Ca)\n"
   ]
  }
 ],
 "metadata": {
  "kernelspec": {
   "display_name": "Python 3 (ipykernel)",
   "language": "python",
   "name": "python3"
  },
  "language_info": {
   "codemirror_mode": {
    "name": "ipython",
    "version": 3
   },
   "file_extension": ".py",
   "mimetype": "text/x-python",
   "name": "python",
   "nbconvert_exporter": "python",
   "pygments_lexer": "ipython3",
   "version": "3.8.8"
  }
 },
 "nbformat": 4,
 "nbformat_minor": 5
}
