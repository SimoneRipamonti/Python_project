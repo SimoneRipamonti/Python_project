{
 "cells": [
  {
   "cell_type": "code",
   "execution_count": 1,
   "id": "8c5af991",
   "metadata": {},
   "outputs": [],
   "source": [
    "import porepy as pp\n",
    "import numpy as np"
   ]
  },
  {
   "cell_type": "code",
   "execution_count": 2,
   "id": "46aeae43",
   "metadata": {},
   "outputs": [],
   "source": [
    "frac1 = np.array([[1, 4], [2, 2]])\n",
    "frac2 = np.array([[2, 2], [1, 4]])\n",
    "frac= [frac1, frac2]"
   ]
  },
  {
   "cell_type": "code",
   "execution_count": 3,
   "id": "f8a1d038",
   "metadata": {},
   "outputs": [],
   "source": [
    "frac3 = np.array([[0, 0], [0, 1]])\n",
    "frac4 = np.array([[0, 0], [0, 1]])\n",
    "fracs=[frac3,frac4]"
   ]
  },
  {
   "cell_type": "code",
   "execution_count": 4,
   "id": "2d84e52e",
   "metadata": {},
   "outputs": [],
   "source": [
    "gb=pp.meshing.cart_grid([],[5,5])"
   ]
  },
  {
   "cell_type": "code",
   "execution_count": 5,
   "id": "279a2009",
   "metadata": {},
   "outputs": [
    {
     "data": {
      "image/png": "[encoded data removed]",
      "text/plain": [
       "<Figure size 432x288 with 1 Axes>"
      ]
     },
     "metadata": {
      "needs_background": "light"
     },
     "output_type": "display_data"
    }
   ],
   "source": [
    "pp.plot_grid(gb)"
   ]
  },
  {
   "cell_type": "code",
   "execution_count": 6,
   "id": "d5369ce5",
   "metadata": {},
   "outputs": [
    {
     "name": "stdout",
     "output_type": "stream",
     "text": [
      "Mixed dimensional grid. \n",
      "Maximum dimension present: 2 \n",
      "Minimum dimension present: 2 \n",
      "Size of highest dimensional grid: Cells: 25. Nodes: 36\n",
      "In lower dimensions: \n",
      "Total number of interfaces: 0\n",
      "\n"
     ]
    }
   ],
   "source": [
    "print(gb)"
   ]
  },
  {
   "cell_type": "code",
   "execution_count": null,
   "id": "addad821",
   "metadata": {},
   "outputs": [],
   "source": []
  }
 ],
 "metadata": {
  "kernelspec": {
   "display_name": "Python 3",
   "language": "python",
   "name": "python3"
  },
  "language_info": {
   "codemirror_mode": {
    "name": "ipython",
    "version": 3
   },
   "file_extension": ".py",
   "mimetype": "text/x-python",
   "name": "python",
   "nbconvert_exporter": "python",
   "pygments_lexer": "ipython3",
   "version": "3.8.8"
  }
 },
 "nbformat": 4,
 "nbformat_minor": 5
}
