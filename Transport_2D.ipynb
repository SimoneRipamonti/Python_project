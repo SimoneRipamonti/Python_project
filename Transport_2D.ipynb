{
 "cells": [
  {
   "cell_type": "code",
   "execution_count": 1,
   "id": "9fca384b",
   "metadata": {},
   "outputs": [],
   "source": [
    "import numpy as np\n",
    "import scipy.sparse as sps\n",
    "import porepy as pp"
   ]
  },
  {
   "cell_type": "code",
   "execution_count": 2,
   "id": "60098bfd",
   "metadata": {},
   "outputs": [],
   "source": [
    "import sys\n",
    "sys.path.append(\"./class\")\n",
    "from Transport_class import Transport"
   ]
  },
  {
   "cell_type": "code",
   "execution_count": 3,
   "id": "095cd217",
   "metadata": {},
   "outputs": [
    {
     "name": "stderr",
     "output_type": "stream",
     "text": [
      "/home/dell/anaconda3/lib/python3.8/site-packages/porepy/viz/plot_grid.py:241: UserWarning: Attempting to set identical bottom == top == 0.0 results in singular transformations; automatically expanding.\n",
      "  ax.set_zlim3d(z)\n"
     ]
    },
    {
     "data": {
      "image/png": "[encoded data removed]",
      "text/plain": [
       "<Figure size 1080x864 with 1 Axes>"
      ]
     },
     "metadata": {
      "needs_background": "light"
     },
     "output_type": "display_data"
    }
   ],
   "source": [
    "Nx=100\n",
    "Ny=1\n",
    "Lx=1.0\n",
    "Ly=1.0\n",
    "#phys_dims=[0.045,0.01]\n",
    "phys_dims=[Lx,Ly]\n",
    "g=pp.CartGrid([Nx,Ny],phys_dims)\n",
    "g.compute_geometry()        \n",
    "pp.plot_grid(g, figsize=(15,12))"
   ]
  },
  {
   "cell_type": "code",
   "execution_count": 4,
   "id": "4891d40a",
   "metadata": {},
   "outputs": [
    {
     "name": "stdout",
     "output_type": "stream",
     "text": [
      "301\n"
     ]
    }
   ],
   "source": [
    "unity = np.ones(g.num_cells)\n",
    "empty = np.empty(0)\n",
    "#porosity=0.3*unity\n",
    "porosity=unity\n",
    "aperture=1\n",
    "bc_type=[\"dir\",\"dir\"]\n",
    "bc_value=[0.,0.]\n",
    "#bc_value=[0.38553623, 0.]\n",
    "#init_cond=lambda x,y,z:int(x<0.5)\n",
    "init_cond=lambda x,y,z:int(x<0.2)\n",
    "#init_cond=lambda x,y,z:0.0\n",
    "#init_cond=lambda x,y,z:0.00545 \n",
    "print(g.num_faces)"
   ]
  },
  {
   "cell_type": "code",
   "execution_count": 5,
   "id": "5fba0a0d",
   "metadata": {},
   "outputs": [
    {
     "name": "stdout",
     "output_type": "stream",
     "text": [
      "100\n",
      "301\n"
     ]
    }
   ],
   "source": [
    "specified_parameters = {\n",
    "            \"bc_type\": bc_type,\n",
    "            \"bc_value\": bc_value,\n",
    "            #\"time_step\": 34.56,\n",
    "            \"time_step\": 0.01,\n",
    "            \"mass_weight\": porosity * aperture,\n",
    "            \"darcy_flux\":np.zeros(g.num_faces),\n",
    "            #\"darcy_flux\":6.67e-9*np.ones(Nx+1),\n",
    "            \"t_max\": 1,\n",
    "            #\"t_max\":345600,\n",
    "            \"method\": \"Implicit\",\n",
    "            #\"method\":\"Explicit\",\n",
    "            \"lambda_lin_decay\":0,\n",
    "            \"initial_cond\":init_cond,\n",
    "}\n",
    "print(g.num_cells)\n",
    "print(g.num_faces)"
   ]
  },
  {
   "cell_type": "code",
   "execution_count": 6,
   "id": "80d2feb5",
   "metadata": {},
   "outputs": [
    {
     "name": "stdout",
     "output_type": "stream",
     "text": [
      "(Nx+1)*Ny\n",
      "101\n",
      "vel\n",
      "[1. 1. 1. 1. 1. 1. 1. 1. 1. 1. 1. 1. 1. 1. 1. 1. 1. 1. 1. 1. 1. 1. 1. 1.\n",
      " 1. 1. 1. 1. 1. 1. 1. 1. 1. 1. 1. 1. 1. 1. 1. 1. 1. 1. 1. 1. 1. 1. 1. 1.\n",
      " 1. 1. 1. 1. 1. 1. 1. 1. 1. 1. 1. 1. 1. 1. 1. 1. 1. 1. 1. 1. 1. 1. 1. 1.\n",
      " 1. 1. 1. 1. 1. 1. 1. 1. 1. 1. 1. 1. 1. 1. 1. 1. 1. 1. 1. 1. 1. 1. 1. 1.\n",
      " 1. 1. 1. 1. 1. 0. 0. 0. 0. 0. 0. 0. 0. 0. 0. 0. 0. 0. 0. 0. 0. 0. 0. 0.\n",
      " 0. 0. 0. 0. 0. 0. 0. 0. 0. 0. 0. 0. 0. 0. 0. 0. 0. 0. 0. 0. 0. 0. 0. 0.\n",
      " 0. 0. 0. 0. 0. 0. 0. 0. 0. 0. 0. 0. 0. 0. 0. 0. 0. 0. 0. 0. 0. 0. 0. 0.\n",
      " 0. 0. 0. 0. 0. 0. 0. 0. 0. 0. 0. 0. 0. 0. 0. 0. 0. 0. 0. 0. 0. 0. 0. 0.\n",
      " 0. 0. 0. 0. 0. 0. 0. 0. 0. 0. 0. 0. 0. 0. 0. 0. 0. 0. 0. 0. 0. 0. 0. 0.\n",
      " 0. 0. 0. 0. 0. 0. 0. 0. 0. 0. 0. 0. 0. 0. 0. 0. 0. 0. 0. 0. 0. 0. 0. 0.\n",
      " 0. 0. 0. 0. 0. 0. 0. 0. 0. 0. 0. 0. 0. 0. 0. 0. 0. 0. 0. 0. 0. 0. 0. 0.\n",
      " 0. 0. 0. 0. 0. 0. 0. 0. 0. 0. 0. 0. 0. 0. 0. 0. 0. 0. 0. 0. 0. 0. 0. 0.\n",
      " 0. 0. 0. 0. 0. 0. 0. 0. 0. 0. 0. 0. 0.]\n"
     ]
    }
   ],
   "source": [
    "specified_parameters[\"darcy_flux\"][:(Nx+1)*Ny]=1.\n",
    "#specified_parameters[\"darcy_flux\"][:(Ny+1)*Nx]=6.67e-9\n",
    "print(\"(Nx+1)*Ny\")\n",
    "print((Nx+1)*Ny)\n",
    "print(\"vel\")\n",
    "print(specified_parameters[\"darcy_flux\"])\n",
    "vel=specified_parameters[\"darcy_flux\"]"
   ]
  },
  {
   "cell_type": "code",
   "execution_count": 7,
   "id": "b8cbc429",
   "metadata": {},
   "outputs": [
    {
     "name": "stdout",
     "output_type": "stream",
     "text": [
      "tracer=\n",
      "[1. 1. 1. 1. 1. 1. 1. 1. 1. 1. 1. 1. 1. 1. 1. 1. 1. 1. 1. 1. 0. 0. 0. 0.\n",
      " 0. 0. 0. 0. 0. 0. 0. 0. 0. 0. 0. 0. 0. 0. 0. 0. 0. 0. 0. 0. 0. 0. 0. 0.\n",
      " 0. 0. 0. 0. 0. 0. 0. 0. 0. 0. 0. 0. 0. 0. 0. 0. 0. 0. 0. 0. 0. 0. 0. 0.\n",
      " 0. 0. 0. 0. 0. 0. 0. 0. 0. 0. 0. 0. 0. 0. 0. 0. 0. 0. 0. 0. 0. 0. 0. 0.\n",
      " 0. 0. 0. 0.]\n",
      "lhs\n",
      "(100, 100)\n",
      "  (0, 0)\t2.0\n",
      "  (1, 0)\t-1.0\n",
      "  (1, 1)\t2.0\n",
      "  (2, 1)\t-1.0\n",
      "  (2, 2)\t2.0\n",
      "  (3, 2)\t-1.0\n",
      "  (3, 3)\t2.0\n",
      "  (4, 3)\t-1.0\n",
      "  (4, 4)\t2.0\n",
      "  (5, 4)\t-1.0\n",
      "  (5, 5)\t1.9999999999999996\n",
      "  (6, 5)\t-1.0\n",
      "  (6, 6)\t2.000000000000001\n",
      "  (7, 6)\t-1.0\n",
      "  (7, 7)\t1.9999999999999996\n",
      "  (8, 7)\t-1.0\n",
      "  (8, 8)\t1.9999999999999996\n",
      "  (9, 8)\t-1.0\n",
      "  (9, 9)\t2.000000000000001\n",
      "  (10, 9)\t-1.0\n",
      "  (10, 10)\t1.9999999999999996\n",
      "  (11, 10)\t-1.0\n",
      "  (11, 11)\t1.9999999999999996\n",
      "  (12, 11)\t-1.0\n",
      "  (12, 12)\t2.000000000000001\n",
      "  :\t:\n",
      "  (87, 87)\t2.000000000000001\n",
      "  (88, 87)\t-1.0\n",
      "  (88, 88)\t2.000000000000001\n",
      "  (89, 88)\t-1.0\n",
      "  (89, 89)\t2.000000000000001\n",
      "  (90, 89)\t-1.0\n",
      "  (90, 90)\t2.000000000000001\n",
      "  (91, 90)\t-1.0\n",
      "  (91, 91)\t2.000000000000001\n",
      "  (92, 91)\t-1.0\n",
      "  (92, 92)\t2.000000000000001\n",
      "  (93, 92)\t-1.0\n",
      "  (93, 93)\t2.000000000000001\n",
      "  (94, 93)\t-1.0\n",
      "  (94, 94)\t2.000000000000001\n",
      "  (95, 94)\t-1.0\n",
      "  (95, 95)\t1.9999999999999898\n",
      "  (96, 95)\t-1.0\n",
      "  (96, 96)\t2.000000000000001\n",
      "  (97, 96)\t-1.0\n",
      "  (97, 97)\t2.000000000000001\n",
      "  (98, 97)\t-1.0\n",
      "  (98, 98)\t2.000000000000001\n",
      "  (99, 98)\t-1.0\n",
      "  (99, 99)\t2.000000000000001\n",
      "rhs_b\n",
      "[0. 0. 0. 0. 0. 0. 0. 0. 0. 0. 0. 0. 0. 0. 0. 0. 0. 0. 0. 0. 0. 0. 0. 0.\n",
      " 0. 0. 0. 0. 0. 0. 0. 0. 0. 0. 0. 0. 0. 0. 0. 0. 0. 0. 0. 0. 0. 0. 0. 0.\n",
      " 0. 0. 0. 0. 0. 0. 0. 0. 0. 0. 0. 0. 0. 0. 0. 0. 0. 0. 0. 0. 0. 0. 0. 0.\n",
      " 0. 0. 0. 0. 0. 0. 0. 0. 0. 0. 0. 0. 0. 0. 0. 0. 0. 0. 0. 0. 0. 0. 0. 0.\n",
      " 0. 0. 0. 0.]\n",
      "rhs_matrix\n",
      "  (0, 0)\t1.0\n",
      "  (1, 1)\t1.0\n",
      "  (2, 2)\t0.9999999999999999\n",
      "  (3, 3)\t1.0000000000000002\n",
      "  (4, 4)\t1.0000000000000002\n",
      "  (5, 5)\t0.9999999999999996\n",
      "  (6, 6)\t1.0000000000000009\n",
      "  (7, 7)\t0.9999999999999996\n",
      "  (8, 8)\t0.9999999999999996\n",
      "  (9, 9)\t1.0000000000000009\n",
      "  (10, 10)\t0.9999999999999996\n",
      "  (11, 11)\t0.9999999999999996\n",
      "  (12, 12)\t1.0000000000000009\n",
      "  (13, 13)\t1.0000000000000009\n",
      "  (14, 14)\t0.9999999999999981\n",
      "  (15, 15)\t1.0000000000000009\n",
      "  (16, 16)\t1.0000000000000009\n",
      "  (17, 17)\t0.9999999999999981\n",
      "  (18, 18)\t1.0000000000000009\n",
      "  (19, 19)\t1.0000000000000009\n",
      "  (20, 20)\t0.9999999999999981\n",
      "  (21, 21)\t1.0000000000000009\n",
      "  (22, 22)\t1.0000000000000009\n",
      "  (23, 23)\t0.9999999999999981\n",
      "  (24, 24)\t1.0000000000000009\n",
      "  :\t:\n",
      "  (75, 75)\t1.0000000000000009\n",
      "  (76, 76)\t1.0000000000000009\n",
      "  (77, 77)\t1.0000000000000009\n",
      "  (78, 78)\t1.0000000000000009\n",
      "  (79, 79)\t1.0000000000000009\n",
      "  (80, 80)\t1.0000000000000009\n",
      "  (81, 81)\t1.0000000000000009\n",
      "  (82, 82)\t1.0000000000000009\n",
      "  (83, 83)\t0.9999999999999898\n",
      "  (84, 84)\t1.0000000000000009\n",
      "  (85, 85)\t1.0000000000000009\n",
      "  (86, 86)\t1.0000000000000009\n",
      "  (87, 87)\t1.0000000000000009\n",
      "  (88, 88)\t1.0000000000000009\n",
      "  (89, 89)\t1.0000000000000009\n",
      "  (90, 90)\t1.0000000000000009\n",
      "  (91, 91)\t1.0000000000000009\n",
      "  (92, 92)\t1.0000000000000009\n",
      "  (93, 93)\t1.0000000000000009\n",
      "  (94, 94)\t1.0000000000000009\n",
      "  (95, 95)\t0.9999999999999898\n",
      "  (96, 96)\t1.0000000000000009\n",
      "  (97, 97)\t1.0000000000000009\n",
      "  (98, 98)\t1.0000000000000009\n",
      "  (99, 99)\t1.0000000000000009\n"
     ]
    }
   ],
   "source": [
    "tracer=np.zeros(g.num_cells)\n",
    "transport=Transport(g,specified_parameters)\n",
    "#transport.set_bc()\n",
    "#transport.set_initial_cond(tracer)\n",
    "#lhs,rhs_b,rhs_matrix=transport.get_transport_lhs_rhs()\n",
    "delta_y=Ly/Ny\n",
    "lhs,rhs_b,rhs_matrix=transport.set_and_get_matrices(tracer,delta_y)\n",
    "print(\"tracer=\")\n",
    "print(tracer)\n",
    "print(\"lhs\")\n",
    "print(lhs.shape)\n",
    "print(lhs)\n",
    "print(\"rhs_b\")\n",
    "print(rhs_b)\n",
    "print(\"rhs_matrix\")\n",
    "print(rhs_matrix)"
   ]
  },
  {
   "cell_type": "code",
   "execution_count": 8,
   "id": "e865b83c",
   "metadata": {},
   "outputs": [
    {
     "data": {
      "image/png": "[encoded data removed]",
      "text/plain": [
       "<Figure size 1080x864 with 2 Axes>"
      ]
     },
     "metadata": {
      "needs_background": "light"
     },
     "output_type": "display_data"
    }
   ],
   "source": [
    "pp.plot_grid(g, tracer, figsize=(15, 12))"
   ]
  },
  {
   "cell_type": "code",
   "execution_count": 9,
   "id": "ea5421fa",
   "metadata": {},
   "outputs": [
    {
     "name": "stdout",
     "output_type": "stream",
     "text": [
      "[7.88860905e-31 4.02319062e-29 1.03616880e-27 1.79670960e-26\n",
      " 2.35952783e-25 2.50300393e-24 2.23397015e-23 1.72531840e-22\n",
      " 1.17694177e-21 7.20340133e-21 4.00476059e-20 2.04268629e-19\n",
      " 9.63790861e-19 4.23557894e-18 1.74395808e-17 6.76147879e-17\n",
      " 2.47931939e-16 8.63131629e-16 2.86253062e-15 9.07119065e-15\n",
      " 2.75419543e-14 8.03155645e-14 2.25442993e-13 6.10346172e-13\n",
      " 1.59666057e-12 4.04272027e-12 9.92267149e-12 2.36425576e-11\n",
      " 5.47572995e-11 1.23424316e-10 2.71058401e-10 5.80613741e-10\n",
      " 1.21423483e-09 2.48147700e-09 4.96005359e-09 9.70475733e-09\n",
      " 1.86010768e-08 3.49510689e-08 6.44240802e-08 1.16568636e-07\n",
      " 2.07169794e-07 3.61854677e-07 6.21504245e-07 1.05022780e-06\n",
      " 1.74690323e-06 2.86158304e-06 4.61841333e-06 7.34710259e-06\n",
      " 1.15253979e-05 1.78354549e-05 2.72373945e-05 4.10636837e-05\n",
      " 6.11382080e-05 8.99239597e-05 1.30703091e-04 1.87792601e-04\n",
      " 2.66798074e-04 3.74906651e-04 5.21218674e-04 7.17115312e-04\n",
      " 9.76656847e-04 1.31700333e-03 1.75884599e-03 2.32683453e-03\n",
      " 3.04998172e-03 3.96202390e-03 5.10171315e-03 6.51301468e-03\n",
      " 8.24518229e-03 1.03526846e-02 1.28949561e-02 1.59359500e-02\n",
      " 1.95434742e-02 2.37882974e-02 2.87430196e-02 3.44807098e-02\n",
      " 4.10733222e-02 4.85899136e-02 5.70946926e-02 6.66449428e-02\n",
      " 7.72888708e-02 8.90634364e-02 1.01992231e-01 1.16083472e-01\n",
      " 1.31328184e-01 1.47698641e-01 1.65147128e-01 1.83605095e-01\n",
      " 2.02982747e-01 2.23169112e-01 2.44032624e-01 2.65422229e-01\n",
      " 2.87169005e-01 3.09088299e-01 3.30982319e-01 3.52643154e-01\n",
      " 3.73856140e-01 3.94403508e-01 4.14068206e-01 4.32637825e-01]\n"
     ]
    },
    {
     "name": "stderr",
     "output_type": "stream",
     "text": [
      "/home/dell/.local/lib/python3.8/site-packages/scipy/sparse/linalg/dsolve/linsolve.py:318: SparseEfficiencyWarning: splu requires CSC matrix format\n",
      "  warn('splu requires CSC matrix format', SparseEfficiencyWarning)\n"
     ]
    }
   ],
   "source": [
    "IEsolver = sps.linalg.factorized(lhs)\n",
    "\n",
    "data_transport=transport.data[pp.PARAMETERS][\"transport\"]\n",
    "n_steps = int(np.round(data_transport[\"t_max\"] / data_transport[\"time_step\"]))\n",
    "\n",
    "save_every=1\n",
    "\n",
    "# Exporter\n",
    "exporter = pp.Exporter(transport.g, file_name=\"tracer\",folder_name=\"solution_transport_2D\")\n",
    "    \n",
    "for i in range(1,n_steps+1,1):\n",
    "#for i in range(1,2,1):\n",
    "    if np.isclose(i % save_every, 0):\n",
    "        # Export existing solution (final export is taken care of below)\n",
    "        exporter.write_vtu({\"tracer\":tracer}, time_step=int(i // save_every))\n",
    "        if data_transport[\"method\"]==\"Explicit\":\n",
    "            tracer = IEsolver(rhs_matrix*tracer+rhs_b)\n",
    "            #print(tracer)\n",
    "        else:\n",
    "            tracer = IEsolver(rhs_matrix*tracer+rhs_b)\n",
    "            #print(tracer)\n",
    "        #pp.plot_grid(g, tracer, figsize=(15, 12))\n",
    "print(tracer)\n",
    "exporter.write_vtu({\"tracer\":tracer}, time_step=(n_steps // save_every))\n",
    "time_steps = np.arange(0,data_transport[\"t_max\"] + data_transport[\"time_step\"], save_every * data_transport[\"time_step\"])\n",
    "exporter.write_pvd(time_steps)"
   ]
  },
  {
   "cell_type": "code",
   "execution_count": 10,
   "id": "c4449f90",
   "metadata": {},
   "outputs": [
    {
     "data": {
      "image/png": "[encoded data removed]",
      "text/plain": [
       "<Figure size 1080x864 with 2 Axes>"
      ]
     },
     "metadata": {
      "needs_background": "light"
     },
     "output_type": "display_data"
    }
   ],
   "source": [
    "pp.plot_grid(g, tracer, figsize=(15, 12))"
   ]
  },
  {
   "cell_type": "code",
   "execution_count": null,
   "id": "45762ea2",
   "metadata": {},
   "outputs": [],
   "source": []
  }
 ],
 "metadata": {
  "kernelspec": {
   "display_name": "Python 3",
   "language": "python",
   "name": "python3"
  },
  "language_info": {
   "codemirror_mode": {
    "name": "ipython",
    "version": 3
   },
   "file_extension": ".py",
   "mimetype": "text/x-python",
   "name": "python",
   "nbconvert_exporter": "python",
   "pygments_lexer": "ipython3",
   "version": "3.8.8"
  }
 },
 "nbformat": 4,
 "nbformat_minor": 5
}
