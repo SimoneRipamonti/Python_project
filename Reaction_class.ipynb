{
 "cells": [
  {
   "cell_type": "code",
   "execution_count": 1,
   "id": "ed40232d",
   "metadata": {},
   "outputs": [],
   "source": [
    "import numpy as np\n",
    "import scipy.sparse as sps\n",
    "import porepy as pp\n",
    "import math\n",
    "import sys\n",
    "import matplotlib.pyplot as plt"
   ]
  },
  {
   "cell_type": "code",
   "execution_count": 2,
   "id": "f6431f79",
   "metadata": {},
   "outputs": [],
   "source": [
    "Nx=100\n",
    "#Ny=10\n",
    "phys_dims=[1]\n",
    "g=pp.CartGrid([Nx],phys_dims)\n",
    "g.compute_geometry()    "
   ]
  },
  {
   "cell_type": "code",
   "execution_count": 3,
   "id": "01310364",
   "metadata": {},
   "outputs": [],
   "source": [
    "data={\"temperature\":423,\n",
    "       \"A\":1.9e-2,\n",
    "       \"rate_const\":0.004466,\n",
    "       \"E\":4700,\n",
    "       \"R\":8.314,\n",
    "       \"K_eq\":10e9,\n",
    "       \"ph\":3.5}\n"
   ]
  },
  {
   "cell_type": "code",
   "execution_count": 6,
   "id": "e035948b",
   "metadata": {},
   "outputs": [],
   "source": [
    "class Reaction:\n",
    "    def __init__(self,g,parameters=None):\n",
    "        if not parameters:\n",
    "            parameters={}\n",
    "        self.g=g\n",
    "        self.data=pp.initialize_data(g, {}, 'reaction', parameters)\n",
    "        self.const_rate=None\n",
    "        \n",
    "    def set_const_rate(self):\n",
    "        data=self.data[pp.PARAMETERS][\"reaction\"]\n",
    "        A=data[\"A\"]\n",
    "        const=data[\"rate_const\"]\n",
    "        E=data[\"E\"]\n",
    "        R=data[\"R\"]\n",
    "        temperature=data[\"temperature\"]\n",
    "        \n",
    "        self.const_rate=A*const*math.exp(-E/(R*temperature))\n",
    "        \n",
    "    \n",
    "    def compute_rd(self,past_sol):\n",
    "        data=self.data[pp.PARAMETERS][\"reaction\"]\n",
    "        ph=data[\"ph\"]\n",
    "        phi=data[\"mass_weight\"]\n",
    "        K_eq=data[\"K_eq\"]\n",
    "        h=0.01\n",
    "        Nx=100\n",
    "        p=np.power(past_sol,2)/(K_eq*math.pow(10,-2*ph))\n",
    "        rhs=np.zeros(Nx)\n",
    "        for i in range(Nx):\n",
    "            #rhs[i]=h*phi*max(self.const_rate*(1.0-p[i]),0.0)\n",
    "            rhs[i]=h*max(self.const_rate*(1.0-p[i]),0.0)\n",
    "            return rhs\n",
    "    \n",
    "        \n",
    "        "
   ]
  },
  {
   "cell_type": "code",
   "execution_count": 7,
   "id": "d283f710",
   "metadata": {},
   "outputs": [],
   "source": [
    "reaction=Reaction(g,data)"
   ]
  },
  {
   "cell_type": "code",
   "execution_count": null,
   "id": "5669205c",
   "metadata": {},
   "outputs": [],
   "source": []
  }
 ],
 "metadata": {
  "kernelspec": {
   "display_name": "Python 3",
   "language": "python",
   "name": "python3"
  },
  "language_info": {
   "codemirror_mode": {
    "name": "ipython",
    "version": 3
   },
   "file_extension": ".py",
   "mimetype": "text/x-python",
   "name": "python",
   "nbconvert_exporter": "python",
   "pygments_lexer": "ipython3",
   "version": "3.8.8"
  }
 },
 "nbformat": 4,
 "nbformat_minor": 5
}
