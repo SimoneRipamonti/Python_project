{
 "cells": [
  {
   "cell_type": "code",
   "execution_count": 1,
   "id": "1ec10185",
   "metadata": {},
   "outputs": [],
   "source": [
    "import numpy as np\n",
    "import scipy.sparse as sps\n",
    "import porepy as pp\n",
    "import math\n",
    "import matplotlib.pyplot as plt"
   ]
  },
  {
   "cell_type": "code",
   "execution_count": 2,
   "id": "d35296bb",
   "metadata": {},
   "outputs": [],
   "source": [
    "Nx=100\n",
    "#phys_dims=[1,1]\n",
    "phys_dims=[1]\n",
    "#g=pp.CartGrid([Nx,Ny],phys_dims)\n",
    "g=pp.CartGrid([Nx],phys_dims)\n",
    "g.compute_geometry()\n",
    "#pp.plot_grid(g,figsize=(15,12))\n",
    "#p.plot_grid(g)"
   ]
  },
  {
   "cell_type": "code",
   "execution_count": 3,
   "id": "d6ce52bd",
   "metadata": {},
   "outputs": [],
   "source": [
    "# Permeability\n",
    "perm = pp.SecondOrderTensor(1e-7*np.ones(g.num_cells))                     \n",
    "f_lambda= lambda x,y,z: math.sin(4*math.pi*x)\n",
    "# Boundary conditions\n",
    "b_faces = g.tags['domain_boundary_faces'].nonzero()[0]\n",
    "bc = pp.BoundaryCondition(g, b_faces, ['dir']*b_faces.size)\n",
    "bc_val = np.zeros(g.num_faces)\n",
    "bc_val[0]=1e6\n",
    "bc_val[bc_val.size-1]=-800000.0\n",
    "\n",
    "# Collect all parameters in a dictionary\n",
    "parameters = {\"second_order_tensor\": perm, \"f_lambda\": f_lambda, \"bc\": bc, \"bc_values\": bc_val}"
   ]
  },
  {
   "cell_type": "code",
   "execution_count": 4,
   "id": "fe4bfb10",
   "metadata": {},
   "outputs": [],
   "source": [
    "class Flow:\n",
    "    def __init__(self,g,parameters=None,method=\"Tpfa\"):\n",
    "        \n",
    "        if not parameters:\n",
    "            parameters={}\n",
    "        if not method:\n",
    "            method={}\n",
    "        self.g=g\n",
    "        self.data=pp.initialize_data(g, {}, 'flow', parameters)\n",
    "        self.method=method\n",
    "    \n",
    "    def set_source(self):\n",
    "        f=np.zeros(Nx)\n",
    "        f_lambda=self.data[pp.PARAMETERS][\"flow\"][\"f_lambda\"]\n",
    "        for i in range(self.g.num_cells):\n",
    "            f[i]=0.01*f_lambda(self.g.cell_centers[0,i],self.g.cell_centers[1,i],self.g.cell_centers[2,i])\n",
    "        self.data[pp.PARAMETERS]['flow'][\"source\"]=f\n",
    "        \n",
    "        \n",
    "    \n",
    "    def solve(self):\n",
    "        if(self.method==\"Tpfa\"):\n",
    "            print(\"Tpfa\")\n",
    "            flow_discretization = pp.Tpfa(\"flow\")\n",
    "        elif(self.method==\"Mpfa\"):\n",
    "            flow_discretization = pp.Mpfa(\"flow\")\n",
    "        elif(self.method==\"MVEM\"):\n",
    "            print(self.method)\n",
    "            flow_discretization = pp.MVEM(\"flow\")\n",
    "    \n",
    "        flow_discretization.discretize(self.g, self.data)\n",
    "        A, b_flow = flow_discretization.assemble_matrix_rhs(self.g, self.data)\n",
    "        \n",
    "        \n",
    "        if(self.method==\"MVEM\"):\n",
    "            rhs_discretization = pp.DualScalarSource(\"flow\")\n",
    "        else:\n",
    "            rhs_discretization = pp.ScalarSource(\"flow\")\n",
    "        \n",
    "        rhs_discretization.discretize(self.g, self.data)\n",
    "        _, b_rhs = rhs_discretization.assemble_matrix_rhs(self.g, self.data)\n",
    "        \n",
    "        if(self.method==\"MVEM\"):\n",
    "            up = sps.linalg.spsolve(A, b_flow+b_rhs)\n",
    "            p=flow_discretization.extract_pressure(self.g, up, self.data)\n",
    "        else:\n",
    "            p = sps.linalg.spsolve(A, b_flow+b_rhs)\n",
    "        return p\n",
    "    \n",
    "    def print_pressure(self,p):\n",
    "        pp.plot_grid(self.g,p,figsize=(15,12))\n",
    " \n",
    "            \n",
    "        \n",
    "\n",
    "    \n",
    "         \n",
    "        \n",
    "        "
   ]
  },
  {
   "cell_type": "code",
   "execution_count": 11,
   "id": "1d013dbe",
   "metadata": {},
   "outputs": [
    {
     "ename": "KeyError",
     "evalue": "'state'",
     "output_type": "error",
     "traceback": [
      "\u001b[0;31m---------------------------------------------------------------------------\u001b[0m",
      "\u001b[0;31mKeyError\u001b[0m                                  Traceback (most recent call last)",
      "\u001b[0;32m<ipython-input-11-254469739460>\u001b[0m in \u001b[0;36m<module>\u001b[0;34m\u001b[0m\n\u001b[1;32m      1\u001b[0m \u001b[0mflow\u001b[0m\u001b[0;34m=\u001b[0m\u001b[0mFlow\u001b[0m\u001b[0;34m(\u001b[0m\u001b[0mg\u001b[0m\u001b[0;34m,\u001b[0m\u001b[0mparameters\u001b[0m\u001b[0;34m,\u001b[0m\u001b[0;34m\"Tpfa\"\u001b[0m\u001b[0;34m)\u001b[0m\u001b[0;34m\u001b[0m\u001b[0;34m\u001b[0m\u001b[0m\n\u001b[1;32m      2\u001b[0m \u001b[0mflow\u001b[0m\u001b[0;34m.\u001b[0m\u001b[0mset_source\u001b[0m\u001b[0;34m(\u001b[0m\u001b[0;34m)\u001b[0m\u001b[0;34m\u001b[0m\u001b[0;34m\u001b[0m\u001b[0m\n\u001b[0;32m----> 3\u001b[0;31m \u001b[0mprint\u001b[0m\u001b[0;34m(\u001b[0m\u001b[0mflow\u001b[0m\u001b[0;34m.\u001b[0m\u001b[0mdata\u001b[0m\u001b[0;34m[\u001b[0m\u001b[0mpp\u001b[0m\u001b[0;34m.\u001b[0m\u001b[0mSTATE\u001b[0m\u001b[0;34m]\u001b[0m\u001b[0;34m[\u001b[0m\u001b[0;34m\"flow\"\u001b[0m\u001b[0;34m]\u001b[0m\u001b[0;34m)\u001b[0m\u001b[0;34m\u001b[0m\u001b[0;34m\u001b[0m\u001b[0m\n\u001b[0m\u001b[1;32m      4\u001b[0m \u001b[0mp\u001b[0m\u001b[0;34m=\u001b[0m\u001b[0mflow\u001b[0m\u001b[0;34m.\u001b[0m\u001b[0msolve\u001b[0m\u001b[0;34m(\u001b[0m\u001b[0;34m)\u001b[0m\u001b[0;34m\u001b[0m\u001b[0;34m\u001b[0m\u001b[0m\n",
      "\u001b[0;31mKeyError\u001b[0m: 'state'"
     ]
    }
   ],
   "source": [
    "flow=Flow(g,parameters,\"Tpfa\")\n",
    "flow.set_source()\n",
    "p=flow.solve()"
   ]
  },
  {
   "cell_type": "code",
   "execution_count": 6,
   "id": "09c2ee41",
   "metadata": {},
   "outputs": [],
   "source": [
    "#gb=pp.GridBucket(g,flow.data)\n",
    "#assembler = pp.Assembler(g,flow.data)"
   ]
  },
  {
   "cell_type": "code",
   "execution_count": 7,
   "id": "e6e74817",
   "metadata": {},
   "outputs": [
    {
     "ename": "KeyError",
     "evalue": "'state'",
     "output_type": "error",
     "traceback": [
      "\u001b[0;31m---------------------------------------------------------------------------\u001b[0m",
      "\u001b[0;31mKeyError\u001b[0m                                  Traceback (most recent call last)",
      "\u001b[0;32m<ipython-input-7-6f6c376408e1>\u001b[0m in \u001b[0;36m<module>\u001b[0;34m\u001b[0m\n\u001b[0;32m----> 1\u001b[0;31m \u001b[0mpp\u001b[0m\u001b[0;34m.\u001b[0m\u001b[0mfvutils\u001b[0m\u001b[0;34m.\u001b[0m\u001b[0mcompute_darcy_flux\u001b[0m\u001b[0;34m(\u001b[0m\u001b[0mgb\u001b[0m\u001b[0;34m=\u001b[0m\u001b[0mg\u001b[0m\u001b[0;34m,\u001b[0m \u001b[0mdata\u001b[0m\u001b[0;34m=\u001b[0m\u001b[0mflow\u001b[0m\u001b[0;34m.\u001b[0m\u001b[0mdata\u001b[0m\u001b[0;34m,\u001b[0m \u001b[0mkeyword_store\u001b[0m\u001b[0;34m=\u001b[0m\u001b[0;34m\"flux\"\u001b[0m\u001b[0;34m)\u001b[0m\u001b[0;34m\u001b[0m\u001b[0;34m\u001b[0m\u001b[0m\n\u001b[0m",
      "\u001b[0;32m~/anaconda3/lib/python3.8/site-packages/porepy/utils/logging.py\u001b[0m in \u001b[0;36mlog_time\u001b[0;34m(*args, **kwargs)\u001b[0m\n\u001b[1;32m    105\u001b[0m                 \u001b[0;31m# Shortcut if logging is not activated.\u001b[0m\u001b[0;34m\u001b[0m\u001b[0;34m\u001b[0m\u001b[0;34m\u001b[0m\u001b[0m\n\u001b[1;32m    106\u001b[0m                 \u001b[0;31m# This is\u001b[0m\u001b[0;34m\u001b[0m\u001b[0;34m\u001b[0m\u001b[0;34m\u001b[0m\u001b[0m\n\u001b[0;32m--> 107\u001b[0;31m                 \u001b[0;32mreturn\u001b[0m \u001b[0mfunc\u001b[0m\u001b[0;34m(\u001b[0m\u001b[0;34m*\u001b[0m\u001b[0margs\u001b[0m\u001b[0;34m,\u001b[0m \u001b[0;34m**\u001b[0m\u001b[0mkwargs\u001b[0m\u001b[0;34m)\u001b[0m\u001b[0;34m\u001b[0m\u001b[0;34m\u001b[0m\u001b[0m\n\u001b[0m\u001b[1;32m    108\u001b[0m             \u001b[0;32melif\u001b[0m \u001b[0malways_log\u001b[0m \u001b[0;32mor\u001b[0m \u001b[0many\u001b[0m\u001b[0;34m(\u001b[0m\u001b[0;34m[\u001b[0m\u001b[0ms\u001b[0m \u001b[0;32min\u001b[0m \u001b[0mactive_sections\u001b[0m \u001b[0;32mfor\u001b[0m \u001b[0ms\u001b[0m \u001b[0;32min\u001b[0m \u001b[0msections\u001b[0m\u001b[0;34m]\u001b[0m\u001b[0;34m)\u001b[0m\u001b[0;34m:\u001b[0m\u001b[0;34m\u001b[0m\u001b[0;34m\u001b[0m\u001b[0m\n\u001b[1;32m    109\u001b[0m \u001b[0;34m\u001b[0m\u001b[0m\n",
      "\u001b[0;32m~/anaconda3/lib/python3.8/site-packages/porepy/numerics/fv/fvutils.py\u001b[0m in \u001b[0;36mcompute_darcy_flux\u001b[0;34m(gb, keyword, keyword_store, d_name, p_name, lam_name, well_name, data, from_iterate)\u001b[0m\n\u001b[1;32m   1882\u001b[0m         \u001b[0mmatrix_dictionary\u001b[0m \u001b[0;34m=\u001b[0m \u001b[0mdata\u001b[0m\u001b[0;34m[\u001b[0m\u001b[0mpp\u001b[0m\u001b[0;34m.\u001b[0m\u001b[0mDISCRETIZATION_MATRICES\u001b[0m\u001b[0;34m]\u001b[0m\u001b[0;34m[\u001b[0m\u001b[0mkeyword\u001b[0m\u001b[0;34m]\u001b[0m\u001b[0;34m\u001b[0m\u001b[0;34m\u001b[0m\u001b[0m\n\u001b[1;32m   1883\u001b[0m         \u001b[0;32mif\u001b[0m \u001b[0;34m\"flux\"\u001b[0m \u001b[0;32min\u001b[0m \u001b[0mmatrix_dictionary\u001b[0m\u001b[0;34m:\u001b[0m\u001b[0;34m\u001b[0m\u001b[0;34m\u001b[0m\u001b[0m\n\u001b[0;32m-> 1884\u001b[0;31m             \u001b[0mdis\u001b[0m \u001b[0;34m=\u001b[0m \u001b[0mcalculate_flux\u001b[0m\u001b[0;34m(\u001b[0m\u001b[0mparameter_dictionary\u001b[0m\u001b[0;34m,\u001b[0m \u001b[0mmatrix_dictionary\u001b[0m\u001b[0;34m,\u001b[0m \u001b[0mdata\u001b[0m\u001b[0;34m)\u001b[0m\u001b[0;34m\u001b[0m\u001b[0;34m\u001b[0m\u001b[0m\n\u001b[0m\u001b[1;32m   1885\u001b[0m         \u001b[0;32melse\u001b[0m\u001b[0;34m:\u001b[0m\u001b[0;34m\u001b[0m\u001b[0;34m\u001b[0m\u001b[0m\n\u001b[1;32m   1886\u001b[0m             raise ValueError(\n",
      "\u001b[0;32m~/anaconda3/lib/python3.8/site-packages/porepy/utils/logging.py\u001b[0m in \u001b[0;36mlog_time\u001b[0;34m(*args, **kwargs)\u001b[0m\n\u001b[1;32m    105\u001b[0m                 \u001b[0;31m# Shortcut if logging is not activated.\u001b[0m\u001b[0;34m\u001b[0m\u001b[0;34m\u001b[0m\u001b[0;34m\u001b[0m\u001b[0m\n\u001b[1;32m    106\u001b[0m                 \u001b[0;31m# This is\u001b[0m\u001b[0;34m\u001b[0m\u001b[0;34m\u001b[0m\u001b[0;34m\u001b[0m\u001b[0m\n\u001b[0;32m--> 107\u001b[0;31m                 \u001b[0;32mreturn\u001b[0m \u001b[0mfunc\u001b[0m\u001b[0;34m(\u001b[0m\u001b[0;34m*\u001b[0m\u001b[0margs\u001b[0m\u001b[0;34m,\u001b[0m \u001b[0;34m**\u001b[0m\u001b[0mkwargs\u001b[0m\u001b[0;34m)\u001b[0m\u001b[0;34m\u001b[0m\u001b[0;34m\u001b[0m\u001b[0m\n\u001b[0m\u001b[1;32m    108\u001b[0m             \u001b[0;32melif\u001b[0m \u001b[0malways_log\u001b[0m \u001b[0;32mor\u001b[0m \u001b[0many\u001b[0m\u001b[0;34m(\u001b[0m\u001b[0;34m[\u001b[0m\u001b[0ms\u001b[0m \u001b[0;32min\u001b[0m \u001b[0mactive_sections\u001b[0m \u001b[0;32mfor\u001b[0m \u001b[0ms\u001b[0m \u001b[0;32min\u001b[0m \u001b[0msections\u001b[0m\u001b[0;34m]\u001b[0m\u001b[0;34m)\u001b[0m\u001b[0;34m:\u001b[0m\u001b[0;34m\u001b[0m\u001b[0;34m\u001b[0m\u001b[0m\n\u001b[1;32m    109\u001b[0m \u001b[0;34m\u001b[0m\u001b[0m\n",
      "\u001b[0;32m~/anaconda3/lib/python3.8/site-packages/porepy/numerics/fv/fvutils.py\u001b[0m in \u001b[0;36mcalculate_flux\u001b[0;34m(param_dict, mat_dict, d)\u001b[0m\n\u001b[1;32m   1864\u001b[0m         \u001b[0;31m# Calculate the flux. First contributions from pressure and boundary conditions\u001b[0m\u001b[0;34m\u001b[0m\u001b[0;34m\u001b[0m\u001b[0;34m\u001b[0m\u001b[0m\n\u001b[1;32m   1865\u001b[0m         dis = (\n\u001b[0;32m-> 1866\u001b[0;31m             \u001b[0mmat_dict\u001b[0m\u001b[0;34m[\u001b[0m\u001b[0;34m\"flux\"\u001b[0m\u001b[0;34m]\u001b[0m \u001b[0;34m*\u001b[0m \u001b[0mextract_variable\u001b[0m\u001b[0;34m(\u001b[0m\u001b[0md\u001b[0m\u001b[0;34m,\u001b[0m \u001b[0mp_name\u001b[0m\u001b[0;34m)\u001b[0m\u001b[0;34m\u001b[0m\u001b[0;34m\u001b[0m\u001b[0m\n\u001b[0m\u001b[1;32m   1867\u001b[0m             \u001b[0;34m+\u001b[0m \u001b[0mmat_dict\u001b[0m\u001b[0;34m[\u001b[0m\u001b[0;34m\"bound_flux\"\u001b[0m\u001b[0;34m]\u001b[0m \u001b[0;34m*\u001b[0m \u001b[0mparam_dict\u001b[0m\u001b[0;34m[\u001b[0m\u001b[0;34m\"bc_values\"\u001b[0m\u001b[0;34m]\u001b[0m\u001b[0;34m\u001b[0m\u001b[0;34m\u001b[0m\u001b[0m\n\u001b[1;32m   1868\u001b[0m         )\n",
      "\u001b[0;32m~/anaconda3/lib/python3.8/site-packages/porepy/utils/logging.py\u001b[0m in \u001b[0;36mlog_time\u001b[0;34m(*args, **kwargs)\u001b[0m\n\u001b[1;32m    105\u001b[0m                 \u001b[0;31m# Shortcut if logging is not activated.\u001b[0m\u001b[0;34m\u001b[0m\u001b[0;34m\u001b[0m\u001b[0;34m\u001b[0m\u001b[0m\n\u001b[1;32m    106\u001b[0m                 \u001b[0;31m# This is\u001b[0m\u001b[0;34m\u001b[0m\u001b[0;34m\u001b[0m\u001b[0;34m\u001b[0m\u001b[0m\n\u001b[0;32m--> 107\u001b[0;31m                 \u001b[0;32mreturn\u001b[0m \u001b[0mfunc\u001b[0m\u001b[0;34m(\u001b[0m\u001b[0;34m*\u001b[0m\u001b[0margs\u001b[0m\u001b[0;34m,\u001b[0m \u001b[0;34m**\u001b[0m\u001b[0mkwargs\u001b[0m\u001b[0;34m)\u001b[0m\u001b[0;34m\u001b[0m\u001b[0;34m\u001b[0m\u001b[0m\n\u001b[0m\u001b[1;32m    108\u001b[0m             \u001b[0;32melif\u001b[0m \u001b[0malways_log\u001b[0m \u001b[0;32mor\u001b[0m \u001b[0many\u001b[0m\u001b[0;34m(\u001b[0m\u001b[0;34m[\u001b[0m\u001b[0ms\u001b[0m \u001b[0;32min\u001b[0m \u001b[0mactive_sections\u001b[0m \u001b[0;32mfor\u001b[0m \u001b[0ms\u001b[0m \u001b[0;32min\u001b[0m \u001b[0msections\u001b[0m\u001b[0;34m]\u001b[0m\u001b[0;34m)\u001b[0m\u001b[0;34m:\u001b[0m\u001b[0;34m\u001b[0m\u001b[0;34m\u001b[0m\u001b[0m\n\u001b[1;32m    109\u001b[0m \u001b[0;34m\u001b[0m\u001b[0m\n",
      "\u001b[0;32m~/anaconda3/lib/python3.8/site-packages/porepy/numerics/fv/fvutils.py\u001b[0m in \u001b[0;36mextract_variable\u001b[0;34m(d, var)\u001b[0m\n\u001b[1;32m   1858\u001b[0m             \u001b[0;32mreturn\u001b[0m \u001b[0md\u001b[0m\u001b[0;34m[\u001b[0m\u001b[0mpp\u001b[0m\u001b[0;34m.\u001b[0m\u001b[0mSTATE\u001b[0m\u001b[0;34m]\u001b[0m\u001b[0;34m[\u001b[0m\u001b[0mpp\u001b[0m\u001b[0;34m.\u001b[0m\u001b[0mITERATE\u001b[0m\u001b[0;34m]\u001b[0m\u001b[0;34m[\u001b[0m\u001b[0mvar\u001b[0m\u001b[0;34m]\u001b[0m\u001b[0;34m\u001b[0m\u001b[0;34m\u001b[0m\u001b[0m\n\u001b[1;32m   1859\u001b[0m         \u001b[0;32melse\u001b[0m\u001b[0;34m:\u001b[0m\u001b[0;34m\u001b[0m\u001b[0;34m\u001b[0m\u001b[0m\n\u001b[0;32m-> 1860\u001b[0;31m             \u001b[0;32mreturn\u001b[0m \u001b[0md\u001b[0m\u001b[0;34m[\u001b[0m\u001b[0mpp\u001b[0m\u001b[0;34m.\u001b[0m\u001b[0mSTATE\u001b[0m\u001b[0;34m]\u001b[0m\u001b[0;34m[\u001b[0m\u001b[0mvar\u001b[0m\u001b[0;34m]\u001b[0m\u001b[0;34m\u001b[0m\u001b[0;34m\u001b[0m\u001b[0m\n\u001b[0m\u001b[1;32m   1861\u001b[0m \u001b[0;34m\u001b[0m\u001b[0m\n\u001b[1;32m   1862\u001b[0m     \u001b[0;34m@\u001b[0m\u001b[0mpp\u001b[0m\u001b[0;34m.\u001b[0m\u001b[0mtime_logger\u001b[0m\u001b[0;34m(\u001b[0m\u001b[0msections\u001b[0m\u001b[0;34m=\u001b[0m\u001b[0mmodule_sections\u001b[0m\u001b[0;34m)\u001b[0m\u001b[0;34m\u001b[0m\u001b[0;34m\u001b[0m\u001b[0m\n",
      "\u001b[0;31mKeyError\u001b[0m: 'state'"
     ]
    }
   ],
   "source": [
    "d[pp.PRIMARY_VARIABLES] = {grid_variable: {\"cells\": 1, \"faces\": 0}}\n",
    "FL\n",
    "#pp.fvutils.compute_darcy_flux(gb=g, data=flow.data, keyword_store=\"flux\")"
   ]
  },
  {
   "cell_type": "code",
   "execution_count": null,
   "id": "f066e39b",
   "metadata": {},
   "outputs": [],
   "source": [
    "h=1/Nx\n",
    "x=np.linspace(1/(2*Nx),1-1/(2*Nx),Nx)\n",
    "plt.plot(x,p)"
   ]
  },
  {
   "cell_type": "code",
   "execution_count": null,
   "id": "6bdbdcb3",
   "metadata": {},
   "outputs": [],
   "source": []
  },
  {
   "cell_type": "code",
   "execution_count": null,
   "id": "acd9ea20",
   "metadata": {},
   "outputs": [],
   "source": []
  }
 ],
 "metadata": {
  "kernelspec": {
   "display_name": "Python 3",
   "language": "python",
   "name": "python3"
  },
  "language_info": {
   "codemirror_mode": {
    "name": "ipython",
    "version": 3
   },
   "file_extension": ".py",
   "mimetype": "text/x-python",
   "name": "python",
   "nbconvert_exporter": "python",
   "pygments_lexer": "ipython3",
   "version": "3.8.8"
  }
 },
 "nbformat": 4,
 "nbformat_minor": 5
}
