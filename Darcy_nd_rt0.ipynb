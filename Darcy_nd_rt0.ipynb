{
 "cells": [
  {
   "cell_type": "code",
   "execution_count": 61,
   "id": "fc1568f6",
   "metadata": {},
   "outputs": [],
   "source": [
    "import numpy as np\n",
    "import scipy.sparse as sps\n",
    "import porepy as pp"
   ]
  },
  {
   "cell_type": "code",
   "execution_count": 66,
   "id": "88e12e73",
   "metadata": {},
   "outputs": [],
   "source": [
    "#dim=2\n",
    "#Nx = Ny = 20\n",
    "Nx=20\n",
    "#phys_dims = [1,1]\n",
    "phys_dims=[1]\n",
    "#g = pp.CartGrid([Nx, Ny], phys_dims)\n",
    "g=pp.CartGrid([Nx],phys_dims)\n",
    "g.compute_geometry()"
   ]
  },
  {
   "cell_type": "code",
   "execution_count": 67,
   "id": "f7a340cd",
   "metadata": {},
   "outputs": [],
   "source": [
    "# Permeability\n",
    "perm = pp.SecondOrderTensor(np.ones(g.num_cells))                     \n",
    "\n",
    "# Unitary scalar source already integrated in each cell\n",
    "f = g.cell_volumes\n",
    "\n",
    "# Boundary conditions\n",
    "b_faces = g.tags['domain_boundary_faces'].nonzero()[0]\n",
    "bc = pp.BoundaryCondition(g, b_faces, ['dir']*b_faces.size)\n",
    "bc_val = np.zeros(g.num_faces)\n",
    "\n",
    "# Collect all parameters in a dictionary\n",
    "parameters = {\"second_order_tensor\": perm, \"source\": f, \"bc\": bc, \"bc_values\": bc_val}\n",
    "#parameters"
   ]
  },
  {
   "cell_type": "code",
   "execution_count": 68,
   "id": "76c8d9ff",
   "metadata": {},
   "outputs": [],
   "source": [
    "data_key = \"flow\"\n",
    "data = pp.initialize_default_data(g, {}, data_key,{})"
   ]
  },
  {
   "cell_type": "code",
   "execution_count": 69,
   "id": "7a55dff4",
   "metadata": {},
   "outputs": [],
   "source": [
    "flow_discretization = pp.RT0(data_key)\n",
    "flow_discretization.discretize(g, data)\n",
    "#A, b_flow = flow_discretization.assemble_matrix_rhs(g, data)\n",
    "#rhs_discretization = pp.ScalarSource(data_key)\n",
    "#rhs_discretization.discretize(g, data)\n",
    "#_, b_rhs = rhs_discretization.assemble_matrix_rhs(g, data)\n",
    "#b_rhs.size\n",
    "#rhs=b_flow-b_rhs\n",
    "#rhs[dim*(Nx+1):2*dim*(Nx+1)]-=b_rhs #metto meno perché la matrice B è definita diversa da come è nel mio codice"
   ]
  },
  {
   "cell_type": "code",
   "execution_count": 70,
   "id": "7d21205a",
   "metadata": {},
   "outputs": [],
   "source": [
    "sol=sps.linalg.spsolve(A,b_flow)\n",
    "x=np.linspace(1/(2*Nx),1-1/(2*Nx),Nx)\n",
    "x_vel=np.linspace(0,1,Nx+1)\n",
    "vel=sol[0:Nx+1]\n",
    "pres=sol[Nx+1:2*Nx+1]"
   ]
  },
  {
   "cell_type": "code",
   "execution_count": null,
   "id": "e4a6dd35",
   "metadata": {},
   "outputs": [],
   "source": []
  },
  {
   "cell_type": "code",
   "execution_count": null,
   "id": "f788d339",
   "metadata": {},
   "outputs": [],
   "source": []
  },
  {
   "cell_type": "code",
   "execution_count": null,
   "id": "11c8f57a",
   "metadata": {},
   "outputs": [],
   "source": []
  }
 ],
 "metadata": {
  "kernelspec": {
   "display_name": "Python 3 (ipykernel)",
   "language": "python",
   "name": "python3"
  },
  "language_info": {
   "codemirror_mode": {
    "name": "ipython",
    "version": 3
   },
   "file_extension": ".py",
   "mimetype": "text/x-python",
   "name": "python",
   "nbconvert_exporter": "python",
   "pygments_lexer": "ipython3",
   "version": "3.8.11"
  }
 },
 "nbformat": 4,
 "nbformat_minor": 5
}
