{
 "cells": [
  {
   "cell_type": "code",
   "execution_count": 1,
   "id": "46131a5c",
   "metadata": {},
   "outputs": [],
   "source": [
    "import numpy as np\n",
    "import scipy.sparse as sps\n",
    "import porepy as pp"
   ]
  },
  {
   "cell_type": "code",
   "execution_count": 2,
   "id": "0428e8cb",
   "metadata": {},
   "outputs": [],
   "source": [
    "import sys\n",
    "sys.path.append(\"./class\")\n",
    "from Transport_class import Transport"
   ]
  },
  {
   "cell_type": "code",
   "execution_count": 3,
   "id": "27afefe1",
   "metadata": {},
   "outputs": [],
   "source": [
    "Nx=10\n",
    "Ny=10\n",
    "#phys_dims=[1.0,1.0]\n",
    "phys_dims=[1.0,2.0]\n",
    "g=pp.CartGrid([Nx,Ny],phys_dims)\n",
    "#g=pp.CartGrid([Nx],phys_dims)\n",
    "g.compute_geometry()            "
   ]
  },
  {
   "cell_type": "code",
   "execution_count": 4,
   "id": "991a98c7",
   "metadata": {},
   "outputs": [
    {
     "name": "stdout",
     "output_type": "stream",
     "text": [
      "220\n"
     ]
    }
   ],
   "source": [
    "unity = np.ones(g.num_cells)\n",
    "empty = np.empty(0)\n",
    "porosity=unity\n",
    "aperture=1\n",
    "bc_type=[\"dir\",\"dir\"]\n",
    "bc_value=[0.,0.]\n",
    "init_cond=lambda x,y,z:int(x<0.5)\n",
    "print(g.num_faces)"
   ]
  },
  {
   "cell_type": "code",
   "execution_count": 5,
   "id": "66bceabd",
   "metadata": {},
   "outputs": [],
   "source": [
    "specified_parameters = {\n",
    "            \"bc_type\": bc_type,\n",
    "            \"bc_value\": bc_value,\n",
    "            \"time_step\": 0.01,\n",
    "            \"mass_weight\": porosity * aperture,\n",
    "            #\"darcy_flux\":np.zeros(g.num_faces),\n",
    "            \"darcy_flux\":np.ones(g.num_faces),\n",
    "            \"t_max\": 1,\n",
    "            \"method\": \"Explicit\",\n",
    "            \"lambda_lin_decay\":0,\n",
    "            \"initial_cond\":init_cond,\n",
    "}"
   ]
  },
  {
   "cell_type": "code",
   "execution_count": 6,
   "id": "dc816a8f",
   "metadata": {},
   "outputs": [],
   "source": [
    "specified_parameters[\"darcy_flux\"][:(Nx+1)*Ny]=1."
   ]
  },
  {
   "cell_type": "code",
   "execution_count": 7,
   "id": "776588d7",
   "metadata": {},
   "outputs": [],
   "source": [
    "transport=Transport(g,specified_parameters)"
   ]
  },
  {
   "cell_type": "code",
   "execution_count": 8,
   "id": "a0831071",
   "metadata": {},
   "outputs": [],
   "source": [
    "transport.set_bc()"
   ]
  },
  {
   "cell_type": "code",
   "execution_count": 9,
   "id": "5a8fb21c",
   "metadata": {},
   "outputs": [],
   "source": [
    "tracer=np.zeros(g.num_cells)"
   ]
  },
  {
   "cell_type": "code",
   "execution_count": 10,
   "id": "a5523320",
   "metadata": {},
   "outputs": [],
   "source": [
    "transport.set_initial_cond(tracer)"
   ]
  },
  {
   "cell_type": "code",
   "execution_count": 11,
   "id": "39d53ad0",
   "metadata": {},
   "outputs": [],
   "source": [
    "data=transport.data[pp.PARAMETERS][\"transport\"]\n",
    "kw_t=\"transport\"\n",
    "node_discretization = pp.Upwind(kw_t)\n",
    "source_discretization = pp.ScalarSource(kw_t)\n",
    "mass_discretization = pp.MassMatrix(kw_t)\n",
    "        \n",
    "node_discretization.discretize(transport.g,transport.data)\n",
    "source_discretization.discretize(transport.g,transport.data)\n",
    "mass_discretization.discretize(transport.g,transport.data)\n",
    "        \n",
    "A_upwind,b_upwind=node_discretization.assemble_matrix_rhs(transport.g,transport.data)\n",
    "        #_,b_source=source_discretization.assemble_matrix_rhs(self.g,self.data)\n",
    "A_mass,b_mass=mass_discretization.assemble_matrix_rhs(transport.g,transport.data)\n"
   ]
  },
  {
   "cell_type": "code",
   "execution_count": 12,
   "id": "e6492163",
   "metadata": {},
   "outputs": [
    {
     "name": "stdout",
     "output_type": "stream",
     "text": [
      "A_mass:\n",
      "  (0, 0)\t0.020000000000000004\n",
      "  (1, 1)\t0.020000000000000004\n",
      "  (2, 2)\t0.020000000000000007\n",
      "  (3, 3)\t0.019999999999999997\n",
      "  (4, 4)\t0.019999999999999997\n",
      "  (5, 5)\t0.020000000000000018\n",
      "  (6, 6)\t0.019999999999999997\n",
      "  (7, 7)\t0.019999999999999997\n",
      "  (8, 8)\t0.019999999999999997\n",
      "  (9, 9)\t0.019999999999999997\n",
      "  (10, 10)\t0.020000000000000004\n",
      "  (11, 11)\t0.020000000000000004\n",
      "  (12, 12)\t0.020000000000000007\n",
      "  (13, 13)\t0.019999999999999997\n",
      "  (14, 14)\t0.019999999999999997\n",
      "  (15, 15)\t0.020000000000000018\n",
      "  (16, 16)\t0.019999999999999997\n",
      "  (17, 17)\t0.019999999999999997\n",
      "  (18, 18)\t0.019999999999999997\n",
      "  (19, 19)\t0.019999999999999997\n",
      "  (20, 20)\t0.020000000000000007\n",
      "  (21, 21)\t0.02000000000000001\n",
      "  (22, 22)\t0.020000000000000014\n",
      "  (23, 23)\t0.020000000000000004\n",
      "  (24, 24)\t0.020000000000000004\n",
      "  :\t:\n",
      "  (75, 75)\t0.02000000000000001\n",
      "  (76, 76)\t0.01999999999999999\n",
      "  (77, 77)\t0.01999999999999999\n",
      "  (78, 78)\t0.01999999999999999\n",
      "  (79, 79)\t0.01999999999999999\n",
      "  (80, 80)\t0.019999999999999997\n",
      "  (81, 81)\t0.019999999999999997\n",
      "  (82, 82)\t0.020000000000000004\n",
      "  (83, 83)\t0.01999999999999999\n",
      "  (84, 84)\t0.01999999999999999\n",
      "  (85, 85)\t0.02000000000000001\n",
      "  (86, 86)\t0.01999999999999999\n",
      "  (87, 87)\t0.01999999999999999\n",
      "  (88, 88)\t0.01999999999999999\n",
      "  (89, 89)\t0.01999999999999999\n",
      "  (90, 90)\t0.019999999999999997\n",
      "  (91, 91)\t0.019999999999999997\n",
      "  (92, 92)\t0.020000000000000004\n",
      "  (93, 93)\t0.01999999999999999\n",
      "  (94, 94)\t0.01999999999999999\n",
      "  (95, 95)\t0.02000000000000001\n",
      "  (96, 96)\t0.01999999999999999\n",
      "  (97, 97)\t0.01999999999999999\n",
      "  (98, 98)\t0.01999999999999999\n",
      "  (99, 99)\t0.01999999999999999\n"
     ]
    }
   ],
   "source": [
    "print(\"A_mass:\")\n",
    "print(A_mass)\n"
   ]
  },
  {
   "cell_type": "code",
   "execution_count": 13,
   "id": "e308c7e8",
   "metadata": {},
   "outputs": [
    {
     "name": "stdout",
     "output_type": "stream",
     "text": [
      "A_upwind:\n",
      "  (0, 0)\t2.0\n",
      "  (1, 1)\t2.0\n",
      "  (1, 0)\t-1.0\n",
      "  (2, 2)\t2.0\n",
      "  (2, 1)\t-1.0\n",
      "  (3, 3)\t2.0\n",
      "  (3, 2)\t-1.0\n",
      "  (4, 4)\t2.0\n",
      "  (4, 3)\t-1.0\n",
      "  (5, 5)\t2.0\n",
      "  (5, 4)\t-1.0\n",
      "  (6, 6)\t2.0\n",
      "  (6, 5)\t-1.0\n",
      "  (7, 7)\t2.0\n",
      "  (7, 6)\t-1.0\n",
      "  (8, 8)\t2.0\n",
      "  (8, 7)\t-1.0\n",
      "  (9, 9)\t2.0\n",
      "  (9, 8)\t-1.0\n",
      "  (10, 0)\t-1.0\n",
      "  (10, 10)\t2.0\n",
      "  (11, 1)\t-1.0\n",
      "  (11, 11)\t2.0\n",
      "  (11, 10)\t-1.0\n",
      "  (12, 2)\t-1.0\n",
      "  :\t:\n",
      "  (91, 90)\t-1.0\n",
      "  (92, 82)\t-1.0\n",
      "  (92, 92)\t1.0\n",
      "  (92, 91)\t-1.0\n",
      "  (93, 83)\t-1.0\n",
      "  (93, 93)\t1.0\n",
      "  (93, 92)\t-1.0\n",
      "  (94, 84)\t-1.0\n",
      "  (94, 94)\t1.0\n",
      "  (94, 93)\t-1.0\n",
      "  (95, 85)\t-1.0\n",
      "  (95, 95)\t1.0\n",
      "  (95, 94)\t-1.0\n",
      "  (96, 86)\t-1.0\n",
      "  (96, 96)\t1.0\n",
      "  (96, 95)\t-1.0\n",
      "  (97, 87)\t-1.0\n",
      "  (97, 97)\t1.0\n",
      "  (97, 96)\t-1.0\n",
      "  (98, 88)\t-1.0\n",
      "  (98, 98)\t1.0\n",
      "  (98, 97)\t-1.0\n",
      "  (99, 89)\t-1.0\n",
      "  (99, 99)\t1.0\n",
      "  (99, 98)\t-1.0\n"
     ]
    }
   ],
   "source": [
    "print(\"A_upwind:\")\n",
    "print(A_upwind)"
   ]
  },
  {
   "cell_type": "code",
   "execution_count": null,
   "id": "06851ffd",
   "metadata": {},
   "outputs": [],
   "source": []
  }
 ],
 "metadata": {
  "kernelspec": {
   "display_name": "Python 3",
   "language": "python",
   "name": "python3"
  },
  "language_info": {
   "codemirror_mode": {
    "name": "ipython",
    "version": 3
   },
   "file_extension": ".py",
   "mimetype": "text/x-python",
   "name": "python",
   "nbconvert_exporter": "python",
   "pygments_lexer": "ipython3",
   "version": "3.8.8"
  }
 },
 "nbformat": 4,
 "nbformat_minor": 5
}
