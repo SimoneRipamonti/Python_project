{
 "cells": [
  {
   "cell_type": "code",
   "execution_count": 1,
   "id": "46131a5c",
   "metadata": {},
   "outputs": [],
   "source": [
    "import numpy as np\n",
    "import scipy.sparse as sps\n",
    "import porepy as pp"
   ]
  },
  {
   "cell_type": "code",
   "execution_count": 2,
   "id": "0428e8cb",
   "metadata": {},
   "outputs": [],
   "source": [
    "import sys\n",
    "sys.path.append(\"./class\")\n",
    "from Transport_class import Transport"
   ]
  },
  {
   "cell_type": "code",
   "execution_count": 3,
   "id": "27afefe1",
   "metadata": {},
   "outputs": [],
   "source": [
    "Nx=4\n",
    "#Ny=2\n",
    "phys_dims=0.3\n",
    "#phys_dims=[1.0,2.0]\n",
    "#g=pp.CartGrid([Nx,Ny],phys_dims)\n",
    "g=pp.CartGrid([Nx],phys_dims)\n",
    "g.compute_geometry()            "
   ]
  },
  {
   "cell_type": "code",
   "execution_count": 4,
   "id": "991a98c7",
   "metadata": {},
   "outputs": [
    {
     "name": "stdout",
     "output_type": "stream",
     "text": [
      "5\n"
     ]
    }
   ],
   "source": [
    "unity = np.ones(g.num_cells)\n",
    "empty = np.empty(0)\n",
    "porosity=unity\n",
    "aperture=1\n",
    "bc_type=[\"dir\",\"dir\"]\n",
    "bc_value=[0.,0.]\n",
    "init_cond=lambda x,y,z:int(x<0.5)\n",
    "print(g.num_faces)"
   ]
  },
  {
   "cell_type": "code",
   "execution_count": 5,
   "id": "66bceabd",
   "metadata": {},
   "outputs": [],
   "source": [
    "specified_parameters = {\n",
    "            \"bc_type\": bc_type,\n",
    "            \"bc_value\": bc_value,\n",
    "            \"time_step\": 0.01,\n",
    "            \"mass_weight\": porosity * aperture,\n",
    "            #\"darcy_flux\":np.zeros(g.num_faces),\n",
    "            \"darcy_flux\":np.ones(g.num_faces),\n",
    "            \"t_max\": 1,\n",
    "            \"method\": \"Explicit\",\n",
    "            \"lambda_lin_decay\":0,\n",
    "            \"initial_cond\":init_cond,\n",
    "}"
   ]
  },
  {
   "cell_type": "code",
   "execution_count": 6,
   "id": "dc816a8f",
   "metadata": {},
   "outputs": [],
   "source": [
    "#specified_parameters[\"darcy_flux\"][:(Nx+1)*Ny]=1."
   ]
  },
  {
   "cell_type": "code",
   "execution_count": 7,
   "id": "66fed1c8",
   "metadata": {},
   "outputs": [],
   "source": [
    "#specified_parameters[\"darcy_flux\"][(Nx+1)*Ny:]=2."
   ]
  },
  {
   "cell_type": "code",
   "execution_count": 8,
   "id": "3573a65a",
   "metadata": {},
   "outputs": [
    {
     "name": "stdout",
     "output_type": "stream",
     "text": [
      "vel\n",
      "[1. 1. 1. 1. 1.]\n"
     ]
    }
   ],
   "source": [
    "vel=specified_parameters[\"darcy_flux\"]\n",
    "print(\"vel\")\n",
    "print(vel)"
   ]
  },
  {
   "cell_type": "code",
   "execution_count": 9,
   "id": "776588d7",
   "metadata": {},
   "outputs": [],
   "source": [
    "transport=Transport(g,specified_parameters)"
   ]
  },
  {
   "cell_type": "code",
   "execution_count": 10,
   "id": "a0831071",
   "metadata": {},
   "outputs": [],
   "source": [
    "transport.set_bc()"
   ]
  },
  {
   "cell_type": "code",
   "execution_count": 11,
   "id": "5a8fb21c",
   "metadata": {},
   "outputs": [],
   "source": [
    "tracer=np.zeros(g.num_cells)"
   ]
  },
  {
   "cell_type": "code",
   "execution_count": 12,
   "id": "a5523320",
   "metadata": {},
   "outputs": [],
   "source": [
    "transport.set_initial_cond(tracer)"
   ]
  },
  {
   "cell_type": "code",
   "execution_count": 13,
   "id": "39d53ad0",
   "metadata": {},
   "outputs": [],
   "source": [
    "data=transport.data[pp.PARAMETERS][\"transport\"]\n",
    "kw_t=\"transport\"\n",
    "node_discretization = pp.Upwind(kw_t)\n",
    "source_discretization = pp.ScalarSource(kw_t)\n",
    "mass_discretization = pp.MassMatrix(kw_t)\n",
    "        \n",
    "node_discretization.discretize(transport.g,transport.data)\n",
    "source_discretization.discretize(transport.g,transport.data)\n",
    "mass_discretization.discretize(transport.g,transport.data)\n",
    "        \n",
    "A_upwind,b_upwind=node_discretization.assemble_matrix_rhs(transport.g,transport.data)\n",
    "        #_,b_source=source_discretization.assemble_matrix_rhs(self.g,self.data)\n",
    "A_mass,b_mass=mass_discretization.assemble_matrix_rhs(transport.g,transport.data)\n"
   ]
  },
  {
   "cell_type": "code",
   "execution_count": 14,
   "id": "e6492163",
   "metadata": {},
   "outputs": [
    {
     "name": "stdout",
     "output_type": "stream",
     "text": [
      "A_mass:\n",
      "  (0, 0)\t0.075\n",
      "  (1, 1)\t0.075\n",
      "  (2, 2)\t0.07499999999999998\n",
      "  (3, 3)\t0.07500000000000001\n"
     ]
    }
   ],
   "source": [
    "print(\"A_mass:\")\n",
    "print(A_mass)\n"
   ]
  },
  {
   "cell_type": "code",
   "execution_count": 15,
   "id": "e308c7e8",
   "metadata": {},
   "outputs": [
    {
     "name": "stdout",
     "output_type": "stream",
     "text": [
      "A_upwind:\n",
      "  (0, 0)\t1.0\n",
      "  (1, 1)\t1.0\n",
      "  (1, 0)\t-1.0\n",
      "  (2, 2)\t1.0\n",
      "  (2, 1)\t-1.0\n",
      "  (3, 3)\t1.0\n",
      "  (3, 2)\t-1.0\n"
     ]
    }
   ],
   "source": [
    "print(\"A_upwind:\")\n",
    "print(A_upwind)"
   ]
  },
  {
   "cell_type": "code",
   "execution_count": 16,
   "id": "06851ffd",
   "metadata": {},
   "outputs": [
    {
     "name": "stdout",
     "output_type": "stream",
     "text": [
      "b_upwind\n",
      "[0. 0. 0. 0.]\n"
     ]
    }
   ],
   "source": [
    "print(\"b_upwind\")\n",
    "print(b_upwind)"
   ]
  },
  {
   "cell_type": "code",
   "execution_count": null,
   "id": "e76afa9c",
   "metadata": {},
   "outputs": [],
   "source": []
  }
 ],
 "metadata": {
  "kernelspec": {
   "display_name": "Python 3",
   "language": "python",
   "name": "python3"
  },
  "language_info": {
   "codemirror_mode": {
    "name": "ipython",
    "version": 3
   },
   "file_extension": ".py",
   "mimetype": "text/x-python",
   "name": "python",
   "nbconvert_exporter": "python",
   "pygments_lexer": "ipython3",
   "version": "3.8.8"
  }
 },
 "nbformat": 4,
 "nbformat_minor": 5
}
