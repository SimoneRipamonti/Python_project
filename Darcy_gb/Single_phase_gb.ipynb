{
 "cells": [
  {
   "cell_type": "code",
   "execution_count": 1,
   "id": "7f722333",
   "metadata": {},
   "outputs": [],
   "source": [
    "import numpy as np\n",
    "import scipy.sparse as sps\n",
    "import porepy as pp\n",
    "import math\n",
    "import matplotlib.pyplot as plt"
   ]
  },
  {
   "cell_type": "code",
   "execution_count": 2,
   "id": "a9c4bed9",
   "metadata": {},
   "outputs": [],
   "source": [
    "import sys\n",
    "sys.path.append(\"./class\")\n",
    "#from Flow_class import Flow"
   ]
  },
  {
   "cell_type": "code",
   "execution_count": 3,
   "id": "ffa7fee1",
   "metadata": {},
   "outputs": [],
   "source": [
    "Nx=20\n",
    "Ny=20"
   ]
  },
  {
   "cell_type": "code",
   "execution_count": 4,
   "id": "bede7e28",
   "metadata": {},
   "outputs": [],
   "source": [
    "gb, domain = pp.grid_buckets_2d.single_horizontal([Nx, Ny], x_endpoints=[0.2, 0.8], simplex=False)"
   ]
  },
  {
   "cell_type": "code",
   "execution_count": 5,
   "id": "7f813c9f",
   "metadata": {},
   "outputs": [],
   "source": [
    "parameter={\"aperture\":1e-3,\n",
    "          \"fracture_perm\":1e-5,\n",
    "          \"perm\":1,\n",
    "          \"f_lambda\":lambda x,y,z:1e-2,\n",
    "          \"bc_value\":[0.0,0.0],\n",
    "          \"bc_type\":['dir','dir'],\n",
    "          \"method\":\"Tpfa\"}"
   ]
  },
  {
   "cell_type": "code",
   "execution_count": 6,
   "id": "10ece812",
   "metadata": {},
   "outputs": [],
   "source": [
    "#flow=Flow(gb,domain,parameter)"
   ]
  },
  {
   "cell_type": "code",
   "execution_count": 7,
   "id": "40b18276",
   "metadata": {},
   "outputs": [],
   "source": [
    "#flow.set_data()\n",
    "#flow.discretize()\n",
    "#flow.solve()\n",
    "#flow.plot_pressure()"
   ]
  },
  {
   "cell_type": "code",
   "execution_count": 8,
   "id": "2d123a02",
   "metadata": {},
   "outputs": [],
   "source": [
    "# Thickness of fracture\n",
    "aperture = 1e-3\n",
    "fracture_perm = 1e-5\n",
    "data_key=\"flow\"\n",
    "for g, d in gb:\n",
    "    # The concept of specific volumes accounts for the thickness\n",
    "    # of the fracture, which is collapsed in the mixed-dimensional\n",
    "    # model.\n",
    "    specific_volumes = np.power(aperture, gb.dim_max()-g.dim)#è legato al fatto che la dimensione della fratttura \n",
    "    #viene ridotta sempre di un unità (cioè ha un apertura diversa da zero quindi dovrebbe essere bidimensionale, \n",
    "    #ma viene ridotta comunque di una dimensione e per far ciò si modificano le sue proprietà fisiche, \n",
    "    #ovvero vengono \"concentrate\")\n",
    "    # Permeability\n",
    "    k = np.ones(g.num_cells) * specific_volumes#è la kx e basta per la frattura\n",
    "    if g.dim < gb.dim_max():#la g è quella della frattura?\n",
    "        k *= fracture_perm\n",
    "    perm = pp.SecondOrderTensor(k)   \n",
    "    #perm=pp.SecondOrderTensor(kxx=k,kyy=k,kzz=1)\n",
    "\n",
    "    # Unitary scalar source already integrated in each cell\n",
    "    f = 1e-2* g.cell_volumes * specific_volumes \n",
    "\n",
    "    # Boundary conditions\n",
    "    b_faces = g.tags['domain_boundary_faces'].nonzero()[0]\n",
    "    bc = pp.BoundaryCondition(g, b_faces, ['dir']*b_faces.size)\n",
    "    bc_val = np.zeros(g.num_faces)\n",
    "    bc_val[b_faces] = g.face_centers[1, b_faces]\n",
    "    \n",
    "    parameters = {\"second_order_tensor\": perm, \"source\": f, \"bc\": bc, \"bc_values\": bc_val}\n",
    "    pp.initialize_data(g, d, data_key, parameters)\n",
    "\n",
    "for e, d in gb.edges():\n",
    "        gl, _ = gb.nodes_of_edge(e)\n",
    "        mg = d[\"mortar_grid\"]\n",
    "        # Division through aperture/2 may be thought of as taking the gradient, i.e.\n",
    "        # dividing by the distance from the matrix to the center of the fracture.\n",
    "        kn = fracture_perm / (aperture/2)\n",
    "        pp.initialize_data(mg, d, data_key, {\"normal_diffusivity\": kn})"
   ]
  },
  {
   "cell_type": "code",
   "execution_count": 9,
   "id": "6ea2703e",
   "metadata": {},
   "outputs": [],
   "source": [
    "flow_discretization = pp.Tpfa(data_key)\n",
    "source_discretization = pp.ScalarSource(data_key)\n",
    "for g, d in gb:\n",
    "        d[pp.PRIMARY_VARIABLES] = {\"pressure\": {\"cells\": 1}}#gradi libertà, per misti \"faces\":1\n",
    "        d[pp.DISCRETIZATION] = {\"pressure\": {\"diffusive\": flow_discretization,\n",
    "                                             \"source\": source_discretization}}\n",
    "        \n",
    "flow_coupling_discretization = pp.RobinCoupling(data_key, flow_discretization)        \n",
    "for e, d in gb.edges():\n",
    "    g1, g2 = gb.nodes_of_edge(e)\n",
    "    d[pp.PRIMARY_VARIABLES] = {\"mortar_flux\": {\"cells\": 1}}\n",
    "    d[pp.COUPLING_DISCRETIZATION] = {\n",
    "        \"lambda\": {\n",
    "            g1: (\"pressure\", \"diffusive\"),\n",
    "            g2: (\"pressure\", \"diffusive\"),\n",
    "            e: (\"mortar_flux\", flow_coupling_discretization),\n",
    "        }\n",
    "    }\n"
   ]
  },
  {
   "cell_type": "code",
   "execution_count": 10,
   "id": "814d865a",
   "metadata": {},
   "outputs": [
    {
     "name": "stdout",
     "output_type": "stream",
     "text": [
      "{'source_pressure': <436x436 sparse matrix of type '<class 'numpy.float64'>'\n",
      "\twith 0 stored elements in Compressed Sparse Row format>, 'diffusive_pressure': <436x436 sparse matrix of type '<class 'numpy.float64'>'\n",
      "\twith 1930 stored elements in Compressed Sparse Row format>, 'lambda_mortar_flux_pressure_pressure': <436x436 sparse matrix of type '<class 'numpy.float64'>'\n",
      "\twith 120 stored elements in Compressed Sparse Row format>}\n"
     ]
    }
   ],
   "source": [
    "assembler = pp.Assembler(gb)\n",
    "assembler.discretize()\n",
    "A, b = assembler.assemble_matrix_rhs(add_matrices=False)\n",
    "print(A)\n",
    "#solution = sps.linalg.spsolve(A, b)\n",
    "#assembler.distribute_variable(solution)"
   ]
  },
  {
   "cell_type": "code",
   "execution_count": 11,
   "id": "3b5cfb1b",
   "metadata": {},
   "outputs": [],
   "source": [
    "#pp.plot_grid(gb, \"pressure\",figsize=(15, 12))"
   ]
  }
 ],
 "metadata": {
  "kernelspec": {
   "display_name": "Python 3",
   "language": "python",
   "name": "python3"
  },
  "language_info": {
   "codemirror_mode": {
    "name": "ipython",
    "version": 3
   },
   "file_extension": ".py",
   "mimetype": "text/x-python",
   "name": "python",
   "nbconvert_exporter": "python",
   "pygments_lexer": "ipython3",
   "version": "3.8.8"
  }
 },
 "nbformat": 4,
 "nbformat_minor": 5
}
