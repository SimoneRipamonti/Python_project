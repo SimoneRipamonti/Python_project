{
 "cells": [
  {
   "cell_type": "code",
   "execution_count": 1,
   "id": "49ae5b5b",
   "metadata": {},
   "outputs": [],
   "source": [
    "import numpy as np\n",
    "import porepy as pp\n",
    "import scipy.sparse as sps\n",
    "import math \n",
    "import sys\n",
    "sys.path.append(\"../class\")\n",
    "from Flow_class import Flow\n",
    "from Transport_class import Transport\n",
    "from Reaction_class import Reaction\n",
    "import change_porosity as chpor"
   ]
  },
  {
   "cell_type": "code",
   "execution_count": 2,
   "id": "6356d3df",
   "metadata": {},
   "outputs": [
    {
     "ename": "SyntaxError",
     "evalue": "invalid syntax (1376657535.py, line 4)",
     "output_type": "error",
     "traceback": [
      "\u001b[0;36m  File \u001b[0;32m\"/tmp/ipykernel_25719/1376657535.py\"\u001b[0;36m, line \u001b[0;32m4\u001b[0m\n\u001b[0;31m    CIao???\u001b[0m\n\u001b[0m        ^\u001b[0m\n\u001b[0;31mSyntaxError\u001b[0m\u001b[0;31m:\u001b[0m invalid syntax\n"
     ]
    }
   ],
   "source": [
    "Nx=100\n",
    "Ny=5\n",
    "\n",
    "CIao???"
   ]
  },
  {
   "cell_type": "code",
   "execution_count": null,
   "id": "1a946935",
   "metadata": {
    "scrolled": true
   },
   "outputs": [],
   "source": [
    "#gb= pp.grid_buckets_2d.single_vertical([Nx, Ny], y_endpoints=[0.6, 0.2], simplex=False)\n",
    "#gb, domain = pp.grid_buckets_2d.single_horizontal([Nx, Ny], x_endpoints=[0.2, 0.8], simplex=False)\n",
    "#print(domain)\n",
    "#pp.plot_grid(gb,figsize=[15,12])\n",
    "#domain={'xmin': 0, 'xmax': 1, 'ymin': 0, 'ymax': 1}\n",
    "\n",
    "\n"
   ]
  },
  {
   "cell_type": "code",
   "execution_count": null,
   "id": "31ba50a2",
   "metadata": {},
   "outputs": [],
   "source": [
    "# Point coordinates, as a 2xn array\n",
    "p = np.array([[0.02,0.02,0.03,0.03], [0,0.005,0.005,0.01]])\n",
    "# Point connections as a 2 x num_frac arary\n",
    "e = np.array([[0, 2], [1, 3]])\n",
    "\n",
    "# The domain contains two fractures: The first from (0, 0) - (2,0), the second (1, 0) to (1, 1)\n",
    "# Set domain boundaries\n",
    "domain = {'xmin': 0, 'xmax': 0.045, 'ymin': 0, 'ymax': 0.01}\n",
    "\n",
    "# Define a fracture network in 2d\n",
    "network_2d = pp.FractureNetwork2d(p, e, domain)\n",
    "\n",
    "# Set preferred mesh size close to the fracture, and at the boundary (essentially this is a far-field value)\n",
    "#mesh_args = {'mesh_size_frac': 0.002, 'mesh_size_bound': 0.003}\n",
    "mesh_args = {'mesh_size_frac': 0.002, 'mesh_size_bound': 0.003}\n",
    "\n",
    "\n",
    "# Generate a mixed-dimensional mesh\n",
    "gb = network_2d.mesh(mesh_args)\n",
    "pp.plot_grid(gb,figsize=(15,12))"
   ]
  },
  {
   "cell_type": "code",
   "execution_count": null,
   "id": "c6539541",
   "metadata": {},
   "outputs": [],
   "source": [
    "parameter_flow={\"aperture\":1e-3,\n",
    "           #\"fracture_perm\":0.00001,\n",
    "          #\"fracture_perm_2\":1e5,\n",
    "           #\"fracture_perm\":1e5,\n",
    "          #\"fracture_perm\":0.001,\n",
    "           \"fracture_perm\":1e6,\n",
    "           #\"perm\":0.3,\n",
    "           #\"perm\":1,\n",
    "           \"perm\":1e-10,\n",
    "          #\"f_lambda\":lambda x,y,z:math.pi*math.pi*2*math.sin(math.pi*x)*math.sin(math.pi*y),\n",
    "          \"f_lambda\":lambda x,y,z:0.0,\n",
    "          \"bc_value\":[15.0,0.0],\n",
    "           #\"bc_value\":[0.0,0.0],\n",
    "          \"bc_type\":['dir','dir'],\n",
    "          \"method\":\"Tpfa\"}"
   ]
  },
  {
   "cell_type": "code",
   "execution_count": null,
   "id": "6e5988aa",
   "metadata": {},
   "outputs": [],
   "source": [
    "flow1=Flow(gb,domain,parameter_flow)\n",
    "#flow.add_data()\n",
    "flow1.set_data()\n",
    "flow1.discretize()\n",
    "flow1.solve()\n",
    "flow1.plot_pressure()"
   ]
  },
  {
   "cell_type": "code",
   "execution_count": null,
   "id": "dda10a95",
   "metadata": {},
   "outputs": [],
   "source": [
    "parameter_transp={\n",
    "    \"aperture\":1e-3,\n",
    "    \"por\":0.3,\n",
    "    \"por_frac\":0.6,\n",
    "    #\"por\":1.0,\n",
    "    #\"por_frac\":1.0,\n",
    "    #\"time_step\":1 / 60,\n",
    "    \"time_step\":34.56,\n",
    "    #\"time_step\":0.001,\n",
    "    #\"t_max\":1 /3,\n",
    "    \"t_max\":345600,\n",
    "    #\"t_max\":0.1,\n",
    "    \"initial_cond\":lambda x,y,z:0.0}\n",
    "\n",
    "transport_Ca=Transport(gb,domain,parameter_transp)"
   ]
  },
  {
   "cell_type": "code",
   "execution_count": null,
   "id": "bec517a4",
   "metadata": {},
   "outputs": [],
   "source": [
    "Ca_value=[0.0,0.0]\n",
    "Ca_type=['dir','dir']\n",
    "CaSiO3_value=[0.0,0.0]\n",
    "CaSiO3_type=['dir','dir']\n",
    "Ca=\"Ca\"\n",
    "CaSiO3=\"CaSiO3\""
   ]
  },
  {
   "cell_type": "code",
   "execution_count": null,
   "id": "66b29cd4",
   "metadata": {},
   "outputs": [],
   "source": [
    "transport_Ca.set_data(Ca_value,Ca_type,Ca)\n",
    "transport_Ca.get_flux(Ca)\n",
    "transport_Ca.discretize(Ca)\n",
    "lhs_Ca,rhs_source_adv_Ca,rhs_mass_Ca,assembler_Ca=transport_Ca.get_transport_lhs_rhs(Ca)\n",
    "#ciao?1\n",
    "\n"
   ]
  },
  {
   "cell_type": "code",
   "execution_count": null,
   "id": "dc53ef73",
   "metadata": {},
   "outputs": [],
   "source": [
    "reaction_data={\"temperature\":423,\n",
    "       \"A\":1.9e-2,\n",
    "       #\"rate_const\":0.00446,\n",
    "       \"rate_const\":0.0005,\n",
    "       \"E\":4700,\n",
    "       \"R\":8.314,\n",
    "       \"K_eq\":10e9,\n",
    "       \"ph\":3.5,\n",
    "       \"mass_weight\":0.3*1.0}\n",
    "reaction=Reaction(reaction_data)\n",
    "reaction.set_const_rate()\n",
    "print(reaction.const_rate)"
   ]
  },
  {
   "cell_type": "code",
   "execution_count": null,
   "id": "62be80d0",
   "metadata": {},
   "outputs": [],
   "source": [
    "for g,d in gb:\n",
    "    print(\"darcy_flux\")\n",
    "    print(d[pp.PARAMETERS]['Ca']['darcy_flux'])"
   ]
  },
  {
   "cell_type": "code",
   "execution_count": null,
   "id": "14840b82",
   "metadata": {
    "scrolled": true
   },
   "outputs": [],
   "source": [
    "## to export the flux\n",
    "key='Ca'\n",
    "flux='darcy_flux'\n",
    "mortar='mortar_flux'\n",
    "flux_P0=\"P0_flux\"\n",
    "\n",
    "discr_P0_flux = pp.MVEM(key)\n",
    "for g, d in gb:\n",
    "    discr_P0_flux.discretize(g, d)\n",
    "    d[pp.STATE][flux] = d[pp.PARAMETERS][key][flux]\n",
    "    print(d[pp.STATE][flux])\n",
    "\n",
    "## construct the P0 flux reconstruction\n",
    "pp.project_flux(gb, discr_P0_flux, flux, flux_P0, mortar)\n",
    "\n",
    "for g,d in gb:\n",
    "    print(\"P0_flux\")\n",
    "    print(d[pp.STATE][\"P0_flux\"])\n",
    "\n",
    "for g,d in gb:\n",
    "    print(\"pressure\")\n",
    "    print(d[pp.STATE][\"pressure\"])\n",
    "    \n",
    "for g,d in gb:\n",
    "    d[pp.STATE][\"P0_flux\"]*=100000\n",
    "pp.plot_grid(gb,\"pressure\",\"P0_flux\",figsize=(15,12))"
   ]
  },
  {
   "cell_type": "code",
   "execution_count": null,
   "id": "03042483",
   "metadata": {},
   "outputs": [],
   "source": [
    "# Point coordinates, as a 2xn array\n",
    "p = np.array([[0.02,0.02,0.03,0.03], [0,0.005,0.005,0.01]])\n",
    "# Point connections as a 2 x num_frac arary\n",
    "e = np.array([[0, 2], [1, 3]])\n",
    "\n",
    "# The domain contains two fractures: The first from (0, 0) - (2,0), the second (1, 0) to (1, 1)\n",
    "# Set domain boundaries\n",
    "domain = {'xmin': 0, 'xmax': 0.045, 'ymin': 0, 'ymax': 0.01}\n",
    "\n",
    "# Define a fracture network in 2d\n",
    "network_2d = pp.FractureNetwork2d(p, e, domain)\n",
    "\n",
    "# Set preferred mesh size close to the fracture, and at the boundary (essentially this is a far-field value)\n",
    "#mesh_args = {'mesh_size_frac': 0.002, 'mesh_size_bound': 0.003}\n",
    "mesh_args = {'mesh_size_frac': 0.002, 'mesh_size_bound': 0.003}\n",
    "\n",
    "\n",
    "# Generate a mixed-dimensional mesh\n",
    "gb1= network_2d.mesh(mesh_args)\n",
    "#pp.plot_grid(gb,figsize=(15,12))"
   ]
  },
  {
   "cell_type": "code",
   "execution_count": null,
   "id": "943771ea",
   "metadata": {},
   "outputs": [],
   "source": [
    "parameter={\"aperture\":1e-3,\n",
    "           \"fracture_perm\":1e6,\n",
    "           #\"fracture_perm\":0.00001,\n",
    "          #\"fracture_perm_2\":1e5,\n",
    "           #\"fracture_perm\":1e5,\n",
    "           #\"fracture_perm\":1.0,\n",
    "           #\"perm\":0.3,\n",
    "           \"perm\":1e-10,\n",
    "           #\"perm\":1.0,\n",
    "           #\"f_lambda\":lambda x,y,z:math.pi*math.pi*2*math.sin(math.pi*x)*math.sin(math.pi*y),\n",
    "          \"f_lambda\":lambda x,y,z:0.0,\n",
    "          #\"bc_value\":[3.0e-7,0.0],\n",
    "          \"bc_value\":[0.0,0.0],\n",
    "          \"bc_type\":['dir','dir'],\n",
    "          \"method\":\"Tpfa\"}"
   ]
  },
  {
   "cell_type": "code",
   "execution_count": null,
   "id": "65588960",
   "metadata": {},
   "outputs": [],
   "source": [
    "flow2=Flow(gb1,domain,parameter)\n",
    "#flow.add_data()\n",
    "flow2.set_data()\n",
    "flow2.discretize()\n",
    "flow2.solve()\n",
    "flow2.plot_pressure()"
   ]
  },
  {
   "cell_type": "code",
   "execution_count": null,
   "id": "9fb0b873",
   "metadata": {},
   "outputs": [],
   "source": [
    "parameter={\n",
    "    \"aperture\":1e-3,\n",
    "    \"por\":0.3,\n",
    "    \"por_frac\":0.6,\n",
    "    #\"por\":1.0,\n",
    "    #\"por_frac\":1.0,\n",
    "    #\"time_step\":1 / 60,\n",
    "    \"time_step\":34.56,\n",
    "    #\"time_step\":0.001,\n",
    "    #\"t_max\":1 /3,\n",
    "    \"t_max\":345600,\n",
    "    #\"t_max\":0.1,\n",
    "    \"initial_cond\":lambda x,y,z:0.0}\n",
    "\n",
    "transport_CaSiO3=Transport(gb1,domain,parameter)"
   ]
  },
  {
   "cell_type": "code",
   "execution_count": null,
   "id": "7f4f0c83",
   "metadata": {},
   "outputs": [],
   "source": [
    "transport_CaSiO3.set_data(CaSiO3_value,CaSiO3_type,CaSiO3)\n",
    "transport_CaSiO3.get_flux(CaSiO3)    \n",
    "transport_CaSiO3.discretize(CaSiO3)\n",
    "lhs_CaSiO3,rhs_source_adv_CaSiO3,rhs_mass_CaSiO3,assembler_CaSiO3=transport_CaSiO3.get_transport_lhs_rhs(CaSiO3)"
   ]
  },
  {
   "cell_type": "code",
   "execution_count": null,
   "id": "d4df36e0",
   "metadata": {},
   "outputs": [],
   "source": [
    "save_every = 100\n",
    "n_steps = int(np.round(parameter[\"t_max\"] / parameter[\"time_step\"]))\n",
    "\n",
    "# Initial condition\n",
    "tracer1 = np.zeros(rhs_source_adv_Ca.size)\n",
    "assembler_Ca.distribute_variable(\n",
    "    tracer1, variable_names=[Ca,transport_Ca.mortar_variable+Ca]\n",
    ")\n",
    "\n",
    "\n",
    "#tracer2 = 16.7504*np.ones(rhs_source_adv_CaSiO3.size)\n",
    "#tracer2 = 3.35008*np.ones(rhs_source_adv_CaSiO3.size)\n",
    "tracer2=np.zeros(rhs_source_adv_CaSiO3.size)\n",
    "l=0\n",
    "for g,d in gb:\n",
    "    if(g.dim == gb.dim_max()):\n",
    "        for j in range(g.num_cells):\n",
    "            tracer2[j]=58.6264\n",
    "        l=g.num_cells\n",
    "    else:\n",
    "        for i in range(l,l+g.num_cells,1):\n",
    "            print(\"i\")\n",
    "            print(i)\n",
    "            tracer2[i]=16.75\n",
    "        l+=g.num_cells\n",
    "\n",
    "\n",
    "\n",
    "assembler_CaSiO3.distribute_variable(\n",
    "    tracer2, variable_names=[CaSiO3,transport_CaSiO3.mortar_variable+CaSiO3]\n",
    ")\n",
    "\n",
    "\n",
    "transport_Ca.set_data(CaSiO3_value,CaSiO3_type,CaSiO3)\n",
    "transport_Ca.get_flux(CaSiO3)\n",
    "transport_Ca.discretize(CaSiO3)\n",
    "lhs_boh,rhs_source_adv_boh,rhs_mass_boh,assembler_boh=transport_Ca.get_transport_lhs_rhs(CaSiO3)\n",
    "assembler_boh.distribute_variable(\n",
    "        tracer2,\n",
    "        variable_names=[CaSiO3,transport_CaSiO3.mortar_variable+CaSiO3],\n",
    "    )\n",
    "#for g,d in gb:\n",
    "    #print(\"Ca\")\n",
    "    #print(d[pp.STATE][\"Ca\"])\n",
    "    #print(\"CaSiO3\")\n",
    "    #print(d[pp.STATE][\"CaSiO3\"])\n",
    "\n",
    "\n",
    "# Exporter\n",
    "exporter1 = pp.Exporter(gb, file_name=\"Ca\", folder_name=\"Ca_high_ch_por\")\n",
    "export_field1 = [\"Ca\"]\n",
    "IEsolver_Ca = sps.linalg.factorized(lhs_Ca)\n",
    "\n",
    "exporter2= pp.Exporter(gb1, file_name=\"CaSiO3\", folder_name=\"CaSiO3_high_ch_por\")\n",
    "export_field2 = [\"CaSiO3\"]\n",
    "IEsolver_CaSiO3 = sps.linalg.factorized(lhs_CaSiO3)"
   ]
  },
  {
   "cell_type": "code",
   "execution_count": null,
   "id": "e6af32c6",
   "metadata": {},
   "outputs": [],
   "source": [
    "for g,d in gb:\n",
    "        print(\"Darcy_flux\")\n",
    "        print(d[pp.PARAMETERS][\"Ca\"][\"darcy_flux\"])\n",
    "for g,d in gb:\n",
    "        print(\"Darcy_flux\")\n",
    "        print(d[pp.PARAMETERS][\"Ca\"][\"darcy_flux\"])"
   ]
  },
  {
   "cell_type": "code",
   "execution_count": 3,
   "id": "69e1f0fc",
   "metadata": {},
   "outputs": [
    {
     "ename": "NameError",
     "evalue": "name 'tracer1' is not defined",
     "output_type": "error",
     "traceback": [
      "\u001b[0;31m---------------------------------------------------------------------------\u001b[0m",
      "\u001b[0;31mNameError\u001b[0m                                 Traceback (most recent call last)",
      "\u001b[0;32m/tmp/ipykernel_25719/929739045.py\u001b[0m in \u001b[0;36m<module>\u001b[0;34m\u001b[0m\n\u001b[0;32m----> 1\u001b[0;31m \u001b[0mrd\u001b[0m\u001b[0;34m=\u001b[0m\u001b[0mnp\u001b[0m\u001b[0;34m.\u001b[0m\u001b[0mzeros\u001b[0m\u001b[0;34m(\u001b[0m\u001b[0mtracer1\u001b[0m\u001b[0;34m.\u001b[0m\u001b[0msize\u001b[0m\u001b[0;34m)\u001b[0m\u001b[0;34m\u001b[0m\u001b[0;34m\u001b[0m\u001b[0m\n\u001b[0m\u001b[1;32m      2\u001b[0m \u001b[0;31m#for i in range(10):\u001b[0m\u001b[0;34m\u001b[0m\u001b[0;34m\u001b[0m\u001b[0;34m\u001b[0m\u001b[0m\n\u001b[1;32m      3\u001b[0m \u001b[0;31m#for i in range(n_steps):\u001b[0m\u001b[0;34m\u001b[0m\u001b[0;34m\u001b[0m\u001b[0;34m\u001b[0m\u001b[0m\n\u001b[1;32m      4\u001b[0m \u001b[0;34m\u001b[0m\u001b[0m\n\u001b[1;32m      5\u001b[0m \u001b[0mpor\u001b[0m\u001b[0;34m=\u001b[0m\u001b[0mparameter_transp\u001b[0m\u001b[0;34m[\u001b[0m\u001b[0;34m\"por\"\u001b[0m\u001b[0;34m]\u001b[0m\u001b[0;34m\u001b[0m\u001b[0;34m\u001b[0m\u001b[0m\n",
      "\u001b[0;31mNameError\u001b[0m: name 'tracer1' is not defined"
     ]
    }
   ],
   "source": [
    "rd=np.zeros(tracer1.size)\n",
    "#for i in range(10):\n",
    "#for i in range(n_steps):\n",
    "\n",
    "por=parameter_transp[\"por\"]\n",
    "por_frac=parameter_transp[\"por_frac\"]\n",
    "\n",
    "for i in range(1,n_steps+1,1):\n",
    "#for i in range(1,100,1):\n",
    "    rd=reaction.compute_rd(tracer1,rd)    \n",
    "    if np.isclose((i-1) % save_every, 0):\n",
    "            exporter1.write_vtu(export_field1, time_step=int((i-1) // save_every))\n",
    "            exporter2.write_vtu(export_field2, time_step=int((i-1) // save_every))\n",
    "            #for g,d in gb:\n",
    "                #print(\"Ca\")\n",
    "                #print(d[pp.STATE][\"Ca\"])\n",
    "            #for g,d in gb1:\n",
    "                #print(\"CaSiO3\")\n",
    "                #print(d[pp.STATE][\"CaSiO3\"])\n",
    "            #print(\"FINE\")\n",
    "            #print(\"rd\")\n",
    "            #print(rd)\n",
    "    #rd=reaction.compute_rd(tracer1,rd)\n",
    "    tracer1 = IEsolver_Ca(rhs_mass_Ca * tracer1 + rhs_source_adv_Ca+rhs_mass_Ca*rd*tracer2*parameter[\"time_step\"])\n",
    "    tracer2 = IEsolver_CaSiO3(rhs_mass_Ca * tracer2 + rhs_source_adv_CaSiO3-rhs_mass_CaSiO3*rd*tracer2*parameter[\"time_step\"])\n",
    "    \n",
    "    assembler_Ca.distribute_variable(\n",
    "        tracer1,\n",
    "        variable_names=[Ca,transport_Ca.mortar_variable+Ca],\n",
    "    )\n",
    "    \n",
    "    assembler_boh.distribute_variable(\n",
    "        tracer2,\n",
    "        variable_names=[CaSiO3,transport_CaSiO3.mortar_variable+CaSiO3],\n",
    "    )\n",
    "    \n",
    "    assembler_CaSiO3.distribute_variable(\n",
    "        tracer2,\n",
    "        variable_names=[CaSiO3,transport_CaSiO3.mortar_variable+CaSiO3],\n",
    "    )\n",
    "    \n",
    "    #por,por_frac=chpor.compute_new_porosity(gb1)\n",
    "    rhs_source_adv_Ca,rhs_mass_Ca,rhs_source_adv_CaSiO3,rhs_mass_CaSiO3,IEsolver_Ca,IEsolver_CaSiO3=chpor.change_por(por,por_frac,flow1,flow2,transport_Ca,transport_CaSiO3)\n",
    "    #for g,d in gb:\n",
    "        #print(\"Darcy_flux\")\n",
    "        #print(d[pp.PARAMETERS][\"Ca\"][\"darcy_flux\"])\n",
    "    #for g,d in gb:\n",
    "        #print(\"Darcy_flux\")\n",
    "        #print(d[pp.PARAMETERS][\"Ca\"][\"darcy_flux\"])\n",
    "    \n",
    "    #por,por_frac=compute_new_porosity(gb1)\n",
    "    \n",
    "exporter1.write_vtu(export_field1, time_step=(n_steps // save_every))\n",
    "time_steps = np.arange(\n",
    "    0, parameter[\"t_max\"] + parameter[\"time_step\"], save_every * parameter[\"time_step\"]\n",
    ")\n",
    "    \n",
    "exporter2.write_vtu(export_field2, time_step=(n_steps // save_every))\n",
    "time_steps = np.arange(\n",
    "    0, parameter[\"t_max\"] + parameter[\"time_step\"], save_every * parameter[\"time_step\"]\n",
    ")\n",
    "exporter1.write_pvd(time_steps)\n",
    "exporter2.write_pvd(time_steps)\n",
    "transport_Ca.plot_tracer(Ca)\n",
    "transport_CaSiO3.plot_tracer(CaSiO3)\n",
    "#ciao?9"
   ]
  },
  {
   "cell_type": "code",
   "execution_count": null,
   "id": "6294deb8",
   "metadata": {},
   "outputs": [],
   "source": [
    "for g,d in gb:\n",
    "    print(\"Ca\")\n",
    "    print(d[pp.STATE][\"Ca\"])\n",
    "    print(\"CaSiO3\")\n",
    "    print(d[pp.STATE][\"CaSiO3\"])"
   ]
  },
  {
   "cell_type": "code",
   "execution_count": null,
   "id": "b1197ad5",
   "metadata": {},
   "outputs": [],
   "source": [
    "for g,d in gb:\n",
    "    print(\"darcy_flux\")\n",
    "    print(d[pp.PARAMETERS]['Ca']['darcy_flux'])"
   ]
  },
  {
   "cell_type": "code",
   "execution_count": null,
   "id": "16382057",
   "metadata": {},
   "outputs": [],
   "source": [
    "## to export the flux\n",
    "key='Ca'\n",
    "flux='darcy_flux'\n",
    "mortar='mortar_flux'\n",
    "flux_P0=\"P0_flux\"\n",
    "\n",
    "discr_P0_flux = pp.MVEM(key)\n",
    "for g, d in gb:\n",
    "    discr_P0_flux.discretize(g, d)\n",
    "    d[pp.STATE][flux] = d[pp.PARAMETERS][key][flux]\n",
    "\n",
    "## construct the P0 flux reconstruction\n",
    "pp.project_flux(gb, discr_P0_flux, flux, flux_P0, mortar)\n",
    "\n",
    "for g,d in gb:\n",
    "    print(\"P0_flux\")\n",
    "    print(d[pp.STATE][\"P0_flux\"])\n",
    "\n",
    "for g,d in gb:\n",
    "    print(\"pressure\")\n",
    "    print(d[pp.STATE][\"pressure\"])\n",
    "    \n",
    "for g,d in gb:\n",
    "    d[pp.STATE][\"P0_flux\"]*=100000\n",
    "pp.plot_grid(gb,\"pressure\",\"P0_flux\",figsize=(15,12))"
   ]
  }
 ],
 "metadata": {
  "kernelspec": {
   "display_name": "Python 3 (ipykernel)",
   "language": "python",
   "name": "python3"
  },
  "language_info": {
   "codemirror_mode": {
    "name": "ipython",
    "version": 3
   },
   "file_extension": ".py",
   "mimetype": "text/x-python",
   "name": "python",
   "nbconvert_exporter": "python",
   "pygments_lexer": "ipython3",
   "version": "3.8.8"
  }
 },
 "nbformat": 4,
 "nbformat_minor": 5
}
