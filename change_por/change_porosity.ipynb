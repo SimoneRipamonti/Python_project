{
 "cells": [
  {
   "cell_type": "code",
   "execution_count": 1,
   "id": "49ae5b5b",
   "metadata": {},
   "outputs": [],
   "source": [
    "import numpy as np\n",
    "import porepy as pp\n",
    "import scipy.sparse as sps\n",
    "import math \n",
    "import sys\n",
    "sys.path.append(\"../class\")\n",
    "from Flow_class import Flow\n",
    "from Transport_class import Transport\n",
    "from Reaction_class import Reaction"
   ]
  },
  {
   "cell_type": "code",
   "execution_count": 2,
   "id": "6e5988aa",
   "metadata": {},
   "outputs": [],
   "source": [
    "def change_por(por,por_frac,flow1,flow2,transport_Ca,transport_CaSiO3):\n",
    "    \n",
    "    flow1.change_perm(por,por_frac)\n",
    "    flow1.discretize()\n",
    "    flow1.solve()\n",
    "    \n",
    "    flow2.change_perm(por,por_frac)\n",
    "    flow2.discretize()\n",
    "    flow2.solve()\n",
    "    \n",
    "    transport_Ca.get_flux(\"Ca\")\n",
    "    transport_Ca.set_porosity(\"Ca\")\n",
    "    transport_Ca.discretize(\"Ca\")\n",
    "    lhs_Ca,rhs_source_adv_Ca,rhs_mass_Ca,assembler_Ca=transport_Ca.get_transport_lhs_rhs(\"Ca\")\n",
    "    \n",
    "    transport_CaSiO3.get_flux(\"CaSiO3\")\n",
    "    transport_CaSiO3.set_porosity(\"CaSiO3\")\n",
    "    transport_CaSiO3.discretize(\"CaSiO3\")\n",
    "    lhs_CaSiO3,rhs_source_adv_CaSiO3,rhs_mass_CaSiO3,assembler_CaSiO3=transport_CaSiO3.get_transport_lhs_rhs(\"CaSiO3\")\n",
    "    \n",
    "    IEsolver_Ca = sps.linalg.factorized(lhs_Ca)\n",
    "    IEsolver_CaSiO3 = sps.linalg.factorized(lhs_CaSiO3)\n",
    "    \n",
    "    return rhs_source_adv_Ca,rhs_mass_Ca,rhs_source_adv_CaSiO3,rhs_mass_CaSiO3,IEsolver_Ca,IEsolver_CaSiO3\n",
    "    "
   ]
  },
  {
   "cell_type": "code",
   "execution_count": 3,
   "id": "f0212632",
   "metadata": {},
   "outputs": [],
   "source": [
    "def compute_new_porosity(gb1):\n",
    "    \n",
    "    for g,d in gb1:\n",
    "        if g.dim < self.gb.dim_max():\n",
    "            por_frac=1-d[pp.STATE][\"CaSiO3\"]*3.98e-2\n",
    "        else:\n",
    "            por=1-d[pp.STATE][\"CaSiO3\"]*3.98e-2\n",
    "    \n",
    "    return por,por_frac"
   ]
  }
 ],
 "metadata": {
  "kernelspec": {
   "display_name": "Python 3 (ipykernel)",
   "language": "python",
   "name": "python3"
  },
  "language_info": {
   "codemirror_mode": {
    "name": "ipython",
    "version": 3
   },
   "file_extension": ".py",
   "mimetype": "text/x-python",
   "name": "python",
   "nbconvert_exporter": "python",
   "pygments_lexer": "ipython3",
   "version": "3.8.8"
  }
 },
 "nbformat": 4,
 "nbformat_minor": 5
}
