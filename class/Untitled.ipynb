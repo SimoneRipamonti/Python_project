{
 "cells": [
  {
   "cell_type": "code",
   "execution_count": 3,
   "id": "5a62d7c6",
   "metadata": {},
   "outputs": [],
   "source": [
    "import numpy as np\n",
    "import scipy.sparse as sps\n",
    "import porepy as pp"
   ]
  },
  {
   "cell_type": "code",
   "execution_count": 4,
   "id": "c938a005",
   "metadata": {},
   "outputs": [],
   "source": [
    "import sys\n",
    "sys.path.append(\"./class\")\n",
    "from Transport_class import Transport"
   ]
  },
  {
   "cell_type": "code",
   "execution_count": 5,
   "id": "31058401",
   "metadata": {},
   "outputs": [],
   "source": [
    "Nx=100\n",
    "#Ny=10\n",
    "#phys_dims=[1.0]\n",
    "phys_dims=[0.045]\n",
    "#phys_dims=[1,1]\n",
    "#g=pp.CartGrid([Nx,Ny],phys_dims)\n",
    "g=pp.CartGrid([Nx],phys_dims)\n",
    "g.compute_geometry()            "
   ]
  },
  {
   "cell_type": "code",
   "execution_count": 6,
   "id": "b5850da7",
   "metadata": {},
   "outputs": [
    {
     "name": "stdout",
     "output_type": "stream",
     "text": [
      "[  0 100]\n"
     ]
    }
   ],
   "source": [
    "b_faces = g.tags[\"domain_boundary_faces\"].nonzero()[0]\n",
    "print(b_faces)"
   ]
  },
  {
   "cell_type": "code",
   "execution_count": null,
   "id": "7d4dcb91",
   "metadata": {},
   "outputs": [],
   "source": [
    "unity = np.ones(g.num_cells)\n",
    "empty = np.empty(0)\n",
    "#porosity=0.3*unity\n",
    "porosity=unity\n",
    "aperture=1\n",
    "bc_type=[\"dir\",\"dir\"]\n",
    "#bc_value=[1.,0.]\n",
    "bc_value=[0.38553623, 0.]\n",
    "#init_cond=lambda x,y,z:int(x<0.5)\n",
    "#init_cond=lambda x,y,z:0.0\n",
    "init_cond=lambda x,y,z:0.00545 "
   ]
  },
  {
   "cell_type": "code",
   "execution_count": null,
   "id": "c521c415",
   "metadata": {},
   "outputs": [],
   "source": [
    "specified_parameters = {\n",
    "            \"bc_type\": bc_type,\n",
    "            \"bc_value\": bc_value,\n",
    "            \"time_step\": 34.56,\n",
    "            #\"time_step\": 0.01,\n",
    "            \"mass_weight\": porosity * aperture,\n",
    "            #\"darcy_flux\":np.ones(Nx+1),\n",
    "            \"darcy_flux\":6.67e-9*np.ones(Nx+1),\n",
    "            #\"t_max\": 1,\n",
    "            \"t_max\":345600,\n",
    "            \"method\": \"Implicit\",\n",
    "            \"lambda_lin_decay\":0,\n",
    "            \"initial_cond\":init_cond,\n",
    "}"
   ]
  }
 ],
 "metadata": {
  "kernelspec": {
   "display_name": "Python 3",
   "language": "python",
   "name": "python3"
  },
  "language_info": {
   "codemirror_mode": {
    "name": "ipython",
    "version": 3
   },
   "file_extension": ".py",
   "mimetype": "text/x-python",
   "name": "python",
   "nbconvert_exporter": "python",
   "pygments_lexer": "ipython3",
   "version": "3.8.8"
  }
 },
 "nbformat": 4,
 "nbformat_minor": 5
}
