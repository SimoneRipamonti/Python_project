{
 "cells": [
  {
   "cell_type": "code",
   "execution_count": 1,
   "id": "1ec10185",
   "metadata": {},
   "outputs": [],
   "source": [
    "import numpy as np\n",
    "import scipy.sparse as sps\n",
    "import porepy as pp\n",
    "import math"
   ]
  },
  {
   "cell_type": "code",
   "execution_count": 4,
   "id": "fe4bfb10",
   "metadata": {},
   "outputs": [],
   "source": [
    "class Flow:\n",
    "    def __init__(self,g,parameters=None,method=\"Tpfa\"):\n",
    "        \n",
    "        if not parameters:\n",
    "            parameters={}\n",
    "        if not method:\n",
    "            method={}\n",
    "        self.g=g\n",
    "        self.data=pp.initialize_data(g, {}, 'flow', parameters)\n",
    "        self.method=method\n",
    "        self.Nx=g.num_cells\n",
    "    \n",
    "    def set_source(self):\n",
    "        f=np.zeros(self.Nx)\n",
    "        f_lambda=self.data[pp.PARAMETERS][\"flow\"][\"f_lambda\"]\n",
    "        for i in range(self.g.num_cells):\n",
    "            f[i]=0.01*f_lambda(self.g.cell_centers[0,i],self.g.cell_centers[1,i],self.g.cell_centers[2,i])\n",
    "        self.data[pp.PARAMETERS]['flow'][\"source\"]=f\n",
    "        \n",
    "        \n",
    "    \n",
    "    def solve(self):\n",
    "        if(self.method==\"Tpfa\"):\n",
    "            print(\"Tpfa\")\n",
    "            flow_discretization = pp.Tpfa(\"flow\")\n",
    "        elif(self.method==\"Mpfa\"):\n",
    "            flow_discretization = pp.Mpfa(\"flow\")\n",
    "        elif(self.method==\"MVEM\"):\n",
    "            print(self.method)\n",
    "            flow_discretization = pp.MVEM(\"flow\")\n",
    "    \n",
    "        flow_discretization.discretize(self.g, self.data)\n",
    "        A, b_flow = flow_discretization.assemble_matrix_rhs(self.g, self.data)\n",
    "        \n",
    "        self.data[pp.PARAMETERS][\"flow\"] \n",
    "        if(self.method==\"MVEM\"):\n",
    "            rhs_discretization = pp.DualScalarSource(\"flow\")\n",
    "        else:\n",
    "            rhs_discretization = pp.ScalarSource(\"flow\")\n",
    "        \n",
    "        rhs_discretization.discretize(self.g, self.data)\n",
    "        _, b_rhs = rhs_discretization.assemble_matrix_rhs(self.g, self.data)\n",
    "        \n",
    "        if(self.method==\"MVEM\"):\n",
    "            up = sps.linalg.spsolve(A, b_flow+b_rhs)\n",
    "            p=flow_discretization.extract_pressure(self.g, up, self.data)\n",
    "        else:\n",
    "            p = sps.linalg.spsolve(A, b_flow+b_rhs)\n",
    "        return p\n",
    "    \n",
    "    def print_pressure(self,p):\n",
    "        pp.plot_grid(self.g,p,figsize=(15,12))\n",
    " \n",
    "            \n",
    "        \n",
    "\n",
    "    \n",
    "         \n",
    "        \n",
    "        "
   ]
  },
  {
   "cell_type": "code",
   "execution_count": null,
   "id": "6bdbdcb3",
   "metadata": {},
   "outputs": [],
   "source": []
  },
  {
   "cell_type": "code",
   "execution_count": null,
   "id": "acd9ea20",
   "metadata": {},
   "outputs": [],
   "source": []
  },
  {
   "cell_type": "code",
   "execution_count": null,
   "id": "6745071a",
   "metadata": {},
   "outputs": [],
   "source": []
  }
 ],
 "metadata": {
  "kernelspec": {
   "display_name": "Python 3",
   "language": "python",
   "name": "python3"
  },
  "language_info": {
   "codemirror_mode": {
    "name": "ipython",
    "version": 3
   },
   "file_extension": ".py",
   "mimetype": "text/x-python",
   "name": "python",
   "nbconvert_exporter": "python",
   "pygments_lexer": "ipython3",
   "version": "3.8.8"
  }
 },
 "nbformat": 4,
 "nbformat_minor": 5
}
