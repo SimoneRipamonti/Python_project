{
 "cells": [
  {
   "cell_type": "code",
   "execution_count": 1,
   "id": "ed40232d",
   "metadata": {},
   "outputs": [],
   "source": [
    "import numpy as np\n",
    "import scipy.sparse as sps\n",
    "import porepy as pp\n",
    "import math\n",
    "import sys\n",
    "import matplotlib.pyplot as plt"
   ]
  },
  {
   "cell_type": "code",
   "execution_count": 2,
   "id": "e035948b",
   "metadata": {},
   "outputs": [
    {
     "ename": "IndentationError",
     "evalue": "unindent does not match any outer indentation level (<tokenize>, line 11)",
     "output_type": "error",
     "traceback": [
      "\u001b[0;36m  File \u001b[0;32m\"<tokenize>\"\u001b[0;36m, line \u001b[0;32m11\u001b[0m\n\u001b[0;31m    def compute_rd(self,tracer,rd):\u001b[0m\n\u001b[0m    ^\u001b[0m\n\u001b[0;31mIndentationError\u001b[0m\u001b[0;31m:\u001b[0m unindent does not match any outer indentation level\n"
     ]
    }
   ],
   "source": [
    "class Reaction:\n",
    "    #def __init__(self,parameters=None):\n",
    "        #if not parameters:\n",
    "            #parameters={}\n",
    "        #self.parameters=parameters\n",
    "        #self.const_rate=None\n",
    "        #self.ph=parameters[\"ph\"]\n",
    "        #self.phi=parameters[\"mass_weight\"]\n",
    "        #self.K_eq=parameters[\"K_eq\"]\n",
    "    def __init__(self,parameters=None):\n",
    "        if not parameters:\n",
    "            parameters={}\n",
    "        \n",
    "        self.data=parameters\n",
    "        self.const_rate=None\n",
    "        \n",
    "    def compute_rd(self,tracer,rd):\n",
    "        data=self.data\n",
    "        ph=data[\"ph\"]\n",
    "        #phi=data[\"mass_weight\"]\n",
    "        K_eq=data[\"K_eq\"]\n",
    "        p=np.power(tracer,2)/(K_eq*math.pow(10,-2*ph))\n",
    "        for i in range(tracer.size):\n",
    "            rd[i]=self.const_rate*max((1.0-p[i]),0.0)\n",
    "        return rd\n",
    "    \n",
    "    def set_const_rate(self):\n",
    "        \n",
    "        data=self.data\n",
    "        A=data[\"A\"]\n",
    "        const=data[\"rate_const\"]\n",
    "        E=data[\"E\"]\n",
    "        R=data[\"R\"]\n",
    "        temperature=data[\"temperature\"]\n",
    "        \n",
    "        self.const_rate=A*const*math.exp(-E/(R*temperature))\n",
    "            \n",
    "    \n",
    "    def compute_rd_6_reagents(self,Ca,SiO2,H_piu,CaSiO3,rd,rhs_mass_psi1):\n",
    "        data=self.data\n",
    "        porosity=data[\"porosity\"]\n",
    "        kd=data[\"kd\"]\n",
    "        K_sol=data[\"K_sol\"]\n",
    "        omega=np.zeros(rd.size)\n",
    "        for i in range(rd.size):\n",
    "            omega[i]=Ca[i]*SiO2[i]/(H_piu[i]*H_piu[i])\n",
    "            omega/=K_sol\n",
    "            rd[i]=kd*max((1-omega[i]),0.0)*CaSiO3[i]\n",
    "        rd=rhs_mass_psi1*rd\n",
    "        return rd\n",
    "    \n",
    "    \n",
    "            \n",
    "                    "
   ]
  },
  {
   "cell_type": "code",
   "execution_count": null,
   "id": "5669205c",
   "metadata": {},
   "outputs": [],
   "source": []
  },
  {
   "cell_type": "code",
   "execution_count": null,
   "id": "cef83d44",
   "metadata": {},
   "outputs": [],
   "source": []
  },
  {
   "cell_type": "code",
   "execution_count": null,
   "id": "f571c648",
   "metadata": {},
   "outputs": [],
   "source": []
  },
  {
   "cell_type": "code",
   "execution_count": null,
   "id": "db00d126",
   "metadata": {},
   "outputs": [],
   "source": []
  },
  {
   "cell_type": "code",
   "execution_count": null,
   "id": "fbe54cca",
   "metadata": {},
   "outputs": [],
   "source": []
  },
  {
   "cell_type": "code",
   "execution_count": null,
   "id": "2df7e334",
   "metadata": {},
   "outputs": [],
   "source": []
  }
 ],
 "metadata": {
  "kernelspec": {
   "display_name": "Python 3 (ipykernel)",
   "language": "python",
   "name": "python3"
  },
  "language_info": {
   "codemirror_mode": {
    "name": "ipython",
    "version": 3
   },
   "file_extension": ".py",
   "mimetype": "text/x-python",
   "name": "python",
   "nbconvert_exporter": "python",
   "pygments_lexer": "ipython3",
   "version": "3.8.8"
  }
 },
 "nbformat": 4,
 "nbformat_minor": 5
}
