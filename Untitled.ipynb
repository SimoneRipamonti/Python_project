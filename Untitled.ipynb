{
 "cells": [
  {
   "cell_type": "code",
   "execution_count": 1,
   "id": "9642d43a",
   "metadata": {},
   "outputs": [],
   "source": [
    "import numpy as np\n",
    "import porepy as pp"
   ]
  },
  {
   "cell_type": "code",
   "execution_count": 2,
   "id": "462cf6db",
   "metadata": {},
   "outputs": [],
   "source": [
    "a=np.zeros(10)"
   ]
  },
  {
   "cell_type": "code",
   "execution_count": 3,
   "id": "759c307b",
   "metadata": {},
   "outputs": [],
   "source": [
    "a[0]=1\n",
    "a[2]=1\n",
    "a[3]=2\n",
    "a[5]=1\n",
    "a[6]=5\n",
    "a[7]=-1\n",
    "a[8]=10"
   ]
  },
  {
   "cell_type": "code",
   "execution_count": 4,
   "id": "2195d3ad",
   "metadata": {},
   "outputs": [
    {
     "data": {
      "text/plain": [
       "array([False, False, False, False, False, False,  True,  True,  True,\n",
       "       False])"
      ]
     },
     "execution_count": 4,
     "metadata": {},
     "output_type": "execute_result"
    }
   ],
   "source": [
    "np.logical_or(a<0,a>4)"
   ]
  },
  {
   "cell_type": "code",
   "execution_count": 5,
   "id": "3af1a048",
   "metadata": {},
   "outputs": [
    {
     "data": {
      "text/plain": [
       "array([ True, False,  True, False, False,  True,  True,  True,  True,\n",
       "       False])"
      ]
     },
     "execution_count": 5,
     "metadata": {},
     "output_type": "execute_result"
    }
   ],
   "source": [
    "np.logical_or(np.logical_or(a<0,a>4),a==1)"
   ]
  },
  {
   "cell_type": "code",
   "execution_count": 6,
   "id": "e8aa56dc",
   "metadata": {},
   "outputs": [
    {
     "data": {
      "text/plain": [
       "array([ True, False,  True,  True, False,  True,  True,  True,  True,\n",
       "       False])"
      ]
     },
     "execution_count": 6,
     "metadata": {},
     "output_type": "execute_result"
    }
   ],
   "source": [
    "np.logical_or(np.logical_or(np.logical_or(a<0,a>4),a==1),a==2)"
   ]
  },
  {
   "cell_type": "code",
   "execution_count": 7,
   "id": "f646c73b",
   "metadata": {},
   "outputs": [
    {
     "name": "stderr",
     "output_type": "stream",
     "text": [
      "/home/dell/anaconda3/lib/python3.8/site-packages/porepy/viz/plot_grid.py:241: UserWarning: Attempting to set identical bottom == top == 0.0 results in singular transformations; automatically expanding.\n",
      "  ax.set_zlim3d(z)\n"
     ]
    },
    {
     "data": {
      "image/png": "[encoded data removed]",
      "text/plain": [
       "<Figure size 1080x864 with 1 Axes>"
      ]
     },
     "metadata": {
      "needs_background": "light"
     },
     "output_type": "display_data"
    }
   ],
   "source": [
    "Nx=4\n",
    "Ny=4\n",
    "phys_dims=[1,1]\n",
    "g=pp.CartGrid([Nx,Ny],phys_dims)\n",
    "g.compute_geometry()\n",
    "pp.plot_grid(g,figsize=(15,12))"
   ]
  },
  {
   "cell_type": "code",
   "execution_count": 8,
   "id": "280a6d22",
   "metadata": {},
   "outputs": [
    {
     "name": "stdout",
     "output_type": "stream",
     "text": [
      "[0.125 0.    0.    0.    1.125 0.375 0.    0.    0.    1.375 0.625 0.\n",
      " 0.    0.    1.625 0.875 0.    0.    0.    1.875 0.125 0.375 0.625 0.875\n",
      " 0.    0.    0.    0.    0.    0.    0.    0.    0.    0.    0.    0.\n",
      " 1.125 1.375 1.625 1.875]\n"
     ]
    }
   ],
   "source": [
    "tol=1e-4\n",
    "b_faces=g.tags[\"domain_boundary_faces\"].nonzero()[0]\n",
    "bc_val=np.zeros(g.num_faces)\n",
    "\n",
    "#source=self.data[pp.PARAMETERS][\"flow\"][\"source\"]\n",
    "source=lambda x,y,z:x+y+z\n",
    "\n",
    "b_face_centers=g.face_centers[:,b_faces]\n",
    "for i in range(b_faces.size):\n",
    "    bc_val[b_faces[i]]=source(b_face_centers[0,i],b_face_centers[1,i],b_face_centers[2,i])\n",
    "    #b_boundary=np.logical_or(np.logical_or(np.logical_or(b_face_centers[0,:]<tol,b_face_centers[0,:]>1-tol),b_face_centers[1,:]<tol),b_face_centers[1,:]>1-tol)\n",
    "    #b_bottom=b_face_centers[0,:]<tol\n",
    "    #b_top=b_face_centers[0,:]>1-tol\n",
    "    #b_left=b_face_centers[:,0]<tol\n",
    "    #b_right=b_face_centers[:,0]>1-tol\n",
    "#print(b_faces)\n",
    "print(bc_val)\n",
    "#print(b_boundary)    \n",
    "#print(\"b_bottom\")\n",
    "#print(b_bottom)   \n",
    "#print(b_top)\n",
    "#print(b_left)\n",
    "#print(\"b_face_centers:\")\n",
    "#print(b_face_centers)\n",
    "#print(\"b_bottom\")\n",
    "#print(b_face_centers[:,0])\n",
    "#print(\"b_left\")\n",
    "#print(b_face_centers[0,:])\n",
    "#print(\"b_faces_size\")\n",
    "#print(b_face_centers.shape)"
   ]
  }
 ],
 "metadata": {
  "kernelspec": {
   "display_name": "Python 3",
   "language": "python",
   "name": "python3"
  },
  "language_info": {
   "codemirror_mode": {
    "name": "ipython",
    "version": 3
   },
   "file_extension": ".py",
   "mimetype": "text/x-python",
   "name": "python",
   "nbconvert_exporter": "python",
   "pygments_lexer": "ipython3",
   "version": "3.8.8"
  }
 },
 "nbformat": 4,
 "nbformat_minor": 5
}
