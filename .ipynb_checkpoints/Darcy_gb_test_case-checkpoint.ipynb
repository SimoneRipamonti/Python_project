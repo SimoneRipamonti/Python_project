{
 "cells": [
  {
   "cell_type": "code",
   "execution_count": 1,
   "id": "7f722333",
   "metadata": {},
   "outputs": [],
   "source": [
    "import numpy as np\n",
    "import scipy.sparse as sps\n",
    "import porepy as pp\n",
    "import math\n",
    "import matplotlib.pyplot as plt"
   ]
  },
  {
   "cell_type": "code",
   "execution_count": 2,
   "id": "a9c4bed9",
   "metadata": {},
   "outputs": [],
   "source": [
    "import sys\n",
    "sys.path.append(\"./class\")\n",
    "from Flow_class import Flow"
   ]
  },
  {
   "cell_type": "code",
   "execution_count": 3,
   "id": "ffa7fee1",
   "metadata": {},
   "outputs": [],
   "source": [
    "Nx=100\n",
    "Ny=1"
   ]
  },
  {
   "cell_type": "code",
   "execution_count": 4,
   "id": "bede7e28",
   "metadata": {},
   "outputs": [],
   "source": [
    "gb=pp.meshing.cart_grid(fracs=[],nx=[Nx,Ny],physdims=[0.045,0.045])\n",
    "domain={\"xmin\":0.0,\n",
    "       \"xmax\":0.045,,\n",
    "       \"ymin\":0.0,\n",
    "       \"ymax\":0.045}"
   ]
  },
  {
   "cell_type": "code",
   "execution_count": 5,
   "id": "65744da8",
   "metadata": {},
   "outputs": [
    {
     "data": {
      "image/png": "[encoded data removed]",
      "text/plain": [
       "<Figure size 432x288 with 1 Axes>"
      ]
     },
     "metadata": {
      "needs_background": "light"
     },
     "output_type": "display_data"
    }
   ],
   "source": [
    "pp.plot_grid(gb)"
   ]
  },
  {
   "cell_type": "code",
   "execution_count": 6,
   "id": "4ba9b726",
   "metadata": {},
   "outputs": [],
   "source": [
    "tol=1e-5"
   ]
  },
  {
   "cell_type": "code",
   "execution_count": 7,
   "id": "49386a2c",
   "metadata": {},
   "outputs": [],
   "source": [
    "parameter={\"aperture\":1e-3,\n",
    "          \"fracture_perm\":1e-5,\n",
    "          \"perm\":1,\n",
    "          \"f_lambda\":lambda x,y,z:0.0,\n",
    "          \"bc_value\":[0.0,0.0],\n",
    "          \"bc_type\":['dir','dir'],\n",
    "          \"method\":\"Tpfa\"}"
   ]
  },
  {
   "cell_type": "code",
   "execution_count": 8,
   "id": "10ece812",
   "metadata": {},
   "outputs": [
    {
     "ename": "TypeError",
     "evalue": "__init__() missing 1 required positional argument: 'parameter'",
     "output_type": "error",
     "traceback": [
      "\u001b[0;31m---------------------------------------------------------------------------\u001b[0m",
      "\u001b[0;31mTypeError\u001b[0m                                 Traceback (most recent call last)",
      "\u001b[0;32m<ipython-input-8-c68c67b05e18>\u001b[0m in \u001b[0;36m<module>\u001b[0;34m\u001b[0m\n\u001b[0;32m----> 1\u001b[0;31m \u001b[0mflow\u001b[0m\u001b[0;34m=\u001b[0m\u001b[0mFlow\u001b[0m\u001b[0;34m(\u001b[0m\u001b[0mgb\u001b[0m\u001b[0;34m,\u001b[0m\u001b[0mparameter\u001b[0m\u001b[0;34m)\u001b[0m\u001b[0;34m\u001b[0m\u001b[0;34m\u001b[0m\u001b[0m\n\u001b[0m",
      "\u001b[0;31mTypeError\u001b[0m: __init__() missing 1 required positional argument: 'parameter'"
     ]
    }
   ],
   "source": [
    "flow=Flow(gb,parameter)"
   ]
  },
  {
   "cell_type": "code",
   "execution_count": null,
   "id": "40b18276",
   "metadata": {},
   "outputs": [],
   "source": [
    "flow.set_data()\n",
    "flow.discretize()\n",
    "flow.solve()\n",
    "flow.plot_pressure()"
   ]
  },
  {
   "cell_type": "code",
   "execution_count": null,
   "id": "dc80ee91",
   "metadata": {},
   "outputs": [],
   "source": [
    "flow.get_flux()\n",
    "for g,d in gb:\n",
    "    print(d[pp.PARAMETERS][\"flow\"][\"darcy_flux\"])"
   ]
  },
  {
   "cell_type": "code",
   "execution_count": null,
   "id": "8ea612b7",
   "metadata": {},
   "outputs": [],
   "source": []
  }
 ],
 "metadata": {
  "kernelspec": {
   "display_name": "Python 3",
   "language": "python",
   "name": "python3"
  },
  "language_info": {
   "codemirror_mode": {
    "name": "ipython",
    "version": 3
   },
   "file_extension": ".py",
   "mimetype": "text/x-python",
   "name": "python",
   "nbconvert_exporter": "python",
   "pygments_lexer": "ipython3",
   "version": "3.8.8"
  }
 },
 "nbformat": 4,
 "nbformat_minor": 5
}
