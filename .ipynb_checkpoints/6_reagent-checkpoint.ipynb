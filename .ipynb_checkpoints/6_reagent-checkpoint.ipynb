{
 "cells": [
  {
   "cell_type": "code",
   "execution_count": 1,
   "id": "1b307116",
   "metadata": {},
   "outputs": [],
   "source": [
    "import numpy as np\n",
    "import scipy.sparse as sps\n",
    "import porepy as pp"
   ]
  },
  {
   "cell_type": "code",
   "execution_count": 2,
   "id": "970e2b12",
   "metadata": {},
   "outputs": [
    {
     "name": "stderr",
     "output_type": "stream",
     "text": [
      "/home/dell/.local/lib/python3.8/site-packages/scipy/sparse/linalg/dsolve/linsolve.py:318: SparseEfficiencyWarning: splu requires CSC matrix format\n",
      "  warn('splu requires CSC matrix format', SparseEfficiencyWarning)\n"
     ]
    }
   ],
   "source": [
    "import sys\n",
    "sys.path.append(\".\")\n",
    "from Transport_class import Transport\n",
    "from Reaction_class import Reaction\n",
    "from Concentrations import Concentrations"
   ]
  },
  {
   "cell_type": "code",
   "execution_count": 3,
   "id": "419cb9a2",
   "metadata": {},
   "outputs": [],
   "source": [
    "#QUESTIONE DATI\n",
    "Nx=100\n",
    "Nt=10000\n",
    "L=0.045\n",
    "h=L/Nx\n",
    "phys_dims=[L]\n",
    "g=pp.CartGrid([Nx],phys_dims)\n",
    "g.compute_geometry()\n",
    "#pp.plot_grid(g,figsize=(15,12))\n",
    "#pp.plot_grid(g)"
   ]
  },
  {
   "cell_type": "code",
   "execution_count": 4,
   "id": "0ea2ad44",
   "metadata": {},
   "outputs": [],
   "source": [
    "psi1=np.zeros(Nx)\n",
    "psi2=np.zeros(Nx)\n",
    "psi3=np.zeros(Nx)\n",
    "psi4=np.zeros(Nx)\n",
    "psi5=np.zeros(Nx)\n",
    "psi6=np.zeros(Nx)\n",
    "\n",
    "rd=np.zeros(Nx)"
   ]
  },
  {
   "cell_type": "code",
   "execution_count": 5,
   "id": "a983b5eb",
   "metadata": {},
   "outputs": [],
   "source": [
    "unity = np.ones(g.num_cells)\n",
    "porosity=0.3*unity\n",
    "aperture=1"
   ]
  },
  {
   "cell_type": "code",
   "execution_count": 6,
   "id": "6aff32d8",
   "metadata": {},
   "outputs": [],
   "source": [
    "reaction_data={\"kd\":1.83e-7,\n",
    "               \"K_eq\":4.45e-7,\n",
    "               \"K_sol\":10e9}"
   ]
  },
  {
   "cell_type": "code",
   "execution_count": 7,
   "id": "5cd30039",
   "metadata": {},
   "outputs": [],
   "source": [
    "reaction=Reaction(g,reaction_data)"
   ]
  },
  {
   "cell_type": "code",
   "execution_count": 8,
   "id": "d4e0e24e",
   "metadata": {},
   "outputs": [],
   "source": [
    "K_eq=reaction.data[pp.PARAMETERS][\"reaction\"][\"K_eq\"]"
   ]
  },
  {
   "cell_type": "code",
   "execution_count": 9,
   "id": "59f6ba60",
   "metadata": {},
   "outputs": [],
   "source": [
    "bc_type_Ca=[\"dir\",\"dir\"]\n",
    "bc_value_Ca=[0.,0.]\n",
    "#init_cond_Ca=lambda x,y,z:int(x<0.5)\n",
    "init_cond_Ca=lambda x,y,z:0.0\n",
    "\n",
    "bc_type_CaSiO3=[\"dir\",\"dir\"]\n",
    "bc_value_CaSiO3=[0.,0.]\n",
    "#init_cond_CaSiO3=lambda x,y,z:int(x<0.5)\n",
    "init_cond_CaSiO3=lambda x,y,z:1.0\n",
    "\n",
    "bc_type_CO2=[\"dir\",\"dir\"]\n",
    "bc_value_CO2=[0.3691108,0.]\n",
    "#init_cond_Ca=lambda x,y,z:int(x<0.5)\n",
    "init_cond_CO2=lambda x,y,z:1.0e-3\n",
    "\n",
    "bc_type_SiO2=[\"dir\",\"dir\"]\n",
    "bc_value_SiO2=[0.,0.]\n",
    "#init_cond_Ca=lambda x,y,z:int(x<0.5)\n",
    "init_cond_SiO2=lambda x,y,z:0.0\n",
    "\n",
    "bc_type_H_piu=[\"dir\",\"dir\"]\n",
    "bc_value_H_piu=[1.0e-5,0.]\n",
    "#init_cond_Ca=lambda x,y,z:int(x<0.5)\n",
    "init_cond_H_piu=lambda x,y,z:1.0e-7\n",
    "\n",
    "\n",
    "\n",
    "bc_HCO3_in=K_eq*bc_value_CO2[0]/bc_value_H_piu[0]\n",
    "bc_HCO3_out=K_eq*bc_value_CO2[1]/bc_value_H_piu[1]\n",
    "\n",
    "bc_type_HCO3=[\"dir\",\"dir\"]\n",
    "bc_value_HCO3=[bc_HCO3_in,bc_HCO3_out]\n",
    "#init_cond_Ca=lambda x,y,z:int(x<0.5)\n",
    "init_cond_HCO3=lambda x,y,z:0.0"
   ]
  },
  {
   "cell_type": "code",
   "execution_count": 10,
   "id": "b074dd66",
   "metadata": {},
   "outputs": [],
   "source": [
    "data_6reagents = {\"bc_type_Ca\": bc_type_Ca,\n",
    "            \"bc_value_Ca\": bc_value_Ca,\n",
    "            \"bc_type_CO2\": bc_type_Ca,\n",
    "            \"bc_value_CO2\": bc_value_Ca,\n",
    "            \"bc_type_HCO3\": bc_type_Ca,\n",
    "            \"bc_value_HCO3\": bc_value_Ca,\n",
    "            \"bc_type_CaSiO3\": bc_type_Ca,\n",
    "            \"bc_value_CaSiO3\": bc_value_Ca,\n",
    "            \"bc_type_SiO2\": bc_type_Ca,\n",
    "            \"bc_value_SiO2\": bc_value_Ca,\n",
    "            \"bc_type_H_piu\": bc_type_Ca,\n",
    "            \"bc_value_H_piu\": bc_value_Ca,\n",
    "            \"time_step\": 34.56,\n",
    "            \"mass_weight\": porosity * aperture,\n",
    "            \"darcy_flux\":np.zeros(Nx+1),\n",
    "            \"t_max\": 345600,\n",
    "            \"method\": \"Implicit\",\n",
    "            \"lambda_lin_decay\":0,\n",
    "            \"init_cond_Ca\":init_cond_Ca,\n",
    "            \"init_cond_CO2\":init_cond_CO2,\n",
    "            \"init_cond_CaSiO3\":init_cond_CaSiO3,\n",
    "            \"init_cond_SiO2\":init_cond_SiO2,\n",
    "            \"init_cond_HCO3\":init_cond_HCO3,\n",
    "            \"init_cond_H_piu\":init_cond_H_piu,}"
   ]
  },
  {
   "cell_type": "code",
   "execution_count": 11,
   "id": "7e6083f4",
   "metadata": {},
   "outputs": [],
   "source": [
    "concentrations=Concentrations(g,Nx,Nt,data_6reagents)"
   ]
  },
  {
   "cell_type": "code",
   "execution_count": 12,
   "id": "53e11e85",
   "metadata": {},
   "outputs": [],
   "source": [
    "concentrations.set_initial_cond(K_eq)"
   ]
  },
  {
   "cell_type": "code",
   "execution_count": 13,
   "id": "e87aea44",
   "metadata": {},
   "outputs": [],
   "source": [
    "bc_psi1,bc_psi2,bc_psi3,bc_psi4,bc_psi5=concentrations.set_bc_psi()"
   ]
  },
  {
   "cell_type": "code",
   "execution_count": 14,
   "id": "db3d6d34",
   "metadata": {},
   "outputs": [],
   "source": [
    "data_reagent_psi1= {\n",
    "            \"bc_type\": bc_type_Ca,\n",
    "            \"bc_value\": bc_psi1,\n",
    "            \"time_step\": 0.01,\n",
    "            \"mass_weight\": porosity * aperture,\n",
    "            \"darcy_flux\":np.ones(Nx+1),\n",
    "            \"t_max\": 1.0,\n",
    "            \"lambda_lin_decay\":0.,\n",
    "            \"method\": \"Implicit\",\n",
    "}\n",
    "\n",
    "data_reagent_psi2= {\n",
    "            \"bc_type\": bc_type_H_piu,\n",
    "            \"bc_value\": bc_psi2,\n",
    "            \"time_step\": 0.01,\n",
    "            \"mass_weight\": porosity * aperture,\n",
    "            \"darcy_flux\":np.ones(Nx+1),\n",
    "            \"t_max\": 1.0,\n",
    "            \"lambda_lin_decay\":0.,\n",
    "            \"method\": \"Implicit\",\n",
    "}\n",
    "\n",
    "data_reagent_psi3= {\n",
    "            \"bc_type\": bc_type_CO2,\n",
    "            \"bc_value\": bc_psi3,\n",
    "            \"time_step\": 0.01,\n",
    "            \"mass_weight\": porosity * aperture,\n",
    "            \"darcy_flux\":np.ones(Nx+1),\n",
    "            \"t_max\": 1.0,\n",
    "            \"lambda_lin_decay\":0.,\n",
    "            \"method\": \"Implicit\",\n",
    "}\n",
    "\n",
    "data_reagent_psi4= {\n",
    "            \"bc_type\": bc_type_CaSiO3,\n",
    "            \"bc_value\": bc_psi4,\n",
    "            \"time_step\": 0.01,\n",
    "            \"mass_weight\": porosity * aperture,\n",
    "            \"darcy_flux\":np.ones(Nx+1),\n",
    "            \"t_max\": 1.0,\n",
    "            \"lambda_lin_decay\":0.,\n",
    "            \"method\": \"Implicit\",\n",
    "}\n",
    "\n",
    "data_reagent_psi5= {\n",
    "            \"bc_type\": bc_type_SiO2,\n",
    "            \"bc_value\": bc_psi5,\n",
    "            \"time_step\": 0.01,\n",
    "            \"mass_weight\": porosity * aperture,\n",
    "            \"darcy_flux\":np.ones(Nx+1),\n",
    "            \"t_max\": 1.0,\n",
    "            \"lambda_lin_decay\":0.,\n",
    "            \"method\": \"Implicit\",\n",
    "}"
   ]
  },
  {
   "cell_type": "code",
   "execution_count": 15,
   "id": "0a7d6521",
   "metadata": {},
   "outputs": [
    {
     "name": "stdout",
     "output_type": "stream",
     "text": [
      "{'discretization_matrices': {'transport': {}}, 'parameters': Data object for physical processes transport\n",
      "The keyword \"transport\" has the following parameters specified: bc_type, bc_value, time_step, mass_weight, darcy_flux, t_max, lambda_lin_decay, method}\n"
     ]
    }
   ],
   "source": [
    "psi1_transport=Transport(g,data_reagent_psi1)\n",
    "print(psi1_transport.data)\n",
    "psi1_transport.set_bc()\n",
    "psi1_lhs,psi1_rhs_b,psi1_rhs_matrix=psi1_transport.get_transport_lhs_rhs()\n",
    "\n",
    "psi2_transport=Transport(g,data_reagent_psi2)\n",
    "psi2_transport.set_bc()\n",
    "psi2_lhs,psi2_rhs_b,psi2_rhs_matrix=psi2_transport.get_transport_lhs_rhs()\n",
    "\n",
    "psi3_transport=Transport(g,data_reagent_psi3)\n",
    "psi3_transport.set_bc()\n",
    "psi3_lhs,psi3_rhs_b,psi3_rhs_matrix=psi3_transport.get_transport_lhs_rhs()\n",
    "\n",
    "psi4_transport=Transport(g,data_reagent_psi4)\n",
    "psi4_transport.set_bc()\n",
    "psi4_lhs,psi4_rhs_b,psi4_rhs_matrix=psi4_transport.get_transport_lhs_rhs()\n",
    "\n",
    "psi5_transport=Transport(g,data_reagent_psi5)\n",
    "psi5_transport.set_bc()\n",
    "psi5_lhs,psi5_rhs_b,psi5_rhs_matrix=psi5_transport.get_transport_lhs_rhs()"
   ]
  },
  {
   "cell_type": "code",
   "execution_count": 16,
   "id": "272b1ca4",
   "metadata": {},
   "outputs": [],
   "source": [
    "n_steps = int(np.round(psi1_transport.data[pp.PARAMETERS][\"transport\"][\"t_max\"] / psi1_transport.data[pp.PARAMETERS][\"transport\"][\"time_step\"]))"
   ]
  },
  {
   "cell_type": "code",
   "execution_count": 17,
   "id": "b299d495",
   "metadata": {},
   "outputs": [
    {
     "name": "stderr",
     "output_type": "stream",
     "text": [
      "/home/dell/Scrivania/Python_project/Concentrations.py:113: RuntimeWarning: invalid value encountered in double_scalars\n",
      "  err=np.linalg.norm(dx)/np.linalg.norm(old_it)\n",
      "/home/dell/Scrivania/Python_project/Reaction_class.py:77: RuntimeWarning: invalid value encountered in double_scalars\n",
      "  omega[i]=Ca[i]*SiO2[i]/(H_piu[i]*H_piu[i])\n"
     ]
    },
    {
     "name": "stdout",
     "output_type": "stream",
     "text": [
      "[0. 0. 0. 0. 0. 0. 0. 0. 0. 0. 0. 0. 0. 0. 0. 0. 0. 0. 0. 0. 0. 0. 0. 0.\n",
      " 0. 0. 0. 0. 0. 0. 0. 0. 0. 0. 0. 0. 0. 0. 0. 0. 0. 0. 0. 0. 0. 0. 0. 0.\n",
      " 0. 0. 0. 0. 0. 0. 0. 0. 0. 0. 0. 0. 0. 0. 0. 0. 0. 0. 0. 0. 0. 0. 0. 0.\n",
      " 0. 0. 0. 0. 0. 0. 0. 0. 0. 0. 0. 0. 0. 0. 0. 0. 0. 0. 0. 0. 0. 0. 0. 0.\n",
      " 0. 0. 0. 0.]\n",
      "[0. 0. 0. 0. 0. 0. 0. 0. 0. 0. 0. 0. 0. 0. 0. 0. 0. 0. 0. 0. 0. 0. 0. 0.\n",
      " 0. 0. 0. 0. 0. 0. 0. 0. 0. 0. 0. 0. 0. 0. 0. 0. 0. 0. 0. 0. 0. 0. 0. 0.\n",
      " 0. 0. 0. 0. 0. 0. 0. 0. 0. 0. 0. 0. 0. 0. 0. 0. 0. 0. 0. 0. 0. 0. 0. 0.\n",
      " 0. 0. 0. 0. 0. 0. 0. 0. 0. 0. 0. 0. 0. 0. 0. 0. 0. 0. 0. 0. 0. 0. 0. 0.\n",
      " 0. 0. 0. 0.]\n",
      "[0. 0. 0. 0. 0. 0. 0. 0. 0. 0. 0. 0. 0. 0. 0. 0. 0. 0. 0. 0. 0. 0. 0. 0.\n",
      " 0. 0. 0. 0. 0. 0. 0. 0. 0. 0. 0. 0. 0. 0. 0. 0. 0. 0. 0. 0. 0. 0. 0. 0.\n",
      " 0. 0. 0. 0. 0. 0. 0. 0. 0. 0. 0. 0. 0. 0. 0. 0. 0. 0. 0. 0. 0. 0. 0. 0.\n",
      " 0. 0. 0. 0. 0. 0. 0. 0. 0. 0. 0. 0. 0. 0. 0. 0. 0. 0. 0. 0. 0. 0. 0. 0.\n",
      " 0. 0. 0. 0.]\n",
      "[0. 0. 0. 0. 0. 0. 0. 0. 0. 0. 0. 0. 0. 0. 0. 0. 0. 0. 0. 0. 0. 0. 0. 0.\n",
      " 0. 0. 0. 0. 0. 0. 0. 0. 0. 0. 0. 0. 0. 0. 0. 0. 0. 0. 0. 0. 0. 0. 0. 0.\n",
      " 0. 0. 0. 0. 0. 0. 0. 0. 0. 0. 0. 0. 0. 0. 0. 0. 0. 0. 0. 0. 0. 0. 0. 0.\n",
      " 0. 0. 0. 0. 0. 0. 0. 0. 0. 0. 0. 0. 0. 0. 0. 0. 0. 0. 0. 0. 0. 0. 0. 0.\n",
      " 0. 0. 0. 0.]\n",
      "[0. 0. 0. 0. 0. 0. 0. 0. 0. 0. 0. 0. 0. 0. 0. 0. 0. 0. 0. 0. 0. 0. 0. 0.\n",
      " 0. 0. 0. 0. 0. 0. 0. 0. 0. 0. 0. 0. 0. 0. 0. 0. 0. 0. 0. 0. 0. 0. 0. 0.\n",
      " 0. 0. 0. 0. 0. 0. 0. 0. 0. 0. 0. 0. 0. 0. 0. 0. 0. 0. 0. 0. 0. 0. 0. 0.\n",
      " 0. 0. 0. 0. 0. 0. 0. 0. 0. 0. 0. 0. 0. 0. 0. 0. 0. 0. 0. 0. 0. 0. 0. 0.\n",
      " 0. 0. 0. 0.]\n"
     ]
    }
   ],
   "source": [
    "for i in range(1,n_steps+1,1):\n",
    "    concentrations.compute_psi(i-1,psi1,psi2,psi3,psi4,psi5)\n",
    "    rd=reaction.compute_rd_6_reagents(concentrations.Ca[:,i-1],concentrations.SiO2[:,i-1],concentrations.H_piu[:,i-1],concentrations.CaSiO3[:,i-1],rd)\n",
    "    concentrations.one_step_transport_reaction(psi1,psi2,psi3,psi4,psi5,\n",
    "                                               psi1_lhs,psi1_rhs_b,psi1_rhs_matrix,\n",
    "                                               psi2_lhs,psi2_rhs_b,psi2_rhs_matrix,\n",
    "                                               psi3_lhs,psi3_rhs_b,psi3_rhs_matrix,\n",
    "                                               psi4_lhs,psi4_rhs_b,psi4_rhs_matrix,\n",
    "                                               psi5_lhs,psi5_rhs_b,psi5_rhs_matrix,\n",
    "                                               rd,h\n",
    "                                              )\n",
    "    concentrations.compute_concentration(psi1,psi2,psi3,psi4,psi5,i,K_eq)\n",
    "\n",
    "print(psi1)\n",
    "print(psi2)\n",
    "print(psi3)\n",
    "print(psi4)\n",
    "print(psi5)\n",
    "    "
   ]
  },
  {
   "cell_type": "code",
   "execution_count": null,
   "id": "b5e0bfd1",
   "metadata": {},
   "outputs": [],
   "source": []
  },
  {
   "cell_type": "code",
   "execution_count": null,
   "id": "e3a7b4da",
   "metadata": {},
   "outputs": [],
   "source": []
  },
  {
   "cell_type": "code",
   "execution_count": null,
   "id": "f9a0f305",
   "metadata": {},
   "outputs": [],
   "source": []
  },
  {
   "cell_type": "code",
   "execution_count": null,
   "id": "36301d71",
   "metadata": {},
   "outputs": [],
   "source": []
  }
 ],
 "metadata": {
  "kernelspec": {
   "display_name": "Python 3",
   "language": "python",
   "name": "python3"
  },
  "language_info": {
   "codemirror_mode": {
    "name": "ipython",
    "version": 3
   },
   "file_extension": ".py",
   "mimetype": "text/x-python",
   "name": "python",
   "nbconvert_exporter": "python",
   "pygments_lexer": "ipython3",
   "version": "3.8.8"
  }
 },
 "nbformat": 4,
 "nbformat_minor": 5
}
