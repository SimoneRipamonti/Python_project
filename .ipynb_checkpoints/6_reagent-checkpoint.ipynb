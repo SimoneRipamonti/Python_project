{
 "cells": [
  {
   "cell_type": "code",
   "execution_count": 4,
   "id": "1b307116",
   "metadata": {},
   "outputs": [],
   "source": [
    "import numpy as np\n",
    "import scipy.sparse as sps\n",
    "import porepy as pp"
   ]
  },
  {
   "cell_type": "code",
   "execution_count": null,
   "id": "970e2b12",
   "metadata": {},
   "outputs": [],
   "source": [
    "import sys\n",
    "sys.path.append(\".\")\n",
    "from Transport_class import Transport\n",
    "from Reaction_class import Reaction\n",
    "from Concentrations import Concentrations"
   ]
  },
  {
   "cell_type": "code",
   "execution_count": 2,
   "id": "419cb9a2",
   "metadata": {},
   "outputs": [],
   "source": [
    "#QUESTIONE DATI\n",
    "Nx=100\n",
    "Nt=100\n",
    "h=1/Nx"
   ]
  },
  {
   "cell_type": "code",
   "execution_count": 5,
   "id": "0ea2ad44",
   "metadata": {},
   "outputs": [],
   "source": [
    "psi1=np.zeros(Nx)\n",
    "psi2=np.zeros(Nx)\n",
    "psi3=np.zeros(Nx)\n",
    "psi4=np.zeros(Nx)\n",
    "psi5=np.zeros(Nx)\n",
    "psi6=np.zeros(Nx)\n",
    "\n",
    "rd=np.zeros(Nx)"
   ]
  },
  {
   "cell_type": "code",
   "execution_count": null,
   "id": "59f6ba60",
   "metadata": {},
   "outputs": [],
   "source": [
    "bc_type_Ca=[\"dir\",\"dir\"]\n",
    "bc_value_Ca=[0.,0.]\n",
    "#init_cond_Ca=lambda x,y,z:int(x<0.5)\n",
    "init_cond_Ca=lambda x,y,z:0.0\n",
    "\n",
    "bc_type_CaSiO3=[\"dir\",\"dir\"]\n",
    "bc_value_CaSiO3=[0.,0.]\n",
    "#init_cond_CaSiO3=lambda x,y,z:int(x<0.5)\n",
    "init_cond_CaSiO3=lambda x,y,z:16.7504\n",
    "\n",
    "bc_type_CO2=[\"dir\",\"dir\"]\n",
    "bc_value_CO2=[0.,0.]\n",
    "#init_cond_Ca=lambda x,y,z:int(x<0.5)\n",
    "init_cond_CO2=lambda x,y,z:0.0\n",
    "\n",
    "bc_type_SiO2=[\"dir\",\"dir\"]\n",
    "bc_value_SiO2=[0.,0.]\n",
    "#init_cond_Ca=lambda x,y,z:int(x<0.5)\n",
    "init_cond_SiO2=lambda x,y,z:0.0\n",
    "\n",
    "bc_type_H_piu=[\"dir\",\"dir\"]\n",
    "bc_value_H_piu=[0.,0.]\n",
    "#init_cond_Ca=lambda x,y,z:int(x<0.5)\n",
    "init_cond_H_piu=lambda x,y,z:0.0\n",
    "\n",
    "bc_type_HCO3=[\"dir\",\"dir\"]\n",
    "bc_value_HCO3=[0.,0.]\n",
    "#init_cond_Ca=lambda x,y,z:int(x<0.5)\n",
    "init_cond_HCO3=lambda x,y,z:0.0"
   ]
  },
  {
   "cell_type": "code",
   "execution_count": 1,
   "id": "b074dd66",
   "metadata": {},
   "outputs": [
    {
     "ename": "SyntaxError",
     "evalue": "invalid syntax (<ipython-input-1-72fb9b520d8e>, line 20)",
     "output_type": "error",
     "traceback": [
      "\u001b[0;36m  File \u001b[0;32m\"<ipython-input-1-72fb9b520d8e>\"\u001b[0;36m, line \u001b[0;32m20\u001b[0m\n\u001b[0;31m    \"initial_cond_Ca\":init_cond_Ca\u001b[0m\n\u001b[0m    ^\u001b[0m\n\u001b[0;31mSyntaxError\u001b[0m\u001b[0;31m:\u001b[0m invalid syntax\n"
     ]
    }
   ],
   "source": [
    "data_6reagents = {\"bc_type_Ca\": bc_type_Ca,\n",
    "            \"bc_value_Ca\": bc_value_Ca,\n",
    "            \"bc_type_CO2\": bc_type_Ca,\n",
    "            \"bc_value_CO2\": bc_value_Ca,\n",
    "            \"bc_type_HCO3\": bc_type_Ca,\n",
    "            \"bc_value_HCO3\": bc_value_Ca,\n",
    "            \"bc_type_CaSiO3\": bc_type_Ca,\n",
    "            \"bc_value_CaSiO3\": bc_value_Ca,\n",
    "            \"bc_type_SiO2\": bc_type_Ca,\n",
    "            \"bc_value_SiO2\": bc_value_Ca,\n",
    "            \"bc_type_H_piu\": bc_type_Ca,\n",
    "            \"bc_value_H_piu\": bc_value_Ca,\n",
    "            \"time_step\": 34.56,\n",
    "            \"mass_weight\": porosity * aperture,\n",
    "            \"darcy_flux\":np.zeros(Nx+1),\n",
    "            \"t_max\": 345600,\n",
    "            \"method\": \"Implicit\",\n",
    "            \"lambda_lin_decay\":0,\n",
    "            \"initial_cond_Ca\":init_cond_Ca\n",
    "            \"initial_cond_CO2\":init_cond_CO2\n",
    "            \"initial_cond_CaSiO3\":init_cond_CaSiO3\n",
    "            \"initial_cond_SiO2\":init_cond_SiO2\n",
    "            \"initial_cond_HCO3\":init_cond_HCO3\n",
    "            \"initial_cond_H_piu\":init_cond_H_piu}"
   ]
  },
  {
   "cell_type": "code",
   "execution_count": null,
   "id": "7e6083f4",
   "metadata": {},
   "outputs": [],
   "source": [
    "Concentrations concentrations(Nx,Nt,data_6reagents)"
   ]
  },
  {
   "cell_type": "code",
   "execution_count": null,
   "id": "53e11e85",
   "metadata": {},
   "outputs": [],
   "source": [
    "concentrations.set_initial_cond()"
   ]
  },
  {
   "cell_type": "code",
   "execution_count": null,
   "id": "e87aea44",
   "metadata": {},
   "outputs": [],
   "source": [
    "bc_psi1,bc_psi2,bc_psi3,bc_psi4,bc_psi5=concentrations.set_bc_psi()"
   ]
  },
  {
   "cell_type": "code",
   "execution_count": null,
   "id": "db3d6d34",
   "metadata": {},
   "outputs": [],
   "source": [
    "data_reagent_psi1= {\n",
    "            \"bc_type\": bc_type_Ca,\n",
    "            \"bc_value\": bc_psi1,\n",
    "            \"time_step\": 0.01,\n",
    "            \"mass_weight\": porosity * aperture,\n",
    "            \"darcy_flux\":np.ones(Nx+1),\n",
    "            \"t_max\": 1.0,\n",
    "            \"method\": \"Implicit\",\n",
    "}\n",
    "\n",
    "data_reagent_psi2= {\n",
    "            \"bc_type\": bc_type_H_piu,\n",
    "            \"bc_value\": bc_psi2,\n",
    "            \"time_step\": 0.01,\n",
    "            \"mass_weight\": porosity * aperture,\n",
    "            \"darcy_flux\":np.ones(Nx+1),\n",
    "            \"t_max\": 1.0,\n",
    "            \"method\": \"Implicit\",\n",
    "}\n",
    "\n",
    "data_reagent_psi3= {\n",
    "            \"bc_type\": bc_type_CO2,\n",
    "            \"bc_value\": bc_psi3,\n",
    "            \"time_step\": 0.01,\n",
    "            \"mass_weight\": porosity * aperture,\n",
    "            \"darcy_flux\":np.ones(Nx+1),\n",
    "            \"t_max\": 1.0,\n",
    "            \"method\": \"Implicit\",\n",
    "}\n",
    "\n",
    "data_reagent_psi4= {\n",
    "            \"bc_type\": bc_type_CaSiO3,\n",
    "            \"bc_value\": bc_psi4,\n",
    "            \"time_step\": 0.01,\n",
    "            \"mass_weight\": porosity * aperture,\n",
    "            \"darcy_flux\":np.ones(Nx+1),\n",
    "            \"t_max\": 1.0,\n",
    "            \"method\": \"Implicit\",\n",
    "}\n",
    "\n",
    "data_reagent_psi5= {\n",
    "            \"bc_type\": bc_type_SiO2,\n",
    "            \"bc_value\": bc_psi5,\n",
    "            \"time_step\": 0.01,\n",
    "            \"mass_weight\": porosity * aperture,\n",
    "            \"darcy_flux\":np.ones(Nx+1),\n",
    "            \"t_max\": 1.0,\n",
    "            \"method\": \"Implicit\",\n",
    "}"
   ]
  },
  {
   "cell_type": "code",
   "execution_count": null,
   "id": "0a7d6521",
   "metadata": {},
   "outputs": [],
   "source": [
    "psi1_transport=Transport(g,data_reagent_psi1)\n",
    "psi1_lhs,psi1_rhs_b,psi1_rhs_matrix=psi1_transport.set_and_get_matrices(psi1)\n",
    "\n",
    "psi2_transport=Transport(g,data_reagent_psi2)\n",
    "psi2_lhs,psi2_rhs_b,psi2_rhs_matrix=psi2_transport.set_and_get_matrices(psi2)\n",
    "\n",
    "psi3_transport=Transport(g,data_reagent_psi3)\n",
    "psi3_lhs,psi3_rhs_b,psi3_rhs_matrix=psi3_transport.set_and_get_matrices(psi3)\n",
    "\n",
    "psi4_transport=Transport(g,data_reagent_psi4)\n",
    "psi4_lhs,psi4_rhs_b,psi4_rhs_matrix=psi4_transport.set_and_get_matrices(psi4)\n",
    "\n",
    "psi5_transport=Transport(g,data_reagent_psi5)\n",
    "psi5_lhs,psi5_rhs_b,psi5_rhs_matrix=psi5_transport.set_and_get_matrices(psi5)"
   ]
  },
  {
   "cell_type": "code",
   "execution_count": null,
   "id": "272b1ca4",
   "metadata": {},
   "outputs": [],
   "source": [
    "n_steps = int(np.round(psi1_transport[\"t_max\"] / psi1_transport[\"time_step\"]))"
   ]
  },
  {
   "cell_type": "code",
   "execution_count": null,
   "id": "94ca9921",
   "metadata": {},
   "outputs": [],
   "source": [
    "reaction_data={\"kd\"=1.83e-7,\n",
    "               \"K_eq\"=4.45e-7\n",
    "               \"K_sol\"=10e9}"
   ]
  },
  {
   "cell_type": "code",
   "execution_count": null,
   "id": "62f898f6",
   "metadata": {},
   "outputs": [],
   "source": [
    "Reaction reaction(g,reaction_data)"
   ]
  },
  {
   "cell_type": "code",
   "execution_count": null,
   "id": "f54bbaa8",
   "metadata": {},
   "outputs": [],
   "source": [
    "K_eq=reaction.data[pp.PARAMETERS][\"reaction\"][\"K_eq\"]"
   ]
  },
  {
   "cell_type": "code",
   "execution_count": null,
   "id": "b299d495",
   "metadata": {},
   "outputs": [],
   "source": [
    "for i in range(1,n_steps+1,1):\n",
    "    concentrations.compute_psi(i-1,psi1,psi2,psi3,psi4,psi5)\n",
    "    rd=reaction.compute_rd_6_reagents(concentrations.Ca[:,i-1],concentrations.SiO2[:,i-1],concentrations.H_piu[:,i-1],concentrations.CaSiO3[:,i-1],rd)\n",
    "    concentrations.one_step_transport_reaction(psi1,psi2,psi3,psi4,psi5,lhs_psi1,rhs_b_psi1,rhs_matrix_psi1,\n",
    "                                    lhs_psi2,rhs_b_psi2,rhs_matrix_psi2,lhs_psi3,rhs_b_psi3,\n",
    "                                    rhs_matrix_psi3,lhs_psi4,rhs_b_psi4,rhs_matrix_psi4,\n",
    "                                    lhs_psi5,rhs_b_psi5,rhs_matrix_psi5,rd,h)\n",
    "    concentrations.compute_concentration(psi1,psi2,psi3,psi4,psi5,i,K_eq)\n",
    "\n",
    "    \n",
    "    "
   ]
  },
  {
   "cell_type": "code",
   "execution_count": null,
   "id": "b5e0bfd1",
   "metadata": {},
   "outputs": [],
   "source": []
  },
  {
   "cell_type": "code",
   "execution_count": null,
   "id": "e3a7b4da",
   "metadata": {},
   "outputs": [],
   "source": []
  }
 ],
 "metadata": {
  "kernelspec": {
   "display_name": "Python 3",
   "language": "python",
   "name": "python3"
  },
  "language_info": {
   "codemirror_mode": {
    "name": "ipython",
    "version": 3
   },
   "file_extension": ".py",
   "mimetype": "text/x-python",
   "name": "python",
   "nbconvert_exporter": "python",
   "pygments_lexer": "ipython3",
   "version": "3.8.8"
  }
 },
 "nbformat": 4,
 "nbformat_minor": 5
}
