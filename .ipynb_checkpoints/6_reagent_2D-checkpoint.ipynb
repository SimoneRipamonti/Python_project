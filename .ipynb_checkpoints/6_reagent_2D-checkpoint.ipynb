{
 "cells": [
  {
   "cell_type": "code",
   "execution_count": 1,
   "id": "1b307116",
   "metadata": {},
   "outputs": [],
   "source": [
    "import numpy as np\n",
    "import scipy.sparse as sps\n",
    "import porepy as pp"
   ]
  },
  {
   "cell_type": "code",
   "execution_count": 2,
   "id": "970e2b12",
   "metadata": {},
   "outputs": [],
   "source": [
    "import sys\n",
    "sys.path.append(\"./class\")\n",
    "from Transport_class import Transport\n",
    "from Reaction_class import Reaction\n",
    "from Concentrations import Concentrations"
   ]
  },
  {
   "cell_type": "code",
   "execution_count": 3,
   "id": "419cb9a2",
   "metadata": {},
   "outputs": [
    {
     "name": "stderr",
     "output_type": "stream",
     "text": [
      "/home/dell/anaconda3/lib/python3.8/site-packages/porepy/viz/plot_grid.py:241: UserWarning: Attempting to set identical bottom == top == 0.0 results in singular transformations; automatically expanding.\n",
      "  ax.set_zlim3d(z)\n"
     ]
    },
    {
     "data": {
      "image/png": "[encoded data removed]",
      "text/plain": [
       "<Figure size 1080x864 with 1 Axes>"
      ]
     },
     "metadata": {
      "needs_background": "light"
     },
     "output_type": "display_data"
    }
   ],
   "source": [
    "#QUESTIONE DATI\n",
    "Nx=100\n",
    "Ny=1\n",
    "Nt=10000\n",
    "Lx=0.045\n",
    "Ly=0.01\n",
    "hx=Lx/Nx\n",
    "hy=Ly/Ny\n",
    "phys_dims=[Lx,Ly]\n",
    "g=pp.CartGrid([Nx,Ny],phys_dims)\n",
    "g.compute_geometry()\n",
    "pp.plot_grid(g,figsize=(15,12))\n",
    "#pp.plot_grid(g)"
   ]
  },
  {
   "cell_type": "code",
   "execution_count": 4,
   "id": "0ea2ad44",
   "metadata": {},
   "outputs": [],
   "source": [
    "psi1=np.zeros(g.num_cells)\n",
    "psi2=np.zeros(g.num_cells)\n",
    "psi3=np.zeros(g.num_cells)\n",
    "psi4=np.zeros(g.num_cells)\n",
    "psi5=np.zeros(g.num_cells)\n",
    "psi6=np.zeros(g.num_cells)\n",
    "rd=np.zeros(g.num_cells)"
   ]
  },
  {
   "cell_type": "code",
   "execution_count": 5,
   "id": "c10eae7a",
   "metadata": {},
   "outputs": [],
   "source": [
    "unity = np.ones(g.num_cells)\n",
    "porosity=0.3*unity\n",
    "aperture=1"
   ]
  },
  {
   "cell_type": "code",
   "execution_count": 6,
   "id": "1d655e81",
   "metadata": {},
   "outputs": [],
   "source": [
    "reaction_data={#\"kd\":1.83e-7,\n",
    "               \"kd\":0.0,\n",
    "               \"K_eq\":4.45e-7,\n",
    "               \"K_sol\":10e9,\n",
    "               \"porosity\":porosity }"
   ]
  },
  {
   "cell_type": "code",
   "execution_count": 7,
   "id": "68b65d19",
   "metadata": {},
   "outputs": [],
   "source": [
    "reaction=Reaction(g,reaction_data)"
   ]
  },
  {
   "cell_type": "code",
   "execution_count": 8,
   "id": "b5cd4c01",
   "metadata": {},
   "outputs": [],
   "source": [
    "K_eq=reaction.data[pp.PARAMETERS][\"reaction\"][\"K_eq\"]"
   ]
  },
  {
   "cell_type": "code",
   "execution_count": 9,
   "id": "59f6ba60",
   "metadata": {},
   "outputs": [
    {
     "name": "stdout",
     "output_type": "stream",
     "text": [
      "bc_HCO3_in=\n",
      "0.0164254306\n"
     ]
    }
   ],
   "source": [
    "bc_type_Ca=[\"dir\",\"dir\"]\n",
    "bc_value_Ca=[0.0,0.0]\n",
    "#init_cond_Ca=lambda x,y,z:int(x<0.5)\n",
    "init_cond_Ca=lambda x,y,z:0.0\n",
    "\n",
    "bc_type_CaSiO3=[\"dir\",\"dir\"]\n",
    "bc_value_CaSiO3=[0.0,0.0]\n",
    "#init_cond_CaSiO3=lambda x,y,z:int(x<0.5)\n",
    "init_cond_CaSiO3=lambda x,y,z:1.0\n",
    "\n",
    "bc_type_CO2=[\"dir\",\"dir\"]\n",
    "bc_value_CO2=[0.3691108,0.0]\n",
    "#init_cond_Ca=lambda x,y,z:int(x<0.5)\n",
    "init_cond_CO2=lambda x,y,z:1.0e-3\n",
    "\n",
    "bc_type_SiO2=[\"dir\",\"dir\"]\n",
    "bc_value_SiO2=[0.0,0.0]\n",
    "#init_cond_Ca=lambda x,y,z:int(x<0.5)\n",
    "init_cond_SiO2=lambda x,y,z:0.0\n",
    "\n",
    "bc_type_H_piu=[\"dir\",\"dir\"]\n",
    "bc_value_H_piu=[1.0e-5,0.0]\n",
    "#init_cond_Ca=lambda x,y,z:int(x<0.5)\n",
    "init_cond_H_piu=lambda x,y,z:1.0e-7\n",
    "\n",
    "\n",
    "\n",
    "bc_HCO3_in=K_eq*bc_value_CO2[0]/bc_value_H_piu[0]\n",
    "print(\"bc_HCO3_in=\")\n",
    "print(bc_HCO3_in)\n",
    "#bc_HCO3_out=K_eq*bc_value_CO2[1]/bc_value_H_piu[1]\n",
    "bc_HCO3_out=0.0\n",
    "\n",
    "bc_type_HCO3=[\"dir\",\"dir\"]\n",
    "bc_value_HCO3=[bc_HCO3_in,bc_HCO3_out]\n",
    "#init_cond_Ca=lambda x,y,z:int(x<0.5)\n",
    "init_cond_HCO3=lambda x,y,z:0.0"
   ]
  },
  {
   "cell_type": "code",
   "execution_count": 10,
   "id": "b074dd66",
   "metadata": {},
   "outputs": [],
   "source": [
    "data_6reagents = {\"bc_type_Ca\": bc_type_Ca,\n",
    "            \"bc_value_Ca\": bc_value_Ca,\n",
    "            \"bc_type_CO2\": bc_type_CO2,\n",
    "            \"bc_value_CO2\": bc_value_CO2,\n",
    "            \"bc_type_HCO3\": bc_type_HCO3,\n",
    "            \"bc_value_HCO3\": bc_value_HCO3,\n",
    "            \"bc_type_CaSiO3\": bc_type_CaSiO3,\n",
    "            \"bc_value_CaSiO3\": bc_value_CaSiO3,\n",
    "            \"bc_type_SiO2\": bc_type_SiO2,\n",
    "            \"bc_value_SiO2\": bc_value_SiO2,\n",
    "            \"bc_type_H_piu\": bc_type_H_piu,\n",
    "            \"bc_value_H_piu\": bc_value_H_piu,\n",
    "            \"time_step\": 34.56,\n",
    "            \"t_max\": 345600,\n",
    "            \"method\": \"Implicit\",\n",
    "            \"lambda_lin_decay\":0,\n",
    "            \"init_cond_Ca\":init_cond_Ca,\n",
    "            \"init_cond_CO2\":init_cond_CO2,\n",
    "            \"init_cond_CaSiO3\":init_cond_CaSiO3,\n",
    "            \"init_cond_SiO2\":init_cond_SiO2,\n",
    "            \"init_cond_HCO3\":init_cond_HCO3,\n",
    "            \"init_cond_H_piu\":init_cond_H_piu,}"
   ]
  },
  {
   "cell_type": "code",
   "execution_count": 11,
   "id": "7e6083f4",
   "metadata": {},
   "outputs": [],
   "source": [
    "concentrations=Concentrations(g,Nt,data_6reagents)\n",
    "concentrations.set_initial_cond(K_eq)"
   ]
  },
  {
   "cell_type": "code",
   "execution_count": 12,
   "id": "c2cffc28",
   "metadata": {},
   "outputs": [],
   "source": [
    "psi1,psi2,psi3,psi4,psi5=concentrations.compute_psi(0,psi1,psi2,psi3,psi4,psi5)"
   ]
  },
  {
   "cell_type": "code",
   "execution_count": 13,
   "id": "e87aea44",
   "metadata": {},
   "outputs": [],
   "source": [
    "bc_psi1,bc_psi2,bc_psi3,bc_psi4,bc_psi5=concentrations.set_bc_psi()"
   ]
  },
  {
   "cell_type": "code",
   "execution_count": 14,
   "id": "db3d6d34",
   "metadata": {},
   "outputs": [],
   "source": [
    "data_reagent_psi1= {\n",
    "            \"bc_type\": bc_type_Ca,\n",
    "            \"bc_value\": bc_psi1,\n",
    "            \"mass_weight\": porosity * aperture,\n",
    "            \"darcy_flux\":np.zeros(g.num_faces),\n",
    "            \"lambda_lin_decay\":0.,\n",
    "            \"method\": \"Implicit\",\n",
    "            \"time_step\": 34.56,\n",
    "            \"t_max\": 345600,\n",
    "}\n",
    "\n",
    "data_reagent_psi2= {\n",
    "            \"bc_type\": bc_type_H_piu,\n",
    "            \"bc_value\": bc_psi2,\n",
    "            \"mass_weight\": porosity * aperture,\n",
    "            \"darcy_flux\":np.zeros(g.num_faces),\n",
    "            \"lambda_lin_decay\":0.,\n",
    "            \"method\": \"Implicit\",\n",
    "            \"time_step\": 34.56,\n",
    "            \"t_max\": 345600,\n",
    "}\n",
    "\n",
    "data_reagent_psi3= {\n",
    "            \"bc_type\": bc_type_CO2,\n",
    "            \"bc_value\": bc_psi3,\n",
    "            \"mass_weight\": porosity * aperture,\n",
    "            \"darcy_flux\":np.zeros(g.num_faces),\n",
    "            \"lambda_lin_decay\":0.,\n",
    "            \"method\": \"Implicit\",\n",
    "            \"time_step\": 34.56,\n",
    "            \"t_max\": 345600,\n",
    "}\n",
    "\n",
    "data_reagent_psi4= {\n",
    "            \"bc_type\": bc_type_CaSiO3,\n",
    "            \"bc_value\": bc_psi4,\n",
    "            \"mass_weight\": porosity * aperture,\n",
    "            \"darcy_flux\":np.zeros(g.num_faces),\n",
    "            \"lambda_lin_decay\":0.,\n",
    "            \"method\": \"Implicit\",\n",
    "            \"time_step\": 34.56,\n",
    "            \"t_max\": 345600,\n",
    "}\n",
    "\n",
    "data_reagent_psi5= {\n",
    "            \"bc_type\": bc_type_SiO2,\n",
    "            \"bc_value\": bc_psi5,\n",
    "            \"mass_weight\": porosity * aperture,\n",
    "            \"darcy_flux\":np.zeros(g.num_faces),\n",
    "            \"lambda_lin_decay\":0.,\n",
    "            \"method\": \"Implicit\",\n",
    "            \"time_step\": 34.56,\n",
    "            \"t_max\": 345600,\n",
    "}"
   ]
  },
  {
   "cell_type": "code",
   "execution_count": 15,
   "id": "c08e9623",
   "metadata": {},
   "outputs": [],
   "source": [
    "data_reagent_psi1[\"darcy_flux\"][:(Nx+1)*Ny]=hy*6.67e-9\n",
    "data_reagent_psi2[\"darcy_flux\"][:(Nx+1)*Ny]=hy*6.67e-9\n",
    "data_reagent_psi3[\"darcy_flux\"][:(Nx+1)*Ny]=hy*6.67e-9\n",
    "data_reagent_psi5[\"darcy_flux\"][:(Nx+1)*Ny]=hy*6.67e-9"
   ]
  },
  {
   "cell_type": "code",
   "execution_count": 16,
   "id": "c67576b3",
   "metadata": {},
   "outputs": [
    {
     "name": "stdout",
     "output_type": "stream",
     "text": [
      "[6.67e-11 6.67e-11 6.67e-11 6.67e-11 6.67e-11 6.67e-11 6.67e-11 6.67e-11\n",
      " 6.67e-11 6.67e-11 6.67e-11 6.67e-11 6.67e-11 6.67e-11 6.67e-11 6.67e-11\n",
      " 6.67e-11 6.67e-11 6.67e-11 6.67e-11 6.67e-11 6.67e-11 6.67e-11 6.67e-11\n",
      " 6.67e-11 6.67e-11 6.67e-11 6.67e-11 6.67e-11 6.67e-11 6.67e-11 6.67e-11\n",
      " 6.67e-11 6.67e-11 6.67e-11 6.67e-11 6.67e-11 6.67e-11 6.67e-11 6.67e-11\n",
      " 6.67e-11 6.67e-11 6.67e-11 6.67e-11 6.67e-11 6.67e-11 6.67e-11 6.67e-11\n",
      " 6.67e-11 6.67e-11 6.67e-11 6.67e-11 6.67e-11 6.67e-11 6.67e-11 6.67e-11\n",
      " 6.67e-11 6.67e-11 6.67e-11 6.67e-11 6.67e-11 6.67e-11 6.67e-11 6.67e-11\n",
      " 6.67e-11 6.67e-11 6.67e-11 6.67e-11 6.67e-11 6.67e-11 6.67e-11 6.67e-11\n",
      " 6.67e-11 6.67e-11 6.67e-11 6.67e-11 6.67e-11 6.67e-11 6.67e-11 6.67e-11\n",
      " 6.67e-11 6.67e-11 6.67e-11 6.67e-11 6.67e-11 6.67e-11 6.67e-11 6.67e-11\n",
      " 6.67e-11 6.67e-11 6.67e-11 6.67e-11 6.67e-11 6.67e-11 6.67e-11 6.67e-11\n",
      " 6.67e-11 6.67e-11 6.67e-11 6.67e-11 6.67e-11 0.00e+00 0.00e+00 0.00e+00\n",
      " 0.00e+00 0.00e+00 0.00e+00 0.00e+00 0.00e+00 0.00e+00 0.00e+00 0.00e+00\n",
      " 0.00e+00 0.00e+00 0.00e+00 0.00e+00 0.00e+00 0.00e+00 0.00e+00 0.00e+00\n",
      " 0.00e+00 0.00e+00 0.00e+00 0.00e+00 0.00e+00 0.00e+00 0.00e+00 0.00e+00\n",
      " 0.00e+00 0.00e+00 0.00e+00 0.00e+00 0.00e+00 0.00e+00 0.00e+00 0.00e+00\n",
      " 0.00e+00 0.00e+00 0.00e+00 0.00e+00 0.00e+00 0.00e+00 0.00e+00 0.00e+00\n",
      " 0.00e+00 0.00e+00 0.00e+00 0.00e+00 0.00e+00 0.00e+00 0.00e+00 0.00e+00\n",
      " 0.00e+00 0.00e+00 0.00e+00 0.00e+00 0.00e+00 0.00e+00 0.00e+00 0.00e+00\n",
      " 0.00e+00 0.00e+00 0.00e+00 0.00e+00 0.00e+00 0.00e+00 0.00e+00 0.00e+00\n",
      " 0.00e+00 0.00e+00 0.00e+00 0.00e+00 0.00e+00 0.00e+00 0.00e+00 0.00e+00\n",
      " 0.00e+00 0.00e+00 0.00e+00 0.00e+00 0.00e+00 0.00e+00 0.00e+00 0.00e+00\n",
      " 0.00e+00 0.00e+00 0.00e+00 0.00e+00 0.00e+00 0.00e+00 0.00e+00 0.00e+00\n",
      " 0.00e+00 0.00e+00 0.00e+00 0.00e+00 0.00e+00 0.00e+00 0.00e+00 0.00e+00\n",
      " 0.00e+00 0.00e+00 0.00e+00 0.00e+00 0.00e+00 0.00e+00 0.00e+00 0.00e+00\n",
      " 0.00e+00 0.00e+00 0.00e+00 0.00e+00 0.00e+00 0.00e+00 0.00e+00 0.00e+00\n",
      " 0.00e+00 0.00e+00 0.00e+00 0.00e+00 0.00e+00 0.00e+00 0.00e+00 0.00e+00\n",
      " 0.00e+00 0.00e+00 0.00e+00 0.00e+00 0.00e+00 0.00e+00 0.00e+00 0.00e+00\n",
      " 0.00e+00 0.00e+00 0.00e+00 0.00e+00 0.00e+00 0.00e+00 0.00e+00 0.00e+00\n",
      " 0.00e+00 0.00e+00 0.00e+00 0.00e+00 0.00e+00 0.00e+00 0.00e+00 0.00e+00\n",
      " 0.00e+00 0.00e+00 0.00e+00 0.00e+00 0.00e+00 0.00e+00 0.00e+00 0.00e+00\n",
      " 0.00e+00 0.00e+00 0.00e+00 0.00e+00 0.00e+00 0.00e+00 0.00e+00 0.00e+00\n",
      " 0.00e+00 0.00e+00 0.00e+00 0.00e+00 0.00e+00 0.00e+00 0.00e+00 0.00e+00\n",
      " 0.00e+00 0.00e+00 0.00e+00 0.00e+00 0.00e+00 0.00e+00 0.00e+00 0.00e+00\n",
      " 0.00e+00 0.00e+00 0.00e+00 0.00e+00 0.00e+00 0.00e+00 0.00e+00 0.00e+00\n",
      " 0.00e+00 0.00e+00 0.00e+00 0.00e+00 0.00e+00 0.00e+00 0.00e+00 0.00e+00\n",
      " 0.00e+00 0.00e+00 0.00e+00 0.00e+00 0.00e+00]\n"
     ]
    }
   ],
   "source": [
    "print(data_reagent_psi5[\"darcy_flux\"])"
   ]
  },
  {
   "cell_type": "code",
   "execution_count": 17,
   "id": "0a7d6521",
   "metadata": {},
   "outputs": [],
   "source": [
    "psi1_transport=Transport(g,data_reagent_psi1)\n",
    "#psi1=psi1_transport.set_bc(psi1)\n",
    "psi1_transport.set_bc()\n",
    "psi1_lhs,psi1_rhs_b,psi1_rhs_matrix=psi1_transport.get_transport_lhs_rhs()\n",
    "\n",
    "psi2_transport=Transport(g,data_reagent_psi2)\n",
    "#psi2=psi2_transport.set_bc(psi2)\n",
    "psi2_transport.set_bc()\n",
    "psi2_lhs,psi2_rhs_b,psi2_rhs_matrix=psi2_transport.get_transport_lhs_rhs()\n",
    "\n",
    "psi3_transport=Transport(g,data_reagent_psi3)\n",
    "#psi3=psi3_transport.set_bc(psi3)\n",
    "psi3_transport.set_bc()\n",
    "psi3_lhs,psi3_rhs_b,psi3_rhs_matrix=psi3_transport.get_transport_lhs_rhs()\n",
    "\n",
    "psi4_transport=Transport(g,data_reagent_psi4)\n",
    "#psi4=psi4_transport.set_bc(psi4)\n",
    "psi4_transport.set_bc()\n",
    "psi4_lhs,psi4_rhs_b,psi4_rhs_matrix=psi4_transport.get_transport_lhs_rhs()\n",
    "\n",
    "psi5_transport=Transport(g,data_reagent_psi5)\n",
    "#psi5=psi5_transport.set_bc(psi5)\n",
    "psi5_transport.set_bc()\n",
    "psi5_lhs,psi5_rhs_b,psi5_rhs_matrix=psi5_transport.get_transport_lhs_rhs()"
   ]
  },
  {
   "cell_type": "code",
   "execution_count": 18,
   "id": "272b1ca4",
   "metadata": {},
   "outputs": [],
   "source": [
    "n_steps = int(np.round(concentrations.data[pp.PARAMETERS][\"6reagents\"][\"t_max\"] / concentrations.data[pp.PARAMETERS][\"6reagents\"][\"time_step\"]))"
   ]
  },
  {
   "cell_type": "code",
   "execution_count": 19,
   "id": "439a872b",
   "metadata": {},
   "outputs": [],
   "source": [
    "dt=psi1_transport.data[pp.PARAMETERS][\"transport\"][\"time_step\"]"
   ]
  },
  {
   "cell_type": "code",
   "execution_count": 20,
   "id": "51fbf19f",
   "metadata": {},
   "outputs": [],
   "source": [
    "save_every=100\n",
    "exporter = pp.Exporter(g, file_name=\"6_reagents\",folder_name=\"solution_6_reagents_2D\")"
   ]
  },
  {
   "cell_type": "code",
   "execution_count": 21,
   "id": "911fce25",
   "metadata": {},
   "outputs": [
    {
     "name": "stdout",
     "output_type": "stream",
     "text": [
      "Ca:\n",
      "[0. 0. 0. 0. 0. 0. 0. 0. 0. 0. 0. 0. 0. 0. 0. 0. 0. 0. 0. 0. 0. 0. 0. 0.\n",
      " 0. 0. 0. 0. 0. 0. 0. 0. 0. 0. 0. 0. 0. 0. 0. 0. 0. 0. 0. 0. 0. 0. 0. 0.\n",
      " 0. 0. 0. 0. 0. 0. 0. 0. 0. 0. 0. 0. 0. 0. 0. 0. 0. 0. 0. 0. 0. 0. 0. 0.\n",
      " 0. 0. 0. 0. 0. 0. 0. 0. 0. 0. 0. 0. 0. 0. 0. 0. 0. 0. 0. 0. 0. 0. 0. 0.\n",
      " 0. 0. 0. 0.]\n",
      "CaSiO3:\n",
      "[1. 1. 1. 1. 1. 1. 1. 1. 1. 1. 1. 1. 1. 1. 1. 1. 1. 1. 1. 1. 1. 1. 1. 1.\n",
      " 1. 1. 1. 1. 1. 1. 1. 1. 1. 1. 1. 1. 1. 1. 1. 1. 1. 1. 1. 1. 1. 1. 1. 1.\n",
      " 1. 1. 1. 1. 1. 1. 1. 1. 1. 1. 1. 1. 1. 1. 1. 1. 1. 1. 1. 1. 1. 1. 1. 1.\n",
      " 1. 1. 1. 1. 1. 1. 1. 1. 1. 1. 1. 1. 1. 1. 1. 1. 1. 1. 1. 1. 1. 1. 1. 1.\n",
      " 1. 1. 1. 1.]\n",
      "H_piu:\n",
      "[1.e-07 1.e-07 1.e-07 1.e-07 1.e-07 1.e-07 1.e-07 1.e-07 1.e-07 1.e-07\n",
      " 1.e-07 1.e-07 1.e-07 1.e-07 1.e-07 1.e-07 1.e-07 1.e-07 1.e-07 1.e-07\n",
      " 1.e-07 1.e-07 1.e-07 1.e-07 1.e-07 1.e-07 1.e-07 1.e-07 1.e-07 1.e-07\n",
      " 1.e-07 1.e-07 1.e-07 1.e-07 1.e-07 1.e-07 1.e-07 1.e-07 1.e-07 1.e-07\n",
      " 1.e-07 1.e-07 1.e-07 1.e-07 1.e-07 1.e-07 1.e-07 1.e-07 1.e-07 1.e-07\n",
      " 1.e-07 1.e-07 1.e-07 1.e-07 1.e-07 1.e-07 1.e-07 1.e-07 1.e-07 1.e-07\n",
      " 1.e-07 1.e-07 1.e-07 1.e-07 1.e-07 1.e-07 1.e-07 1.e-07 1.e-07 1.e-07\n",
      " 1.e-07 1.e-07 1.e-07 1.e-07 1.e-07 1.e-07 1.e-07 1.e-07 1.e-07 1.e-07\n",
      " 1.e-07 1.e-07 1.e-07 1.e-07 1.e-07 1.e-07 1.e-07 1.e-07 1.e-07 1.e-07\n",
      " 1.e-07 1.e-07 1.e-07 1.e-07 1.e-07 1.e-07 1.e-07 1.e-07 1.e-07 1.e-07]\n",
      "CO2:\n",
      "[0.001 0.001 0.001 0.001 0.001 0.001 0.001 0.001 0.001 0.001 0.001 0.001\n",
      " 0.001 0.001 0.001 0.001 0.001 0.001 0.001 0.001 0.001 0.001 0.001 0.001\n",
      " 0.001 0.001 0.001 0.001 0.001 0.001 0.001 0.001 0.001 0.001 0.001 0.001\n",
      " 0.001 0.001 0.001 0.001 0.001 0.001 0.001 0.001 0.001 0.001 0.001 0.001\n",
      " 0.001 0.001 0.001 0.001 0.001 0.001 0.001 0.001 0.001 0.001 0.001 0.001\n",
      " 0.001 0.001 0.001 0.001 0.001 0.001 0.001 0.001 0.001 0.001 0.001 0.001\n",
      " 0.001 0.001 0.001 0.001 0.001 0.001 0.001 0.001 0.001 0.001 0.001 0.001\n",
      " 0.001 0.001 0.001 0.001 0.001 0.001 0.001 0.001 0.001 0.001 0.001 0.001\n",
      " 0.001 0.001 0.001 0.001]\n"
     ]
    }
   ],
   "source": [
    "print(\"Ca:\")\n",
    "print(concentrations.Ca[:,0])\n",
    "print(\"CaSiO3:\")\n",
    "print(concentrations.CaSiO3[:,0])\n",
    "print(\"H_piu:\")\n",
    "print(concentrations.H_piu[:,0])\n",
    "print(\"CO2:\")\n",
    "print(concentrations.CO2[:,0])"
   ]
  },
  {
   "cell_type": "code",
   "execution_count": 22,
   "id": "b299d495",
   "metadata": {},
   "outputs": [
    {
     "name": "stderr",
     "output_type": "stream",
     "text": [
      "/home/dell/.local/lib/python3.8/site-packages/scipy/sparse/linalg/dsolve/linsolve.py:318: SparseEfficiencyWarning: splu requires CSC matrix format\n",
      "  warn('splu requires CSC matrix format', SparseEfficiencyWarning)\n"
     ]
    }
   ],
   "source": [
    "for i in range(1,n_steps+1,1):\n",
    "#for i in range(1,500,1):\n",
    "    if np.isclose((i-1) % save_every, 0):\n",
    "        exporter.write_vtu({\"Ca\":concentrations.Ca[:,i-1], \"CaSiO3\":concentrations.CaSiO3[:,i-1], \"H_piu\":concentrations.H_piu[:,i-1], \"HCO3\":concentrations.HCO3[:,i-1], \"CO2\":concentrations.CO2[:,i-1],\"SiO2\":concentrations.SiO2[:,i-1]}, time_step=int((i-1) // save_every))\n",
    "\n",
    "    psi1,psi2,psi3,psi4,psi5=concentrations.compute_psi(i-1,psi1,psi2,psi3,psi4,psi5)\n",
    "    rd=reaction.compute_rd_6_reagents(concentrations.Ca[:,i-1],concentrations.SiO2[:,i-1],concentrations.H_piu[:,i-1],concentrations.CaSiO3[:,i-1],rd,hx,hy)\n",
    "    psi1,psi2,psi3,psi4,psi5=concentrations.one_step_transport_reaction(psi1,psi2,psi3,psi4,psi5,\n",
    "                                               psi1_lhs,psi1_rhs_b,psi1_rhs_matrix,\n",
    "                                               psi2_lhs,psi2_rhs_b,psi2_rhs_matrix,\n",
    "                                               psi3_lhs,psi3_rhs_b,psi3_rhs_matrix,\n",
    "                                               psi4_lhs,psi4_rhs_b,psi4_rhs_matrix,\n",
    "                                               psi5_lhs,psi5_rhs_b,psi5_rhs_matrix,\n",
    "                                               rd)\n",
    "    \n",
    "    concentrations.compute_concentration(psi1,psi2,psi3,psi4,psi5,i,K_eq)\n",
    "\n",
    "\n",
    "\n",
    "exporter.write_vtu({\"Ca\":concentrations.Ca[:,-1], \"CaSiO3\":concentrations.CaSiO3[:,-1], \"H_piu\":concentrations.H_piu[:,-1], \"HCO3\":concentrations.HCO3[:,-1], \"CO2\":concentrations.CO2[:,-1],\"SiO2\":concentrations.SiO2[:,-1]}, time_step=(n_steps // save_every))\n",
    "time_steps = np.arange(\n",
    "    0, psi1_transport.data[pp.PARAMETERS][\"transport\"][\"t_max\"] + dt, save_every * dt\n",
    ")\n",
    "exporter.write_pvd(time_steps)\n",
    "    "
   ]
  },
  {
   "cell_type": "code",
   "execution_count": 23,
   "id": "5aa441bd",
   "metadata": {},
   "outputs": [
    {
     "name": "stdout",
     "output_type": "stream",
     "text": [
      "Ca=\n",
      "[0. 0. 0. 0. 0. 0. 0. 0. 0. 0. 0. 0. 0. 0. 0. 0. 0. 0. 0. 0. 0. 0. 0. 0.\n",
      " 0. 0. 0. 0. 0. 0. 0. 0. 0. 0. 0. 0. 0. 0. 0. 0. 0. 0. 0. 0. 0. 0. 0. 0.\n",
      " 0. 0. 0. 0. 0. 0. 0. 0. 0. 0. 0. 0. 0. 0. 0. 0. 0. 0. 0. 0. 0. 0. 0. 0.\n",
      " 0. 0. 0. 0. 0. 0. 0. 0. 0. 0. 0. 0. 0. 0. 0. 0. 0. 0. 0. 0. 0. 0. 0. 0.\n",
      " 0. 0. 0. 0.]\n",
      "CaSiO3=\n",
      "[1. 1. 1. 1. 1. 1. 1. 1. 1. 1. 1. 1. 1. 1. 1. 1. 1. 1. 1. 1. 1. 1. 1. 1.\n",
      " 1. 1. 1. 1. 1. 1. 1. 1. 1. 1. 1. 1. 1. 1. 1. 1. 1. 1. 1. 1. 1. 1. 1. 1.\n",
      " 1. 1. 1. 1. 1. 1. 1. 1. 1. 1. 1. 1. 1. 1. 1. 1. 1. 1. 1. 1. 1. 1. 1. 1.\n",
      " 1. 1. 1. 1. 1. 1. 1. 1. 1. 1. 1. 1. 1. 1. 1. 1. 1. 1. 1. 1. 1. 1. 1. 1.\n",
      " 1. 1. 1. 1.]\n",
      "CO2=\n",
      "[0.36911079 0.36911054 0.36910846 0.36909661 0.36904612 0.36887393\n",
      " 0.36838447 0.36719185 0.36464889 0.35982864 0.3516046  0.33884753\n",
      " 0.32070607 0.29688979 0.26785394 0.23481128 0.19955555 0.1641478\n",
      " 0.13055962 0.10037151 0.07459336 0.05362709 0.03734801 0.02525659\n",
      " 0.01664894 0.01076583 0.00689913 0.0044516  0.00295756 0.0020769\n",
      " 0.00157506 0.00129829 0.00115039 0.00107375 0.0010352  0.00101637\n",
      " 0.00100741 0.00100327 0.00100141 0.00100059 0.00100024 0.0010001\n",
      " 0.00100004 0.00100001 0.00100001 0.001      0.001      0.001\n",
      " 0.001      0.001      0.001      0.001      0.001      0.001\n",
      " 0.001      0.001      0.001      0.001      0.001      0.001\n",
      " 0.001      0.001      0.001      0.001      0.001      0.001\n",
      " 0.001      0.001      0.001      0.001      0.001      0.001\n",
      " 0.001      0.001      0.001      0.001      0.001      0.001\n",
      " 0.001      0.001      0.001      0.001      0.001      0.001\n",
      " 0.001      0.001      0.001      0.001      0.001      0.001\n",
      " 0.001      0.001      0.001      0.001      0.001      0.001\n",
      " 0.001      0.001      0.001      0.001     ]\n",
      "HCO3=\n",
      "[0.01642543 0.01642542 0.01642535 0.01642497 0.01642333 0.01641773\n",
      " 0.01640182 0.01636304 0.01628037 0.01612365 0.01585627 0.0154415\n",
      " 0.01485166 0.0140773  0.01313319 0.01205873 0.01091222 0.00976064\n",
      " 0.00866807 0.00768591 0.00684701 0.0061645  0.00563441 0.00524056\n",
      " 0.0049601  0.00476837 0.00464233 0.00456254 0.00451383 0.00448511\n",
      " 0.00446875 0.00445973 0.0044549  0.0044524  0.00445115 0.00445053\n",
      " 0.00445024 0.00445011 0.00445005 0.00445002 0.00445001 0.00445\n",
      " 0.00445    0.00445    0.00445    0.00445    0.00445    0.00445\n",
      " 0.00445    0.00445    0.00445    0.00445    0.00445    0.00445\n",
      " 0.00445    0.00445    0.00445    0.00445    0.00445    0.00445\n",
      " 0.00445    0.00445    0.00445    0.00445    0.00445    0.00445\n",
      " 0.00445    0.00445    0.00445    0.00445    0.00445    0.00445\n",
      " 0.00445    0.00445    0.00445    0.00445    0.00445    0.00445\n",
      " 0.00445    0.00445    0.00445    0.00445    0.00445    0.00445\n",
      " 0.00445    0.00445    0.00445    0.00445    0.00445    0.00445\n",
      " 0.00445    0.00445    0.00445    0.00445    0.00445    0.00445\n",
      " 0.00445    0.00445    0.00445    0.00445   ]\n",
      "SiO2=\n",
      "[0. 0. 0. 0. 0. 0. 0. 0. 0. 0. 0. 0. 0. 0. 0. 0. 0. 0. 0. 0. 0. 0. 0. 0.\n",
      " 0. 0. 0. 0. 0. 0. 0. 0. 0. 0. 0. 0. 0. 0. 0. 0. 0. 0. 0. 0. 0. 0. 0. 0.\n",
      " 0. 0. 0. 0. 0. 0. 0. 0. 0. 0. 0. 0. 0. 0. 0. 0. 0. 0. 0. 0. 0. 0. 0. 0.\n",
      " 0. 0. 0. 0. 0. 0. 0. 0. 0. 0. 0. 0. 0. 0. 0. 0. 0. 0. 0. 0. 0. 0. 0. 0.\n",
      " 0. 0. 0. 0.]\n",
      "H_piu=\n",
      "[9.99999990e-06 9.99999811e-06 9.99998290e-06 9.99989645e-06\n",
      " 9.99952790e-06 9.99827038e-06 9.99469127e-06 9.98594121e-06\n",
      " 9.96714478e-06 9.93098702e-06 9.86764775e-06 9.76505874e-06\n",
      " 9.60930844e-06 9.38503697e-06 9.07586333e-06 8.66517517e-06\n",
      " 8.13786802e-06 7.48370717e-06 6.70264845e-06 5.81132884e-06\n",
      " 4.84796345e-06 3.87120441e-06 2.94970706e-06 2.14465470e-06\n",
      " 1.49367620e-06 1.00470370e-06 6.61330674e-07 4.34180214e-07\n",
      " 2.91573503e-07 2.06064288e-07 1.56845342e-07 1.29545425e-07\n",
      " 1.14912603e-07 1.07317390e-07 1.03493697e-07 1.01624322e-07\n",
      " 1.00735889e-07 1.00325070e-07 1.00140095e-07 1.00058937e-07\n",
      " 1.00024216e-07 1.00009723e-07 1.00003817e-07 1.00001465e-07\n",
      " 1.00000551e-07 1.00000203e-07 1.00000073e-07 1.00000026e-07\n",
      " 1.00000009e-07 1.00000003e-07 1.00000001e-07 1.00000000e-07\n",
      " 1.00000000e-07 1.00000000e-07 1.00000000e-07 1.00000000e-07\n",
      " 1.00000000e-07 1.00000000e-07 1.00000000e-07 1.00000000e-07\n",
      " 1.00000000e-07 1.00000000e-07 1.00000000e-07 1.00000000e-07\n",
      " 1.00000000e-07 1.00000000e-07 1.00000000e-07 1.00000000e-07\n",
      " 1.00000000e-07 1.00000000e-07 1.00000000e-07 1.00000000e-07\n",
      " 1.00000000e-07 1.00000000e-07 1.00000000e-07 1.00000000e-07\n",
      " 1.00000000e-07 1.00000000e-07 1.00000000e-07 1.00000000e-07\n",
      " 1.00000000e-07 1.00000000e-07 1.00000000e-07 1.00000000e-07\n",
      " 1.00000000e-07 1.00000000e-07 1.00000000e-07 1.00000000e-07\n",
      " 1.00000000e-07 1.00000000e-07 1.00000000e-07 1.00000000e-07\n",
      " 1.00000000e-07 1.00000000e-07 1.00000000e-07 1.00000000e-07\n",
      " 1.00000000e-07 1.00000000e-07 1.00000000e-07 1.00000000e-07]\n"
     ]
    }
   ],
   "source": [
    "print(\"Ca=\")\n",
    "print(concentrations.Ca[:,-1])\n",
    "print(\"CaSiO3=\")\n",
    "print(concentrations.CaSiO3[:,-1])\n",
    "print(\"CO2=\")\n",
    "print(concentrations.CO2[:,-1])\n",
    "print(\"HCO3=\")\n",
    "print(concentrations.HCO3[:,-1])\n",
    "print(\"SiO2=\")\n",
    "print(concentrations.SiO2[:,-1])\n",
    "print(\"H_piu=\")\n",
    "print(concentrations.H_piu[:,-1])"
   ]
  },
  {
   "cell_type": "code",
   "execution_count": 24,
   "id": "b5e0bfd1",
   "metadata": {},
   "outputs": [],
   "source": [
    "exporter.write_pvd(time_steps)"
   ]
  },
  {
   "cell_type": "code",
   "execution_count": null,
   "id": "e3a7b4da",
   "metadata": {},
   "outputs": [],
   "source": []
  },
  {
   "cell_type": "code",
   "execution_count": null,
   "id": "53ba2594",
   "metadata": {},
   "outputs": [],
   "source": []
  },
  {
   "cell_type": "code",
   "execution_count": null,
   "id": "31162d77",
   "metadata": {},
   "outputs": [],
   "source": []
  }
 ],
 "metadata": {
  "kernelspec": {
   "display_name": "Python 3",
   "language": "python",
   "name": "python3"
  },
  "language_info": {
   "codemirror_mode": {
    "name": "ipython",
    "version": 3
   },
   "file_extension": ".py",
   "mimetype": "text/x-python",
   "name": "python",
   "nbconvert_exporter": "python",
   "pygments_lexer": "ipython3",
   "version": "3.8.8"
  }
 },
 "nbformat": 4,
 "nbformat_minor": 5
}
