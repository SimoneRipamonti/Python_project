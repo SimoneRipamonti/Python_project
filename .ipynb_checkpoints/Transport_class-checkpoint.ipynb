{
 "cells": [
  {
   "cell_type": "code",
   "execution_count": 1,
   "id": "764b4923",
   "metadata": {},
   "outputs": [],
   "source": [
    "import numpy as np\n",
    "import scipy.sparse as sps\n",
    "import porepy as pp"
   ]
  },
  {
   "cell_type": "code",
   "execution_count": 2,
   "id": "11b260a2",
   "metadata": {},
   "outputs": [],
   "source": [
    "Nx=100\n",
    "#Ny=10\n",
    "phys_dims=[1]\n",
    "#phys_dims=[1,1]\n",
    "#g=pp.CartGrid([Nx,Ny],phys_dims)\n",
    "g=pp.CartGrid([Nx],phys_dims)\n",
    "g.compute_geometry()            "
   ]
  },
  {
   "cell_type": "code",
   "execution_count": 3,
   "id": "ab65f156",
   "metadata": {},
   "outputs": [],
   "source": [
    "unity = np.ones(g.num_cells)\n",
    "empty = np.empty(0)\n",
    "porosity=unity\n",
    "aperture=1\n",
    "bc_type=[\"dir\",\"dir\"]\n",
    "bc_value=[0.,1.]\n",
    "init_cond=lambda x,y,z:int(x<0.5)"
   ]
  },
  {
   "cell_type": "code",
   "execution_count": 4,
   "id": "2daeb078",
   "metadata": {},
   "outputs": [],
   "source": [
    "specified_parameters = {\n",
    "            \"bc_type\": bc_type,\n",
    "            \"bc_value\": bc_value,\n",
    "            \"time_step\": 0.01,\n",
    "            \"mass_weight\": porosity * aperture,\n",
    "            \"darcy_flux\":np.ones(Nx+1),\n",
    "            \"t_max\": 1.0,\n",
    "            \"method\": \"Explicit\",\n",
    "            \"lambda_lin_decay\":0,\n",
    "            \"initial_cond\":init_cond,\n",
    "}"
   ]
  },
  {
   "cell_type": "code",
   "execution_count": 5,
   "id": "592aa0bb",
   "metadata": {},
   "outputs": [],
   "source": [
    "class Transport:\n",
    "    def __init__(self,g,parameters=None,method=\"Explicit\"):\n",
    "        \n",
    "        if not parameters:\n",
    "            parameters={}\n",
    "        if not method:\n",
    "            method={}\n",
    "        self.g=g\n",
    "        self.data=pp.initialize_data(g, {}, 'transport', parameters)\n",
    "        self.method=method\n",
    "    \n",
    "    def set_bc(self):\n",
    "        \n",
    "        tol=1e-4\n",
    "        \n",
    "        b_faces = g.tags[\"domain_boundary_faces\"].nonzero()[0]\n",
    "        bc_val = np.zeros(g.num_faces)\n",
    "        \n",
    "        if b_faces.size != 0:\n",
    "            \n",
    "            b_face_centers = g.face_centers[:, b_faces]\n",
    "            b_inflow = b_face_centers[0, :] < tol\n",
    "            b_outflow = b_face_centers[0, :] > 1-tol\n",
    "            \n",
    "            labels = np.array([\"neu\"] * b_faces.size)\n",
    "            labels[b_inflow] = self.data[pp.PARAMETERS][\"transport\"][\"bc_type\"][0]\n",
    "            labels[b_outflow] = self.data[pp.PARAMETERS][\"transport\"][\"bc_type\"][1]\n",
    "            \n",
    "            bc = pp.BoundaryCondition(g, b_faces, labels)\n",
    "            \n",
    "            bc_val[b_faces[b_inflow]] = self.data[pp.PARAMETERS][\"transport\"][\"bc_value\"][0]\n",
    "            bc_val[b_faces[b_outflow]] = self.data[pp.PARAMETERS][\"transport\"][\"bc_value\"][1]\n",
    "        \n",
    "        else:\n",
    "            bc = pp.BoundaryCondition(g) #, empty, empty)\n",
    "        \n",
    "        self.data[pp.PARAMETERS][\"transport\"][\"bc\"] = bc\n",
    "        self.data[pp.PARAMETERS][\"transport\"][\"bc_values\"]=bc_val\n",
    "        self.data[pp.PARAMETERS][\"transport\"].pop(\"bc_type\")\n",
    "        self.data[pp.PARAMETERS][\"transport\"].pop(\"bc_value\")\n",
    "        \n",
    "    def set_initial_cond(self,tracer):\n",
    "        tracer_t0=self.data[pp.PARAMETERS][\"transport\"][\"initial_cond\"]\n",
    "        for i in range(self.g.num_cells):\n",
    "            tracer[i]=tracer_t0(self.g.cell_centers[0,i],self.g.cell_centers[1,i],self.g.cell_centers[2,i])\n",
    "    \n",
    "    #def set_matrices():\n",
    "        \n",
    "    def solve(self,save_every,tracer):\n",
    "        kw_t=\"transport\"\n",
    "        node_discretization = pp.Upwind(kw_t)\n",
    "        source_discretization = pp.ScalarSource(kw_t)\n",
    "        mass_discretization = pp.MassMatrix(kw_t)\n",
    "        \n",
    "        node_discretization.discretize(self.g,self.data)\n",
    "        source_discretization.discretize(self.g,self.data)\n",
    "        mass_discretization.discretize(self.g,self.data)\n",
    "        \n",
    "        A_upwind,b_upwind=node_discretization.assemble_matrix_rhs(self.g,self.data)\n",
    "        #_,b_source=source_discretization.assemble_matrix_rhs(self.g,self.data)\n",
    "        A_mass,b_mass=mass_discretization.assemble_matrix_rhs(self.g,self.data)\n",
    "        \n",
    "        dt=self.data[pp.PARAMETERS][\"transport\"][\"time_step\"]\n",
    "        decay=self.data[pp.PARAMETERS][\"transport\"][\"lambda_lin_decay\"]\n",
    "        \n",
    "        if self.data[pp.PARAMETERS][\"transport\"][\"method\"]==\"Explicit\":\n",
    "            lhs =1/dt*A_mass\n",
    "        else:\n",
    "            lhs=1/dt*A_mass+A_upwind\n",
    "            #rhs=b_upwind+b_source+b_mass\n",
    "        \n",
    "        rhs=b_upwind+b_mass\n",
    "        IEsolver = sps.linalg.factorized(lhs)\n",
    "        \n",
    "        n_steps = int(np.round(self.data[pp.PARAMETERS][\"transport\"][\"t_max\"] / self.data[pp.PARAMETERS][\"transport\"][\"time_step\"]))\n",
    "        \n",
    "        # Exporter\n",
    "        exporter = pp.Exporter(self.g, file_name=\"tracer\",folder_name=\"solution\")\n",
    "        print(\"done\")\n",
    "        \n",
    "        for i in range(n_steps):\n",
    "            if np.isclose(i % save_every, 0):\n",
    "                # Export existing solution (final export is taken care of below)\n",
    "                exporter.write_vtu({\"tracer\":tracer}, time_step=int(i // save_every))\n",
    "                if self.data[pp.PARAMETERS][\"transport\"][\"method\"]==\"Explicit\":\n",
    "                    tracer = IEsolver((1/dt*A_mass-A_upwind-decay*A_mass)*tracer+rhs)\n",
    "                else:\n",
    "                    tracer = IEsolver((1/dt*A_mass-decay*A_mass) * tracer + rhs)\n",
    "        \n",
    "        exporter.write_vtu({\"tracer\":tracer}, time_step=(n_steps // save_every))\n",
    "        time_steps = np.arange(0,self.data[pp.PARAMETERS][\"transport\"][\"t_max\"] + self.data[pp.PARAMETERS][\"transport\"][\"time_step\"], save_every * self.data[pp.PARAMETERS][\"transport\"][\"time_step\"])\n",
    "        exporter.write_pvd(time_steps)        "
   ]
  },
  {
   "cell_type": "code",
   "execution_count": 6,
   "id": "f3aa883e",
   "metadata": {},
   "outputs": [
    {
     "name": "stdout",
     "output_type": "stream",
     "text": [
      "done\n"
     ]
    },
    {
     "name": "stderr",
     "output_type": "stream",
     "text": [
      "/home/dell/.local/lib/python3.8/site-packages/scipy/sparse/linalg/dsolve/linsolve.py:318: SparseEfficiencyWarning: splu requires CSC matrix format\n",
      "  warn('splu requires CSC matrix format', SparseEfficiencyWarning)\n"
     ]
    }
   ],
   "source": [
    "tracer=np.zeros(g.num_cells)\n",
    "transport=Transport(g,specified_parameters)\n",
    "transport.set_bc()\n",
    "transport.set_initial_cond(tracer)\n",
    "save_every=1\n",
    "transport.solve(save_every,tracer)"
   ]
  },
  {
   "cell_type": "code",
   "execution_count": null,
   "id": "dbdec9c7",
   "metadata": {},
   "outputs": [],
   "source": []
  },
  {
   "cell_type": "code",
   "execution_count": null,
   "id": "a61cbbe0",
   "metadata": {},
   "outputs": [],
   "source": []
  }
 ],
 "metadata": {
  "kernelspec": {
   "display_name": "Python 3",
   "language": "python",
   "name": "python3"
  },
  "language_info": {
   "codemirror_mode": {
    "name": "ipython",
    "version": 3
   },
   "file_extension": ".py",
   "mimetype": "text/x-python",
   "name": "python",
   "nbconvert_exporter": "python",
   "pygments_lexer": "ipython3",
   "version": "3.8.8"
  }
 },
 "nbformat": 4,
 "nbformat_minor": 5
}
