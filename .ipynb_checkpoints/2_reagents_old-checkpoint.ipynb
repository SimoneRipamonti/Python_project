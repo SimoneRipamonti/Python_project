{
 "cells": [
  {
   "cell_type": "code",
   "execution_count": null,
   "id": "cff06aae",
   "metadata": {},
   "outputs": [],
   "source": [
    "import numpy as np\n",
    "import scipy.sparse as sps\n",
    "import porepy as pp\n",
    "import math\n",
    "import sys\n",
    "import matplotlib.pyplot as plt"
   ]
  },
  {
   "cell_type": "code",
   "execution_count": null,
   "id": "056114f7",
   "metadata": {},
   "outputs": [],
   "source": [
    "#Nx = Ny = 20\n",
    "Nx=100\n",
    "h=1/Nx\n",
    "#phys_dims = [1,1]\n",
    "phys_dims=[1]\n",
    "#g = pp.CartGrid([Nx, Ny], phys_dims)\n",
    "g=pp.CartGrid([Nx],phys_dims)\n",
    "g.compute_geometry()\n",
    "pp.plot_grid(g, figsize=(15, 12))"
   ]
  },
  {
   "cell_type": "code",
   "execution_count": null,
   "id": "0cc238b0",
   "metadata": {},
   "outputs": [],
   "source": [
    "def add_transport_data_2_reagent(g):\n",
    "    tol=1e-4\n",
    "    \n",
    "    b_faces_reagent_1 = g.tags[\"domain_boundary_faces\"].nonzero()[0]\n",
    "    bc_val_reagent_1 = np.zeros(g.num_faces)\n",
    "    \n",
    "    b_faces_reagent_2 = g.tags[\"domain_boundary_faces\"].nonzero()[0]\n",
    "    bc_val_reagent_2  = np.zeros(g.num_faces)\n",
    "    \n",
    "    unity = np.ones(g.num_cells)\n",
    "    empty = np.empty(0)\n",
    "    if b_faces_reagent_1.size != 0:\n",
    "        \n",
    "        b_face_centers_reagent_1 = g.face_centers[:, b_faces_reagent_1]\n",
    "        b_inflow_reagent_1 = b_face_centers_reagent_1[0, :] < tol\n",
    "        b_outflow_reagent_1 = b_face_centers_reagent_1[0, :] > 1-tol\n",
    "\n",
    "        labels_reagent_1 = np.array([\"neu\"] * b_faces_reagent_1.size)\n",
    "        labels_reagent_1[np.logical_or(b_inflow_reagent_1, b_outflow_reagent_1)] = \"dir\"\n",
    "        bc_reagent_1 = pp.BoundaryCondition(g, b_faces_reagent_1, labels_reagent_1)\n",
    "\n",
    "        bc_val_reagent_1[b_faces_reagent_1[b_inflow_reagent_1]] = 0\n",
    "        \n",
    "        b_face_centers_reagent_2 = g.face_centers[:, b_faces_reagent_2]\n",
    "        b_inflow_reagent_2 = b_face_centers_reagent_2[0, :] < tol\n",
    "        b_outflow_reagent_2 = b_face_centers_reagent_2[0, :] > 1-tol\n",
    "\n",
    "        labels_reagent_2 = np.array([\"neu\"] * b_faces_reagent_2.size)\n",
    "        labels_reagent_2[np.logical_or(b_inflow_reagent_2, b_outflow_reagent_2)] = \"dir\"\n",
    "        bc_reagent_2 = pp.BoundaryCondition(g, b_faces_reagent_2, labels_reagent_2)\n",
    "\n",
    "        bc_val_reagent_2[b_faces_reagent_2[b_inflow_reagent_2]] = 0\n",
    "\n",
    "\n",
    "    else:\n",
    "        bc_reagent_1 = pp.BoundaryCondition(g) #, empty, empty)\n",
    "        bc_reagent_2 = pp.BoundaryCondition(g) #, empty, empty)\n",
    "    \n",
    "    porosity=unity\n",
    "    aperture=1\n",
    "    \n",
    "    specified_parameters = {\n",
    "            \"bc_reagent_1\": bc_reagent_1,\n",
    "            \"bc_values_reagent_1\": bc_val_reagent_1,\n",
    "            \"bc_reagent_2\": bc_reagent_2,\n",
    "            \"bc_values_reagent_2\": bc_val_reagent_2, \n",
    "            \"time_step\": 0.1,\n",
    "            \"mass_weight\": porosity * aperture,\n",
    "            \"darcy_flux\":np.ones(Nx+1),\n",
    "            \"t_max\": 345600,\n",
    "            \"method\": \"Implicit\",\n",
    "            }\n",
    "    d=pp.initialize_data(g, {},'transport', specified_parameters)\n",
    "    \n",
    "    return g,d"
   ]
  },
  {
   "cell_type": "code",
   "execution_count": null,
   "id": "c48615bb",
   "metadata": {},
   "outputs": [],
   "source": [
    "def add_transport_data(g):\n",
    "    tol=1e-4\n",
    "    \n",
    "    b_faces = g.tags[\"domain_boundary_faces\"].nonzero()[0]\n",
    "    bc_val = np.zeros(g.num_faces)\n",
    "    \n",
    "    unity = np.ones(g.num_cells)\n",
    "    empty = np.empty(0)\n",
    "    if b_faces.size != 0:\n",
    "        b_face_centers = g.face_centers[:, b_faces]\n",
    "        b_inflow = b_face_centers[0, :] < tol\n",
    "        b_outflow = b_face_centers[0, :] > 1-tol\n",
    "\n",
    "        labels = np.array([\"neu\"] * b_faces.size)\n",
    "        labels[np.logical_or(b_inflow, b_outflow)] = \"dir\"\n",
    "        bc = pp.BoundaryCondition(g, b_faces, labels)\n",
    "\n",
    "        bc_val[b_faces[b_inflow]] = 0\n",
    "\n",
    "    else:\n",
    "        bc = pp.BoundaryCondition(g) #, empty, empty)\n",
    "    \n",
    "    porosity=unity\n",
    "    aperture=1\n",
    "    \n",
    "    specified_parameters = {\n",
    "            \"bc\": bc,\n",
    "            \"bc_values\": bc_val,\n",
    "            \"time_step\": 0.01,\n",
    "            \"mass_weight\": porosity * aperture,\n",
    "            \"darcy_flux\":np.ones(Nx+1),\n",
    "            \"t_max\": 345600,\n",
    "            \"method\": \"Implicit\",\n",
    "            }\n",
    "    d=pp.initialize_default_data(g, {},'transport', specified_parameters)\n",
    "    \n",
    "    return g,d"
   ]
  },
  {
   "cell_type": "code",
   "execution_count": null,
   "id": "f87b40b2",
   "metadata": {},
   "outputs": [],
   "source": [
    "def add_reaction_data(g):\n",
    "    \n",
    "    specified_parameters = {\n",
    "             \"temperature\":423,\n",
    "             \"A\":1.9e-2,\n",
    "             \"rate_const\":0.004466,\n",
    "             \"E\":4700,\n",
    "             \"R\":8.314,\n",
    "             \"K_eq\":10e9,\n",
    "             \"ph\":3.5,\n",
    "            }\n",
    "    d=pp.initialize_data(g, {},'reagent', specified_parameters)\n",
    "    \n",
    "    return d"
   ]
  },
  {
   "cell_type": "code",
   "execution_count": null,
   "id": "9f0373bb",
   "metadata": {},
   "outputs": [],
   "source": [
    "def reaction_rate(d):\n",
    "    A=d[pp.PARAMETERS][\"reagent\"][\"A\"]\n",
    "    rate_const=d[pp.PARAMETERS][\"reagent\"][\"rate_const\"]\n",
    "    E=d[pp.PARAMETERS][\"reagent\"][\"E\"]\n",
    "    R=d[pp.PARAMETERS][\"reagent\"][\"R\"]\n",
    "    temperature=d[pp.PARAMETERS][\"reagent\"][\"temperature\"]\n",
    "    \n",
    "    const_r_d=A*rate_const*math.exp(-E/(R*temperature))\n",
    "    #react_const=area*rate_const*(std::exp(-E/(R*temperature)));\n",
    "    return const_r_d\n",
    "    "
   ]
  },
  {
   "cell_type": "code",
   "execution_count": null,
   "id": "b20e9926",
   "metadata": {},
   "outputs": [],
   "source": [
    "g,d=add_transport_data(g)\n",
    "print(d[pp.PARAMETERS][\"transport\"][\"t_max\"])\n",
    "d1=add_reaction_data(g)\n",
    "const_r=reaction_rate(d1)\n",
    "ph=d1[pp.PARAMETERS][\"reagent\"][\"ph\"]\n",
    "phi=d[pp.PARAMETERS][\"transport\"][\"mass_weight\"]\n",
    "K_eq=d1[pp.PARAMETERS][\"reagent\"][\"K_eq\"]\n",
    "kw_t=\"transport\""
   ]
  },
  {
   "cell_type": "code",
   "execution_count": null,
   "id": "8df51fd5",
   "metadata": {},
   "outputs": [],
   "source": [
    "def update_react(past_sol):\n",
    "    p=np.power(past_sol,2)/(K_eq*math.pow(10,-2*ph))\n",
    "    for i in range(Nx):\n",
    "        rhs[i]=h*phi[i]*max(const_r*(1.0-p[i]),0.0)\n",
    "    return rhs\n",
    "    print(h)"
   ]
  },
  {
   "cell_type": "code",
   "execution_count": null,
   "id": "92f307fa",
   "metadata": {},
   "outputs": [],
   "source": [
    "node_discretization = pp.Upwind(kw_t)\n",
    "source_discretization = pp.ScalarSource(kw_t)\n",
    "mass_discretization = pp.MassMatrix(kw_t)"
   ]
  },
  {
   "cell_type": "code",
   "execution_count": null,
   "id": "1f0956a7",
   "metadata": {},
   "outputs": [],
   "source": [
    "node_discretization.discretize(g,d)\n",
    "source_discretization.discretize(g,d)\n",
    "mass_discretization.discretize(g,d)"
   ]
  },
  {
   "cell_type": "code",
   "execution_count": 145,
   "id": "c9fe3e17",
   "metadata": {},
   "outputs": [],
   "source": [
    "A_upwind,b_upwind=node_discretization.assemble_matrix_rhs(g,d)\n",
    "_,b_source=source_discretization.assemble_matrix_rhs(g,d)\n",
    "A_mass,b_mass=mass_discretization.assemble_matrix_rhs(g,d)"
   ]
  },
  {
   "cell_type": "code",
   "execution_count": 146,
   "id": "5a47cdc7",
   "metadata": {},
   "outputs": [],
   "source": [
    "dt=d[pp.PARAMETERS][\"transport\"][\"time_step\"]\n",
    "\n",
    "if d[pp.PARAMETERS][\"transport\"][\"method\"]==\"Explicit\":\n",
    "    lhs1 =1/dt*A_mass\n",
    "    lhs2 =1/dt*A_mass\n",
    "else:\n",
    "    lhs1=1/dt*A_mass+A_upwind\n",
    "    lhs2=1/dt*A_mass    \n",
    "rhs=b_upwind+b_source+b_mass\n",
    "IEsolver1 = sps.linalg.factorized(lhs1)\n",
    "IEsolver2 = sps.linalg.factorized(lhs2)"
   ]
  },
  {
   "cell_type": "code",
   "execution_count": 147,
   "id": "e2c26242",
   "metadata": {},
   "outputs": [],
   "source": [
    "save_every = 1\n",
    "n_steps = int(np.round(d[pp.PARAMETERS][\"transport\"][\"t_max\"] / d[pp.PARAMETERS][\"transport\"][\"time_step\"]))\n",
    "# Initial condition\n",
    "Ca = np.zeros(Nx)\n",
    "#tracer[np.logical_and(g.cell_centers[0,:]<0.3, g.cell_centers[0,:]>0.2)]=1.0\n",
    "CaSiO3=16.7504*np.ones(Nx)\n",
    "\n",
    "\n",
    "\n",
    "# Exporter\n",
    "exporter = pp.Exporter(g, file_name=\"2_reagents\",folder_name=\"solution\")"
   ]
  },
  {
   "cell_type": "code",
   "execution_count": null,
   "id": "8d124854",
   "metadata": {},
   "outputs": [],
   "source": [
    "for i in range(n_steps):\n",
    "    \n",
    "    rhs_react=update_react(Ca)\n",
    "    if np.isclose(i % save_every, 0):\n",
    "        # Export existing solution (final export is taken care of below)\n",
    "        exporter.write_vtu({\"Ca\":Ca, \"CaSiO3\":CaSiO3}, time_step=int(i // save_every))\n",
    "        #exporter.write_vtu({\"CaSiO3\":CaSiO3},time_step=int(i//save_every))\n",
    "    if d[pp.PARAMETERS][\"transport\"][\"method\"]==\"Explicit\":\n",
    "        Ca = IEsolver1((1/dt*A_mass-A_upwind)*Ca+rhs+rhs_react*CaSiO3)\n",
    "        CaSiO3=IEsolver2((1/dt*A_mass)*CaSiO3)\n",
    "    else:\n",
    "        Ca = IEsolver1((1/dt*A_mass)*Ca + rhs+rhs_react*CaSiO3)\n",
    "        CaSiO3=IEsolver2((1/dt*A_mass)*CaSiO3-rhs_react*CaSiO3)\n",
    "    \n",
    "#print(1/dt*A_mass-A_upwind)\n",
    "\n",
    "exporter.write_vtu({\"Ca\":Ca, \"CaSiO3\":CaSiO3}, time_step=(n_steps // save_every))\n",
    "\n",
    "                         \n",
    "time_steps = np.arange(\n",
    "    0, d[pp.PARAMETERS][\"transport\"][\"t_max\"] + d[pp.PARAMETERS][\"transport\"][\"time_step\"], save_every * d[pp.PARAMETERS][\"transport\"][\"time_step\"]\n",
    ")\n",
    "exporter.write_pvd(time_steps)"
   ]
  },
  {
   "cell_type": "code",
   "execution_count": null,
   "id": "3db03a27",
   "metadata": {},
   "outputs": [],
   "source": []
  },
  {
   "cell_type": "code",
   "execution_count": null,
   "id": "8fd5e934",
   "metadata": {},
   "outputs": [],
   "source": []
  },
  {
   "cell_type": "code",
   "execution_count": null,
   "id": "fc949b86",
   "metadata": {},
   "outputs": [],
   "source": []
  },
  {
   "cell_type": "code",
   "execution_count": null,
   "id": "d51dc72c",
   "metadata": {},
   "outputs": [],
   "source": []
  },
  {
   "cell_type": "code",
   "execution_count": null,
   "id": "2672ebb2",
   "metadata": {},
   "outputs": [],
   "source": []
  },
  {
   "cell_type": "code",
   "execution_count": null,
   "id": "20149bae",
   "metadata": {},
   "outputs": [],
   "source": []
  }
 ],
 "metadata": {
  "kernelspec": {
   "display_name": "Python 3",
   "language": "python",
   "name": "python3"
  },
  "language_info": {
   "codemirror_mode": {
    "name": "ipython",
    "version": 3
   },
   "file_extension": ".py",
   "mimetype": "text/x-python",
   "name": "python",
   "nbconvert_exporter": "python",
   "pygments_lexer": "ipython3",
   "version": "3.8.8"
  }
 },
 "nbformat": 4,
 "nbformat_minor": 5
}
