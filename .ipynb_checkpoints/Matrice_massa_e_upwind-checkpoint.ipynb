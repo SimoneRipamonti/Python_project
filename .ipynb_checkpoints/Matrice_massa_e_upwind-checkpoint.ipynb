{
 "cells": [
  {
   "cell_type": "code",
   "execution_count": 1,
   "id": "46131a5c",
   "metadata": {},
   "outputs": [],
   "source": [
    "import numpy as np\n",
    "import scipy.sparse as sps\n",
    "import porepy as pp"
   ]
  },
  {
   "cell_type": "code",
   "execution_count": 2,
   "id": "0428e8cb",
   "metadata": {},
   "outputs": [],
   "source": [
    "import sys\n",
    "sys.path.append(\"./class\")\n",
    "from Transport_class import Transport"
   ]
  },
  {
   "cell_type": "code",
   "execution_count": 3,
   "id": "27afefe1",
   "metadata": {},
   "outputs": [],
   "source": [
    "Nx=1000\n",
    "phys_dims=[1.0]\n",
    "g=pp.CartGrid([Nx],phys_dims)\n",
    "g.compute_geometry()            "
   ]
  },
  {
   "cell_type": "code",
   "execution_count": 4,
   "id": "991a98c7",
   "metadata": {},
   "outputs": [
    {
     "name": "stdout",
     "output_type": "stream",
     "text": [
      "1001\n"
     ]
    }
   ],
   "source": [
    "unity = np.ones(g.num_cells)\n",
    "empty = np.empty(0)\n",
    "porosity=unity\n",
    "aperture=1\n",
    "bc_type=[\"dir\",\"dir\"]\n",
    "bc_value=[0.,0.]\n",
    "init_cond=lambda x,y,z:int(x<0.5)\n",
    "print(g.num_faces)"
   ]
  },
  {
   "cell_type": "code",
   "execution_count": 5,
   "id": "66bceabd",
   "metadata": {},
   "outputs": [],
   "source": [
    "specified_parameters = {\n",
    "            \"bc_type\": bc_type,\n",
    "            \"bc_value\": bc_value,\n",
    "            \"time_step\": 0.01,\n",
    "            \"mass_weight\": porosity * aperture,\n",
    "            \"darcy_flux\":np.ones(g.num_faces),\n",
    "            \"t_max\": 1,\n",
    "            \"method\": \"Explicit\",\n",
    "            \"lambda_lin_decay\":0,\n",
    "            \"initial_cond\":init_cond,\n",
    "}"
   ]
  },
  {
   "cell_type": "code",
   "execution_count": 6,
   "id": "776588d7",
   "metadata": {},
   "outputs": [],
   "source": [
    "transport=Transport(g,specified_parameters)"
   ]
  },
  {
   "cell_type": "code",
   "execution_count": 7,
   "id": "a0831071",
   "metadata": {},
   "outputs": [],
   "source": [
    "transport.set_bc()"
   ]
  },
  {
   "cell_type": "code",
   "execution_count": 8,
   "id": "5a8fb21c",
   "metadata": {},
   "outputs": [],
   "source": [
    "tracer=np.zeros(g.num_cells)"
   ]
  },
  {
   "cell_type": "code",
   "execution_count": 9,
   "id": "a5523320",
   "metadata": {},
   "outputs": [],
   "source": [
    "transport.set_initial_cond(tracer)"
   ]
  },
  {
   "cell_type": "code",
   "execution_count": 10,
   "id": "39d53ad0",
   "metadata": {},
   "outputs": [],
   "source": [
    "data=transport.data[pp.PARAMETERS][\"transport\"]\n",
    "kw_t=\"transport\"\n",
    "node_discretization = pp.Upwind(kw_t)\n",
    "source_discretization = pp.ScalarSource(kw_t)\n",
    "mass_discretization = pp.MassMatrix(kw_t)\n",
    "        \n",
    "node_discretization.discretize(transport.g,transport.data)\n",
    "source_discretization.discretize(transport.g,transport.data)\n",
    "mass_discretization.discretize(transport.g,transport.data)\n",
    "        \n",
    "A_upwind,b_upwind=node_discretization.assemble_matrix_rhs(transport.g,transport.data)\n",
    "        #_,b_source=source_discretization.assemble_matrix_rhs(self.g,self.data)\n",
    "A_mass,b_mass=mass_discretization.assemble_matrix_rhs(transport.g,transport.data)\n"
   ]
  },
  {
   "cell_type": "code",
   "execution_count": 11,
   "id": "e6492163",
   "metadata": {},
   "outputs": [
    {
     "name": "stdout",
     "output_type": "stream",
     "text": [
      "A_mass:\n",
      "  (0, 0)\t0.001\n",
      "  (1, 1)\t0.001\n",
      "  (2, 2)\t0.001\n",
      "  (3, 3)\t0.001\n",
      "  (4, 4)\t0.001\n",
      "  (5, 5)\t0.001\n",
      "  (6, 6)\t0.001\n",
      "  (7, 7)\t0.001\n",
      "  (8, 8)\t0.0010000000000000009\n",
      "  (9, 9)\t0.0009999999999999992\n",
      "  (10, 10)\t0.0009999999999999992\n",
      "  (11, 11)\t0.0010000000000000009\n",
      "  (12, 12)\t0.0010000000000000009\n",
      "  (13, 13)\t0.0009999999999999992\n",
      "  (14, 14)\t0.0009999999999999992\n",
      "  (15, 15)\t0.0010000000000000009\n",
      "  (16, 16)\t0.0010000000000000009\n",
      "  (17, 17)\t0.0010000000000000009\n",
      "  (18, 18)\t0.0009999999999999974\n",
      "  (19, 19)\t0.0010000000000000009\n",
      "  (20, 20)\t0.0010000000000000009\n",
      "  (21, 21)\t0.0009999999999999974\n",
      "  (22, 22)\t0.0010000000000000009\n",
      "  (23, 23)\t0.0010000000000000009\n",
      "  (24, 24)\t0.0010000000000000009\n",
      "  :\t:\n",
      "  (975, 975)\t0.0010000000000000009\n",
      "  (976, 976)\t0.0010000000000000009\n",
      "  (977, 977)\t0.0010000000000000009\n",
      "  (978, 978)\t0.0010000000000000009\n",
      "  (979, 979)\t0.0010000000000000009\n",
      "  (980, 980)\t0.0010000000000000009\n",
      "  (981, 981)\t0.0010000000000000009\n",
      "  (982, 982)\t0.0010000000000000009\n",
      "  (983, 983)\t0.0010000000000000009\n",
      "  (984, 984)\t0.0010000000000000009\n",
      "  (985, 985)\t0.0010000000000000009\n",
      "  (986, 986)\t0.0010000000000000009\n",
      "  (987, 987)\t0.0010000000000000009\n",
      "  (988, 988)\t0.0010000000000000009\n",
      "  (989, 989)\t0.0010000000000000009\n",
      "  (990, 990)\t0.0010000000000000009\n",
      "  (991, 991)\t0.0010000000000000009\n",
      "  (992, 992)\t0.0010000000000000009\n",
      "  (993, 993)\t0.0010000000000000009\n",
      "  (994, 994)\t0.0010000000000000009\n",
      "  (995, 995)\t0.0010000000000000009\n",
      "  (996, 996)\t0.0010000000000000009\n",
      "  (997, 997)\t0.0010000000000000009\n",
      "  (998, 998)\t0.0010000000000000009\n",
      "  (999, 999)\t0.0010000000000000009\n"
     ]
    }
   ],
   "source": [
    "print(\"A_mass:\")\n",
    "print(A_mass)"
   ]
  },
  {
   "cell_type": "code",
   "execution_count": 12,
   "id": "e308c7e8",
   "metadata": {},
   "outputs": [
    {
     "name": "stdout",
     "output_type": "stream",
     "text": [
      "A_upwind:\n",
      "  (0, 0)\t1.0\n",
      "  (1, 1)\t1.0\n",
      "  (1, 0)\t-1.0\n",
      "  (2, 2)\t1.0\n",
      "  (2, 1)\t-1.0\n",
      "  (3, 3)\t1.0\n",
      "  (3, 2)\t-1.0\n",
      "  (4, 4)\t1.0\n",
      "  (4, 3)\t-1.0\n",
      "  (5, 5)\t1.0\n",
      "  (5, 4)\t-1.0\n",
      "  (6, 6)\t1.0\n",
      "  (6, 5)\t-1.0\n",
      "  (7, 7)\t1.0\n",
      "  (7, 6)\t-1.0\n",
      "  (8, 8)\t1.0\n",
      "  (8, 7)\t-1.0\n",
      "  (9, 9)\t1.0\n",
      "  (9, 8)\t-1.0\n",
      "  (10, 10)\t1.0\n",
      "  (10, 9)\t-1.0\n",
      "  (11, 11)\t1.0\n",
      "  (11, 10)\t-1.0\n",
      "  (12, 12)\t1.0\n",
      "  (12, 11)\t-1.0\n",
      "  :\t:\n",
      "  (987, 986)\t-1.0\n",
      "  (988, 988)\t1.0\n",
      "  (988, 987)\t-1.0\n",
      "  (989, 989)\t1.0\n",
      "  (989, 988)\t-1.0\n",
      "  (990, 990)\t1.0\n",
      "  (990, 989)\t-1.0\n",
      "  (991, 991)\t1.0\n",
      "  (991, 990)\t-1.0\n",
      "  (992, 992)\t1.0\n",
      "  (992, 991)\t-1.0\n",
      "  (993, 993)\t1.0\n",
      "  (993, 992)\t-1.0\n",
      "  (994, 994)\t1.0\n",
      "  (994, 993)\t-1.0\n",
      "  (995, 995)\t1.0\n",
      "  (995, 994)\t-1.0\n",
      "  (996, 996)\t1.0\n",
      "  (996, 995)\t-1.0\n",
      "  (997, 997)\t1.0\n",
      "  (997, 996)\t-1.0\n",
      "  (998, 998)\t1.0\n",
      "  (998, 997)\t-1.0\n",
      "  (999, 999)\t1.0\n",
      "  (999, 998)\t-1.0\n"
     ]
    }
   ],
   "source": [
    "print(\"A_upwind:\")\n",
    "print(A_upwind)"
   ]
  },
  {
   "cell_type": "code",
   "execution_count": null,
   "id": "06851ffd",
   "metadata": {},
   "outputs": [],
   "source": []
  }
 ],
 "metadata": {
  "kernelspec": {
   "display_name": "Python 3",
   "language": "python",
   "name": "python3"
  },
  "language_info": {
   "codemirror_mode": {
    "name": "ipython",
    "version": 3
   },
   "file_extension": ".py",
   "mimetype": "text/x-python",
   "name": "python",
   "nbconvert_exporter": "python",
   "pygments_lexer": "ipython3",
   "version": "3.8.8"
  }
 },
 "nbformat": 4,
 "nbformat_minor": 5
}
