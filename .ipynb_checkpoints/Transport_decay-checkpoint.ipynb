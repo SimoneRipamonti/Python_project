{
 "cells": [
  {
   "cell_type": "code",
   "execution_count": 1,
   "id": "7f6bef96",
   "metadata": {},
   "outputs": [],
   "source": [
    "import numpy as np\n",
    "import scipy.sparse as sps\n",
    "import porepy as pp"
   ]
  },
  {
   "cell_type": "code",
   "execution_count": 2,
   "id": "87745889",
   "metadata": {},
   "outputs": [],
   "source": [
    "Nx=100\n",
    "phys_dims=[1]\n",
    "g=pp.CartGrid([Nx],phys_dims)\n",
    "g.compute_geometry()\n",
    "#pp.plot_grid(g,figsize=(15,12))\n",
    "#pp.plot_grid(g)"
   ]
  },
  {
   "cell_type": "code",
   "execution_count": 3,
   "id": "b37a20fd",
   "metadata": {},
   "outputs": [],
   "source": [
    "def add_transport_data(g):\n",
    "    tol=1e-4\n",
    "    \n",
    "    b_faces = g.tags[\"domain_boundary_faces\"].nonzero()[0]\n",
    "    bc_val = np.zeros(g.num_faces)\n",
    "    \n",
    "    unity = np.ones(g.num_cells)\n",
    "    empty = np.empty(0)\n",
    "    if b_faces.size != 0:\n",
    "        b_face_centers = g.face_centers[:, b_faces]\n",
    "        b_inflow = b_face_centers[0, :] < tol\n",
    "        b_outflow = b_face_centers[0, :] > 1-tol\n",
    "\n",
    "        labels = np.array([\"neu\"] * b_faces.size)\n",
    "        labels[np.logical_or(b_inflow, b_outflow)] = \"dir\"\n",
    "        bc = pp.BoundaryCondition(g, b_faces, labels)\n",
    "\n",
    "        bc_val[b_faces[b_inflow]] = 0\n",
    "\n",
    "    else:\n",
    "        bc = pp.BoundaryCondition(g) #, empty, empty)\n",
    "    \n",
    "    porosity=unity\n",
    "    aperture=1\n",
    "    \n",
    "    specified_parameters = {\n",
    "            \"bc\": bc,\n",
    "            \"bc_values\": bc_val,\n",
    "            \"time_step\": 0.01,\n",
    "            \"mass_weight\": porosity * aperture,\n",
    "            \"darcy_flux\":np.ones(Nx+1),\n",
    "            \"t_max\": 1.0,\n",
    "            \"method\": \"Implicit\",\n",
    "            \"lambda_lin_decay\":0,\n",
    "            }\n",
    "    d=pp.initialize_default_data(g, {},'transport', specified_parameters)\n",
    "    \n",
    "    return g,d"
   ]
  },
  {
   "cell_type": "code",
   "execution_count": 4,
   "id": "b9c37f7a",
   "metadata": {},
   "outputs": [],
   "source": [
    "g,d=add_transport_data(g)\n",
    "kw_t = 'transport'"
   ]
  },
  {
   "cell_type": "code",
   "execution_count": 5,
   "id": "e14262a8",
   "metadata": {},
   "outputs": [],
   "source": [
    "node_discretization = pp.Upwind(kw_t)\n",
    "source_discretization = pp.ScalarSource(kw_t)\n",
    "mass_discretization = pp.MassMatrix(kw_t)"
   ]
  },
  {
   "cell_type": "code",
   "execution_count": 6,
   "id": "7cd1e780",
   "metadata": {},
   "outputs": [],
   "source": [
    "#d[pp.PARAMETERS][\"transport\"][\"darcy_flux\"]"
   ]
  },
  {
   "cell_type": "code",
   "execution_count": 7,
   "id": "bfdd6106",
   "metadata": {},
   "outputs": [],
   "source": [
    "node_discretization.discretize(g,d)\n",
    "source_discretization.discretize(g,d)\n",
    "mass_discretization.discretize(g,d)"
   ]
  },
  {
   "cell_type": "code",
   "execution_count": 8,
   "id": "6d7f61e6",
   "metadata": {},
   "outputs": [],
   "source": [
    "A_upwind,b_upwind=node_discretization.assemble_matrix_rhs(g,d)\n",
    "_,b_source=source_discretization.assemble_matrix_rhs(g,d)\n",
    "A_mass,b_mass=mass_discretization.assemble_matrix_rhs(g,d)"
   ]
  },
  {
   "cell_type": "code",
   "execution_count": 9,
   "id": "86e7142f",
   "metadata": {},
   "outputs": [
    {
     "name": "stderr",
     "output_type": "stream",
     "text": [
      "/home/dell/.local/lib/python3.8/site-packages/scipy/sparse/linalg/dsolve/linsolve.py:318: SparseEfficiencyWarning: splu requires CSC matrix format\n",
      "  warn('splu requires CSC matrix format', SparseEfficiencyWarning)\n"
     ]
    }
   ],
   "source": [
    "dt=d[pp.PARAMETERS][\"transport\"][\"time_step\"]\n",
    "decay=d[pp.PARAMETERS][\"transport\"][\"lambda_lin_decay\"]\n",
    "\n",
    "\n",
    "if d[pp.PARAMETERS][\"transport\"][\"method\"]==\"Explicit\":\n",
    "    lhs =1/dt*A_mass\n",
    "else:\n",
    "    lhs=1/dt*A_mass+A_upwind\n",
    "rhs=b_upwind+b_source+b_mass\n",
    "IEsolver = sps.linalg.factorized(lhs)"
   ]
  },
  {
   "cell_type": "code",
   "execution_count": 10,
   "id": "7b102949",
   "metadata": {},
   "outputs": [],
   "source": [
    "save_every = 1\n",
    "n_steps = int(np.round(d[pp.PARAMETERS][\"transport\"][\"t_max\"] / d[pp.PARAMETERS][\"transport\"][\"time_step\"]))\n",
    "\n",
    "# Initial condition\n",
    "tracer = np.zeros(Nx)\n",
    "#tracer[np.logical_and(g.cell_centers[0,:]<0.3, g.cell_centers[0,:]>0.2)]=1.0\n",
    "tracer[g.cell_centers[0,:]<0.5]=1.0\n",
    "\n",
    "\n",
    "# Exporter\n",
    "exporter = pp.Exporter(g, file_name=\"tracer\",folder_name=\"solution\")\n",
    "\n"
   ]
  },
  {
   "cell_type": "code",
   "execution_count": 11,
   "id": "2808dd7e",
   "metadata": {},
   "outputs": [],
   "source": [
    "for i in range(n_steps):\n",
    "    \n",
    "    if np.isclose(i % save_every, 0):\n",
    "        # Export existing solution (final export is taken care of below)\n",
    "        exporter.write_vtu({\"tracer\":tracer}, time_step=int(i // save_every))\n",
    "    if d[pp.PARAMETERS][\"transport\"][\"method\"]==\"Explicit\":\n",
    "        tracer = IEsolver((1/dt*A_mass-A_upwind-decay*A_mass)*tracer+rhs)\n",
    "    else:\n",
    "        tracer = IEsolver((1/dt*A_mass-decay*A_mass) * tracer + rhs)\n",
    "    \n",
    "#print(1/dt*A_mass-A_upwind)\n",
    "\n",
    "    \n",
    "    \n",
    "\n",
    "exporter.write_vtu({\"tracer\":tracer}, time_step=(n_steps // save_every))\n",
    "time_steps = np.arange(\n",
    "    0, d[pp.PARAMETERS][\"transport\"][\"t_max\"] + d[pp.PARAMETERS][\"transport\"][\"time_step\"], save_every * d[pp.PARAMETERS][\"transport\"][\"time_step\"]\n",
    ")\n",
    "exporter.write_pvd(time_steps)\n"
   ]
  },
  {
   "cell_type": "code",
   "execution_count": 12,
   "id": "4dd4b723",
   "metadata": {},
   "outputs": [],
   "source": [
    "#pp.plot_grid(g,tracer)"
   ]
  },
  {
   "cell_type": "code",
   "execution_count": null,
   "id": "6eb0cdaa",
   "metadata": {},
   "outputs": [],
   "source": []
  },
  {
   "cell_type": "code",
   "execution_count": null,
   "id": "89f6f723",
   "metadata": {},
   "outputs": [],
   "source": []
  },
  {
   "cell_type": "code",
   "execution_count": null,
   "id": "3aa53a34",
   "metadata": {},
   "outputs": [],
   "source": []
  },
  {
   "cell_type": "code",
   "execution_count": null,
   "id": "9a5accb4",
   "metadata": {},
   "outputs": [],
   "source": []
  },
  {
   "cell_type": "code",
   "execution_count": null,
   "id": "debdce9e",
   "metadata": {},
   "outputs": [],
   "source": []
  },
  {
   "cell_type": "code",
   "execution_count": null,
   "id": "98d41266",
   "metadata": {},
   "outputs": [],
   "source": []
  },
  {
   "cell_type": "code",
   "execution_count": null,
   "id": "d7926c26",
   "metadata": {},
   "outputs": [],
   "source": []
  },
  {
   "cell_type": "code",
   "execution_count": null,
   "id": "ca8731a7",
   "metadata": {},
   "outputs": [],
   "source": []
  }
 ],
 "metadata": {
  "kernelspec": {
   "display_name": "Python 3",
   "language": "python",
   "name": "python3"
  },
  "language_info": {
   "codemirror_mode": {
    "name": "ipython",
    "version": 3
   },
   "file_extension": ".py",
   "mimetype": "text/x-python",
   "name": "python",
   "nbconvert_exporter": "python",
   "pygments_lexer": "ipython3",
   "version": "3.8.8"
  }
 },
 "nbformat": 4,
 "nbformat_minor": 5
}
