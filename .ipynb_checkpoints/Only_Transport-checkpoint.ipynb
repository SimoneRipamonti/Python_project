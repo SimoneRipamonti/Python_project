{
 "cells": [
  {
   "cell_type": "code",
   "execution_count": 1,
   "id": "cab11968",
   "metadata": {},
   "outputs": [],
   "source": [
    "import numpy as np\n",
    "import scipy.sparse as sps\n",
    "import porepy as pp"
   ]
  },
  {
   "cell_type": "code",
   "execution_count": 2,
   "id": "95998084",
   "metadata": {},
   "outputs": [],
   "source": [
    "Nx=Ny=20\n",
    "phys_dims=[1,1]\n",
    "g=pp.CartGrid([Nx,Ny],phys_dims)\n",
    "g.compute_geometry()"
   ]
  },
  {
   "cell_type": "code",
   "execution_count": 3,
   "id": "d8bc4662",
   "metadata": {},
   "outputs": [],
   "source": [
    "def add_transport_data(g):\n",
    "    tol=1e-4\n",
    "    \n",
    "    b_faces = g.tags[\"domain_boundary_faces\"].nonzero()[0]\n",
    "    bc_val = np.zeros(g.num_faces)\n",
    "    \n",
    "    unity = np.ones(g.num_cells)\n",
    "    empty = np.empty(0)\n",
    "    if b_faces.size != 0:\n",
    "        b_face_centers = g.face_centers[:, b_faces]\n",
    "        b_inflow = b_face_centers[0, :] < tol\n",
    "        b_outflow = b_face_centers[0, :] > 1-tol\n",
    "\n",
    "        labels = np.array([\"neu\"] * b_faces.size)\n",
    "        labels[np.logical_or(b_inflow, b_outflow)] = \"dir\"\n",
    "        bc = pp.BoundaryCondition(g, b_faces, labels)\n",
    "\n",
    "        bc_val[b_faces[b_inflow]] = 1\n",
    "\n",
    "    else:\n",
    "        bc = pp.BoundaryCondition(g) #, empty, empty)\n",
    "    \n",
    "    porosity=0.2*unity\n",
    "    aperture=1\n",
    "    \n",
    "    specified_parameters = {\n",
    "            \"bc\": bc,\n",
    "            \"bc_values\": bc_val,\n",
    "            \"time_step\": 1 / 60,\n",
    "            \"mass_weight\": porosity * aperture,\n",
    "            \"t_max\": 1 / 3,\n",
    "            }\n",
    "    d=pp.initialize_default_data(g, {},'transport', specified_parameters)\n",
    "    \n",
    "    return g,d"
   ]
  },
  {
   "cell_type": "code",
   "execution_count": 19,
   "id": "de28b554",
   "metadata": {},
   "outputs": [],
   "source": [
    "g,d=add_transport_data(g)\n",
    "kw_t = 'transport'"
   ]
  },
  {
   "cell_type": "code",
   "execution_count": 22,
   "id": "f30605ef",
   "metadata": {},
   "outputs": [],
   "source": [
    "grid_variable = \"tracer\"\n",
    "\n",
    "# Identifier of the discretization operator on each grid\n",
    "advection_term = \"advection\"\n",
    "source_term = \"source\"\n",
    "mass_term = \"mass\"\n",
    "\n",
    "# Discretization objects\n",
    "node_discretization = pp.Upwind(kw_t)\n",
    "source_discretization = pp.ScalarSource(kw_t)\n",
    "mass_discretization = pp.MassMatrix(kw_t)\n",
    "\n",
    "\n",
    "# Assign primary variables on this grid. It has one degree of freedom per cell.\n",
    "d[pp.PRIMARY_VARIABLES] = {grid_variable: {\"cells\": 1, \"faces\": 0}}\n",
    "# Assign discretization operator for the variable.\n",
    "d[pp.DISCRETIZATION] = {\n",
    "    grid_variable: {\n",
    "        advection_term: node_discretization,\n",
    "        source_term: source_discretization,\n",
    "        mass_term: mass_discretization,\n",
    "    }\n",
    "}\n",
    "if g.dim == 2:\n",
    "        data = d[pp.PARAMETERS][kw_t]\n"
   ]
  },
  {
   "cell_type": "code",
   "execution_count": 29,
   "id": "2cc7423c",
   "metadata": {},
   "outputs": [
    {
     "data": {
      "text/plain": [
       "{'advection': Discretization of type Upwind with keyword transport,\n",
       " 'source': Discretization of type ScalarSource with keyword transport,\n",
       " 'mass': Discretization of type MassMatrix with keyword transport}"
      ]
     },
     "execution_count": 29,
     "metadata": {},
     "output_type": "execute_result"
    }
   ],
   "source": []
  },
  {
   "cell_type": "code",
   "execution_count": null,
   "id": "6164b5b4",
   "metadata": {},
   "outputs": [],
   "source": []
  }
 ],
 "metadata": {
  "kernelspec": {
   "display_name": "Python 3 (ipykernel)",
   "language": "python",
   "name": "python3"
  },
  "language_info": {
   "codemirror_mode": {
    "name": "ipython",
    "version": 3
   },
   "file_extension": ".py",
   "mimetype": "text/x-python",
   "name": "python",
   "nbconvert_exporter": "python",
   "pygments_lexer": "ipython3",
   "version": "3.8.11"
  }
 },
 "nbformat": 4,
 "nbformat_minor": 5
}
