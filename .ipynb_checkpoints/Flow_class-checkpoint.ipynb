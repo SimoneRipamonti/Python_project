{
 "cells": [
  {
   "cell_type": "code",
   "execution_count": 1,
   "id": "1ec10185",
   "metadata": {},
   "outputs": [],
   "source": [
    "import numpy as np\n",
    "import scipy.sparse as sps\n",
    "import porepy as pp\n",
    "import math\n",
    "import matplotlib.pyplot as plt"
   ]
  },
  {
   "cell_type": "code",
   "execution_count": 2,
   "id": "d35296bb",
   "metadata": {},
   "outputs": [],
   "source": [
    "Nx=100\n",
    "#phys_dims=[1,1]\n",
    "phys_dims=[1]\n",
    "#g=pp.CartGrid([Nx,Ny],phys_dims)\n",
    "g=pp.CartGrid([Nx],phys_dims)\n",
    "g.compute_geometry()\n",
    "#pp.plot_grid(g,figsize=(15,12))\n",
    "#p.plot_grid(g)"
   ]
  },
  {
   "cell_type": "code",
   "execution_count": 3,
   "id": "d6ce52bd",
   "metadata": {},
   "outputs": [],
   "source": [
    "# Permeability\n",
    "perm = pp.SecondOrderTensor(1e-7*np.ones(g.num_cells))                     \n",
    "f_lambda= lambda x,y,z: math.sin(4*math.pi*x)\n",
    "# Boundary conditions\n",
    "b_faces = g.tags['domain_boundary_faces'].nonzero()[0]\n",
    "bc = pp.BoundaryCondition(g, b_faces, ['dir']*b_faces.size)\n",
    "bc_val = np.zeros(g.num_faces)\n",
    "bc_val[0]=1e6\n",
    "bc_val[bc_val.size-1]=-800000.0\n",
    "\n",
    "# Collect all parameters in a dictionary\n",
    "parameters = {\"second_order_tensor\": perm, \"f_lambda\": f_lambda, \"bc\": bc, \"bc_values\": bc_val}"
   ]
  },
  {
   "cell_type": "code",
   "execution_count": 4,
   "id": "fe4bfb10",
   "metadata": {},
   "outputs": [],
   "source": [
    "class Flow:\n",
    "    def __init__(self,g,parameters=None,method=\"Tpfa\"):\n",
    "        \n",
    "        if not parameters:\n",
    "            parameters={}\n",
    "        if not method:\n",
    "            method={}\n",
    "        self.g=g\n",
    "        self.data=pp.initialize_data(g, {}, 'flow', parameters)\n",
    "        self.method=method\n",
    "    \n",
    "    def set_source(self):\n",
    "        f=np.zeros(Nx)\n",
    "        f_lambda=self.data[pp.PARAMETERS][\"flow\"][\"f_lambda\"]\n",
    "        for i in range(self.g.num_cells):\n",
    "            f[i]=0.01*f_lambda(self.g.cell_centers[0,i],self.g.cell_centers[1,i],self.g.cell_centers[2,i])\n",
    "        self.data[pp.PARAMETERS]['flow'][\"source\"]=f\n",
    "        \n",
    "        \n",
    "    \n",
    "    def solve(self):\n",
    "        if(self.method==\"Tpfa\"):\n",
    "            print(\"Tpfa\")\n",
    "            flow_discretization = pp.Tpfa(\"flow\")\n",
    "        elif(self.method==\"Mpfa\"):\n",
    "            flow_discretization = pp.Mpfa(\"flow\")\n",
    "        elif(self.method==\"MVEM\"):\n",
    "            print(self.method)\n",
    "            flow_discretization = pp.MVEM(\"flow\")\n",
    "    \n",
    "        flow_discretization.discretize(self.g, self.data)\n",
    "        A, b_flow = flow_discretization.assemble_matrix_rhs(self.g, self.data)\n",
    "        \n",
    "        if(self.method==\"MVEM\"):\n",
    "            rhs_discretization = pp.DualScalarSource(\"flow\")\n",
    "        else:\n",
    "            rhs_discretization = pp.ScalarSource(\"flow\")\n",
    "        \n",
    "        rhs_discretization.discretize(self.g, self.data)\n",
    "        _, b_rhs = rhs_discretization.assemble_matrix_rhs(self.g, self.data)\n",
    "        \n",
    "        if(self.method==\"MVEM\"):\n",
    "            up = sps.linalg.spsolve(A, b_flow+b_rhs)\n",
    "            p=flow_discretization.extract_pressure(self.g, up, self.data)\n",
    "        else:\n",
    "            p = sps.linalg.spsolve(A, b_flow+b_rhs)\n",
    "        return p\n",
    "    \n",
    "    def print_pressure(self,p):\n",
    "        pp.plot_grid(self.g,p,figsize=(15,12))\n",
    " \n",
    "            \n",
    "        \n",
    "\n",
    "    \n",
    "         \n",
    "        \n",
    "        "
   ]
  },
  {
   "cell_type": "code",
   "execution_count": 9,
   "id": "1d013dbe",
   "metadata": {},
   "outputs": [
    {
     "name": "stdout",
     "output_type": "stream",
     "text": [
      "Tpfa\n"
     ]
    }
   ],
   "source": [
    "flow=Flow(g,parameters,\"Tpfa\")\n",
    "flow.set_source()\n",
    "p=flow.solve()"
   ]
  },
  {
   "cell_type": "code",
   "execution_count": 10,
   "id": "f066e39b",
   "metadata": {},
   "outputs": [
    {
     "data": {
      "text/plain": [
       "[<matplotlib.lines.Line2D at 0x7f219cced2b0>]"
      ]
     },
     "execution_count": 10,
     "metadata": {},
     "output_type": "execute_result"
    },
    {
     "data": {
      "image/png": "[encoded data removed]",
      "text/plain": [
       "<Figure size 432x288 with 1 Axes>"
      ]
     },
     "metadata": {
      "needs_background": "light"
     },
     "output_type": "display_data"
    }
   ],
   "source": [
    "h=1/Nx\n",
    "x=np.linspace(1/(2*Nx),1-1/(2*Nx),Nx)\n",
    "plt.plot(x,p)"
   ]
  },
  {
   "cell_type": "code",
   "execution_count": null,
   "id": "6bdbdcb3",
   "metadata": {},
   "outputs": [],
   "source": []
  },
  {
   "cell_type": "code",
   "execution_count": null,
   "id": "acd9ea20",
   "metadata": {},
   "outputs": [],
   "source": []
  }
 ],
 "metadata": {
  "kernelspec": {
   "display_name": "Python 3",
   "language": "python",
   "name": "python3"
  },
  "language_info": {
   "codemirror_mode": {
    "name": "ipython",
    "version": 3
   },
   "file_extension": ".py",
   "mimetype": "text/x-python",
   "name": "python",
   "nbconvert_exporter": "python",
   "pygments_lexer": "ipython3",
   "version": "3.8.8"
  }
 },
 "nbformat": 4,
 "nbformat_minor": 5
}
