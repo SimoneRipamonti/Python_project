{
 "cells": [
  {
   "cell_type": "code",
   "execution_count": null,
   "id": "cc4bba91",
   "metadata": {},
   "outputs": [],
   "source": [
    "import numpy as np\n",
    "import scipy.sparse as sps\n",
    "import porepy as pp"
   ]
  },
  {
   "cell_type": "code",
   "execution_count": null,
   "id": "8ace90b2",
   "metadata": {},
   "outputs": [],
   "source": [
    "Nx = Ny = 20\n",
    "phys_dims = [1,1]\n",
    "g = pp.CartGrid([Nx, Ny], phys_dims)\n",
    "g.compute_geometry()"
   ]
  },
  {
   "cell_type": "code",
   "execution_count": null,
   "id": "871861b1",
   "metadata": {},
   "outputs": [],
   "source": [
    "# Permeability\n",
    "perm = pp.SecondOrderTensor(np.ones(g.num_cells))"
   ]
  },
  {
   "cell_type": "code",
   "execution_count": null,
   "id": "0df99f19",
   "metadata": {},
   "outputs": [],
   "source": [
    "# Unitary scalar source already integrated in each cell\n",
    "f = g.cell_volumes"
   ]
  },
  {
   "cell_type": "code",
   "execution_count": null,
   "id": "9652715f",
   "metadata": {},
   "outputs": [],
   "source": [
    "# Boundary conditions\n",
    "b_faces = g.tags['domain_boundary_faces'].nonzero()[0]\n",
    "bc = pp.BoundaryCondition(g, b_faces, ['dir']*b_faces.size)\n",
    "bc_val = np.zeros(g.num_faces)"
   ]
  },
  {
   "cell_type": "code",
   "execution_count": null,
   "id": "9adfbea6",
   "metadata": {},
   "outputs": [],
   "source": [
    "# Collect all parameters in a dictionary\n",
    "parameters = {\"second_order_tensor\": perm, \"source\": f, \"bc\": bc, \"bc_values\": bc_val}"
   ]
  },
  {
   "cell_type": "code",
   "execution_count": null,
   "id": "1316696f",
   "metadata": {},
   "outputs": [],
   "source": [
    "data_key = \"flow\"\n",
    "data = pp.initialize_default_data(g, {}, data_key, parameters)"
   ]
  },
  {
   "cell_type": "code",
   "execution_count": null,
   "id": "33192742",
   "metadata": {},
   "outputs": [],
   "source": [
    "flow_discretization = pp.Tpfa(data_key)\n",
    "flow_discretization.discretize(g, data)\n",
    "A, b_flow = flow_discretization.assemble_matrix_rhs(g, data)"
   ]
  },
  {
   "cell_type": "code",
   "execution_count": null,
   "id": "536972e3",
   "metadata": {},
   "outputs": [],
   "source": [
    "rhs_discretization = pp.ScalarSource(data_key)\n",
    "rhs_discretization.discretize(g, data)\n",
    "_, b_rhs = rhs_discretization.assemble_matrix_rhs(g, data)"
   ]
  },
  {
   "cell_type": "code",
   "execution_count": null,
   "id": "8c05587b",
   "metadata": {},
   "outputs": [],
   "source": [
    "p_tpfa = sps.linalg.spsolve(A, b_flow+b_rhs)"
   ]
  },
  {
   "cell_type": "code",
   "execution_count": null,
   "id": "5e526e1d",
   "metadata": {},
   "outputs": [],
   "source": [
    "# CALCOLO FLUSSO\n",
    "# Dopo aver chiamato il discretize nei data hai anche le matrici di cui ti parlavo\n",
    "# Puoi chiamare lo stesso la funzione ma prima dobbiamo aggiungere la pressione ai ``dati''"
   ]
  },
  {
   "cell_type": "code",
   "execution_count": null,
   "id": "29bf67e1",
   "metadata": {},
   "outputs": [],
   "source": [
    "data[pp.STATE] = {\"pressure\": p_tpfa}\n",
    "pp.fvutils.compute_darcy_flux(g, data=data)"
   ]
  },
  {
   "cell_type": "code",
   "execution_count": null,
   "id": "ba7fc066",
   "metadata": {},
   "outputs": [],
   "source": [
    "# puoi quindi estrarre il tuo flusso di Darcy\n",
    "darcy_flux = data[pp.PARAMETERS][data_key][\"darcy_flux\"]"
   ]
  }
 ],
 "metadata": {
  "kernelspec": {
   "display_name": "Python 3",
   "language": "python",
   "name": "python3"
  },
  "language_info": {
   "codemirror_mode": {
    "name": "ipython",
    "version": 3
   },
   "file_extension": ".py",
   "mimetype": "text/x-python",
   "name": "python",
   "nbconvert_exporter": "python",
   "pygments_lexer": "ipython3",
   "version": "3.8.8"
  }
 },
 "nbformat": 4,
 "nbformat_minor": 5
}
