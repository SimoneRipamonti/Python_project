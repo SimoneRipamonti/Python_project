{
 "cells": [
  {
   "cell_type": "code",
   "execution_count": 1,
   "id": "2a5dbc20",
   "metadata": {},
   "outputs": [],
   "source": [
    "import numpy as np\n",
    "import scipy.sparse as sps\n",
    "import porepy as pp"
   ]
  },
  {
   "cell_type": "code",
   "execution_count": 2,
   "id": "a7c8308c",
   "metadata": {},
   "outputs": [
    {
     "name": "stderr",
     "output_type": "stream",
     "text": [
      "/home/dell/.local/lib/python3.8/site-packages/scipy/sparse/linalg/dsolve/linsolve.py:318: SparseEfficiencyWarning: splu requires CSC matrix format\n",
      "  warn('splu requires CSC matrix format', SparseEfficiencyWarning)\n"
     ]
    }
   ],
   "source": [
    "import sys\n",
    "sys.path.append(\".\")\n",
    "from Transport_class import Transport\n",
    "from Reaction_class import Reaction"
   ]
  },
  {
   "cell_type": "code",
   "execution_count": 3,
   "id": "0dc532bb",
   "metadata": {},
   "outputs": [],
   "source": [
    "Nx=100\n",
    "#Ny=10\n",
    "L=0.045\n",
    "h=L/Nx\n",
    "phys_dims=[L]\n",
    "#phys_dims=[1,1]\n",
    "#g=pp.CartGrid([Nx,Ny],phys_dims)\n",
    "g=pp.CartGrid([Nx],phys_dims)\n",
    "g.compute_geometry()  "
   ]
  },
  {
   "cell_type": "code",
   "execution_count": 4,
   "id": "eebdbca5",
   "metadata": {},
   "outputs": [],
   "source": [
    "unity = np.ones(g.num_cells)\n",
    "empty = np.empty(0)\n",
    "porosity=unity\n",
    "aperture=1"
   ]
  },
  {
   "cell_type": "code",
   "execution_count": 5,
   "id": "c032fa54",
   "metadata": {},
   "outputs": [],
   "source": [
    "bc_type_Ca=[\"dir\",\"dir\"]\n",
    "bc_value_Ca=[0.,0.]\n",
    "#init_cond_Ca=lambda x,y,z:int(x<0.5)\n",
    "init_cond_Ca=lambda x,y,z:0.0"
   ]
  },
  {
   "cell_type": "code",
   "execution_count": 6,
   "id": "5a7745f3",
   "metadata": {},
   "outputs": [],
   "source": [
    "bc_type_CaSiO3=[\"dir\",\"dir\"]\n",
    "bc_value_CaSiO3=[0.,0.]\n",
    "#init_cond_CaSiO3=lambda x,y,z:int(x<0.5)\n",
    "init_cond_CaSiO3=lambda x,y,z:16.7504"
   ]
  },
  {
   "cell_type": "code",
   "execution_count": 7,
   "id": "ef7a30ef",
   "metadata": {},
   "outputs": [],
   "source": [
    "reaction_data={\"temperature\":423,\n",
    "       \"A\":1.9e-2,\n",
    "       \"rate_const\":0.004466,\n",
    "       \"E\":4700,\n",
    "       \"R\":8.314,\n",
    "       \"K_eq\":10e9,\n",
    "       \"ph\":3.5,\n",
    "       \"mass_weight\":1}"
   ]
  },
  {
   "cell_type": "code",
   "execution_count": 8,
   "id": "c79b5946",
   "metadata": {},
   "outputs": [],
   "source": [
    "reaction=Reaction(g,reaction_data)\n",
    "reaction.set_const_rate()"
   ]
  },
  {
   "cell_type": "code",
   "execution_count": 9,
   "id": "07bdbce5",
   "metadata": {},
   "outputs": [],
   "source": [
    "data_reagent_Ca = {\"bc_type\": bc_type_Ca,\n",
    "            \"bc_value\": bc_value_Ca,\n",
    "            \"time_step\": 34.56,\n",
    "            \"mass_weight\": porosity * aperture,\n",
    "            \"darcy_flux\":np.zeros(Nx+1),\n",
    "            \"t_max\": 345600,\n",
    "            \"method\": \"Implicit\",\n",
    "            \"lambda_lin_decay\":0,\n",
    "            \"initial_cond\":init_cond_Ca}"
   ]
  },
  {
   "cell_type": "code",
   "execution_count": 10,
   "id": "7f1879cb",
   "metadata": {},
   "outputs": [],
   "source": [
    "data_reagent_CaSiO3= {\"bc_type\": bc_type_CaSiO3,\n",
    "            \"bc_value\": bc_value_CaSiO3,\n",
    "            \"time_step\": 34.56,\n",
    "            \"mass_weight\": porosity * aperture,\n",
    "            \"darcy_flux\":np.zeros(Nx+1),\n",
    "            \"t_max\": 345600,\n",
    "            \"method\": \"Implicit\",\n",
    "            \"lambda_lin_decay\":0,\n",
    "            \"initial_cond\":init_cond_CaSiO3}"
   ]
  },
  {
   "cell_type": "code",
   "execution_count": 11,
   "id": "93428866",
   "metadata": {},
   "outputs": [],
   "source": [
    "Ca=np.zeros(g.num_cells)\n",
    "Ca_transport=Transport(g,data_reagent_Ca)\n",
    "Ca_transport.set_bc()\n",
    "Ca_transport.set_initial_cond(Ca)\n",
    "Ca_lhs,Ca_rhs_b,Ca_rhs_matrix=Ca_transport.get_transport_lhs_rhs()"
   ]
  },
  {
   "cell_type": "code",
   "execution_count": 12,
   "id": "cc440876",
   "metadata": {},
   "outputs": [],
   "source": [
    "CaSiO3=np.zeros(g.num_cells)\n",
    "CaSiO3_transport=Transport(g,data_reagent_CaSiO3)\n",
    "CaSiO3_transport.set_bc()\n",
    "CaSiO3_transport.set_initial_cond(CaSiO3)\n",
    "CaSiO3_lhs,CaSiO3_rhs_b,CaSiO3_rhs_matrix=CaSiO3_transport.get_transport_lhs_rhs()"
   ]
  },
  {
   "cell_type": "code",
   "execution_count": 13,
   "id": "de72b6cc",
   "metadata": {},
   "outputs": [],
   "source": [
    "Ca_IEsolver = sps.linalg.factorized(Ca_lhs)\n",
    "CaSiO3_IEsolver = sps.linalg.factorized(CaSiO3_lhs)"
   ]
  },
  {
   "cell_type": "code",
   "execution_count": 14,
   "id": "7b9bcc1a",
   "metadata": {},
   "outputs": [],
   "source": [
    "data_transport=Ca_transport.data[pp.PARAMETERS][\"transport\"]\n",
    "dt=n_steps = int(np.round(data_transport[\"t_max\"] / data_transport[\"time_step\"]))\n",
    "\n",
    "save_every=1\n",
    "exporter = pp.Exporter(g, file_name=\"2_reagents\",folder_name=\"solution\")"
   ]
  },
  {
   "cell_type": "code",
   "execution_count": 15,
   "id": "a2157a62",
   "metadata": {},
   "outputs": [
    {
     "name": "stdout",
     "output_type": "stream",
     "text": [
      "[16.7097394 16.7097394 16.7097394 16.7097394 16.7097394 16.7097394\n",
      " 16.7097394 16.7097394 16.7097394 16.7097394 16.7097394 16.7097394\n",
      " 16.7097394 16.7097394 16.7097394 16.7097394 16.7097394 16.7097394\n",
      " 16.7097394 16.7097394 16.7097394 16.7097394 16.7097394 16.7097394\n",
      " 16.7097394 16.7097394 16.7097394 16.7097394 16.7097394 16.7097394\n",
      " 16.7097394 16.7097394 16.7097394 16.7097394 16.7097394 16.7097394\n",
      " 16.7097394 16.7097394 16.7097394 16.7097394 16.7097394 16.7097394\n",
      " 16.7097394 16.7097394 16.7097394 16.7097394 16.7097394 16.7097394\n",
      " 16.7097394 16.7097394 16.7097394 16.7097394 16.7097394 16.7097394\n",
      " 16.7097394 16.7097394 16.7097394 16.7097394 16.7097394 16.7097394\n",
      " 16.7097394 16.7097394 16.7097394 16.7097394 16.7097394 16.7097394\n",
      " 16.7097394 16.7097394 16.7097394 16.7097394 16.7097394 16.7097394\n",
      " 16.7097394 16.7097394 16.7097394 16.7097394 16.7097394 16.7097394\n",
      " 16.7097394 16.7097394 16.7097394 16.7097394 16.7097394 16.7097394\n",
      " 16.7097394 16.7097394 16.7097394 16.7097394 16.7097394 16.7097394\n",
      " 16.7097394 16.7097394 16.7097394 16.7097394 16.7097394 16.7097394\n",
      " 16.7097394 16.7097394 16.7097394 16.7097394]\n",
      "[0.0406606 0.0406606 0.0406606 0.0406606 0.0406606 0.0406606 0.0406606\n",
      " 0.0406606 0.0406606 0.0406606 0.0406606 0.0406606 0.0406606 0.0406606\n",
      " 0.0406606 0.0406606 0.0406606 0.0406606 0.0406606 0.0406606 0.0406606\n",
      " 0.0406606 0.0406606 0.0406606 0.0406606 0.0406606 0.0406606 0.0406606\n",
      " 0.0406606 0.0406606 0.0406606 0.0406606 0.0406606 0.0406606 0.0406606\n",
      " 0.0406606 0.0406606 0.0406606 0.0406606 0.0406606 0.0406606 0.0406606\n",
      " 0.0406606 0.0406606 0.0406606 0.0406606 0.0406606 0.0406606 0.0406606\n",
      " 0.0406606 0.0406606 0.0406606 0.0406606 0.0406606 0.0406606 0.0406606\n",
      " 0.0406606 0.0406606 0.0406606 0.0406606 0.0406606 0.0406606 0.0406606\n",
      " 0.0406606 0.0406606 0.0406606 0.0406606 0.0406606 0.0406606 0.0406606\n",
      " 0.0406606 0.0406606 0.0406606 0.0406606 0.0406606 0.0406606 0.0406606\n",
      " 0.0406606 0.0406606 0.0406606 0.0406606 0.0406606 0.0406606 0.0406606\n",
      " 0.0406606 0.0406606 0.0406606 0.0406606 0.0406606 0.0406606 0.0406606\n",
      " 0.0406606 0.0406606 0.0406606 0.0406606 0.0406606 0.0406606 0.0406606\n",
      " 0.0406606 0.0406606]\n"
     ]
    }
   ],
   "source": [
    "for i in range(n_steps):\n",
    "    \n",
    "    rhs_react=reaction.compute_rd(Ca,h,Nx)\n",
    "    if np.isclose(i % save_every, 0):\n",
    "        # Export existing solution (final export is taken care of below)\n",
    "        exporter.write_vtu({\"Ca\":Ca, \"CaSiO3\":CaSiO3}, time_step=int(i // save_every))\n",
    "        #exporter.write_vtu({\"CaSiO3\":CaSiO3},time_step=int(i//save_every))\n",
    "    if Ca_transport.data[pp.PARAMETERS][\"transport\"][\"method\"]==\"Explicit\":\n",
    "        Ca = Ca_IEsolver((Ca_rhs_matrix)*Ca+Ca_rhs_b+rhs_react*CaSiO3)\n",
    "        CaSiO3=CaSiO3_IEsolver((CaSiO3_rhs_matrix)*CaSiO3+CaSiO3_rhs_b-rhs_react*CaSiO3)\n",
    "    else:\n",
    "        Ca = Ca_IEsolver((Ca_rhs_matrix)*Ca +Ca_rhs_b+rhs_react*CaSiO3)\n",
    "        CaSiO3=CaSiO3_IEsolver((CaSiO3_rhs_matrix)*CaSiO3+CaSiO3_rhs_b-rhs_react*CaSiO3)\n",
    "    \n",
    "#print(1/dt*A_mass-A_upwind)\n",
    "\n",
    "exporter.write_vtu({\"Ca\":Ca, \"CaSiO3\":CaSiO3}, time_step=(n_steps // save_every))\n",
    "print(Ca)\n",
    "print(CaSiO3)\n",
    "                         \n",
    "time_steps = np.arange(\n",
    "    0, Ca_transport.data[pp.PARAMETERS][\"transport\"][\"t_max\"] + dt, save_every * dt\n",
    ")\n",
    "exporter.write_pvd(time_steps)"
   ]
  },
  {
   "cell_type": "code",
   "execution_count": null,
   "id": "3db6e7af",
   "metadata": {},
   "outputs": [],
   "source": []
  },
  {
   "cell_type": "code",
   "execution_count": null,
   "id": "08f509c3",
   "metadata": {},
   "outputs": [],
   "source": []
  },
  {
   "cell_type": "code",
   "execution_count": null,
   "id": "e6ed8ebd",
   "metadata": {},
   "outputs": [],
   "source": []
  },
  {
   "cell_type": "code",
   "execution_count": null,
   "id": "40117c69",
   "metadata": {},
   "outputs": [],
   "source": []
  },
  {
   "cell_type": "code",
   "execution_count": null,
   "id": "bc75903c",
   "metadata": {},
   "outputs": [],
   "source": []
  },
  {
   "cell_type": "code",
   "execution_count": null,
   "id": "3ef7cef8",
   "metadata": {},
   "outputs": [],
   "source": []
  },
  {
   "cell_type": "code",
   "execution_count": null,
   "id": "f962487e",
   "metadata": {},
   "outputs": [],
   "source": []
  },
  {
   "cell_type": "code",
   "execution_count": 10,
   "id": "eddaf183",
   "metadata": {},
   "outputs": [
    {
     "ename": "NameError",
     "evalue": "name 'lhs' is not defined",
     "output_type": "error",
     "traceback": [
      "\u001b[0;31m---------------------------------------------------------------------------\u001b[0m",
      "\u001b[0;31mNameError\u001b[0m                                 Traceback (most recent call last)",
      "\u001b[0;32m<ipython-input-10-122e2da8db2a>\u001b[0m in \u001b[0;36m<module>\u001b[0;34m\u001b[0m\n\u001b[0;32m----> 1\u001b[0;31m \u001b[0mIEsolver\u001b[0m \u001b[0;34m=\u001b[0m \u001b[0msps\u001b[0m\u001b[0;34m.\u001b[0m\u001b[0mlinalg\u001b[0m\u001b[0;34m.\u001b[0m\u001b[0mfactorized\u001b[0m\u001b[0;34m(\u001b[0m\u001b[0mlhs\u001b[0m\u001b[0;34m)\u001b[0m\u001b[0;34m\u001b[0m\u001b[0;34m\u001b[0m\u001b[0m\n\u001b[0m\u001b[1;32m      2\u001b[0m \u001b[0;34m\u001b[0m\u001b[0m\n\u001b[1;32m      3\u001b[0m \u001b[0mdata_transport\u001b[0m\u001b[0;34m=\u001b[0m\u001b[0mtransport\u001b[0m\u001b[0;34m.\u001b[0m\u001b[0mdata\u001b[0m\u001b[0;34m[\u001b[0m\u001b[0mpp\u001b[0m\u001b[0;34m.\u001b[0m\u001b[0mPARAMETERS\u001b[0m\u001b[0;34m]\u001b[0m\u001b[0;34m[\u001b[0m\u001b[0;34m\"transport\"\u001b[0m\u001b[0;34m]\u001b[0m\u001b[0;34m\u001b[0m\u001b[0;34m\u001b[0m\u001b[0m\n\u001b[1;32m      4\u001b[0m \u001b[0mn_steps\u001b[0m \u001b[0;34m=\u001b[0m \u001b[0mint\u001b[0m\u001b[0;34m(\u001b[0m\u001b[0mnp\u001b[0m\u001b[0;34m.\u001b[0m\u001b[0mround\u001b[0m\u001b[0;34m(\u001b[0m\u001b[0mdata_transport\u001b[0m\u001b[0;34m[\u001b[0m\u001b[0;34m\"t_max\"\u001b[0m\u001b[0;34m]\u001b[0m \u001b[0;34m/\u001b[0m \u001b[0mdata_transport\u001b[0m\u001b[0;34m[\u001b[0m\u001b[0;34m\"time_step\"\u001b[0m\u001b[0;34m]\u001b[0m\u001b[0;34m)\u001b[0m\u001b[0;34m)\u001b[0m\u001b[0;34m\u001b[0m\u001b[0;34m\u001b[0m\u001b[0m\n\u001b[1;32m      5\u001b[0m \u001b[0;34m\u001b[0m\u001b[0m\n",
      "\u001b[0;31mNameError\u001b[0m: name 'lhs' is not defined"
     ]
    }
   ],
   "source": [
    "data_transport=transport.data[pp.PARAMETERS][\"transport\"]\n",
    "n_steps = int(np.round(data_transport[\"t_max\"] / data_transport[\"time_step\"]))\n",
    "\n",
    "save_every=1\n",
    "\n",
    "# Exporter\n",
    "exporter = pp.Exporter(transport.g, file_name=\"tracer\",folder_name=\"solution\")\n",
    "    \n",
    "for i in range(n_steps):\n",
    "    if np.isclose(i % save_every, 0):\n",
    "        # Export existing solution (final export is taken care of below)\n",
    "        exporter.write_vtu({\"tracer\":tracer}, time_step=int(i // save_every))\n",
    "        if data_transport[\"method\"]==\"Explicit\":\n",
    "            tracer = IEsolver(rhs_matrix*tracer+rhs_b)\n",
    "        else:\n",
    "            tracer = IEsolver(rhs_matrix*tracer+rhs_b)\n",
    "        \n",
    "exporter.write_vtu({\"tracer\":tracer}, time_step=(n_steps // save_every))\n",
    "time_steps = np.arange(0,data_transport[\"t_max\"] + data_transport[\"time_step\"], save_every * data_transport[\"time_step\"])\n",
    "exporter.write_pvd(time_steps)        "
   ]
  },
  {
   "cell_type": "code",
   "execution_count": 12,
   "id": "4c12e9b7",
   "metadata": {},
   "outputs": [
    {
     "name": "stdout",
     "output_type": "stream",
     "text": [
      "Ale dorme\n"
     ]
    }
   ],
   "source": []
  },
  {
   "cell_type": "code",
   "execution_count": null,
   "id": "847c547d",
   "metadata": {},
   "outputs": [],
   "source": []
  }
 ],
 "metadata": {
  "kernelspec": {
   "display_name": "Python 3 (ipykernel)",
   "language": "python",
   "name": "python3"
  },
  "language_info": {
   "codemirror_mode": {
    "name": "ipython",
    "version": 3
   },
   "file_extension": ".py",
   "mimetype": "text/x-python",
   "name": "python",
   "nbconvert_exporter": "python",
   "pygments_lexer": "ipython3",
   "version": "3.8.11"
  }
 },
 "nbformat": 4,
 "nbformat_minor": 5
}
