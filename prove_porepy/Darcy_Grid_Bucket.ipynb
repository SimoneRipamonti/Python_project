{
 "cells": [
  {
   "cell_type": "code",
   "execution_count": 1,
   "id": "4c3552d7",
   "metadata": {},
   "outputs": [],
   "source": [
    "import numpy as np\n",
    "import scipy.sparse as sps\n",
    "import porepy as pp\n",
    "import math\n",
    "import matplotlib.pyplot as plt"
   ]
  },
  {
   "cell_type": "code",
   "execution_count": null,
   "id": "8240ce9f",
   "metadata": {},
   "outputs": [],
   "source": [
    "import sys\n",
    "sys.path.append(\"./class\")\n",
    "from Flow_class import Flow"
   ]
  },
  {
   "cell_type": "code",
   "execution_count": 2,
   "id": "0ec04fca",
   "metadata": {},
   "outputs": [],
   "source": [
    "gb=pp.meshing.cart_grid([],[20,20])"
   ]
  },
  {
   "cell_type": "code",
   "execution_count": null,
   "id": "d48d619f",
   "metadata": {},
   "outputs": [],
   "source": [
    "for g,d in gb:\n",
    "    # Permeability\n",
    "    perm = pp.SecondOrderTensor(np.ones(g.num_cells))                     \n",
    "    #f_lambda= lambda x,y,z: math.sin(4*math.pi*x)\n",
    "    f_lambda=lambda x,y,z:math.pi*math.pi*2*math.sin(math.pi*x)*math.sin(math.pi*y)\n",
    "    bc_lambda=lambda x,y,z:math.sin(math.pi*x)*math.sin(math.pi*y)\n",
    "    # Collect all parameters in a dictionary\n",
    "    parameters = {\"second_order_tensor\": perm, \"f_lambda\": f_lambda, \"bc_lambda\": bc_lambda}\n",
    "    "
   ]
  }
 ],
 "metadata": {
  "kernelspec": {
   "display_name": "Python 3",
   "language": "python",
   "name": "python3"
  },
  "language_info": {
   "codemirror_mode": {
    "name": "ipython",
    "version": 3
   },
   "file_extension": ".py",
   "mimetype": "text/x-python",
   "name": "python",
   "nbconvert_exporter": "python",
   "pygments_lexer": "ipython3",
   "version": "3.8.8"
  }
 },
 "nbformat": 4,
 "nbformat_minor": 5
}
