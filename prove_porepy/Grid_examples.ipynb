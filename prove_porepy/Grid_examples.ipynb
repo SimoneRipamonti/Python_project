{
 "cells": [
  {
   "cell_type": "code",
   "execution_count": 1,
   "id": "346c3d9e",
   "metadata": {},
   "outputs": [],
   "source": [
    "import numpy as np\n",
    "import scipy.sparse as sps\n",
    "import porepy as pp"
   ]
  },
  {
   "cell_type": "code",
   "execution_count": 2,
   "id": "2ce64f57",
   "metadata": {},
   "outputs": [
    {
     "ename": "ModuleNotFoundError",
     "evalue": "No module named 'Transport_class'",
     "output_type": "error",
     "traceback": [
      "\u001b[0;31m---------------------------------------------------------------------------\u001b[0m",
      "\u001b[0;31mModuleNotFoundError\u001b[0m                       Traceback (most recent call last)",
      "\u001b[0;32m<ipython-input-2-306939760d39>\u001b[0m in \u001b[0;36m<module>\u001b[0;34m\u001b[0m\n\u001b[1;32m      1\u001b[0m \u001b[0;32mimport\u001b[0m \u001b[0msys\u001b[0m\u001b[0;34m\u001b[0m\u001b[0;34m\u001b[0m\u001b[0m\n\u001b[1;32m      2\u001b[0m \u001b[0msys\u001b[0m\u001b[0;34m.\u001b[0m\u001b[0mpath\u001b[0m\u001b[0;34m.\u001b[0m\u001b[0mappend\u001b[0m\u001b[0;34m(\u001b[0m\u001b[0;34m\"./class\"\u001b[0m\u001b[0;34m)\u001b[0m\u001b[0;34m\u001b[0m\u001b[0;34m\u001b[0m\u001b[0m\n\u001b[0;32m----> 3\u001b[0;31m \u001b[0;32mfrom\u001b[0m \u001b[0mTransport_class\u001b[0m \u001b[0;32mimport\u001b[0m \u001b[0mTransport\u001b[0m\u001b[0;34m\u001b[0m\u001b[0;34m\u001b[0m\u001b[0m\n\u001b[0m",
      "\u001b[0;31mModuleNotFoundError\u001b[0m: No module named 'Transport_class'"
     ]
    }
   ],
   "source": [
    "import sys\n",
    "sys.path.append(\"./class\")\n",
    "from Transport_class import Transport"
   ]
  },
  {
   "cell_type": "code",
   "execution_count": 11,
   "id": "5debf848",
   "metadata": {},
   "outputs": [
    {
     "data": {
      "image/png": "[encoded data removed]",
      "text/plain": [
       "<Figure size 1080x864 with 1 Axes>"
      ]
     },
     "metadata": {
      "needs_background": "light"
     },
     "output_type": "display_data"
    }
   ],
   "source": [
    "Nx=1\n",
    "Ny=1\n",
    "phys_dims=[1.0]\n",
    "#phys_dims=[0.045]\n",
    "phys_dims=[1,1]\n",
    "g=pp.CartGrid([Nx,Ny],phys_dims)\n",
    "#g=pp.CartGrid([Nx],phys_dims)\n",
    "g.compute_geometry()   \n",
    "pp.plot_grid(g, figsize=(15,12))"
   ]
  },
  {
   "cell_type": "code",
   "execution_count": 12,
   "id": "e60c34fb",
   "metadata": {},
   "outputs": [
    {
     "ename": "AttributeError",
     "evalue": "'CartGrid' object has no attribute 'phys_dims'",
     "output_type": "error",
     "traceback": [
      "\u001b[0;31m---------------------------------------------------------------------------\u001b[0m",
      "\u001b[0;31mAttributeError\u001b[0m                            Traceback (most recent call last)",
      "\u001b[0;32m<ipython-input-12-ca4b88debcf0>\u001b[0m in \u001b[0;36m<module>\u001b[0;34m\u001b[0m\n\u001b[0;32m----> 1\u001b[0;31m \u001b[0mprint\u001b[0m\u001b[0;34m(\u001b[0m\u001b[0mg\u001b[0m\u001b[0;34m.\u001b[0m\u001b[0mphys_dims\u001b[0m\u001b[0;34m)\u001b[0m\u001b[0;34m\u001b[0m\u001b[0;34m\u001b[0m\u001b[0m\n\u001b[0m",
      "\u001b[0;31mAttributeError\u001b[0m: 'CartGrid' object has no attribute 'phys_dims'"
     ]
    }
   ],
   "source": [
    "print(g.phys_dims)"
   ]
  },
  {
   "cell_type": "code",
   "execution_count": null,
   "id": "d4c40515",
   "metadata": {},
   "outputs": [],
   "source": [
    "print(g.num_faces)"
   ]
  },
  {
   "cell_type": "code",
   "execution_count": null,
   "id": "922886b5",
   "metadata": {},
   "outputs": [],
   "source": [
    "print(np.ones(g.num_faces))"
   ]
  },
  {
   "cell_type": "code",
   "execution_count": null,
   "id": "ebd6554c",
   "metadata": {},
   "outputs": [],
   "source": [
    "print(g.face_nodes)\n",
    "#righe sono i nodi\n",
    "#colonne sono le facce"
   ]
  },
  {
   "cell_type": "code",
   "execution_count": null,
   "id": "6be608cd",
   "metadata": {},
   "outputs": [],
   "source": [
    "print(g.nodes)"
   ]
  },
  {
   "cell_type": "code",
   "execution_count": null,
   "id": "de728f90",
   "metadata": {},
   "outputs": [],
   "source": [
    "print(g.face_nodes.indices)"
   ]
  },
  {
   "cell_type": "code",
   "execution_count": null,
   "id": "1fcfb3ee",
   "metadata": {},
   "outputs": [],
   "source": [
    "np.where(g.face_nodes[:, 0].toarray())[0]"
   ]
  },
  {
   "cell_type": "code",
   "execution_count": null,
   "id": "7d165313",
   "metadata": {},
   "outputs": [],
   "source": [
    "np.where(g.face_nodes[:, 1].toarray())[0]"
   ]
  },
  {
   "cell_type": "code",
   "execution_count": null,
   "id": "3aa7ebf9",
   "metadata": {},
   "outputs": [],
   "source": [
    "np.where(g.face_nodes[:, 2].toarray())[0]"
   ]
  },
  {
   "cell_type": "code",
   "execution_count": null,
   "id": "61bb183d",
   "metadata": {},
   "outputs": [],
   "source": [
    "np.where(g.face_nodes[:, 3].toarray())[0]"
   ]
  },
  {
   "cell_type": "code",
   "execution_count": null,
   "id": "ca2790a3",
   "metadata": {},
   "outputs": [],
   "source": [
    "#FACE_NODES DELLA PRIMA FACCIA"
   ]
  },
  {
   "cell_type": "code",
   "execution_count": null,
   "id": "96de2be3",
   "metadata": {},
   "outputs": [],
   "source": [
    "g.face_nodes.indices[g.face_nodes.indptr[0] : g.face_nodes.indptr[1]]"
   ]
  },
  {
   "cell_type": "code",
   "execution_count": null,
   "id": "23400283",
   "metadata": {},
   "outputs": [],
   "source": [
    "#FACE_NODES DELLA SECONDA FACCIA"
   ]
  },
  {
   "cell_type": "code",
   "execution_count": null,
   "id": "d8cdd8a6",
   "metadata": {},
   "outputs": [],
   "source": [
    "g.face_nodes.indices[g.face_nodes.indptr[1] : g.face_nodes.indptr[2]]"
   ]
  },
  {
   "cell_type": "code",
   "execution_count": null,
   "id": "49d3993c",
   "metadata": {},
   "outputs": [],
   "source": [
    "#FACCE DELLA CELLA 0"
   ]
  },
  {
   "cell_type": "code",
   "execution_count": null,
   "id": "7a9c4a23",
   "metadata": {},
   "outputs": [],
   "source": [
    "g.cell_faces.indices[g.cell_faces.indptr[0] : g.cell_faces.indptr[1]]"
   ]
  },
  {
   "cell_type": "code",
   "execution_count": null,
   "id": "5b39c63a",
   "metadata": {},
   "outputs": [],
   "source": []
  },
  {
   "cell_type": "code",
   "execution_count": null,
   "id": "c6759d3b",
   "metadata": {},
   "outputs": [],
   "source": [
    "g.cell_faces.data[g.cell_faces.indptr[0] : g.cell_faces.indptr[1]]"
   ]
  },
  {
   "cell_type": "code",
   "execution_count": null,
   "id": "8dd25fbd",
   "metadata": {},
   "outputs": [],
   "source": [
    "g.face_normals"
   ]
  },
  {
   "cell_type": "code",
   "execution_count": null,
   "id": "a1b08e12",
   "metadata": {},
   "outputs": [],
   "source": []
  },
  {
   "cell_type": "code",
   "execution_count": null,
   "id": "acd46e7b",
   "metadata": {},
   "outputs": [],
   "source": []
  },
  {
   "cell_type": "code",
   "execution_count": 3,
   "id": "f639faae",
   "metadata": {},
   "outputs": [
    {
     "name": "stderr",
     "output_type": "stream",
     "text": [
      "/home/dell/anaconda3/lib/python3.8/site-packages/porepy/viz/plot_grid.py:241: UserWarning: Attempting to set identical bottom == top == 0.0 results in singular transformations; automatically expanding.\n",
      "  ax.set_zlim3d(z)\n"
     ]
    },
    {
     "data": {
      "image/png": "[encoded data removed]",
      "text/plain": [
       "<Figure size 1080x864 with 1 Axes>"
      ]
     },
     "metadata": {
      "needs_background": "light"
     },
     "output_type": "display_data"
    }
   ],
   "source": [
    "Nx=2\n",
    "Ny=2\n",
    "phys_dims=[1.0]\n",
    "#phys_dims=[0.045]\n",
    "phys_dims=[1,1]\n",
    "g=pp.CartGrid([Nx,Ny],phys_dims)\n",
    "#g=pp.CartGrid([Nx],phys_dims)\n",
    "g.compute_geometry()   \n",
    "pp.plot_grid(g, figsize=(15,12))"
   ]
  },
  {
   "cell_type": "code",
   "execution_count": 4,
   "id": "5b3b6ccb",
   "metadata": {},
   "outputs": [
    {
     "name": "stdout",
     "output_type": "stream",
     "text": [
      "12\n"
     ]
    }
   ],
   "source": [
    "print(g.num_faces)"
   ]
  },
  {
   "cell_type": "code",
   "execution_count": null,
   "id": "03867e34",
   "metadata": {},
   "outputs": [],
   "source": [
    "print(g.face_nodes)"
   ]
  },
  {
   "cell_type": "code",
   "execution_count": null,
   "id": "fac2288b",
   "metadata": {},
   "outputs": [],
   "source": [
    "np.where(g.face_nodes[:, 0].toarray())[0]"
   ]
  },
  {
   "cell_type": "code",
   "execution_count": null,
   "id": "4654d898",
   "metadata": {},
   "outputs": [],
   "source": [
    "np.where(g.face_nodes[:, 10].toarray())[0]\n",
    "#la faccia 10 ha come estremi i nodi 6 e 7"
   ]
  },
  {
   "cell_type": "code",
   "execution_count": null,
   "id": "df76f17c",
   "metadata": {},
   "outputs": [],
   "source": [
    "faces_of_cell_0 = g.cell_faces.indices[g.cell_faces.indptr[0] : g.cell_faces.indptr[1]]\n",
    "print(faces_of_cell_0)"
   ]
  },
  {
   "cell_type": "code",
   "execution_count": null,
   "id": "20271ed6",
   "metadata": {},
   "outputs": [],
   "source": [
    "faces_of_cell_1 = g.cell_faces.indices[g.cell_faces.indptr[1] : g.cell_faces.indptr[2]]\n",
    "print(faces_of_cell_1)"
   ]
  },
  {
   "cell_type": "code",
   "execution_count": null,
   "id": "75db5d58",
   "metadata": {},
   "outputs": [],
   "source": [
    "g.cell_faces.data[g.cell_faces.indptr[0] : g.cell_faces.indptr[1]]"
   ]
  },
  {
   "cell_type": "code",
   "execution_count": null,
   "id": "43c6db34",
   "metadata": {},
   "outputs": [],
   "source": [
    "g.face_normals[:,faces_of_cell_0]"
   ]
  },
  {
   "cell_type": "code",
   "execution_count": null,
   "id": "1e23e8ba",
   "metadata": {},
   "outputs": [],
   "source": [
    "g.cell_faces.data[g.cell_faces.indptr[1] : g.cell_faces.indptr[2]]\n"
   ]
  },
  {
   "cell_type": "code",
   "execution_count": null,
   "id": "8e160d21",
   "metadata": {},
   "outputs": [],
   "source": [
    "g.face_normals[:,faces_of_cell_1]"
   ]
  },
  {
   "cell_type": "code",
   "execution_count": null,
   "id": "62411b1b",
   "metadata": {},
   "outputs": [],
   "source": [
    "faces_of_cell_2 = g.cell_faces.indices[g.cell_faces.indptr[2] : g.cell_faces.indptr[3]]\n",
    "print(faces_of_cell_2)"
   ]
  },
  {
   "cell_type": "code",
   "execution_count": null,
   "id": "6f0fdef7",
   "metadata": {},
   "outputs": [],
   "source": [
    "g.face_normals[:,faces_of_cell_2]"
   ]
  },
  {
   "cell_type": "code",
   "execution_count": null,
   "id": "787b424e",
   "metadata": {},
   "outputs": [],
   "source": [
    "g.cell_faces.data[g.cell_faces.indptr[2] : g.cell_faces.indptr[3]]"
   ]
  },
  {
   "cell_type": "code",
   "execution_count": null,
   "id": "45544450",
   "metadata": {},
   "outputs": [],
   "source": []
  },
  {
   "cell_type": "code",
   "execution_count": null,
   "id": "585d0662",
   "metadata": {},
   "outputs": [],
   "source": [
    "vel=np.ones(g.num_faces)\n",
    "print(vel)"
   ]
  },
  {
   "cell_type": "code",
   "execution_count": null,
   "id": "4c4772c6",
   "metadata": {},
   "outputs": [],
   "source": [
    "vel[:(Ny+1)*Nx]=2.\n",
    "print(vel)"
   ]
  },
  {
   "cell_type": "code",
   "execution_count": null,
   "id": "816fef6c",
   "metadata": {},
   "outputs": [],
   "source": [
    "print(g.cells)"
   ]
  }
 ],
 "metadata": {
  "kernelspec": {
   "display_name": "Python 3 (ipykernel)",
   "language": "python",
   "name": "python3"
  },
  "language_info": {
   "codemirror_mode": {
    "name": "ipython",
    "version": 3
   },
   "file_extension": ".py",
   "mimetype": "text/x-python",
   "name": "python",
   "nbconvert_exporter": "python",
   "pygments_lexer": "ipython3",
   "version": "3.8.8"
  }
 },
 "nbformat": 4,
 "nbformat_minor": 5
}
