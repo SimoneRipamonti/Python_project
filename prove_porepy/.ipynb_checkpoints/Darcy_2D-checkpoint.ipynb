{
 "cells": [
  {
   "cell_type": "code",
   "execution_count": 1,
   "id": "336b9484",
   "metadata": {},
   "outputs": [],
   "source": [
    "import numpy as np\n",
    "import scipy.sparse as sps\n",
    "import porepy as pp\n",
    "import math\n",
    "import matplotlib.pyplot as plt"
   ]
  },
  {
   "cell_type": "code",
   "execution_count": 2,
   "id": "0a860f91",
   "metadata": {},
   "outputs": [
    {
     "ename": "ModuleNotFoundError",
     "evalue": "No module named 'Flow_class'",
     "output_type": "error",
     "traceback": [
      "\u001b[0;31m---------------------------------------------------------------------------\u001b[0m",
      "\u001b[0;31mModuleNotFoundError\u001b[0m                       Traceback (most recent call last)",
      "\u001b[0;32m<ipython-input-2-43959df72ce4>\u001b[0m in \u001b[0;36m<module>\u001b[0;34m\u001b[0m\n\u001b[1;32m      1\u001b[0m \u001b[0;32mimport\u001b[0m \u001b[0msys\u001b[0m\u001b[0;34m\u001b[0m\u001b[0;34m\u001b[0m\u001b[0m\n\u001b[1;32m      2\u001b[0m \u001b[0msys\u001b[0m\u001b[0;34m.\u001b[0m\u001b[0mpath\u001b[0m\u001b[0;34m.\u001b[0m\u001b[0mappend\u001b[0m\u001b[0;34m(\u001b[0m\u001b[0;34m\"./class\"\u001b[0m\u001b[0;34m)\u001b[0m\u001b[0;34m\u001b[0m\u001b[0;34m\u001b[0m\u001b[0m\n\u001b[0;32m----> 3\u001b[0;31m \u001b[0;32mfrom\u001b[0m \u001b[0mFlow_class\u001b[0m \u001b[0;32mimport\u001b[0m \u001b[0mFlow\u001b[0m\u001b[0;34m\u001b[0m\u001b[0;34m\u001b[0m\u001b[0m\n\u001b[0m",
      "\u001b[0;31mModuleNotFoundError\u001b[0m: No module named 'Flow_class'"
     ]
    }
   ],
   "source": [
    "import sys\n",
    "sys.path.append(\"./class\")\n",
    "from Flow_class import Flow"
   ]
  },
  {
   "cell_type": "code",
   "execution_count": null,
   "id": "c5c401fe",
   "metadata": {
    "scrolled": true
   },
   "outputs": [],
   "source": [
    "Nx=20\n",
    "Ny=20\n",
    "phys_dims=[1,1]\n",
    "g=pp.CartGrid([Nx,Ny],phys_dims)\n",
    "g.compute_geometry()\n",
    "pp.plot_grid(g,figsize=(15,12))"
   ]
  },
  {
   "cell_type": "code",
   "execution_count": null,
   "id": "8937bfec",
   "metadata": {},
   "outputs": [],
   "source": [
    "# Permeability\n",
    "perm = pp.SecondOrderTensor(np.ones(g.num_cells))                     \n",
    "#f_lambda= lambda x,y,z: math.sin(4*math.pi*x)\n",
    "f_lambda=lambda x,y,z:x\n",
    "# Boundary conditions\n",
    "b_faces = g.tags['domain_boundary_faces'].nonzero()[0]\n",
    "bc = pp.BoundaryCondition(g, b_faces, ['dir']*b_faces.size)\n",
    "\n",
    "tol=1e-3\n",
    "bc_val = np.zeros(g.num_faces)\n",
    "#b_face_centers = g.face_centers[:, b_faces]\n",
    "\n",
    "#b_left= b_face_centers[0, :] < tol\n",
    "#b_right = b_face_centers[0, :] > 1-tol\n",
    "\n",
    "#labels = np.array([\"neu\"] * b_faces.size)\n",
    "#labels[np.logical_or(b_left, b_right)] = \"dir\"\n",
    "#bc = pp.BoundaryCondition(g, b_faces, labels)\n",
    "\n",
    "#bc_val[b_faces[b_inflow]] = 1\n",
    "\n",
    "#bc_val[0]=1e6\n",
    "#bc_val[bc_val.size-1]=-800000.0\n",
    "\n",
    "# Collect all parameters in a dictionary\n",
    "parameters = {\"second_order_tensor\": perm, \"f_lambda\": f_lambda, \"bc\": bc, \"bc_values\": bc_val}"
   ]
  },
  {
   "cell_type": "code",
   "execution_count": null,
   "id": "330a5359",
   "metadata": {},
   "outputs": [],
   "source": [
    "flow=Flow(g,parameters,\"MVEM\")\n",
    "flow.set_source()\n",
    "#f=g.cell_volumes\n",
    "#flow.data[pp.PARAMETERS][\"flow\"][\"source\"]=f\n",
    "#flow\n",
    "#print(flow.data[pp.PARAMETERS][\"flow\"][\"source\"])\n",
    "p=flow.solve()"
   ]
  },
  {
   "cell_type": "code",
   "execution_count": null,
   "id": "d6e610bf",
   "metadata": {},
   "outputs": [],
   "source": [
    "pp.plot_grid(g, p, figsize=(15, 12))\n",
    "\n"
   ]
  },
  {
   "cell_type": "code",
   "execution_count": null,
   "id": "f4a122f3",
   "metadata": {},
   "outputs": [],
   "source": []
  },
  {
   "cell_type": "code",
   "execution_count": null,
   "id": "d3197a19",
   "metadata": {},
   "outputs": [],
   "source": []
  }
 ],
 "metadata": {
  "kernelspec": {
   "display_name": "Python 3",
   "language": "python",
   "name": "python3"
  },
  "language_info": {
   "codemirror_mode": {
    "name": "ipython",
    "version": 3
   },
   "file_extension": ".py",
   "mimetype": "text/x-python",
   "name": "python",
   "nbconvert_exporter": "python",
   "pygments_lexer": "ipython3",
   "version": "3.8.8"
  }
 },
 "nbformat": 4,
 "nbformat_minor": 5
}
