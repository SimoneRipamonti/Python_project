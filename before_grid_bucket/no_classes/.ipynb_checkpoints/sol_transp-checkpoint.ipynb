{
 "cells": [
  {
   "cell_type": "code",
   "execution_count": null,
   "id": "72ac9255",
   "metadata": {},
   "outputs": [],
   "source": [
    "def solve(self,save_every,tracer):\n",
    "        kw_t=\"transport\"\n",
    "        node_discretization = pp.Upwind(kw_t)\n",
    "        source_discretization = pp.ScalarSource(kw_t)\n",
    "        mass_discretization = pp.MassMatrix(kw_t)\n",
    "        \n",
    "        node_discretization.discretize(self.g,self.data)\n",
    "        source_discretization.discretize(self.g,self.data)\n",
    "        mass_discretization.discretize(self.g,self.data)\n",
    "        \n",
    "        A_upwind,b_upwind=node_discretization.assemble_matrix_rhs(self.g,self.data)\n",
    "        #_,b_source=source_discretization.assemble_matrix_rhs(self.g,self.data)\n",
    "        A_mass,b_mass=mass_discretization.assemble_matrix_rhs(self.g,self.data)\n",
    "        \n",
    "        dt=self.data[pp.PARAMETERS][\"transport\"][\"time_step\"]\n",
    "        decay=self.data[pp.PARAMETERS][\"transport\"][\"lambda_lin_decay\"]\n",
    "        \n",
    "        if self.data[pp.PARAMETERS][\"transport\"][\"method\"]==\"Explicit\":\n",
    "            lhs =1/dt*A_mass\n",
    "        else:\n",
    "            lhs=1/dt*A_mass+A_upwind\n",
    "            #rhs=b_upwind+b_source+b_mass\n",
    "        \n",
    "        rhs=b_upwind+b_mass\n",
    "        IEsolver = sps.linalg.factorized(lhs)\n",
    "        \n",
    "        n_steps = int(np.round(self.data[pp.PARAMETERS][\"transport\"][\"t_max\"] / self.data[pp.PARAMETERS][\"transport\"][\"time_step\"]))\n",
    "        \n",
    "        # Exporter\n",
    "        exporter = pp.Exporter(self.g, file_name=\"tracer\",folder_name=\"solution\")\n",
    "        print(\"done\")\n",
    "        \n",
    "        for i in range(n_steps):\n",
    "            if np.isclose(i % save_every, 0):\n",
    "                # Export existing solution (final export is taken care of below)\n",
    "                exporter.write_vtu({\"tracer\":tracer}, time_step=int(i // save_every))\n",
    "                print(tracer)\n",
    "                if self.data[pp.PARAMETERS][\"transport\"][\"method\"]==\"Explicit\":\n",
    "                    tracer = IEsolver((1/dt*A_mass-A_upwind-decay*A_mass)*tracer+rhs)\n",
    "                else:\n",
    "                    tracer = IEsolver((1/dt*A_mass-decay*A_mass) * tracer + rhs)\n",
    "        \n",
    "        exporter.write_vtu({\"tracer\":tracer}, time_step=(n_steps // save_every))\n",
    "        print(tracer)\n",
    "        time_steps = np.arange(0,self.data[pp.PARAMETERS][\"transport\"][\"t_max\"] + self.data[pp.PARAMETERS][\"transport\"][\"time_step\"], save_every * self.data[pp.PARAMETERS][\"transport\"][\"time_step\"])\n",
    "        exporter.write_pvd(time_steps)        "
   ]
  }
 ],
 "metadata": {
  "kernelspec": {
   "display_name": "Python 3",
   "language": "python",
   "name": "python3"
  },
  "language_info": {
   "codemirror_mode": {
    "name": "ipython",
    "version": 3
   },
   "file_extension": ".py",
   "mimetype": "text/x-python",
   "name": "python",
   "nbconvert_exporter": "python",
   "pygments_lexer": "ipython3",
   "version": "3.8.8"
  }
 },
 "nbformat": 4,
 "nbformat_minor": 5
}
