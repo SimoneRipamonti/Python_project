{
 "cells": [
  {
   "cell_type": "code",
   "execution_count": 1,
   "id": "1b307116",
   "metadata": {},
   "outputs": [],
   "source": [
    "import numpy as np\n",
    "import scipy.sparse as sps\n",
    "import porepy as pp"
   ]
  },
  {
   "cell_type": "code",
   "execution_count": 2,
   "id": "970e2b12",
   "metadata": {},
   "outputs": [],
   "source": [
    "import sys\n",
    "sys.path.append(\"./class\")\n",
    "from Transport_class import Transport\n",
    "from Reaction_class import Reaction\n",
    "from Concentrations import Concentrations"
   ]
  },
  {
   "cell_type": "code",
   "execution_count": 3,
   "id": "419cb9a2",
   "metadata": {},
   "outputs": [
    {
     "ename": "SyntaxError",
     "evalue": "invalid syntax (562725652.py, line 14)",
     "output_type": "error",
     "traceback": [
      "\u001b[0;36m  File \u001b[0;32m\"/tmp/ipykernel_12879/562725652.py\"\u001b[0;36m, line \u001b[0;32m14\u001b[0m\n\u001b[0;31m    ciao?9\u001b[0m\n\u001b[0m        ^\u001b[0m\n\u001b[0;31mSyntaxError\u001b[0m\u001b[0;31m:\u001b[0m invalid syntax\n"
     ]
    }
   ],
   "source": [
    "#QUESTIONE DATI\n",
    "Nx=100\n",
    "Ny=1\n",
    "Nt=10000\n",
    "Lx=0.045\n",
    "Ly=0.01\n",
    "hx=Lx/Nx\n",
    "hy=Ly/Ny\n",
    "phys_dims=[Lx,Ly]\n",
    "g=pp.CartGrid([Nx,Ny],phys_dims)\n",
    "g.compute_geometry()\n",
    "pp.plot_grid(g,figsize=(15,12))\n",
    "#pp.plot_grid(g)\n",
    "ciao?9"
   ]
  },
  {
   "cell_type": "code",
   "execution_count": null,
   "id": "0ea2ad44",
   "metadata": {},
   "outputs": [],
   "source": [
    "psi1=np.zeros(g.num_cells)\n",
    "psi2=np.zeros(g.num_cells)\n",
    "psi3=np.zeros(g.num_cells)\n",
    "psi4=np.zeros(g.num_cells)\n",
    "psi5=np.zeros(g.num_cells)\n",
    "psi6=np.zeros(g.num_cells)\n",
    "rd=np.zeros(g.num_cells)"
   ]
  },
  {
   "cell_type": "code",
   "execution_count": null,
   "id": "c10eae7a",
   "metadata": {},
   "outputs": [],
   "source": [
    "unity = np.ones(g.num_cells)\n",
    "porosity=0.3*unity\n",
    "aperture=1"
   ]
  },
  {
   "cell_type": "code",
   "execution_count": null,
   "id": "1d655e81",
   "metadata": {},
   "outputs": [],
   "source": [
    "reaction_data={\"kd\":1.83e-7,\n",
    "               #\"kd\":0.0,\n",
    "               \"K_eq\":4.45e-7,\n",
    "               \"K_sol\":10e9,\n",
    "               \"porosity\":porosity }"
   ]
  },
  {
   "cell_type": "code",
   "execution_count": null,
   "id": "68b65d19",
   "metadata": {},
   "outputs": [],
   "source": [
    "reaction=Reaction(g,reaction_data)"
   ]
  },
  {
   "cell_type": "code",
   "execution_count": null,
   "id": "b5cd4c01",
   "metadata": {},
   "outputs": [],
   "source": [
    "K_eq=reaction.data[pp.PARAMETERS][\"reaction\"][\"K_eq\"]"
   ]
  },
  {
   "cell_type": "code",
   "execution_count": null,
   "id": "59f6ba60",
   "metadata": {},
   "outputs": [],
   "source": [
    "bc_type_Ca=[\"dir\",\"dir\"]\n",
    "bc_value_Ca=[0.0,0.0]\n",
    "#init_cond_Ca=lambda x,y,z:int(x<0.5)\n",
    "init_cond_Ca=lambda x,y,z:0.0\n",
    "\n",
    "bc_type_CaSiO3=[\"dir\",\"dir\"]\n",
    "bc_value_CaSiO3=[0.0,0.0]\n",
    "#init_cond_CaSiO3=lambda x,y,z:int(x<0.5)\n",
    "init_cond_CaSiO3=lambda x,y,z:1.0\n",
    "\n",
    "bc_type_CO2=[\"dir\",\"dir\"]\n",
    "bc_value_CO2=[0.3691108,0.0]\n",
    "#init_cond_Ca=lambda x,y,z:int(x<0.5)\n",
    "init_cond_CO2=lambda x,y,z:1.0e-3\n",
    "\n",
    "bc_type_SiO2=[\"dir\",\"dir\"]\n",
    "bc_value_SiO2=[0.0,0.0]\n",
    "#init_cond_Ca=lambda x,y,z:int(x<0.5)\n",
    "init_cond_SiO2=lambda x,y,z:0.0\n",
    "\n",
    "bc_type_H_piu=[\"dir\",\"dir\"]\n",
    "bc_value_H_piu=[1.0e-5,0.0]\n",
    "#init_cond_Ca=lambda x,y,z:int(x<0.5)\n",
    "init_cond_H_piu=lambda x,y,z:1.0e-7\n",
    "\n",
    "\n",
    "\n",
    "bc_HCO3_in=K_eq*bc_value_CO2[0]/bc_value_H_piu[0]\n",
    "print(\"bc_HCO3_in=\")\n",
    "print(bc_HCO3_in)\n",
    "#bc_HCO3_out=K_eq*bc_value_CO2[1]/bc_value_H_piu[1]\n",
    "bc_HCO3_out=0.0\n",
    "\n",
    "bc_type_HCO3=[\"dir\",\"dir\"]\n",
    "bc_value_HCO3=[bc_HCO3_in,bc_HCO3_out]\n",
    "#init_cond_Ca=lambda x,y,z:int(x<0.5)\n",
    "init_cond_HCO3=lambda x,y,z:0.0"
   ]
  },
  {
   "cell_type": "code",
   "execution_count": null,
   "id": "b074dd66",
   "metadata": {},
   "outputs": [],
   "source": [
    "data_6reagents = {\"bc_type_Ca\": bc_type_Ca,\n",
    "            \"bc_value_Ca\": bc_value_Ca,\n",
    "            \"bc_type_CO2\": bc_type_CO2,\n",
    "            \"bc_value_CO2\": bc_value_CO2,\n",
    "            \"bc_type_HCO3\": bc_type_HCO3,\n",
    "            \"bc_value_HCO3\": bc_value_HCO3,\n",
    "            \"bc_type_CaSiO3\": bc_type_CaSiO3,\n",
    "            \"bc_value_CaSiO3\": bc_value_CaSiO3,\n",
    "            \"bc_type_SiO2\": bc_type_SiO2,\n",
    "            \"bc_value_SiO2\": bc_value_SiO2,\n",
    "            \"bc_type_H_piu\": bc_type_H_piu,\n",
    "            \"bc_value_H_piu\": bc_value_H_piu,\n",
    "            \"time_step\": 34.56,\n",
    "            \"t_max\": 345600,\n",
    "            \"method\": \"Implicit\",\n",
    "            \"lambda_lin_decay\":0,\n",
    "            \"init_cond_Ca\":init_cond_Ca,\n",
    "            \"init_cond_CO2\":init_cond_CO2,\n",
    "            \"init_cond_CaSiO3\":init_cond_CaSiO3,\n",
    "            \"init_cond_SiO2\":init_cond_SiO2,\n",
    "            \"init_cond_HCO3\":init_cond_HCO3,\n",
    "            \"init_cond_H_piu\":init_cond_H_piu,}"
   ]
  },
  {
   "cell_type": "code",
   "execution_count": null,
   "id": "7e6083f4",
   "metadata": {},
   "outputs": [],
   "source": [
    "concentrations=Concentrations(g,Nt,data_6reagents)\n",
    "concentrations.set_initial_cond(K_eq)"
   ]
  },
  {
   "cell_type": "code",
   "execution_count": null,
   "id": "c2cffc28",
   "metadata": {},
   "outputs": [],
   "source": [
    "psi1,psi2,psi3,psi4,psi5=concentrations.compute_psi(0,psi1,psi2,psi3,psi4,psi5)"
   ]
  },
  {
   "cell_type": "code",
   "execution_count": null,
   "id": "e87aea44",
   "metadata": {},
   "outputs": [],
   "source": [
    "bc_psi1,bc_psi2,bc_psi3,bc_psi4,bc_psi5=concentrations.set_bc_psi()"
   ]
  },
  {
   "cell_type": "code",
   "execution_count": null,
   "id": "db3d6d34",
   "metadata": {},
   "outputs": [],
   "source": [
    "data_reagent_psi1= {\n",
    "            \"bc_type\": bc_type_Ca,\n",
    "            \"bc_value\": bc_psi1,\n",
    "            \"mass_weight\": porosity * aperture,\n",
    "            \"darcy_flux\":np.zeros(g.num_faces),\n",
    "            \"lambda_lin_decay\":0.,\n",
    "            \"method\": \"Implicit\",\n",
    "            \"time_step\": 34.56,\n",
    "            \"t_max\": 345600,\n",
    "}\n",
    "\n",
    "data_reagent_psi2= {\n",
    "            \"bc_type\": bc_type_H_piu,\n",
    "            \"bc_value\": bc_psi2,\n",
    "            \"mass_weight\": porosity * aperture,\n",
    "            \"darcy_flux\":np.zeros(g.num_faces),\n",
    "            \"lambda_lin_decay\":0.,\n",
    "            \"method\": \"Implicit\",\n",
    "            \"time_step\": 34.56,\n",
    "            \"t_max\": 345600,\n",
    "}\n",
    "\n",
    "data_reagent_psi3= {\n",
    "            \"bc_type\": bc_type_CO2,\n",
    "            \"bc_value\": bc_psi3,\n",
    "            \"mass_weight\": porosity * aperture,\n",
    "            \"darcy_flux\":np.zeros(g.num_faces),\n",
    "            \"lambda_lin_decay\":0.,\n",
    "            \"method\": \"Implicit\",\n",
    "            \"time_step\": 34.56,\n",
    "            \"t_max\": 345600,\n",
    "}\n",
    "\n",
    "data_reagent_psi4= {\n",
    "            \"bc_type\": bc_type_CaSiO3,\n",
    "            \"bc_value\": bc_psi4,\n",
    "            \"mass_weight\": porosity * aperture,\n",
    "            \"darcy_flux\":np.zeros(g.num_faces),\n",
    "            \"lambda_lin_decay\":0.,\n",
    "            \"method\": \"Implicit\",\n",
    "            \"time_step\": 34.56,\n",
    "            \"t_max\": 345600,\n",
    "}\n",
    "\n",
    "data_reagent_psi5= {\n",
    "            \"bc_type\": bc_type_SiO2,\n",
    "            \"bc_value\": bc_psi5,\n",
    "            \"mass_weight\": porosity * aperture,\n",
    "            \"darcy_flux\":np.zeros(g.num_faces),\n",
    "            \"lambda_lin_decay\":0.,\n",
    "            \"method\": \"Implicit\",\n",
    "            \"time_step\": 34.56,\n",
    "            \"t_max\": 345600,\n",
    "}"
   ]
  },
  {
   "cell_type": "code",
   "execution_count": null,
   "id": "c08e9623",
   "metadata": {},
   "outputs": [],
   "source": [
    "data_reagent_psi1[\"darcy_flux\"][:(Nx+1)*Ny]=hy*6.67e-9\n",
    "data_reagent_psi2[\"darcy_flux\"][:(Nx+1)*Ny]=hy*6.67e-9\n",
    "data_reagent_psi3[\"darcy_flux\"][:(Nx+1)*Ny]=hy*6.67e-9\n",
    "data_reagent_psi5[\"darcy_flux\"][:(Nx+1)*Ny]=hy*6.67e-9"
   ]
  },
  {
   "cell_type": "code",
   "execution_count": null,
   "id": "c67576b3",
   "metadata": {},
   "outputs": [],
   "source": [
    "print(data_reagent_psi5[\"darcy_flux\"])\n"
   ]
  },
  {
   "cell_type": "code",
   "execution_count": null,
   "id": "0a7d6521",
   "metadata": {},
   "outputs": [],
   "source": [
    "psi1_transport=Transport(g,data_reagent_psi1)\n",
    "#psi1=psi1_transport.set_bc(psi1)\n",
    "psi1_transport.set_bc()\n",
    "psi1_lhs,psi1_rhs_b,psi1_rhs_matrix=psi1_transport.get_transport_lhs_rhs()\n",
    "\n",
    "psi2_transport=Transport(g,data_reagent_psi2)\n",
    "#psi2=psi2_transport.set_bc(psi2)\n",
    "psi2_transport.set_bc()\n",
    "psi2_lhs,psi2_rhs_b,psi2_rhs_matrix=psi2_transport.get_transport_lhs_rhs()\n",
    "\n",
    "psi3_transport=Transport(g,data_reagent_psi3)\n",
    "#psi3=psi3_transport.set_bc(psi3)\n",
    "psi3_transport.set_bc()\n",
    "psi3_lhs,psi3_rhs_b,psi3_rhs_matrix=psi3_transport.get_transport_lhs_rhs()\n",
    "\n",
    "psi4_transport=Transport(g,data_reagent_psi4)\n",
    "#psi4=psi4_transport.set_bc(psi4)\n",
    "psi4_transport.set_bc()\n",
    "psi4_lhs,psi4_rhs_b,psi4_rhs_matrix=psi4_transport.get_transport_lhs_rhs()\n",
    "\n",
    "psi5_transport=Transport(g,data_reagent_psi5)\n",
    "#psi5=psi5_transport.set_bc(psi5)\n",
    "psi5_transport.set_bc()\n",
    "psi5_lhs,psi5_rhs_b,psi5_rhs_matrix=psi5_transport.get_transport_lhs_rhs()"
   ]
  },
  {
   "cell_type": "code",
   "execution_count": null,
   "id": "272b1ca4",
   "metadata": {},
   "outputs": [],
   "source": [
    "n_steps = int(np.round(concentrations.data[pp.PARAMETERS][\"6reagents\"][\"t_max\"] / concentrations.data[pp.PARAMETERS][\"6reagents\"][\"time_step\"]))"
   ]
  },
  {
   "cell_type": "code",
   "execution_count": null,
   "id": "439a872b",
   "metadata": {},
   "outputs": [],
   "source": [
    "dt=psi1_transport.data[pp.PARAMETERS][\"transport\"][\"time_step\"]"
   ]
  },
  {
   "cell_type": "code",
   "execution_count": null,
   "id": "51fbf19f",
   "metadata": {},
   "outputs": [],
   "source": [
    "save_every=100\n",
    "exporter = pp.Exporter(g, file_name=\"6_reagents\",folder_name=\"solution_6_reagents_2D\")"
   ]
  },
  {
   "cell_type": "code",
   "execution_count": null,
   "id": "911fce25",
   "metadata": {},
   "outputs": [],
   "source": [
    "print(\"Ca:\")\n",
    "print(concentrations.Ca[:,0])\n",
    "print(\"CaSiO3:\")\n",
    "print(concentrations.CaSiO3[:,0])\n",
    "print(\"H_piu:\")\n",
    "print(concentrations.H_piu[:,0])\n",
    "print(\"CO2:\")\n",
    "print(concentrations.CO2[:,0])"
   ]
  },
  {
   "cell_type": "code",
   "execution_count": null,
   "id": "b299d495",
   "metadata": {},
   "outputs": [],
   "source": [
    "for i in range(1,n_steps+1,1):\n",
    "#for i in range(1,500,1):\n",
    "    if np.isclose((i-1) % save_every, 0):\n",
    "        exporter.write_vtu({\"Ca\":concentrations.Ca[:,i-1], \"CaSiO3\":concentrations.CaSiO3[:,i-1], \"H_piu\":concentrations.H_piu[:,i-1], \"HCO3\":concentrations.HCO3[:,i-1], \"CO2\":concentrations.CO2[:,i-1],\"SiO2\":concentrations.SiO2[:,i-1]}, time_step=int((i-1) // save_every))\n",
    "\n",
    "    psi1,psi2,psi3,psi4,psi5=concentrations.compute_psi(i-1,psi1,psi2,psi3,psi4,psi5)\n",
    "    rd=reaction.compute_rd_6_reagents(concentrations.Ca[:,i-1],concentrations.SiO2[:,i-1],concentrations.H_piu[:,i-1],concentrations.CaSiO3[:,i-1],rd)\n",
    "    psi1,psi2,psi3,psi4,psi5=concentrations.one_step_transport_reaction(psi1,psi2,psi3,psi4,psi5,\n",
    "                                               psi1_lhs,psi1_rhs_b,psi1_rhs_matrix,\n",
    "                                               psi2_lhs,psi2_rhs_b,psi2_rhs_matrix,\n",
    "                                               psi3_lhs,psi3_rhs_b,psi3_rhs_matrix,\n",
    "                                               psi4_lhs,psi4_rhs_b,psi4_rhs_matrix,\n",
    "                                               psi5_lhs,psi5_rhs_b,psi5_rhs_matrix,\n",
    "                                               rd)\n",
    "    \n",
    "    concentrations.compute_concentration(psi1,psi2,psi3,psi4,psi5,i,K_eq)\n",
    "\n",
    "\n",
    "\n",
    "exporter.write_vtu({\"Ca\":concentrations.Ca[:,-1], \"CaSiO3\":concentrations.CaSiO3[:,-1], \"H_piu\":concentrations.H_piu[:,-1], \"HCO3\":concentrations.HCO3[:,-1], \"CO2\":concentrations.CO2[:,-1],\"SiO2\":concentrations.SiO2[:,-1]}, time_step=(n_steps // save_every))\n",
    "time_steps = np.arange(\n",
    "    0, psi1_transport.data[pp.PARAMETERS][\"transport\"][\"t_max\"] + dt, save_every * dt\n",
    ")\n",
    "exporter.write_pvd(time_steps)\n",
    "    "
   ]
  },
  {
   "cell_type": "code",
   "execution_count": null,
   "id": "5aa441bd",
   "metadata": {},
   "outputs": [],
   "source": [
    "print(\"Ca=\")\n",
    "print(concentrations.Ca[:,-1])\n",
    "print(\"CaSiO3=\")\n",
    "print(concentrations.CaSiO3[:,-1])\n",
    "print(\"CO2=\")\n",
    "print(concentrations.CO2[:,-1])\n",
    "print(\"HCO3=\")\n",
    "print(concentrations.HCO3[:,-1])\n",
    "print(\"SiO2=\")\n",
    "print(concentrations.SiO2[:,-1])\n",
    "print(\"H_piu=\")\n",
    "print(concentrations.H_piu[:,-1])"
   ]
  },
  {
   "cell_type": "code",
   "execution_count": null,
   "id": "b5e0bfd1",
   "metadata": {},
   "outputs": [],
   "source": [
    "exporter.write_pvd(time_steps)"
   ]
  },
  {
   "cell_type": "code",
   "execution_count": null,
   "id": "e3a7b4da",
   "metadata": {},
   "outputs": [],
   "source": []
  },
  {
   "cell_type": "code",
   "execution_count": null,
   "id": "53ba2594",
   "metadata": {},
   "outputs": [],
   "source": []
  },
  {
   "cell_type": "code",
   "execution_count": null,
   "id": "31162d77",
   "metadata": {},
   "outputs": [],
   "source": []
  }
 ],
 "metadata": {
  "kernelspec": {
   "display_name": "Python 3 (ipykernel)",
   "language": "python",
   "name": "python3"
  },
  "language_info": {
   "codemirror_mode": {
    "name": "ipython",
    "version": 3
   },
   "file_extension": ".py",
   "mimetype": "text/x-python",
   "name": "python",
   "nbconvert_exporter": "python",
   "pygments_lexer": "ipython3",
   "version": "3.8.8"
  }
 },
 "nbformat": 4,
 "nbformat_minor": 5
}
