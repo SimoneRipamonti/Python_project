{
 "cells": [
  {
   "cell_type": "code",
   "execution_count": 1,
   "id": "556ba0a4",
   "metadata": {},
   "outputs": [],
   "source": [
    "import numpy as np\n",
    "import scipy.sparse as sps\n",
    "import porepy as pp"
   ]
  },
  {
   "cell_type": "code",
   "execution_count": 2,
   "id": "f0052826",
   "metadata": {},
   "outputs": [
    {
     "name": "stdout",
     "output_type": "stream",
     "text": [
      "[0.  0.2 0.4 0.6 0.8 1. ]\n"
     ]
    }
   ],
   "source": [
    "x=np.linspace(0,1,6)\n",
    "print(x)"
   ]
  },
  {
   "cell_type": "code",
   "execution_count": 3,
   "id": "8ca0c4f5",
   "metadata": {},
   "outputs": [],
   "source": [
    "Nx=150\n",
    "L=1.0\n",
    "#phys_dims=[1,1]\n",
    "phys_dims=[L]\n",
    "#g=pp.CartGrid([Nx,Ny],phys_dims)\n",
    "g=pp.CartGrid([Nx],phys_dims)\n",
    "g.compute_geometry()\n",
    "#pp.plot_grid(g,figsize=(15,12))\n",
    "#p.plot_grid(g)\n"
   ]
  },
  {
   "cell_type": "code",
   "execution_count": 10,
   "id": "c4d262f4",
   "metadata": {},
   "outputs": [
    {
     "name": "stdout",
     "output_type": "stream",
     "text": [
      "[0. 1.]\n"
     ]
    }
   ],
   "source": [
    "b_faces=g.tags[\"domain_boundary_faces\"].nonzero()[0]\n",
    "b_face_centers=g.face_centers[:,b_faces]\n",
    "print(g.face_centers[0,b_faces])"
   ]
  },
  {
   "cell_type": "code",
   "execution_count": 6,
   "id": "9cc109de",
   "metadata": {},
   "outputs": [
    {
     "name": "stdout",
     "output_type": "stream",
     "text": [
      "[0. 0. 0. 0. 0. 0. 0. 0. 0. 0. 0. 0. 0. 0. 0. 0. 0. 0. 0. 0. 0. 0. 0. 0.\n",
      " 0. 0. 0. 0. 0. 0. 0. 0. 0. 0. 0. 0. 0. 0. 0. 0. 0. 0. 0. 0. 0. 0. 0. 0.\n",
      " 0. 0. 0. 0. 0. 0. 0. 0. 0. 0. 0. 0. 0. 0. 0. 0. 0. 0. 0. 0. 0. 0. 0. 0.\n",
      " 0. 0. 0. 0. 0. 0. 0. 0. 0. 0. 0. 0. 0. 0. 0. 0. 0. 0. 0. 0. 0. 0. 0. 0.\n",
      " 0. 0. 0. 0. 0. 0. 0. 0. 0. 0. 0. 0. 0. 0. 0. 0. 0. 0. 0. 0. 0. 0. 0. 0.\n",
      " 0. 0. 0. 0. 0. 0. 0. 0. 0. 0. 0. 0. 0. 0. 0. 0. 0. 0. 0. 0. 0. 0. 0. 0.\n",
      " 0. 0. 0. 0. 0. 0. 0.]\n"
     ]
    }
   ],
   "source": [
    "bc_val = np.zeros(g.num_faces)\n",
    "bc_val[b_faces] = g.face_centers[1, b_faces]\n",
    "print(bc_val)"
   ]
  },
  {
   "cell_type": "code",
   "execution_count": null,
   "id": "0dbe8ac0",
   "metadata": {},
   "outputs": [],
   "source": [
    "b_inflow = b_face_centers[0, :] < 1e-4\n",
    "print(b_inflow)\n",
    "b_inflow.size"
   ]
  },
  {
   "cell_type": "code",
   "execution_count": null,
   "id": "716c7418",
   "metadata": {},
   "outputs": [],
   "source": [
    "tol=1e-4\n",
    "f=lambda x,y,z:int(x<tol)+int(x>L-tol)\n",
    "print(f(1e-3,0,0))\n",
    "print(f(1e-5,0,0))\n",
    "print(f(L-1e-3,0,0))\n",
    "print(f(L-1e-5,0,0))"
   ]
  },
  {
   "cell_type": "code",
   "execution_count": null,
   "id": "5189154d",
   "metadata": {},
   "outputs": [],
   "source": [
    "np.power(1e-3,1)"
   ]
  },
  {
   "cell_type": "code",
   "execution_count": null,
   "id": "c700c995",
   "metadata": {},
   "outputs": [],
   "source": []
  }
 ],
 "metadata": {
  "kernelspec": {
   "display_name": "Python 3",
   "language": "python",
   "name": "python3"
  },
  "language_info": {
   "codemirror_mode": {
    "name": "ipython",
    "version": 3
   },
   "file_extension": ".py",
   "mimetype": "text/x-python",
   "name": "python",
   "nbconvert_exporter": "python",
   "pygments_lexer": "ipython3",
   "version": "3.8.8"
  }
 },
 "nbformat": 4,
 "nbformat_minor": 5
}
