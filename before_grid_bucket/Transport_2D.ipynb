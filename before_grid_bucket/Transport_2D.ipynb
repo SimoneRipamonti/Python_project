{
 "cells": [
  {
   "cell_type": "code",
   "execution_count": 1,
   "id": "9fca384b",
   "metadata": {},
   "outputs": [],
   "source": [
    "import numpy as np\n",
    "import scipy.sparse as sps\n",
    "import porepy as pp"
   ]
  },
  {
   "cell_type": "code",
   "execution_count": 2,
   "id": "60098bfd",
   "metadata": {},
   "outputs": [],
   "source": [
    "import sys\n",
    "sys.path.append(\"./class\")\n",
    "from Transport_class import Transport"
   ]
  },
  {
   "cell_type": "code",
   "execution_count": 3,
   "id": "095cd217",
   "metadata": {},
   "outputs": [
    {
     "name": "stderr",
     "output_type": "stream",
     "text": [
      "/home/dell/anaconda3/lib/python3.8/site-packages/porepy/viz/plot_grid.py:241: UserWarning: Attempting to set identical bottom == top == 0.0 results in singular transformations; automatically expanding.\n",
      "  ax.set_zlim3d(z)\n"
     ]
    },
    {
     "data": {
      "image/png": "[encoded data removed]",
      "text/plain": [
       "<Figure size 1080x864 with 1 Axes>"
      ]
     },
     "metadata": {
      "needs_background": "light"
     },
     "output_type": "display_data"
    }
   ],
   "source": [
    "Nx=100\n",
    "Ny=5\n",
    "Lx=1.0\n",
    "Ly=1.0\n",
    "delta_y=Ly/Ny\n",
    "#phys_dims=[0.045,0.01]\n",
    "phys_dims=[Lx,Ly]\n",
    "g=pp.CartGrid([Nx,Ny],phys_dims)\n",
    "g.compute_geometry()        \n",
    "pp.plot_grid(g, figsize=(15,12))"
   ]
  },
  {
   "cell_type": "code",
   "execution_count": 4,
   "id": "4891d40a",
   "metadata": {},
   "outputs": [
    {
     "name": "stdout",
     "output_type": "stream",
     "text": [
      "1105\n"
     ]
    }
   ],
   "source": [
    "unity = np.ones(g.num_cells)\n",
    "empty = np.empty(0)\n",
    "#porosity=0.3*unity\n",
    "porosity=unity\n",
    "aperture=1\n",
    "bc_type=[\"dir\",\"dir\"]\n",
    "#bc_value=[0.,0.]\n",
    "bc_value=[1.0,0.0]\n",
    "#bc_value=[0.38553623, 0.]\n",
    "#init_cond=lambda x,y,z:int(x<0.5)\n",
    "#init_cond=lambda x,y,z:int(x<0.2)\n",
    "init_cond=lambda x,y,z:0.0\n",
    "#init_cond=lambda x,y,z:0.00545 \n",
    "print(g.num_faces)"
   ]
  },
  {
   "cell_type": "code",
   "execution_count": 5,
   "id": "5fba0a0d",
   "metadata": {},
   "outputs": [
    {
     "name": "stdout",
     "output_type": "stream",
     "text": [
      "500\n",
      "1105\n"
     ]
    }
   ],
   "source": [
    "specified_parameters = {\n",
    "            \"bc_type\": bc_type,\n",
    "            \"bc_value\": bc_value,\n",
    "            #\"time_step\": 34.56,\n",
    "            \"time_step\": 0.01,\n",
    "            \"mass_weight\": porosity * aperture,\n",
    "            \"darcy_flux\":np.zeros(g.num_faces),\n",
    "            #\"darcy_flux\":6.67e-9*np.ones(Nx+1),\n",
    "            \"t_max\": 1,\n",
    "            #\"t_max\":345600,\n",
    "            \"method\": \"Implicit\",\n",
    "            #\"method\":\"Explicit\",\n",
    "            \"lambda_lin_decay\":0,\n",
    "            \"initial_cond\":init_cond,\n",
    "}\n",
    "print(g.num_cells)\n",
    "print(g.num_faces)"
   ]
  },
  {
   "cell_type": "code",
   "execution_count": 6,
   "id": "80d2feb5",
   "metadata": {},
   "outputs": [],
   "source": [
    "specified_parameters[\"darcy_flux\"][:(Nx+1)*Ny]=delta_y*1.\n",
    "#specified_parameters[\"darcy_flux\"][:(Ny+1)*Nx]=6.67e-9\n",
    "#print(\"(Nx+1)*Ny\")\n",
    "#print((Nx+1)*Ny)\n",
    "#print(\"vel\")\n",
    "#print(specified_parameters[\"darcy_flux\"])\n",
    "vel=specified_parameters[\"darcy_flux\"]"
   ]
  },
  {
   "cell_type": "code",
   "execution_count": 7,
   "id": "b8cbc429",
   "metadata": {},
   "outputs": [
    {
     "name": "stdout",
     "output_type": "stream",
     "text": [
      "tracer=\n",
      "[0. 0. 0. 0. 0. 0. 0. 0. 0. 0. 0. 0. 0. 0. 0. 0. 0. 0. 0. 0. 0. 0. 0. 0.\n",
      " 0. 0. 0. 0. 0. 0. 0. 0. 0. 0. 0. 0. 0. 0. 0. 0. 0. 0. 0. 0. 0. 0. 0. 0.\n",
      " 0. 0. 0. 0. 0. 0. 0. 0. 0. 0. 0. 0. 0. 0. 0. 0. 0. 0. 0. 0. 0. 0. 0. 0.\n",
      " 0. 0. 0. 0. 0. 0. 0. 0. 0. 0. 0. 0. 0. 0. 0. 0. 0. 0. 0. 0. 0. 0. 0. 0.\n",
      " 0. 0. 0. 0. 0. 0. 0. 0. 0. 0. 0. 0. 0. 0. 0. 0. 0. 0. 0. 0. 0. 0. 0. 0.\n",
      " 0. 0. 0. 0. 0. 0. 0. 0. 0. 0. 0. 0. 0. 0. 0. 0. 0. 0. 0. 0. 0. 0. 0. 0.\n",
      " 0. 0. 0. 0. 0. 0. 0. 0. 0. 0. 0. 0. 0. 0. 0. 0. 0. 0. 0. 0. 0. 0. 0. 0.\n",
      " 0. 0. 0. 0. 0. 0. 0. 0. 0. 0. 0. 0. 0. 0. 0. 0. 0. 0. 0. 0. 0. 0. 0. 0.\n",
      " 0. 0. 0. 0. 0. 0. 0. 0. 0. 0. 0. 0. 0. 0. 0. 0. 0. 0. 0. 0. 0. 0. 0. 0.\n",
      " 0. 0. 0. 0. 0. 0. 0. 0. 0. 0. 0. 0. 0. 0. 0. 0. 0. 0. 0. 0. 0. 0. 0. 0.\n",
      " 0. 0. 0. 0. 0. 0. 0. 0. 0. 0. 0. 0. 0. 0. 0. 0. 0. 0. 0. 0. 0. 0. 0. 0.\n",
      " 0. 0. 0. 0. 0. 0. 0. 0. 0. 0. 0. 0. 0. 0. 0. 0. 0. 0. 0. 0. 0. 0. 0. 0.\n",
      " 0. 0. 0. 0. 0. 0. 0. 0. 0. 0. 0. 0. 0. 0. 0. 0. 0. 0. 0. 0. 0. 0. 0. 0.\n",
      " 0. 0. 0. 0. 0. 0. 0. 0. 0. 0. 0. 0. 0. 0. 0. 0. 0. 0. 0. 0. 0. 0. 0. 0.\n",
      " 0. 0. 0. 0. 0. 0. 0. 0. 0. 0. 0. 0. 0. 0. 0. 0. 0. 0. 0. 0. 0. 0. 0. 0.\n",
      " 0. 0. 0. 0. 0. 0. 0. 0. 0. 0. 0. 0. 0. 0. 0. 0. 0. 0. 0. 0. 0. 0. 0. 0.\n",
      " 0. 0. 0. 0. 0. 0. 0. 0. 0. 0. 0. 0. 0. 0. 0. 0. 0. 0. 0. 0. 0. 0. 0. 0.\n",
      " 0. 0. 0. 0. 0. 0. 0. 0. 0. 0. 0. 0. 0. 0. 0. 0. 0. 0. 0. 0. 0. 0. 0. 0.\n",
      " 0. 0. 0. 0. 0. 0. 0. 0. 0. 0. 0. 0. 0. 0. 0. 0. 0. 0. 0. 0. 0. 0. 0. 0.\n",
      " 0. 0. 0. 0. 0. 0. 0. 0. 0. 0. 0. 0. 0. 0. 0. 0. 0. 0. 0. 0. 0. 0. 0. 0.\n",
      " 0. 0. 0. 0. 0. 0. 0. 0. 0. 0. 0. 0. 0. 0. 0. 0. 0. 0. 0. 0.]\n",
      "lhs\n",
      "(500, 500)\n",
      "  (0, 0)\t0.4\n",
      "  (1, 0)\t-0.2\n",
      "  (1, 1)\t0.4\n",
      "  (2, 1)\t-0.2\n",
      "  (2, 2)\t0.4\n",
      "  (3, 2)\t-0.2\n",
      "  (3, 3)\t0.4\n",
      "  (4, 3)\t-0.2\n",
      "  (4, 4)\t0.4\n",
      "  (5, 4)\t-0.2\n",
      "  (5, 5)\t0.3999999999999999\n",
      "  (6, 5)\t-0.2\n",
      "  (6, 6)\t0.4000000000000002\n",
      "  (7, 6)\t-0.2\n",
      "  (7, 7)\t0.3999999999999999\n",
      "  (8, 7)\t-0.2\n",
      "  (8, 8)\t0.3999999999999999\n",
      "  (9, 8)\t-0.2\n",
      "  (9, 9)\t0.4000000000000002\n",
      "  (10, 9)\t-0.2\n",
      "  (10, 10)\t0.3999999999999999\n",
      "  (11, 10)\t-0.2\n",
      "  (11, 11)\t0.3999999999999999\n",
      "  (12, 11)\t-0.2\n",
      "  (12, 12)\t0.4000000000000002\n",
      "  :\t:\n",
      "  (487, 487)\t0.40000000000000013\n",
      "  (488, 487)\t-0.2\n",
      "  (488, 488)\t0.40000000000000013\n",
      "  (489, 488)\t-0.2\n",
      "  (489, 489)\t0.40000000000000013\n",
      "  (490, 489)\t-0.2\n",
      "  (490, 490)\t0.40000000000000013\n",
      "  (491, 490)\t-0.2\n",
      "  (491, 491)\t0.40000000000000013\n",
      "  (492, 491)\t-0.2\n",
      "  (492, 492)\t0.40000000000000013\n",
      "  (493, 492)\t-0.2\n",
      "  (493, 493)\t0.40000000000000013\n",
      "  (494, 493)\t-0.2\n",
      "  (494, 494)\t0.40000000000000013\n",
      "  (495, 494)\t-0.2\n",
      "  (495, 495)\t0.3999999999999979\n",
      "  (496, 495)\t-0.2\n",
      "  (496, 496)\t0.40000000000000013\n",
      "  (497, 496)\t-0.2\n",
      "  (497, 497)\t0.40000000000000013\n",
      "  (498, 497)\t-0.2\n",
      "  (498, 498)\t0.40000000000000013\n",
      "  (499, 498)\t-0.2\n",
      "  (499, 499)\t0.40000000000000013\n",
      "rhs_b\n",
      "[0.2 0.  0.  0.  0.  0.  0.  0.  0.  0.  0.  0.  0.  0.  0.  0.  0.  0.\n",
      " 0.  0.  0.  0.  0.  0.  0.  0.  0.  0.  0.  0.  0.  0.  0.  0.  0.  0.\n",
      " 0.  0.  0.  0.  0.  0.  0.  0.  0.  0.  0.  0.  0.  0.  0.  0.  0.  0.\n",
      " 0.  0.  0.  0.  0.  0.  0.  0.  0.  0.  0.  0.  0.  0.  0.  0.  0.  0.\n",
      " 0.  0.  0.  0.  0.  0.  0.  0.  0.  0.  0.  0.  0.  0.  0.  0.  0.  0.\n",
      " 0.  0.  0.  0.  0.  0.  0.  0.  0.  0.  0.2 0.  0.  0.  0.  0.  0.  0.\n",
      " 0.  0.  0.  0.  0.  0.  0.  0.  0.  0.  0.  0.  0.  0.  0.  0.  0.  0.\n",
      " 0.  0.  0.  0.  0.  0.  0.  0.  0.  0.  0.  0.  0.  0.  0.  0.  0.  0.\n",
      " 0.  0.  0.  0.  0.  0.  0.  0.  0.  0.  0.  0.  0.  0.  0.  0.  0.  0.\n",
      " 0.  0.  0.  0.  0.  0.  0.  0.  0.  0.  0.  0.  0.  0.  0.  0.  0.  0.\n",
      " 0.  0.  0.  0.  0.  0.  0.  0.  0.  0.  0.  0.  0.  0.  0.  0.  0.  0.\n",
      " 0.  0.  0.2 0.  0.  0.  0.  0.  0.  0.  0.  0.  0.  0.  0.  0.  0.  0.\n",
      " 0.  0.  0.  0.  0.  0.  0.  0.  0.  0.  0.  0.  0.  0.  0.  0.  0.  0.\n",
      " 0.  0.  0.  0.  0.  0.  0.  0.  0.  0.  0.  0.  0.  0.  0.  0.  0.  0.\n",
      " 0.  0.  0.  0.  0.  0.  0.  0.  0.  0.  0.  0.  0.  0.  0.  0.  0.  0.\n",
      " 0.  0.  0.  0.  0.  0.  0.  0.  0.  0.  0.  0.  0.  0.  0.  0.  0.  0.\n",
      " 0.  0.  0.  0.  0.  0.  0.  0.  0.  0.  0.  0.  0.2 0.  0.  0.  0.  0.\n",
      " 0.  0.  0.  0.  0.  0.  0.  0.  0.  0.  0.  0.  0.  0.  0.  0.  0.  0.\n",
      " 0.  0.  0.  0.  0.  0.  0.  0.  0.  0.  0.  0.  0.  0.  0.  0.  0.  0.\n",
      " 0.  0.  0.  0.  0.  0.  0.  0.  0.  0.  0.  0.  0.  0.  0.  0.  0.  0.\n",
      " 0.  0.  0.  0.  0.  0.  0.  0.  0.  0.  0.  0.  0.  0.  0.  0.  0.  0.\n",
      " 0.  0.  0.  0.  0.  0.  0.  0.  0.  0.  0.  0.  0.  0.  0.  0.  0.  0.\n",
      " 0.  0.  0.  0.  0.2 0.  0.  0.  0.  0.  0.  0.  0.  0.  0.  0.  0.  0.\n",
      " 0.  0.  0.  0.  0.  0.  0.  0.  0.  0.  0.  0.  0.  0.  0.  0.  0.  0.\n",
      " 0.  0.  0.  0.  0.  0.  0.  0.  0.  0.  0.  0.  0.  0.  0.  0.  0.  0.\n",
      " 0.  0.  0.  0.  0.  0.  0.  0.  0.  0.  0.  0.  0.  0.  0.  0.  0.  0.\n",
      " 0.  0.  0.  0.  0.  0.  0.  0.  0.  0.  0.  0.  0.  0.  0.  0.  0.  0.\n",
      " 0.  0.  0.  0.  0.  0.  0.  0.  0.  0.  0.  0.  0.  0. ]\n",
      "rhs_matrix\n",
      "  (0, 0)\t0.2\n",
      "  (1, 1)\t0.2\n",
      "  (2, 2)\t0.2\n",
      "  (3, 3)\t0.20000000000000004\n",
      "  (4, 4)\t0.20000000000000004\n",
      "  (5, 5)\t0.19999999999999993\n",
      "  (6, 6)\t0.20000000000000018\n",
      "  (7, 7)\t0.19999999999999993\n",
      "  (8, 8)\t0.19999999999999993\n",
      "  (9, 9)\t0.20000000000000018\n",
      "  (10, 10)\t0.19999999999999993\n",
      "  (11, 11)\t0.19999999999999993\n",
      "  (12, 12)\t0.20000000000000018\n",
      "  (13, 13)\t0.20000000000000018\n",
      "  (14, 14)\t0.19999999999999965\n",
      "  (15, 15)\t0.20000000000000018\n",
      "  (16, 16)\t0.20000000000000018\n",
      "  (17, 17)\t0.19999999999999965\n",
      "  (18, 18)\t0.20000000000000018\n",
      "  (19, 19)\t0.20000000000000018\n",
      "  (20, 20)\t0.19999999999999965\n",
      "  (21, 21)\t0.20000000000000018\n",
      "  (22, 22)\t0.20000000000000018\n",
      "  (23, 23)\t0.19999999999999965\n",
      "  (24, 24)\t0.20000000000000018\n",
      "  :\t:\n",
      "  (475, 475)\t0.20000000000000012\n",
      "  (476, 476)\t0.20000000000000012\n",
      "  (477, 477)\t0.20000000000000012\n",
      "  (478, 478)\t0.20000000000000012\n",
      "  (479, 479)\t0.20000000000000012\n",
      "  (480, 480)\t0.20000000000000012\n",
      "  (481, 481)\t0.20000000000000012\n",
      "  (482, 482)\t0.20000000000000012\n",
      "  (483, 483)\t0.19999999999999793\n",
      "  (484, 484)\t0.20000000000000012\n",
      "  (485, 485)\t0.20000000000000012\n",
      "  (486, 486)\t0.20000000000000012\n",
      "  (487, 487)\t0.20000000000000012\n",
      "  (488, 488)\t0.20000000000000012\n",
      "  (489, 489)\t0.20000000000000012\n",
      "  (490, 490)\t0.20000000000000012\n",
      "  (491, 491)\t0.20000000000000012\n",
      "  (492, 492)\t0.20000000000000012\n",
      "  (493, 493)\t0.20000000000000012\n",
      "  (494, 494)\t0.20000000000000012\n",
      "  (495, 495)\t0.19999999999999793\n",
      "  (496, 496)\t0.20000000000000012\n",
      "  (497, 497)\t0.20000000000000012\n",
      "  (498, 498)\t0.20000000000000012\n",
      "  (499, 499)\t0.20000000000000012\n"
     ]
    }
   ],
   "source": [
    "tracer=np.zeros(g.num_cells)\n",
    "transport=Transport(g,specified_parameters)\n",
    "#transport.set_bc()\n",
    "#transport.set_initial_cond(tracer)\n",
    "#lhs,rhs_b,rhs_matrix=transport.get_transport_lhs_rhs()\n",
    "lhs,rhs_b,rhs_matrix=transport.set_and_get_matrices(tracer)\n",
    "print(\"tracer=\")\n",
    "print(tracer)\n",
    "print(\"lhs\")\n",
    "print(lhs.shape)\n",
    "print(lhs)\n",
    "print(\"rhs_b\")\n",
    "print(rhs_b)\n",
    "print(\"rhs_matrix\")\n",
    "print(rhs_matrix)"
   ]
  },
  {
   "cell_type": "code",
   "execution_count": 8,
   "id": "e865b83c",
   "metadata": {},
   "outputs": [
    {
     "data": {
      "image/png": "[encoded data removed]",
      "text/plain": [
       "<Figure size 1080x864 with 2 Axes>"
      ]
     },
     "metadata": {
      "needs_background": "light"
     },
     "output_type": "display_data"
    }
   ],
   "source": [
    "pp.plot_grid(g, tracer, figsize=(15, 12))"
   ]
  },
  {
   "cell_type": "code",
   "execution_count": 9,
   "id": "ea5421fa",
   "metadata": {},
   "outputs": [
    {
     "name": "stderr",
     "output_type": "stream",
     "text": [
      "/home/dell/.local/lib/python3.8/site-packages/scipy/sparse/linalg/dsolve/linsolve.py:318: SparseEfficiencyWarning: splu requires CSC matrix format\n",
      "  warn('splu requires CSC matrix format', SparseEfficiencyWarning)\n"
     ]
    },
    {
     "name": "stdout",
     "output_type": "stream",
     "text": [
      "[1.         1.         1.         1.         1.         1.\n",
      " 1.         1.         1.         1.         1.         1.\n",
      " 1.         1.         1.         1.         1.         1.\n",
      " 1.         1.         1.         1.         1.         1.\n",
      " 1.         1.         1.         1.         1.         1.\n",
      " 1.         1.         1.         1.         1.         0.99999999\n",
      " 0.99999998 0.99999997 0.99999994 0.99999988 0.99999979 0.99999964\n",
      " 0.99999938 0.99999895 0.99999825 0.99999714 0.99999538 0.99999265\n",
      " 0.99998847 0.99998216 0.99997276 0.99995894 0.99993886 0.99991007\n",
      " 0.99986929 0.9998122  0.99973318 0.99962506 0.99947872 0.99928277\n",
      " 0.99902314 0.99868263 0.99824053 0.99767212 0.99694827 0.99603511\n",
      " 0.99489367 0.99347964 0.99174329 0.98962948 0.98707781 0.98402299\n",
      " 0.98039539 0.97612178 0.97112627 0.96533149 0.95865986 0.95103514\n",
      " 0.94238402 0.93263783 0.92173427 0.9096192  0.8962483  0.88158864\n",
      " 0.86562009 0.84833647 0.82974654 0.80987454 0.78876055 0.76646037\n",
      " 0.74304518 0.71860076 0.69322638 0.66703348 0.64014395 0.61268833\n",
      " 0.58480372 0.55663164 0.52831582 0.5        1.         1.\n",
      " 1.         1.         1.         1.         1.         1.\n",
      " 1.         1.         1.         1.         1.         1.\n",
      " 1.         1.         1.         1.         1.         1.\n",
      " 1.         1.         1.         1.         1.         1.\n",
      " 1.         1.         1.         1.         1.         1.\n",
      " 1.         1.         1.         0.99999999 0.99999998 0.99999997\n",
      " 0.99999994 0.99999988 0.99999979 0.99999964 0.99999938 0.99999895\n",
      " 0.99999825 0.99999714 0.99999538 0.99999265 0.99998847 0.99998216\n",
      " 0.99997276 0.99995894 0.99993886 0.99991007 0.99986929 0.9998122\n",
      " 0.99973318 0.99962506 0.99947872 0.99928277 0.99902314 0.99868263\n",
      " 0.99824053 0.99767212 0.99694827 0.99603511 0.99489367 0.99347964\n",
      " 0.99174329 0.98962948 0.98707781 0.98402299 0.98039539 0.97612178\n",
      " 0.97112627 0.96533149 0.95865986 0.95103514 0.94238402 0.93263783\n",
      " 0.92173427 0.9096192  0.8962483  0.88158864 0.86562009 0.84833647\n",
      " 0.82974654 0.80987454 0.78876055 0.76646037 0.74304518 0.71860076\n",
      " 0.69322638 0.66703348 0.64014395 0.61268833 0.58480372 0.55663164\n",
      " 0.52831582 0.5        1.         1.         1.         1.\n",
      " 1.         1.         1.         1.         1.         1.\n",
      " 1.         1.         1.         1.         1.         1.\n",
      " 1.         1.         1.         1.         1.         1.\n",
      " 1.         1.         1.         1.         1.         1.\n",
      " 1.         1.         1.         1.         1.         1.\n",
      " 1.         0.99999999 0.99999998 0.99999997 0.99999994 0.99999988\n",
      " 0.99999979 0.99999964 0.99999938 0.99999895 0.99999825 0.99999714\n",
      " 0.99999538 0.99999265 0.99998847 0.99998216 0.99997276 0.99995894\n",
      " 0.99993886 0.99991007 0.99986929 0.9998122  0.99973318 0.99962506\n",
      " 0.99947872 0.99928277 0.99902314 0.99868263 0.99824053 0.99767212\n",
      " 0.99694827 0.99603511 0.99489367 0.99347964 0.99174329 0.98962948\n",
      " 0.98707781 0.98402299 0.98039539 0.97612178 0.97112627 0.96533149\n",
      " 0.95865986 0.95103514 0.94238402 0.93263783 0.92173427 0.9096192\n",
      " 0.8962483  0.88158864 0.86562009 0.84833647 0.82974654 0.80987454\n",
      " 0.78876055 0.76646037 0.74304518 0.71860076 0.69322638 0.66703348\n",
      " 0.64014395 0.61268833 0.58480372 0.55663164 0.52831582 0.5\n",
      " 1.         1.         1.         1.         1.         1.\n",
      " 1.         1.         1.         1.         1.         1.\n",
      " 1.         1.         1.         1.         1.         1.\n",
      " 1.         1.         1.         1.         1.         1.\n",
      " 1.         1.         1.         1.         1.         1.\n",
      " 1.         1.         1.         1.         1.         0.99999999\n",
      " 0.99999998 0.99999997 0.99999994 0.99999988 0.99999979 0.99999964\n",
      " 0.99999938 0.99999895 0.99999825 0.99999714 0.99999538 0.99999265\n",
      " 0.99998847 0.99998216 0.99997276 0.99995894 0.99993886 0.99991007\n",
      " 0.99986929 0.9998122  0.99973318 0.99962506 0.99947872 0.99928277\n",
      " 0.99902314 0.99868263 0.99824053 0.99767212 0.99694827 0.99603511\n",
      " 0.99489367 0.99347964 0.99174329 0.98962948 0.98707781 0.98402299\n",
      " 0.98039539 0.97612178 0.97112627 0.96533149 0.95865986 0.95103514\n",
      " 0.94238402 0.93263783 0.92173427 0.9096192  0.8962483  0.88158864\n",
      " 0.86562009 0.84833647 0.82974654 0.80987454 0.78876055 0.76646037\n",
      " 0.74304518 0.71860076 0.69322638 0.66703348 0.64014395 0.61268833\n",
      " 0.58480372 0.55663164 0.52831582 0.5        1.         1.\n",
      " 1.         1.         1.         1.         1.         1.\n",
      " 1.         1.         1.         1.         1.         1.\n",
      " 1.         1.         1.         1.         1.         1.\n",
      " 1.         1.         1.         1.         1.         1.\n",
      " 1.         1.         1.         1.         1.         1.\n",
      " 1.         1.         1.         0.99999999 0.99999998 0.99999997\n",
      " 0.99999994 0.99999988 0.99999979 0.99999964 0.99999938 0.99999895\n",
      " 0.99999825 0.99999714 0.99999538 0.99999265 0.99998847 0.99998216\n",
      " 0.99997276 0.99995894 0.99993886 0.99991007 0.99986929 0.9998122\n",
      " 0.99973318 0.99962506 0.99947872 0.99928277 0.99902314 0.99868263\n",
      " 0.99824053 0.99767212 0.99694827 0.99603511 0.99489367 0.99347964\n",
      " 0.99174329 0.98962948 0.98707781 0.98402299 0.98039539 0.97612178\n",
      " 0.97112627 0.96533149 0.95865986 0.95103514 0.94238402 0.93263783\n",
      " 0.92173427 0.9096192  0.8962483  0.88158864 0.86562009 0.84833647\n",
      " 0.82974654 0.80987454 0.78876055 0.76646037 0.74304518 0.71860076\n",
      " 0.69322638 0.66703348 0.64014395 0.61268833 0.58480372 0.55663164\n",
      " 0.52831582 0.5       ]\n"
     ]
    }
   ],
   "source": [
    "IEsolver = sps.linalg.factorized(lhs)\n",
    "\n",
    "data_transport=transport.data[pp.PARAMETERS][\"transport\"]\n",
    "n_steps = int(np.round(data_transport[\"t_max\"] / data_transport[\"time_step\"]))\n",
    "\n",
    "save_every=1\n",
    "\n",
    "# Exporter\n",
    "exporter = pp.Exporter(transport.g, file_name=\"tracer\",folder_name=\"solution_transport_2D\")\n",
    "    \n",
    "for i in range(1,n_steps+1,1):\n",
    "#for i in range(1,2,1):\n",
    "    if np.isclose(i % save_every, 0):\n",
    "        # Export existing solution (final export is taken care of below)\n",
    "        exporter.write_vtu({\"tracer\":tracer}, time_step=int(i // save_every))\n",
    "        if data_transport[\"method\"]==\"Explicit\":\n",
    "            tracer = IEsolver(rhs_matrix*tracer+rhs_b)\n",
    "            #print(tracer)\n",
    "        else:\n",
    "            tracer = IEsolver(rhs_matrix*tracer+rhs_b)\n",
    "            #print(tracer)\n",
    "        #pp.plot_grid(g, tracer, figsize=(15, 12))\n",
    "print(tracer)\n",
    "exporter.write_vtu({\"tracer\":tracer}, time_step=(n_steps // save_every))\n",
    "time_steps = np.arange(0,data_transport[\"t_max\"] + data_transport[\"time_step\"], save_every * data_transport[\"time_step\"])\n",
    "exporter.write_pvd(time_steps)"
   ]
  },
  {
   "cell_type": "code",
   "execution_count": 10,
   "id": "c4449f90",
   "metadata": {},
   "outputs": [
    {
     "data": {
      "image/png": "[encoded data removed]",
      "text/plain": [
       "<Figure size 1080x864 with 2 Axes>"
      ]
     },
     "metadata": {
      "needs_background": "light"
     },
     "output_type": "display_data"
    }
   ],
   "source": [
    "pp.plot_grid(g, tracer, figsize=(15, 12))"
   ]
  },
  {
   "cell_type": "code",
   "execution_count": null,
   "id": "45762ea2",
   "metadata": {},
   "outputs": [],
   "source": []
  }
 ],
 "metadata": {
  "kernelspec": {
   "display_name": "Python 3 (ipykernel)",
   "language": "python",
   "name": "python3"
  },
  "language_info": {
   "codemirror_mode": {
    "name": "ipython",
    "version": 3
   },
   "file_extension": ".py",
   "mimetype": "text/x-python",
   "name": "python",
   "nbconvert_exporter": "python",
   "pygments_lexer": "ipython3",
   "version": "3.8.8"
  }
 },
 "nbformat": 4,
 "nbformat_minor": 5
}
