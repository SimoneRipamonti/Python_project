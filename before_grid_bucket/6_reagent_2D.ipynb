{
 "cells": [
  {
   "cell_type": "code",
   "execution_count": 1,
   "id": "1b307116",
   "metadata": {},
   "outputs": [],
   "source": [
    "import numpy as np\n",
    "import scipy.sparse as sps\n",
    "import porepy as pp"
   ]
  },
  {
   "cell_type": "code",
   "execution_count": 2,
   "id": "970e2b12",
   "metadata": {},
   "outputs": [],
   "source": [
    "import sys\n",
    "sys.path.append(\"./class\")\n",
    "from Transport_class import Transport\n",
    "from Reaction_class import Reaction\n",
    "from Concentrations import Concentrations"
   ]
  },
  {
   "cell_type": "code",
   "execution_count": 3,
   "id": "419cb9a2",
   "metadata": {},
   "outputs": [
    {
     "name": "stderr",
     "output_type": "stream",
     "text": [
      "/home/dell/anaconda3/lib/python3.8/site-packages/porepy/viz/plot_grid.py:241: UserWarning: Attempting to set identical bottom == top == 0.0 results in singular transformations; automatically expanding.\n",
      "  ax.set_zlim3d(z)\n"
     ]
    },
    {
     "data": {
      "image/png": "[encoded data removed]",
      "text/plain": [
       "<Figure size 1080x864 with 1 Axes>"
      ]
     },
     "metadata": {
      "needs_background": "light"
     },
     "output_type": "display_data"
    }
   ],
   "source": [
    "#QUESTIONE DATI\n",
    "Nx=100\n",
    "Ny=1\n",
    "Nt=10000\n",
    "Lx=0.045\n",
    "Ly=0.01\n",
    "hx=Lx/Nx\n",
    "hy=Ly/Ny\n",
    "phys_dims=[Lx,Ly]\n",
    "g=pp.CartGrid([Nx,Ny],phys_dims)\n",
    "g.compute_geometry()\n",
    "pp.plot_grid(g,figsize=(15,12))\n",
    "#pp.plot_grid(g)"
   ]
  },
  {
   "cell_type": "code",
   "execution_count": 4,
   "id": "0ea2ad44",
   "metadata": {},
   "outputs": [],
   "source": [
    "psi1=np.zeros(g.num_cells)\n",
    "psi2=np.zeros(g.num_cells)\n",
    "psi3=np.zeros(g.num_cells)\n",
    "psi4=np.zeros(g.num_cells)\n",
    "psi5=np.zeros(g.num_cells)\n",
    "psi6=np.zeros(g.num_cells)\n",
    "rd=np.zeros(g.num_cells)"
   ]
  },
  {
   "cell_type": "code",
   "execution_count": 5,
   "id": "c10eae7a",
   "metadata": {},
   "outputs": [],
   "source": [
    "unity = np.ones(g.num_cells)\n",
    "porosity=0.3*unity\n",
    "aperture=1"
   ]
  },
  {
   "cell_type": "code",
   "execution_count": 6,
   "id": "1d655e81",
   "metadata": {},
   "outputs": [],
   "source": [
    "reaction_data={\"kd\":1.83e-7,\n",
    "               #\"kd\":0.0,\n",
    "               \"K_eq\":4.45e-7,\n",
    "               \"K_sol\":10e9,\n",
    "               \"porosity\":porosity }"
   ]
  },
  {
   "cell_type": "code",
   "execution_count": 7,
   "id": "68b65d19",
   "metadata": {},
   "outputs": [],
   "source": [
    "reaction=Reaction(g,reaction_data)"
   ]
  },
  {
   "cell_type": "code",
   "execution_count": 8,
   "id": "b5cd4c01",
   "metadata": {},
   "outputs": [],
   "source": [
    "K_eq=reaction.data[pp.PARAMETERS][\"reaction\"][\"K_eq\"]"
   ]
  },
  {
   "cell_type": "code",
   "execution_count": 9,
   "id": "59f6ba60",
   "metadata": {},
   "outputs": [
    {
     "name": "stdout",
     "output_type": "stream",
     "text": [
      "bc_HCO3_in=\n",
      "0.0164254306\n"
     ]
    }
   ],
   "source": [
    "bc_type_Ca=[\"dir\",\"dir\"]\n",
    "bc_value_Ca=[0.0,0.0]\n",
    "#init_cond_Ca=lambda x,y,z:int(x<0.5)\n",
    "init_cond_Ca=lambda x,y,z:0.0\n",
    "\n",
    "bc_type_CaSiO3=[\"dir\",\"dir\"]\n",
    "bc_value_CaSiO3=[0.0,0.0]\n",
    "#init_cond_CaSiO3=lambda x,y,z:int(x<0.5)\n",
    "init_cond_CaSiO3=lambda x,y,z:1.0\n",
    "\n",
    "bc_type_CO2=[\"dir\",\"dir\"]\n",
    "bc_value_CO2=[0.3691108,0.0]\n",
    "#init_cond_Ca=lambda x,y,z:int(x<0.5)\n",
    "init_cond_CO2=lambda x,y,z:1.0e-3\n",
    "\n",
    "bc_type_SiO2=[\"dir\",\"dir\"]\n",
    "bc_value_SiO2=[0.0,0.0]\n",
    "#init_cond_Ca=lambda x,y,z:int(x<0.5)\n",
    "init_cond_SiO2=lambda x,y,z:0.0\n",
    "\n",
    "bc_type_H_piu=[\"dir\",\"dir\"]\n",
    "bc_value_H_piu=[1.0e-5,0.0]\n",
    "#init_cond_Ca=lambda x,y,z:int(x<0.5)\n",
    "init_cond_H_piu=lambda x,y,z:1.0e-7\n",
    "\n",
    "\n",
    "\n",
    "bc_HCO3_in=K_eq*bc_value_CO2[0]/bc_value_H_piu[0]\n",
    "print(\"bc_HCO3_in=\")\n",
    "print(bc_HCO3_in)\n",
    "#bc_HCO3_out=K_eq*bc_value_CO2[1]/bc_value_H_piu[1]\n",
    "bc_HCO3_out=0.0\n",
    "\n",
    "bc_type_HCO3=[\"dir\",\"dir\"]\n",
    "bc_value_HCO3=[bc_HCO3_in,bc_HCO3_out]\n",
    "#init_cond_Ca=lambda x,y,z:int(x<0.5)\n",
    "init_cond_HCO3=lambda x,y,z:0.0"
   ]
  },
  {
   "cell_type": "code",
   "execution_count": 10,
   "id": "b074dd66",
   "metadata": {},
   "outputs": [],
   "source": [
    "data_6reagents = {\"bc_type_Ca\": bc_type_Ca,\n",
    "            \"bc_value_Ca\": bc_value_Ca,\n",
    "            \"bc_type_CO2\": bc_type_CO2,\n",
    "            \"bc_value_CO2\": bc_value_CO2,\n",
    "            \"bc_type_HCO3\": bc_type_HCO3,\n",
    "            \"bc_value_HCO3\": bc_value_HCO3,\n",
    "            \"bc_type_CaSiO3\": bc_type_CaSiO3,\n",
    "            \"bc_value_CaSiO3\": bc_value_CaSiO3,\n",
    "            \"bc_type_SiO2\": bc_type_SiO2,\n",
    "            \"bc_value_SiO2\": bc_value_SiO2,\n",
    "            \"bc_type_H_piu\": bc_type_H_piu,\n",
    "            \"bc_value_H_piu\": bc_value_H_piu,\n",
    "            \"time_step\": 34.56,\n",
    "            \"t_max\": 345600,\n",
    "            \"method\": \"Implicit\",\n",
    "            \"lambda_lin_decay\":0,\n",
    "            \"init_cond_Ca\":init_cond_Ca,\n",
    "            \"init_cond_CO2\":init_cond_CO2,\n",
    "            \"init_cond_CaSiO3\":init_cond_CaSiO3,\n",
    "            \"init_cond_SiO2\":init_cond_SiO2,\n",
    "            \"init_cond_HCO3\":init_cond_HCO3,\n",
    "            \"init_cond_H_piu\":init_cond_H_piu,}"
   ]
  },
  {
   "cell_type": "code",
   "execution_count": 11,
   "id": "7e6083f4",
   "metadata": {},
   "outputs": [],
   "source": [
    "concentrations=Concentrations(g,Nt,data_6reagents)\n",
    "concentrations.set_initial_cond(K_eq)"
   ]
  },
  {
   "cell_type": "code",
   "execution_count": 12,
   "id": "c2cffc28",
   "metadata": {},
   "outputs": [],
   "source": [
    "psi1,psi2,psi3,psi4,psi5=concentrations.compute_psi(0,psi1,psi2,psi3,psi4,psi5)"
   ]
  },
  {
   "cell_type": "code",
   "execution_count": 13,
   "id": "e87aea44",
   "metadata": {},
   "outputs": [],
   "source": [
    "bc_psi1,bc_psi2,bc_psi3,bc_psi4,bc_psi5=concentrations.set_bc_psi()"
   ]
  },
  {
   "cell_type": "code",
   "execution_count": 14,
   "id": "db3d6d34",
   "metadata": {},
   "outputs": [],
   "source": [
    "data_reagent_psi1= {\n",
    "            \"bc_type\": bc_type_Ca,\n",
    "            \"bc_value\": bc_psi1,\n",
    "            \"mass_weight\": porosity * aperture,\n",
    "            \"darcy_flux\":np.zeros(g.num_faces),\n",
    "            \"lambda_lin_decay\":0.,\n",
    "            \"method\": \"Implicit\",\n",
    "            \"time_step\": 34.56,\n",
    "            \"t_max\": 345600,\n",
    "}\n",
    "\n",
    "data_reagent_psi2= {\n",
    "            \"bc_type\": bc_type_H_piu,\n",
    "            \"bc_value\": bc_psi2,\n",
    "            \"mass_weight\": porosity * aperture,\n",
    "            \"darcy_flux\":np.zeros(g.num_faces),\n",
    "            \"lambda_lin_decay\":0.,\n",
    "            \"method\": \"Implicit\",\n",
    "            \"time_step\": 34.56,\n",
    "            \"t_max\": 345600,\n",
    "}\n",
    "\n",
    "data_reagent_psi3= {\n",
    "            \"bc_type\": bc_type_CO2,\n",
    "            \"bc_value\": bc_psi3,\n",
    "            \"mass_weight\": porosity * aperture,\n",
    "            \"darcy_flux\":np.zeros(g.num_faces),\n",
    "            \"lambda_lin_decay\":0.,\n",
    "            \"method\": \"Implicit\",\n",
    "            \"time_step\": 34.56,\n",
    "            \"t_max\": 345600,\n",
    "}\n",
    "\n",
    "data_reagent_psi4= {\n",
    "            \"bc_type\": bc_type_CaSiO3,\n",
    "            \"bc_value\": bc_psi4,\n",
    "            \"mass_weight\": porosity * aperture,\n",
    "            \"darcy_flux\":np.zeros(g.num_faces),\n",
    "            \"lambda_lin_decay\":0.,\n",
    "            \"method\": \"Implicit\",\n",
    "            \"time_step\": 34.56,\n",
    "            \"t_max\": 345600,\n",
    "}\n",
    "\n",
    "data_reagent_psi5= {\n",
    "            \"bc_type\": bc_type_SiO2,\n",
    "            \"bc_value\": bc_psi5,\n",
    "            \"mass_weight\": porosity * aperture,\n",
    "            \"darcy_flux\":np.zeros(g.num_faces),\n",
    "            \"lambda_lin_decay\":0.,\n",
    "            \"method\": \"Implicit\",\n",
    "            \"time_step\": 34.56,\n",
    "            \"t_max\": 345600,\n",
    "}"
   ]
  },
  {
   "cell_type": "code",
   "execution_count": 15,
   "id": "c08e9623",
   "metadata": {},
   "outputs": [],
   "source": [
    "data_reagent_psi1[\"darcy_flux\"][:(Nx+1)*Ny]=hy*6.67e-9\n",
    "data_reagent_psi2[\"darcy_flux\"][:(Nx+1)*Ny]=hy*6.67e-9\n",
    "data_reagent_psi3[\"darcy_flux\"][:(Nx+1)*Ny]=hy*6.67e-9\n",
    "data_reagent_psi5[\"darcy_flux\"][:(Nx+1)*Ny]=hy*6.67e-9"
   ]
  },
  {
   "cell_type": "code",
   "execution_count": 16,
   "id": "c67576b3",
   "metadata": {},
   "outputs": [
    {
     "name": "stdout",
     "output_type": "stream",
     "text": [
      "[6.67e-11 6.67e-11 6.67e-11 6.67e-11 6.67e-11 6.67e-11 6.67e-11 6.67e-11\n",
      " 6.67e-11 6.67e-11 6.67e-11 6.67e-11 6.67e-11 6.67e-11 6.67e-11 6.67e-11\n",
      " 6.67e-11 6.67e-11 6.67e-11 6.67e-11 6.67e-11 6.67e-11 6.67e-11 6.67e-11\n",
      " 6.67e-11 6.67e-11 6.67e-11 6.67e-11 6.67e-11 6.67e-11 6.67e-11 6.67e-11\n",
      " 6.67e-11 6.67e-11 6.67e-11 6.67e-11 6.67e-11 6.67e-11 6.67e-11 6.67e-11\n",
      " 6.67e-11 6.67e-11 6.67e-11 6.67e-11 6.67e-11 6.67e-11 6.67e-11 6.67e-11\n",
      " 6.67e-11 6.67e-11 6.67e-11 6.67e-11 6.67e-11 6.67e-11 6.67e-11 6.67e-11\n",
      " 6.67e-11 6.67e-11 6.67e-11 6.67e-11 6.67e-11 6.67e-11 6.67e-11 6.67e-11\n",
      " 6.67e-11 6.67e-11 6.67e-11 6.67e-11 6.67e-11 6.67e-11 6.67e-11 6.67e-11\n",
      " 6.67e-11 6.67e-11 6.67e-11 6.67e-11 6.67e-11 6.67e-11 6.67e-11 6.67e-11\n",
      " 6.67e-11 6.67e-11 6.67e-11 6.67e-11 6.67e-11 6.67e-11 6.67e-11 6.67e-11\n",
      " 6.67e-11 6.67e-11 6.67e-11 6.67e-11 6.67e-11 6.67e-11 6.67e-11 6.67e-11\n",
      " 6.67e-11 6.67e-11 6.67e-11 6.67e-11 6.67e-11 0.00e+00 0.00e+00 0.00e+00\n",
      " 0.00e+00 0.00e+00 0.00e+00 0.00e+00 0.00e+00 0.00e+00 0.00e+00 0.00e+00\n",
      " 0.00e+00 0.00e+00 0.00e+00 0.00e+00 0.00e+00 0.00e+00 0.00e+00 0.00e+00\n",
      " 0.00e+00 0.00e+00 0.00e+00 0.00e+00 0.00e+00 0.00e+00 0.00e+00 0.00e+00\n",
      " 0.00e+00 0.00e+00 0.00e+00 0.00e+00 0.00e+00 0.00e+00 0.00e+00 0.00e+00\n",
      " 0.00e+00 0.00e+00 0.00e+00 0.00e+00 0.00e+00 0.00e+00 0.00e+00 0.00e+00\n",
      " 0.00e+00 0.00e+00 0.00e+00 0.00e+00 0.00e+00 0.00e+00 0.00e+00 0.00e+00\n",
      " 0.00e+00 0.00e+00 0.00e+00 0.00e+00 0.00e+00 0.00e+00 0.00e+00 0.00e+00\n",
      " 0.00e+00 0.00e+00 0.00e+00 0.00e+00 0.00e+00 0.00e+00 0.00e+00 0.00e+00\n",
      " 0.00e+00 0.00e+00 0.00e+00 0.00e+00 0.00e+00 0.00e+00 0.00e+00 0.00e+00\n",
      " 0.00e+00 0.00e+00 0.00e+00 0.00e+00 0.00e+00 0.00e+00 0.00e+00 0.00e+00\n",
      " 0.00e+00 0.00e+00 0.00e+00 0.00e+00 0.00e+00 0.00e+00 0.00e+00 0.00e+00\n",
      " 0.00e+00 0.00e+00 0.00e+00 0.00e+00 0.00e+00 0.00e+00 0.00e+00 0.00e+00\n",
      " 0.00e+00 0.00e+00 0.00e+00 0.00e+00 0.00e+00 0.00e+00 0.00e+00 0.00e+00\n",
      " 0.00e+00 0.00e+00 0.00e+00 0.00e+00 0.00e+00 0.00e+00 0.00e+00 0.00e+00\n",
      " 0.00e+00 0.00e+00 0.00e+00 0.00e+00 0.00e+00 0.00e+00 0.00e+00 0.00e+00\n",
      " 0.00e+00 0.00e+00 0.00e+00 0.00e+00 0.00e+00 0.00e+00 0.00e+00 0.00e+00\n",
      " 0.00e+00 0.00e+00 0.00e+00 0.00e+00 0.00e+00 0.00e+00 0.00e+00 0.00e+00\n",
      " 0.00e+00 0.00e+00 0.00e+00 0.00e+00 0.00e+00 0.00e+00 0.00e+00 0.00e+00\n",
      " 0.00e+00 0.00e+00 0.00e+00 0.00e+00 0.00e+00 0.00e+00 0.00e+00 0.00e+00\n",
      " 0.00e+00 0.00e+00 0.00e+00 0.00e+00 0.00e+00 0.00e+00 0.00e+00 0.00e+00\n",
      " 0.00e+00 0.00e+00 0.00e+00 0.00e+00 0.00e+00 0.00e+00 0.00e+00 0.00e+00\n",
      " 0.00e+00 0.00e+00 0.00e+00 0.00e+00 0.00e+00 0.00e+00 0.00e+00 0.00e+00\n",
      " 0.00e+00 0.00e+00 0.00e+00 0.00e+00 0.00e+00 0.00e+00 0.00e+00 0.00e+00\n",
      " 0.00e+00 0.00e+00 0.00e+00 0.00e+00 0.00e+00 0.00e+00 0.00e+00 0.00e+00\n",
      " 0.00e+00 0.00e+00 0.00e+00 0.00e+00 0.00e+00]\n"
     ]
    }
   ],
   "source": [
    "print(data_reagent_psi5[\"darcy_flux\"])"
   ]
  },
  {
   "cell_type": "code",
   "execution_count": 17,
   "id": "0a7d6521",
   "metadata": {},
   "outputs": [],
   "source": [
    "psi1_transport=Transport(g,data_reagent_psi1)\n",
    "#psi1=psi1_transport.set_bc(psi1)\n",
    "psi1_transport.set_bc()\n",
    "psi1_lhs,psi1_rhs_b,psi1_rhs_matrix=psi1_transport.get_transport_lhs_rhs()\n",
    "\n",
    "psi2_transport=Transport(g,data_reagent_psi2)\n",
    "#psi2=psi2_transport.set_bc(psi2)\n",
    "psi2_transport.set_bc()\n",
    "psi2_lhs,psi2_rhs_b,psi2_rhs_matrix=psi2_transport.get_transport_lhs_rhs()\n",
    "\n",
    "psi3_transport=Transport(g,data_reagent_psi3)\n",
    "#psi3=psi3_transport.set_bc(psi3)\n",
    "psi3_transport.set_bc()\n",
    "psi3_lhs,psi3_rhs_b,psi3_rhs_matrix=psi3_transport.get_transport_lhs_rhs()\n",
    "\n",
    "psi4_transport=Transport(g,data_reagent_psi4)\n",
    "#psi4=psi4_transport.set_bc(psi4)\n",
    "psi4_transport.set_bc()\n",
    "psi4_lhs,psi4_rhs_b,psi4_rhs_matrix=psi4_transport.get_transport_lhs_rhs()\n",
    "\n",
    "psi5_transport=Transport(g,data_reagent_psi5)\n",
    "#psi5=psi5_transport.set_bc(psi5)\n",
    "psi5_transport.set_bc()\n",
    "psi5_lhs,psi5_rhs_b,psi5_rhs_matrix=psi5_transport.get_transport_lhs_rhs()"
   ]
  },
  {
   "cell_type": "code",
   "execution_count": 18,
   "id": "272b1ca4",
   "metadata": {},
   "outputs": [],
   "source": [
    "n_steps = int(np.round(concentrations.data[pp.PARAMETERS][\"6reagents\"][\"t_max\"] / concentrations.data[pp.PARAMETERS][\"6reagents\"][\"time_step\"]))"
   ]
  },
  {
   "cell_type": "code",
   "execution_count": 19,
   "id": "439a872b",
   "metadata": {},
   "outputs": [],
   "source": [
    "dt=psi1_transport.data[pp.PARAMETERS][\"transport\"][\"time_step\"]"
   ]
  },
  {
   "cell_type": "code",
   "execution_count": 20,
   "id": "51fbf19f",
   "metadata": {},
   "outputs": [],
   "source": [
    "save_every=100\n",
    "exporter = pp.Exporter(g, file_name=\"6_reagents\",folder_name=\"solution_6_reagents_2D\")"
   ]
  },
  {
   "cell_type": "code",
   "execution_count": 21,
   "id": "911fce25",
   "metadata": {},
   "outputs": [
    {
     "name": "stdout",
     "output_type": "stream",
     "text": [
      "Ca:\n",
      "[0. 0. 0. 0. 0. 0. 0. 0. 0. 0. 0. 0. 0. 0. 0. 0. 0. 0. 0. 0. 0. 0. 0. 0.\n",
      " 0. 0. 0. 0. 0. 0. 0. 0. 0. 0. 0. 0. 0. 0. 0. 0. 0. 0. 0. 0. 0. 0. 0. 0.\n",
      " 0. 0. 0. 0. 0. 0. 0. 0. 0. 0. 0. 0. 0. 0. 0. 0. 0. 0. 0. 0. 0. 0. 0. 0.\n",
      " 0. 0. 0. 0. 0. 0. 0. 0. 0. 0. 0. 0. 0. 0. 0. 0. 0. 0. 0. 0. 0. 0. 0. 0.\n",
      " 0. 0. 0. 0.]\n",
      "CaSiO3:\n",
      "[1. 1. 1. 1. 1. 1. 1. 1. 1. 1. 1. 1. 1. 1. 1. 1. 1. 1. 1. 1. 1. 1. 1. 1.\n",
      " 1. 1. 1. 1. 1. 1. 1. 1. 1. 1. 1. 1. 1. 1. 1. 1. 1. 1. 1. 1. 1. 1. 1. 1.\n",
      " 1. 1. 1. 1. 1. 1. 1. 1. 1. 1. 1. 1. 1. 1. 1. 1. 1. 1. 1. 1. 1. 1. 1. 1.\n",
      " 1. 1. 1. 1. 1. 1. 1. 1. 1. 1. 1. 1. 1. 1. 1. 1. 1. 1. 1. 1. 1. 1. 1. 1.\n",
      " 1. 1. 1. 1.]\n",
      "H_piu:\n",
      "[1.e-07 1.e-07 1.e-07 1.e-07 1.e-07 1.e-07 1.e-07 1.e-07 1.e-07 1.e-07\n",
      " 1.e-07 1.e-07 1.e-07 1.e-07 1.e-07 1.e-07 1.e-07 1.e-07 1.e-07 1.e-07\n",
      " 1.e-07 1.e-07 1.e-07 1.e-07 1.e-07 1.e-07 1.e-07 1.e-07 1.e-07 1.e-07\n",
      " 1.e-07 1.e-07 1.e-07 1.e-07 1.e-07 1.e-07 1.e-07 1.e-07 1.e-07 1.e-07\n",
      " 1.e-07 1.e-07 1.e-07 1.e-07 1.e-07 1.e-07 1.e-07 1.e-07 1.e-07 1.e-07\n",
      " 1.e-07 1.e-07 1.e-07 1.e-07 1.e-07 1.e-07 1.e-07 1.e-07 1.e-07 1.e-07\n",
      " 1.e-07 1.e-07 1.e-07 1.e-07 1.e-07 1.e-07 1.e-07 1.e-07 1.e-07 1.e-07\n",
      " 1.e-07 1.e-07 1.e-07 1.e-07 1.e-07 1.e-07 1.e-07 1.e-07 1.e-07 1.e-07\n",
      " 1.e-07 1.e-07 1.e-07 1.e-07 1.e-07 1.e-07 1.e-07 1.e-07 1.e-07 1.e-07\n",
      " 1.e-07 1.e-07 1.e-07 1.e-07 1.e-07 1.e-07 1.e-07 1.e-07 1.e-07 1.e-07]\n",
      "CO2:\n",
      "[0.001 0.001 0.001 0.001 0.001 0.001 0.001 0.001 0.001 0.001 0.001 0.001\n",
      " 0.001 0.001 0.001 0.001 0.001 0.001 0.001 0.001 0.001 0.001 0.001 0.001\n",
      " 0.001 0.001 0.001 0.001 0.001 0.001 0.001 0.001 0.001 0.001 0.001 0.001\n",
      " 0.001 0.001 0.001 0.001 0.001 0.001 0.001 0.001 0.001 0.001 0.001 0.001\n",
      " 0.001 0.001 0.001 0.001 0.001 0.001 0.001 0.001 0.001 0.001 0.001 0.001\n",
      " 0.001 0.001 0.001 0.001 0.001 0.001 0.001 0.001 0.001 0.001 0.001 0.001\n",
      " 0.001 0.001 0.001 0.001 0.001 0.001 0.001 0.001 0.001 0.001 0.001 0.001\n",
      " 0.001 0.001 0.001 0.001 0.001 0.001 0.001 0.001 0.001 0.001 0.001 0.001\n",
      " 0.001 0.001 0.001 0.001]\n"
     ]
    }
   ],
   "source": [
    "print(\"Ca:\")\n",
    "print(concentrations.Ca[:,0])\n",
    "print(\"CaSiO3:\")\n",
    "print(concentrations.CaSiO3[:,0])\n",
    "print(\"H_piu:\")\n",
    "print(concentrations.H_piu[:,0])\n",
    "print(\"CO2:\")\n",
    "print(concentrations.CO2[:,0])"
   ]
  },
  {
   "cell_type": "code",
   "execution_count": 22,
   "id": "b299d495",
   "metadata": {},
   "outputs": [
    {
     "name": "stderr",
     "output_type": "stream",
     "text": [
      "/home/dell/.local/lib/python3.8/site-packages/scipy/sparse/linalg/dsolve/linsolve.py:318: SparseEfficiencyWarning: splu requires CSC matrix format\n",
      "  warn('splu requires CSC matrix format', SparseEfficiencyWarning)\n"
     ]
    }
   ],
   "source": [
    "for i in range(1,n_steps+1,1):\n",
    "#for i in range(1,500,1):\n",
    "    if np.isclose((i-1) % save_every, 0):\n",
    "        exporter.write_vtu({\"Ca\":concentrations.Ca[:,i-1], \"CaSiO3\":concentrations.CaSiO3[:,i-1], \"H_piu\":concentrations.H_piu[:,i-1], \"HCO3\":concentrations.HCO3[:,i-1], \"CO2\":concentrations.CO2[:,i-1],\"SiO2\":concentrations.SiO2[:,i-1]}, time_step=int((i-1) // save_every))\n",
    "\n",
    "    psi1,psi2,psi3,psi4,psi5=concentrations.compute_psi(i-1,psi1,psi2,psi3,psi4,psi5)\n",
    "    rd=reaction.compute_rd_6_reagents(concentrations.Ca[:,i-1],concentrations.SiO2[:,i-1],concentrations.H_piu[:,i-1],concentrations.CaSiO3[:,i-1],rd,hx,hy)\n",
    "    psi1,psi2,psi3,psi4,psi5=concentrations.one_step_transport_reaction(psi1,psi2,psi3,psi4,psi5,\n",
    "                                               psi1_lhs,psi1_rhs_b,psi1_rhs_matrix,\n",
    "                                               psi2_lhs,psi2_rhs_b,psi2_rhs_matrix,\n",
    "                                               psi3_lhs,psi3_rhs_b,psi3_rhs_matrix,\n",
    "                                               psi4_lhs,psi4_rhs_b,psi4_rhs_matrix,\n",
    "                                               psi5_lhs,psi5_rhs_b,psi5_rhs_matrix,\n",
    "                                               rd)\n",
    "    \n",
    "    concentrations.compute_concentration(psi1,psi2,psi3,psi4,psi5,i,K_eq)\n",
    "\n",
    "\n",
    "\n",
    "exporter.write_vtu({\"Ca\":concentrations.Ca[:,-1], \"CaSiO3\":concentrations.CaSiO3[:,-1], \"H_piu\":concentrations.H_piu[:,-1], \"HCO3\":concentrations.HCO3[:,-1], \"CO2\":concentrations.CO2[:,-1],\"SiO2\":concentrations.SiO2[:,-1]}, time_step=(n_steps // save_every))\n",
    "time_steps = np.arange(\n",
    "    0, psi1_transport.data[pp.PARAMETERS][\"transport\"][\"t_max\"] + dt, save_every * dt\n",
    ")\n",
    "exporter.write_pvd(time_steps)\n",
    "    "
   ]
  },
  {
   "cell_type": "code",
   "execution_count": 23,
   "id": "5aa441bd",
   "metadata": {},
   "outputs": [
    {
     "name": "stdout",
     "output_type": "stream",
     "text": [
      "Ca=\n",
      "[0.00348976 0.00699198 0.01050638 0.01403579 0.01757901 0.02113147\n",
      " 0.02468333 0.02821604 0.03169656 0.0350684  0.03823874 0.04106263\n",
      " 0.04333012 0.0447702  0.04509074 0.04406117 0.04161035 0.03788364\n",
      " 0.03321888 0.02805504 0.02282677 0.01789107 0.01349941 0.00980084\n",
      " 0.00685461 0.00464093 0.00307453 0.00202889 0.00136741 0.00096862\n",
      " 0.00073828 0.00061026 0.00054155 0.00050587 0.0004879  0.00047911\n",
      " 0.00047494 0.00047301 0.00047214 0.00047176 0.00047159 0.00047152\n",
      " 0.0004715  0.00047149 0.00047148 0.00047148 0.00047148 0.00047148\n",
      " 0.00047148 0.00047148 0.00047148 0.00047148 0.00047148 0.00047148\n",
      " 0.00047148 0.00047148 0.00047148 0.00047148 0.00047148 0.00047148\n",
      " 0.00047148 0.00047148 0.00047148 0.00047148 0.00047148 0.00047148\n",
      " 0.00047148 0.00047148 0.00047148 0.00047148 0.00047148 0.00047148\n",
      " 0.00047148 0.00047148 0.00047148 0.00047148 0.00047148 0.00047148\n",
      " 0.00047148 0.00047148 0.00047148 0.00047148 0.00047148 0.00047148\n",
      " 0.00047148 0.00047148 0.00047148 0.00047148 0.00047148 0.00047148\n",
      " 0.00047148 0.00047148 0.00047148 0.00047148 0.00047148 0.00047148\n",
      " 0.00047148 0.00047148 0.00047148 0.00047148]\n",
      "CaSiO3=\n",
      "[0.93871498 0.93872476 0.93895046 0.94051829 0.94282379 0.94574577\n",
      " 0.94921239 0.95316987 0.95756325 0.96232044 0.96733959 0.97247948\n",
      " 0.97755601 0.9823507  0.98663799 0.990232   0.99303814 0.99508099\n",
      " 0.99648701 0.99743034 0.99807406 0.99853511 0.99887891 0.99913355\n",
      " 0.99931039 0.99942053 0.99948067 0.99950942 0.99952159 0.99952621\n",
      " 0.99952781 0.99952832 0.99952847 0.99952851 0.99952852 0.99952852\n",
      " 0.99952852 0.99952852 0.99952852 0.99952852 0.99952852 0.99952852\n",
      " 0.99952852 0.99952852 0.99952852 0.99952852 0.99952852 0.99952852\n",
      " 0.99952852 0.99952852 0.99952852 0.99952852 0.99952852 0.99952852\n",
      " 0.99952852 0.99952852 0.99952852 0.99952852 0.99952852 0.99952852\n",
      " 0.99952852 0.99952852 0.99952852 0.99952852 0.99952852 0.99952852\n",
      " 0.99952852 0.99952852 0.99952852 0.99952852 0.99952852 0.99952852\n",
      " 0.99952852 0.99952852 0.99952852 0.99952852 0.99952852 0.99952852\n",
      " 0.99952852 0.99952852 0.99952852 0.99952852 0.99952852 0.99952852\n",
      " 0.99952852 0.99952852 0.99952852 0.99952852 0.99952852 0.99952852\n",
      " 0.99952852 0.99952852 0.99952852 0.99952852 0.99952852 0.99952852\n",
      " 0.99952852 0.99952852 0.99952852 0.99952852]\n",
      "CO2=\n",
      "[3.62134376e-01 3.55131384e-01 3.48101556e-01 3.41031627e-01\n",
      " 3.33895221e-01 3.26618503e-01 3.19025639e-01 3.10767858e-01\n",
      " 3.01264051e-01 2.89700270e-01 2.75135666e-01 2.56730857e-01\n",
      " 2.34054416e-01 2.07357887e-01 1.77680769e-01 1.46696963e-01\n",
      " 1.16342445e-01 8.83875331e-02 6.41281886e-02 4.42669291e-02\n",
      " 2.89444242e-02 1.78486410e-02 1.03519991e-02 5.65694765e-03\n",
      " 2.94115447e-03 1.48492898e-03 7.50705652e-04 3.94241364e-04\n",
      " 2.23013229e-04 1.39854859e-04 9.86491611e-05 7.78985690e-05\n",
      " 6.73957024e-05 6.21148276e-05 5.95004286e-05 5.82330422e-05\n",
      " 5.76331900e-05 5.73563544e-05 5.72318178e-05 5.71771994e-05\n",
      " 5.71538368e-05 5.71440854e-05 5.71401116e-05 5.71385297e-05\n",
      " 5.71379143e-05 5.71376801e-05 5.71375929e-05 5.71375612e-05\n",
      " 5.71375498e-05 5.71375459e-05 5.71375445e-05 5.71375441e-05\n",
      " 5.71375439e-05 5.71375439e-05 5.71375438e-05 5.71375438e-05\n",
      " 5.71375438e-05 5.71375438e-05 5.71375438e-05 5.71375438e-05\n",
      " 5.71375438e-05 5.71375438e-05 5.71375438e-05 5.71375438e-05\n",
      " 5.71375438e-05 5.71375438e-05 5.71375438e-05 5.71375438e-05\n",
      " 5.71375438e-05 5.71375438e-05 5.71375438e-05 5.71375438e-05\n",
      " 5.71375438e-05 5.71375438e-05 5.71375438e-05 5.71375438e-05\n",
      " 5.71375438e-05 5.71375438e-05 5.71375438e-05 5.71375438e-05\n",
      " 5.71375438e-05 5.71375438e-05 5.71375438e-05 5.71375438e-05\n",
      " 5.71375438e-05 5.71375438e-05 5.71375438e-05 5.71375438e-05\n",
      " 5.71375438e-05 5.71375438e-05 5.71375438e-05 5.71375438e-05\n",
      " 5.71375438e-05 5.71375438e-05 5.71375438e-05 5.71375438e-05\n",
      " 5.71375438e-05 5.71375438e-05 5.71375438e-05 5.71375438e-05]\n",
      "HCO3=\n",
      "[0.02340184 0.03040458 0.03743226 0.04448996 0.05157423 0.05867315\n",
      " 0.06576065 0.07278704 0.07966521 0.08625202 0.0923252  0.09755817\n",
      " 0.10150332 0.1036092  0.10330636 0.10017305 0.09412533 0.0855209\n",
      " 0.0750995  0.06379049 0.05249594 0.04194295 0.03263042 0.0248402\n",
      " 0.01866789 0.01404927 0.01079075 0.0086199  0.00724837 0.00642216\n",
      " 0.00594516 0.00568011 0.0055379  0.00546404 0.00542685 0.00540867\n",
      " 0.00540002 0.00539603 0.00539423 0.00539344 0.0053931  0.00539296\n",
      " 0.0053929  0.00539288 0.00539287 0.00539286 0.00539286 0.00539286\n",
      " 0.00539286 0.00539286 0.00539286 0.00539286 0.00539286 0.00539286\n",
      " 0.00539286 0.00539286 0.00539286 0.00539286 0.00539286 0.00539286\n",
      " 0.00539286 0.00539286 0.00539286 0.00539286 0.00539286 0.00539286\n",
      " 0.00539286 0.00539286 0.00539286 0.00539286 0.00539286 0.00539286\n",
      " 0.00539286 0.00539286 0.00539286 0.00539286 0.00539286 0.00539286\n",
      " 0.00539286 0.00539286 0.00539286 0.00539286 0.00539286 0.00539286\n",
      " 0.00539286 0.00539286 0.00539286 0.00539286 0.00539286 0.00539286\n",
      " 0.00539286 0.00539286 0.00539286 0.00539286 0.00539286 0.00539286\n",
      " 0.00539286 0.00539286 0.00539286 0.00539286]\n",
      "SiO2=\n",
      "[0.00348976 0.00699198 0.01050638 0.01403579 0.01757901 0.02113147\n",
      " 0.02468333 0.02821604 0.03169656 0.0350684  0.03823874 0.04106263\n",
      " 0.04333012 0.0447702  0.04509074 0.04406117 0.04161035 0.03788364\n",
      " 0.03321888 0.02805504 0.02282677 0.01789107 0.01349941 0.00980084\n",
      " 0.00685461 0.00464093 0.00307453 0.00202889 0.00136741 0.00096862\n",
      " 0.00073828 0.00061026 0.00054155 0.00050587 0.0004879  0.00047911\n",
      " 0.00047494 0.00047301 0.00047214 0.00047176 0.00047159 0.00047152\n",
      " 0.0004715  0.00047149 0.00047148 0.00047148 0.00047148 0.00047148\n",
      " 0.00047148 0.00047148 0.00047148 0.00047148 0.00047148 0.00047148\n",
      " 0.00047148 0.00047148 0.00047148 0.00047148 0.00047148 0.00047148\n",
      " 0.00047148 0.00047148 0.00047148 0.00047148 0.00047148 0.00047148\n",
      " 0.00047148 0.00047148 0.00047148 0.00047148 0.00047148 0.00047148\n",
      " 0.00047148 0.00047148 0.00047148 0.00047148 0.00047148 0.00047148\n",
      " 0.00047148 0.00047148 0.00047148 0.00047148 0.00047148 0.00047148\n",
      " 0.00047148 0.00047148 0.00047148 0.00047148 0.00047148 0.00047148\n",
      " 0.00047148 0.00047148 0.00047148 0.00047148 0.00047148 0.00047148\n",
      " 0.00047148 0.00047148 0.00047148 0.00047148]\n",
      "H_piu=\n",
      "[6.88620206e-06 5.19768630e-06 4.13828101e-06 3.41108621e-06\n",
      " 2.88096151e-06 2.47720164e-06 2.15883530e-06 1.89994949e-06\n",
      " 1.68282378e-06 1.49465045e-06 1.32613162e-06 1.17104732e-06\n",
      " 1.02611634e-06 8.90599104e-07 7.65373455e-07 6.51673763e-07\n",
      " 5.50036727e-07 4.59916248e-07 3.79989780e-07 3.08804414e-07\n",
      " 2.45357426e-07 1.89367807e-07 1.41176235e-07 1.01341437e-07\n",
      " 7.01104336e-08 4.70340044e-08 3.09583614e-08 2.03526059e-08\n",
      " 1.36914774e-08 9.69072683e-09 7.38396408e-09 6.10284729e-09\n",
      " 5.41560613e-09 5.05872550e-09 4.87901525e-09 4.79114544e-09\n",
      " 4.74938228e-09 4.73007014e-09 4.72137453e-09 4.71755933e-09\n",
      " 4.71592711e-09 4.71524578e-09 4.71496813e-09 4.71485759e-09\n",
      " 4.71481459e-09 4.71479823e-09 4.71479214e-09 4.71478992e-09\n",
      " 4.71478913e-09 4.71478885e-09 4.71478875e-09 4.71478872e-09\n",
      " 4.71478871e-09 4.71478871e-09 4.71478871e-09 4.71478871e-09\n",
      " 4.71478871e-09 4.71478871e-09 4.71478871e-09 4.71478871e-09\n",
      " 4.71478871e-09 4.71478871e-09 4.71478871e-09 4.71478871e-09\n",
      " 4.71478871e-09 4.71478871e-09 4.71478871e-09 4.71478871e-09\n",
      " 4.71478871e-09 4.71478871e-09 4.71478871e-09 4.71478871e-09\n",
      " 4.71478871e-09 4.71478871e-09 4.71478871e-09 4.71478871e-09\n",
      " 4.71478871e-09 4.71478871e-09 4.71478871e-09 4.71478871e-09\n",
      " 4.71478871e-09 4.71478871e-09 4.71478871e-09 4.71478871e-09\n",
      " 4.71478871e-09 4.71478871e-09 4.71478871e-09 4.71478871e-09\n",
      " 4.71478871e-09 4.71478871e-09 4.71478871e-09 4.71478871e-09\n",
      " 4.71478871e-09 4.71478871e-09 4.71478871e-09 4.71478871e-09\n",
      " 4.71478871e-09 4.71478871e-09 4.71478871e-09 4.71478871e-09]\n"
     ]
    }
   ],
   "source": [
    "print(\"Ca=\")\n",
    "print(concentrations.Ca[:,-1])\n",
    "print(\"CaSiO3=\")\n",
    "print(concentrations.CaSiO3[:,-1])\n",
    "print(\"CO2=\")\n",
    "print(concentrations.CO2[:,-1])\n",
    "print(\"HCO3=\")\n",
    "print(concentrations.HCO3[:,-1])\n",
    "print(\"SiO2=\")\n",
    "print(concentrations.SiO2[:,-1])\n",
    "print(\"H_piu=\")\n",
    "print(concentrations.H_piu[:,-1])"
   ]
  },
  {
   "cell_type": "code",
   "execution_count": 24,
   "id": "b5e0bfd1",
   "metadata": {},
   "outputs": [],
   "source": [
    "exporter.write_pvd(time_steps)"
   ]
  },
  {
   "cell_type": "code",
   "execution_count": null,
   "id": "e3a7b4da",
   "metadata": {},
   "outputs": [],
   "source": []
  },
  {
   "cell_type": "code",
   "execution_count": null,
   "id": "53ba2594",
   "metadata": {},
   "outputs": [],
   "source": []
  },
  {
   "cell_type": "code",
   "execution_count": null,
   "id": "31162d77",
   "metadata": {},
   "outputs": [],
   "source": []
  }
 ],
 "metadata": {
  "kernelspec": {
   "display_name": "Python 3",
   "language": "python",
   "name": "python3"
  },
  "language_info": {
   "codemirror_mode": {
    "name": "ipython",
    "version": 3
   },
   "file_extension": ".py",
   "mimetype": "text/x-python",
   "name": "python",
   "nbconvert_exporter": "python",
   "pygments_lexer": "ipython3",
   "version": "3.8.8"
  }
 },
 "nbformat": 4,
 "nbformat_minor": 5
}
