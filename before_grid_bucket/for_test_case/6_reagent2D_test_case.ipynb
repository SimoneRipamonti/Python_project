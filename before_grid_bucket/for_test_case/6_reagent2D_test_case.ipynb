{
 "cells": [
  {
   "cell_type": "code",
   "execution_count": 1,
   "id": "bb0fa811",
   "metadata": {},
   "outputs": [],
   "source": [
    "import numpy as np\n",
    "import scipy.sparse as sps\n",
    "import porepy as pp\n",
    "import math\n",
    "import matplotlib.pyplot as plt"
   ]
  },
  {
   "cell_type": "code",
   "execution_count": 2,
   "id": "9a98d44c",
   "metadata": {},
   "outputs": [],
   "source": [
    "import sys\n",
    "sys.path.append(\"../class\")\n",
    "from Flow_class import Flow\n",
    "from Reaction_class import Reaction\n",
    "from Transport_class import Transport\n",
    "from Concentrations import Concentrations"
   ]
  },
  {
   "cell_type": "code",
   "execution_count": 3,
   "id": "134056c9",
   "metadata": {},
   "outputs": [],
   "source": [
    "Nx=100\n",
    "Ny=1\n",
    "Lx=0.045\n",
    "Ly=0.01\n",
    "#Ly=1.0\n",
    "Nt=10000\n",
    "hx=Lx/Nx\n",
    "hy=Ly/Ny\n",
    "phys_dims=[Lx,Ly]\n",
    "g=pp.CartGrid([Nx,Ny],phys_dims)\n",
    "g.compute_geometry()\n",
    "#pp.plot_grid(g,figsize=(15,12))"
   ]
  },
  {
   "cell_type": "code",
   "execution_count": 4,
   "id": "9902290c",
   "metadata": {},
   "outputs": [],
   "source": [
    "# Permeability\n",
    "perm = pp.SecondOrderTensor(1e-9*np.ones(g.num_cells))                     \n",
    "#f_lambda= lambda x,y,z: math.sin(4*math.pi*x)\n",
    "f_lambda=lambda x,y,z:0.0\n",
    "\n",
    "tol=1e-5\n",
    "bc_lambda=lambda x,y,z:0.3*int(x<tol)\n",
    "\n",
    "# Collect all parameters in a dictionary\n",
    "parameters = {\"second_order_tensor\": perm, \"f_lambda\": f_lambda, \"bc_lambda\": bc_lambda}"
   ]
  },
  {
   "cell_type": "code",
   "execution_count": 5,
   "id": "de8c3170",
   "metadata": {},
   "outputs": [
    {
     "name": "stdout",
     "output_type": "stream",
     "text": [
      "MVEM\n"
     ]
    },
    {
     "name": "stderr",
     "output_type": "stream",
     "text": [
      "/home/dell/.local/lib/python3.8/site-packages/scipy/sparse/_index.py:125: SparseEfficiencyWarning: Changing the sparsity structure of a csr_matrix is expensive. lil_matrix is more efficient.\n",
      "  self._set_arrayXarray(i, j, x)\n"
     ]
    }
   ],
   "source": [
    "flow=Flow(g,parameters,\"MVEM\")\n",
    "flow.set_bc()\n",
    "flow.set_source()\n",
    "p=flow.solve()"
   ]
  },
  {
   "cell_type": "code",
   "execution_count": 6,
   "id": "5fd106da",
   "metadata": {},
   "outputs": [],
   "source": [
    "flux=flow.get_flux(p)"
   ]
  },
  {
   "cell_type": "code",
   "execution_count": 7,
   "id": "7dd8e324",
   "metadata": {},
   "outputs": [
    {
     "name": "stdout",
     "output_type": "stream",
     "text": [
      "[6.66666667e-11 6.66666667e-11 6.66666667e-11 6.66666667e-11\n",
      " 6.66666667e-11 6.66666667e-11 6.66666667e-11 6.66666667e-11\n",
      " 6.66666667e-11 6.66666667e-11 6.66666667e-11 6.66666667e-11\n",
      " 6.66666667e-11 6.66666667e-11 6.66666667e-11 6.66666667e-11\n",
      " 6.66666667e-11 6.66666667e-11 6.66666667e-11 6.66666667e-11\n",
      " 6.66666667e-11 6.66666667e-11 6.66666667e-11 6.66666667e-11\n",
      " 6.66666667e-11 6.66666667e-11 6.66666667e-11 6.66666667e-11\n",
      " 6.66666667e-11 6.66666667e-11 6.66666667e-11 6.66666667e-11\n",
      " 6.66666667e-11 6.66666667e-11 6.66666667e-11 6.66666667e-11\n",
      " 6.66666667e-11 6.66666667e-11 6.66666667e-11 6.66666667e-11\n",
      " 6.66666667e-11 6.66666667e-11 6.66666667e-11 6.66666667e-11\n",
      " 6.66666667e-11 6.66666667e-11 6.66666667e-11 6.66666667e-11\n",
      " 6.66666667e-11 6.66666667e-11 6.66666667e-11 6.66666667e-11\n",
      " 6.66666667e-11 6.66666667e-11 6.66666667e-11 6.66666667e-11\n",
      " 6.66666667e-11 6.66666667e-11 6.66666667e-11 6.66666667e-11\n",
      " 6.66666667e-11 6.66666667e-11 6.66666667e-11 6.66666667e-11\n",
      " 6.66666667e-11 6.66666667e-11 6.66666667e-11 6.66666667e-11\n",
      " 6.66666667e-11 6.66666667e-11 6.66666667e-11 6.66666667e-11\n",
      " 6.66666667e-11 6.66666667e-11 6.66666667e-11 6.66666667e-11\n",
      " 6.66666667e-11 6.66666667e-11 6.66666667e-11 6.66666667e-11\n",
      " 6.66666667e-11 6.66666667e-11 6.66666667e-11 6.66666667e-11\n",
      " 6.66666667e-11 6.66666667e-11 6.66666667e-11 6.66666667e-11\n",
      " 6.66666667e-11 6.66666667e-11 6.66666667e-11 6.66666667e-11\n",
      " 6.66666667e-11 6.66666667e-11 6.66666667e-11 6.66666667e-11\n",
      " 6.66666667e-11 6.66666667e-11 6.66666667e-11 6.66666667e-11\n",
      " 6.66666667e-11 0.00000000e+00 0.00000000e+00 0.00000000e+00\n",
      " 0.00000000e+00 0.00000000e+00 0.00000000e+00 0.00000000e+00\n",
      " 0.00000000e+00 0.00000000e+00 0.00000000e+00 0.00000000e+00\n",
      " 0.00000000e+00 0.00000000e+00 0.00000000e+00 0.00000000e+00\n",
      " 0.00000000e+00 0.00000000e+00 0.00000000e+00 0.00000000e+00\n",
      " 0.00000000e+00 0.00000000e+00 0.00000000e+00 0.00000000e+00\n",
      " 0.00000000e+00 0.00000000e+00 0.00000000e+00 0.00000000e+00\n",
      " 0.00000000e+00 0.00000000e+00 0.00000000e+00 0.00000000e+00\n",
      " 0.00000000e+00 0.00000000e+00 0.00000000e+00 0.00000000e+00\n",
      " 0.00000000e+00 0.00000000e+00 0.00000000e+00 0.00000000e+00\n",
      " 0.00000000e+00 0.00000000e+00 0.00000000e+00 0.00000000e+00\n",
      " 0.00000000e+00 0.00000000e+00 0.00000000e+00 0.00000000e+00\n",
      " 0.00000000e+00 0.00000000e+00 0.00000000e+00 0.00000000e+00\n",
      " 0.00000000e+00 0.00000000e+00 0.00000000e+00 0.00000000e+00\n",
      " 0.00000000e+00 0.00000000e+00 0.00000000e+00 0.00000000e+00\n",
      " 0.00000000e+00 0.00000000e+00 0.00000000e+00 0.00000000e+00\n",
      " 0.00000000e+00 0.00000000e+00 0.00000000e+00 0.00000000e+00\n",
      " 0.00000000e+00 0.00000000e+00 0.00000000e+00 0.00000000e+00\n",
      " 0.00000000e+00 0.00000000e+00 0.00000000e+00 0.00000000e+00\n",
      " 0.00000000e+00 0.00000000e+00 0.00000000e+00 0.00000000e+00\n",
      " 0.00000000e+00 0.00000000e+00 0.00000000e+00 0.00000000e+00\n",
      " 0.00000000e+00 0.00000000e+00 0.00000000e+00 0.00000000e+00\n",
      " 0.00000000e+00 0.00000000e+00 0.00000000e+00 0.00000000e+00\n",
      " 0.00000000e+00 0.00000000e+00 0.00000000e+00 0.00000000e+00\n",
      " 0.00000000e+00 0.00000000e+00 0.00000000e+00 0.00000000e+00\n",
      " 0.00000000e+00 0.00000000e+00 0.00000000e+00 0.00000000e+00\n",
      " 0.00000000e+00 0.00000000e+00 0.00000000e+00 0.00000000e+00\n",
      " 0.00000000e+00 0.00000000e+00 0.00000000e+00 0.00000000e+00\n",
      " 0.00000000e+00 0.00000000e+00 0.00000000e+00 0.00000000e+00\n",
      " 0.00000000e+00 0.00000000e+00 0.00000000e+00 0.00000000e+00\n",
      " 0.00000000e+00 0.00000000e+00 0.00000000e+00 0.00000000e+00\n",
      " 0.00000000e+00 0.00000000e+00 0.00000000e+00 0.00000000e+00\n",
      " 0.00000000e+00 0.00000000e+00 0.00000000e+00 0.00000000e+00\n",
      " 0.00000000e+00 0.00000000e+00 0.00000000e+00 0.00000000e+00\n",
      " 0.00000000e+00 0.00000000e+00 0.00000000e+00 0.00000000e+00\n",
      " 0.00000000e+00 0.00000000e+00 0.00000000e+00 0.00000000e+00\n",
      " 0.00000000e+00 0.00000000e+00 0.00000000e+00 0.00000000e+00\n",
      " 0.00000000e+00 0.00000000e+00 0.00000000e+00 0.00000000e+00\n",
      " 0.00000000e+00 0.00000000e+00 0.00000000e+00 0.00000000e+00\n",
      " 0.00000000e+00 0.00000000e+00 0.00000000e+00 0.00000000e+00\n",
      " 0.00000000e+00 0.00000000e+00 0.00000000e+00 0.00000000e+00\n",
      " 0.00000000e+00 0.00000000e+00 0.00000000e+00 0.00000000e+00\n",
      " 0.00000000e+00 0.00000000e+00 0.00000000e+00 0.00000000e+00\n",
      " 0.00000000e+00 0.00000000e+00 0.00000000e+00 0.00000000e+00\n",
      " 0.00000000e+00 0.00000000e+00 0.00000000e+00 0.00000000e+00\n",
      " 0.00000000e+00 0.00000000e+00 0.00000000e+00 0.00000000e+00\n",
      " 0.00000000e+00 0.00000000e+00 0.00000000e+00 0.00000000e+00\n",
      " 0.00000000e+00 0.00000000e+00 0.00000000e+00 0.00000000e+00\n",
      " 0.00000000e+00 0.00000000e+00 0.00000000e+00 0.00000000e+00\n",
      " 0.00000000e+00 0.00000000e+00 0.00000000e+00 0.00000000e+00\n",
      " 0.00000000e+00]\n"
     ]
    }
   ],
   "source": [
    "print(flux)"
   ]
  },
  {
   "cell_type": "code",
   "execution_count": 8,
   "id": "61898970",
   "metadata": {},
   "outputs": [],
   "source": [
    "psi1=np.zeros(g.num_cells)\n",
    "psi2=np.zeros(g.num_cells)\n",
    "psi3=np.zeros(g.num_cells)\n",
    "psi4=np.zeros(g.num_cells)\n",
    "psi5=np.zeros(g.num_cells)\n",
    "psi6=np.zeros(g.num_cells)\n",
    "rd=np.zeros(g.num_cells)"
   ]
  },
  {
   "cell_type": "code",
   "execution_count": 9,
   "id": "c10eae7a",
   "metadata": {},
   "outputs": [],
   "source": [
    "unity = np.ones(g.num_cells)\n",
    "porosity=0.3*unity\n",
    "aperture=1"
   ]
  },
  {
   "cell_type": "code",
   "execution_count": 10,
   "id": "1d655e81",
   "metadata": {},
   "outputs": [],
   "source": [
    "reaction_data={\"kd\":1.83e-7,\n",
    "               \"K_eq\":4.45e-7,\n",
    "               \"K_sol\":10e9,\n",
    "               \"porosity\":porosity }"
   ]
  },
  {
   "cell_type": "code",
   "execution_count": 11,
   "id": "68b65d19",
   "metadata": {},
   "outputs": [],
   "source": [
    "reaction=Reaction(g,reaction_data)"
   ]
  },
  {
   "cell_type": "code",
   "execution_count": 12,
   "id": "b5cd4c01",
   "metadata": {},
   "outputs": [],
   "source": [
    "K_eq=reaction.data[pp.PARAMETERS][\"reaction\"][\"K_eq\"]"
   ]
  },
  {
   "cell_type": "code",
   "execution_count": 13,
   "id": "59f6ba60",
   "metadata": {},
   "outputs": [
    {
     "name": "stdout",
     "output_type": "stream",
     "text": [
      "bc_HCO3_in=\n",
      "0.0164254306\n"
     ]
    }
   ],
   "source": [
    "bc_type_Ca=[\"dir\",\"dir\"]\n",
    "bc_value_Ca=[0.0,0.0]\n",
    "#init_cond_Ca=lambda x,y,z:int(x<0.5)\n",
    "init_cond_Ca=lambda x,y,z:0.0\n",
    "\n",
    "bc_type_CaSiO3=[\"dir\",\"dir\"]\n",
    "bc_value_CaSiO3=[0.0,0.0]\n",
    "#init_cond_CaSiO3=lambda x,y,z:int(x<0.5)\n",
    "init_cond_CaSiO3=lambda x,y,z:1.0\n",
    "\n",
    "bc_type_CO2=[\"dir\",\"dir\"]\n",
    "bc_value_CO2=[0.3691108,0.0]\n",
    "#init_cond_Ca=lambda x,y,z:int(x<0.5)\n",
    "init_cond_CO2=lambda x,y,z:1.0e-3\n",
    "\n",
    "bc_type_SiO2=[\"dir\",\"dir\"]\n",
    "bc_value_SiO2=[0.0,0.0]\n",
    "#init_cond_Ca=lambda x,y,z:int(x<0.5)\n",
    "init_cond_SiO2=lambda x,y,z:0.0\n",
    "\n",
    "bc_type_H_piu=[\"dir\",\"dir\"]\n",
    "bc_value_H_piu=[1.0e-5,0.0]\n",
    "#init_cond_Ca=lambda x,y,z:int(x<0.5)\n",
    "init_cond_H_piu=lambda x,y,z:1.0e-7\n",
    "\n",
    "\n",
    "\n",
    "bc_HCO3_in=K_eq*bc_value_CO2[0]/bc_value_H_piu[0]\n",
    "print(\"bc_HCO3_in=\")\n",
    "print(bc_HCO3_in)\n",
    "#bc_HCO3_out=K_eq*bc_value_CO2[1]/bc_value_H_piu[1]\n",
    "bc_HCO3_out=0.0\n",
    "\n",
    "bc_type_HCO3=[\"dir\",\"dir\"]\n",
    "bc_value_HCO3=[bc_HCO3_in,bc_HCO3_out]\n",
    "#init_cond_Ca=lambda x,y,z:int(x<0.5)\n",
    "init_cond_HCO3=lambda x,y,z:0.0"
   ]
  },
  {
   "cell_type": "code",
   "execution_count": 14,
   "id": "b074dd66",
   "metadata": {},
   "outputs": [],
   "source": [
    "data_6reagents = {\"bc_type_Ca\": bc_type_Ca,\n",
    "            \"bc_value_Ca\": bc_value_Ca,\n",
    "            \"bc_type_CO2\": bc_type_CO2,\n",
    "            \"bc_value_CO2\": bc_value_CO2,\n",
    "            \"bc_type_HCO3\": bc_type_HCO3,\n",
    "            \"bc_value_HCO3\": bc_value_HCO3,\n",
    "            \"bc_type_CaSiO3\": bc_type_CaSiO3,\n",
    "            \"bc_value_CaSiO3\": bc_value_CaSiO3,\n",
    "            \"bc_type_SiO2\": bc_type_SiO2,\n",
    "            \"bc_value_SiO2\": bc_value_SiO2,\n",
    "            \"bc_type_H_piu\": bc_type_H_piu,\n",
    "            \"bc_value_H_piu\": bc_value_H_piu,\n",
    "            \"time_step\": 34.56,\n",
    "            \"t_max\": 345600,\n",
    "            \"method\": \"Implicit\",\n",
    "            \"lambda_lin_decay\":0,\n",
    "            \"init_cond_Ca\":init_cond_Ca,\n",
    "            \"init_cond_CO2\":init_cond_CO2,\n",
    "            \"init_cond_CaSiO3\":init_cond_CaSiO3,\n",
    "            \"init_cond_SiO2\":init_cond_SiO2,\n",
    "            \"init_cond_HCO3\":init_cond_HCO3,\n",
    "            \"init_cond_H_piu\":init_cond_H_piu,}"
   ]
  },
  {
   "cell_type": "code",
   "execution_count": 15,
   "id": "7e6083f4",
   "metadata": {},
   "outputs": [],
   "source": [
    "concentrations=Concentrations(g,Nt,data_6reagents)\n",
    "concentrations.set_initial_cond(K_eq)"
   ]
  },
  {
   "cell_type": "code",
   "execution_count": 16,
   "id": "c2cffc28",
   "metadata": {},
   "outputs": [],
   "source": [
    "psi1,psi2,psi3,psi4,psi5=concentrations.compute_psi(0,psi1,psi2,psi3,psi4,psi5)"
   ]
  },
  {
   "cell_type": "code",
   "execution_count": 17,
   "id": "e87aea44",
   "metadata": {},
   "outputs": [],
   "source": [
    "bc_psi1,bc_psi2,bc_psi3,bc_psi4,bc_psi5=concentrations.set_bc_psi()"
   ]
  },
  {
   "cell_type": "code",
   "execution_count": 18,
   "id": "db3d6d34",
   "metadata": {},
   "outputs": [],
   "source": [
    "data_reagent_psi1= {\n",
    "            \"bc_type\": bc_type_Ca,\n",
    "            \"bc_value\": bc_psi1,\n",
    "            \"mass_weight\": porosity * aperture,\n",
    "            \"darcy_flux\":flux,\n",
    "            \"lambda_lin_decay\":0.,\n",
    "            \"method\": \"Implicit\",\n",
    "            \"time_step\": 34.56,\n",
    "            \"t_max\": 345600,\n",
    "}\n",
    "\n",
    "data_reagent_psi2= {\n",
    "            \"bc_type\": bc_type_H_piu,\n",
    "            \"bc_value\": bc_psi2,\n",
    "            \"mass_weight\": porosity * aperture,\n",
    "            \"darcy_flux\":flux,\n",
    "            \"lambda_lin_decay\":0.,\n",
    "            \"method\": \"Implicit\",\n",
    "            \"time_step\": 34.56,\n",
    "            \"t_max\": 345600,\n",
    "}\n",
    "\n",
    "data_reagent_psi3= {\n",
    "            \"bc_type\": bc_type_CO2,\n",
    "            \"bc_value\": bc_psi3,\n",
    "            \"mass_weight\": porosity * aperture,\n",
    "            \"darcy_flux\":flux,\n",
    "            \"lambda_lin_decay\":0.,\n",
    "            \"method\": \"Implicit\",\n",
    "            \"time_step\": 34.56,\n",
    "            \"t_max\": 345600,\n",
    "}\n",
    "\n",
    "data_reagent_psi4= {\n",
    "            \"bc_type\": bc_type_CaSiO3,\n",
    "            \"bc_value\": bc_psi4,\n",
    "            \"mass_weight\": porosity * aperture,\n",
    "            \"darcy_flux\":np.zeros(g.num_faces),\n",
    "            \"lambda_lin_decay\":0.,\n",
    "            \"method\": \"Implicit\",\n",
    "            \"time_step\": 34.56,\n",
    "            \"t_max\": 345600,\n",
    "}\n",
    "\n",
    "data_reagent_psi5= {\n",
    "            \"bc_type\": bc_type_SiO2,\n",
    "            \"bc_value\": bc_psi5,\n",
    "            \"mass_weight\": porosity * aperture,\n",
    "            \"darcy_flux\":flux,\n",
    "            \"lambda_lin_decay\":0.,\n",
    "            \"method\": \"Implicit\",\n",
    "            \"time_step\": 34.56,\n",
    "            \"t_max\": 345600,\n",
    "}"
   ]
  },
  {
   "cell_type": "code",
   "execution_count": 19,
   "id": "0a7d6521",
   "metadata": {},
   "outputs": [],
   "source": [
    "psi1_transport=Transport(g,data_reagent_psi1)\n",
    "#psi1=psi1_transport.set_bc(psi1)\n",
    "psi1_transport.set_bc()\n",
    "psi1_lhs,psi1_rhs_b,psi1_rhs_matrix=psi1_transport.get_transport_lhs_rhs()\n",
    "\n",
    "psi2_transport=Transport(g,data_reagent_psi2)\n",
    "#psi2=psi2_transport.set_bc(psi2)\n",
    "psi2_transport.set_bc()\n",
    "psi2_lhs,psi2_rhs_b,psi2_rhs_matrix=psi2_transport.get_transport_lhs_rhs()\n",
    "\n",
    "psi3_transport=Transport(g,data_reagent_psi3)\n",
    "#psi3=psi3_transport.set_bc(psi3)\n",
    "psi3_transport.set_bc()\n",
    "psi3_lhs,psi3_rhs_b,psi3_rhs_matrix=psi3_transport.get_transport_lhs_rhs()\n",
    "\n",
    "psi4_transport=Transport(g,data_reagent_psi4)\n",
    "#psi4=psi4_transport.set_bc(psi4)\n",
    "psi4_transport.set_bc()\n",
    "psi4_lhs,psi4_rhs_b,psi4_rhs_matrix=psi4_transport.get_transport_lhs_rhs()\n",
    "\n",
    "psi5_transport=Transport(g,data_reagent_psi5)\n",
    "#psi5=psi5_transport.set_bc(psi5)\n",
    "psi5_transport.set_bc()\n",
    "psi5_lhs,psi5_rhs_b,psi5_rhs_matrix=psi5_transport.get_transport_lhs_rhs()"
   ]
  },
  {
   "cell_type": "code",
   "execution_count": 20,
   "id": "272b1ca4",
   "metadata": {},
   "outputs": [],
   "source": [
    "n_steps = int(np.round(concentrations.data[pp.PARAMETERS][\"6reagents\"][\"t_max\"] / concentrations.data[pp.PARAMETERS][\"6reagents\"][\"time_step\"]))"
   ]
  },
  {
   "cell_type": "code",
   "execution_count": 21,
   "id": "439a872b",
   "metadata": {},
   "outputs": [],
   "source": [
    "dt=psi1_transport.data[pp.PARAMETERS][\"transport\"][\"time_step\"]"
   ]
  },
  {
   "cell_type": "code",
   "execution_count": 22,
   "id": "51fbf19f",
   "metadata": {},
   "outputs": [],
   "source": [
    "save_every=100\n",
    "exporter = pp.Exporter(g, file_name=\"6_reagents\",folder_name=\"solution_6_reagents_2D\")"
   ]
  },
  {
   "cell_type": "code",
   "execution_count": 23,
   "id": "911fce25",
   "metadata": {},
   "outputs": [
    {
     "name": "stdout",
     "output_type": "stream",
     "text": [
      "Ca:\n",
      "[0. 0. 0. 0. 0. 0. 0. 0. 0. 0. 0. 0. 0. 0. 0. 0. 0. 0. 0. 0. 0. 0. 0. 0.\n",
      " 0. 0. 0. 0. 0. 0. 0. 0. 0. 0. 0. 0. 0. 0. 0. 0. 0. 0. 0. 0. 0. 0. 0. 0.\n",
      " 0. 0. 0. 0. 0. 0. 0. 0. 0. 0. 0. 0. 0. 0. 0. 0. 0. 0. 0. 0. 0. 0. 0. 0.\n",
      " 0. 0. 0. 0. 0. 0. 0. 0. 0. 0. 0. 0. 0. 0. 0. 0. 0. 0. 0. 0. 0. 0. 0. 0.\n",
      " 0. 0. 0. 0.]\n",
      "CaSiO3:\n",
      "[1. 1. 1. 1. 1. 1. 1. 1. 1. 1. 1. 1. 1. 1. 1. 1. 1. 1. 1. 1. 1. 1. 1. 1.\n",
      " 1. 1. 1. 1. 1. 1. 1. 1. 1. 1. 1. 1. 1. 1. 1. 1. 1. 1. 1. 1. 1. 1. 1. 1.\n",
      " 1. 1. 1. 1. 1. 1. 1. 1. 1. 1. 1. 1. 1. 1. 1. 1. 1. 1. 1. 1. 1. 1. 1. 1.\n",
      " 1. 1. 1. 1. 1. 1. 1. 1. 1. 1. 1. 1. 1. 1. 1. 1. 1. 1. 1. 1. 1. 1. 1. 1.\n",
      " 1. 1. 1. 1.]\n",
      "H_piu:\n",
      "[1.e-07 1.e-07 1.e-07 1.e-07 1.e-07 1.e-07 1.e-07 1.e-07 1.e-07 1.e-07\n",
      " 1.e-07 1.e-07 1.e-07 1.e-07 1.e-07 1.e-07 1.e-07 1.e-07 1.e-07 1.e-07\n",
      " 1.e-07 1.e-07 1.e-07 1.e-07 1.e-07 1.e-07 1.e-07 1.e-07 1.e-07 1.e-07\n",
      " 1.e-07 1.e-07 1.e-07 1.e-07 1.e-07 1.e-07 1.e-07 1.e-07 1.e-07 1.e-07\n",
      " 1.e-07 1.e-07 1.e-07 1.e-07 1.e-07 1.e-07 1.e-07 1.e-07 1.e-07 1.e-07\n",
      " 1.e-07 1.e-07 1.e-07 1.e-07 1.e-07 1.e-07 1.e-07 1.e-07 1.e-07 1.e-07\n",
      " 1.e-07 1.e-07 1.e-07 1.e-07 1.e-07 1.e-07 1.e-07 1.e-07 1.e-07 1.e-07\n",
      " 1.e-07 1.e-07 1.e-07 1.e-07 1.e-07 1.e-07 1.e-07 1.e-07 1.e-07 1.e-07\n",
      " 1.e-07 1.e-07 1.e-07 1.e-07 1.e-07 1.e-07 1.e-07 1.e-07 1.e-07 1.e-07\n",
      " 1.e-07 1.e-07 1.e-07 1.e-07 1.e-07 1.e-07 1.e-07 1.e-07 1.e-07 1.e-07]\n",
      "CO2:\n",
      "[0.001 0.001 0.001 0.001 0.001 0.001 0.001 0.001 0.001 0.001 0.001 0.001\n",
      " 0.001 0.001 0.001 0.001 0.001 0.001 0.001 0.001 0.001 0.001 0.001 0.001\n",
      " 0.001 0.001 0.001 0.001 0.001 0.001 0.001 0.001 0.001 0.001 0.001 0.001\n",
      " 0.001 0.001 0.001 0.001 0.001 0.001 0.001 0.001 0.001 0.001 0.001 0.001\n",
      " 0.001 0.001 0.001 0.001 0.001 0.001 0.001 0.001 0.001 0.001 0.001 0.001\n",
      " 0.001 0.001 0.001 0.001 0.001 0.001 0.001 0.001 0.001 0.001 0.001 0.001\n",
      " 0.001 0.001 0.001 0.001 0.001 0.001 0.001 0.001 0.001 0.001 0.001 0.001\n",
      " 0.001 0.001 0.001 0.001 0.001 0.001 0.001 0.001 0.001 0.001 0.001 0.001\n",
      " 0.001 0.001 0.001 0.001]\n"
     ]
    }
   ],
   "source": [
    "print(\"Ca:\")\n",
    "print(concentrations.Ca[:,0])\n",
    "print(\"CaSiO3:\")\n",
    "print(concentrations.CaSiO3[:,0])\n",
    "print(\"H_piu:\")\n",
    "print(concentrations.H_piu[:,0])\n",
    "print(\"CO2:\")\n",
    "print(concentrations.CO2[:,0])"
   ]
  },
  {
   "cell_type": "code",
   "execution_count": 24,
   "id": "b299d495",
   "metadata": {},
   "outputs": [
    {
     "name": "stderr",
     "output_type": "stream",
     "text": [
      "/home/dell/.local/lib/python3.8/site-packages/scipy/sparse/linalg/dsolve/linsolve.py:318: SparseEfficiencyWarning: splu requires CSC matrix format\n",
      "  warn('splu requires CSC matrix format', SparseEfficiencyWarning)\n"
     ]
    },
    {
     "ename": "KeyboardInterrupt",
     "evalue": "",
     "output_type": "error",
     "traceback": [
      "\u001b[0;31m---------------------------------------------------------------------------\u001b[0m",
      "\u001b[0;31mKeyboardInterrupt\u001b[0m                         Traceback (most recent call last)",
      "\u001b[0;32m<ipython-input-24-462f3cbeb525>\u001b[0m in \u001b[0;36m<module>\u001b[0;34m\u001b[0m\n\u001b[1;32m     14\u001b[0m                                                rd)\n\u001b[1;32m     15\u001b[0m \u001b[0;34m\u001b[0m\u001b[0m\n\u001b[0;32m---> 16\u001b[0;31m     \u001b[0mconcentrations\u001b[0m\u001b[0;34m.\u001b[0m\u001b[0mcompute_concentration\u001b[0m\u001b[0;34m(\u001b[0m\u001b[0mpsi1\u001b[0m\u001b[0;34m,\u001b[0m\u001b[0mpsi2\u001b[0m\u001b[0;34m,\u001b[0m\u001b[0mpsi3\u001b[0m\u001b[0;34m,\u001b[0m\u001b[0mpsi4\u001b[0m\u001b[0;34m,\u001b[0m\u001b[0mpsi5\u001b[0m\u001b[0;34m,\u001b[0m\u001b[0mi\u001b[0m\u001b[0;34m,\u001b[0m\u001b[0mK_eq\u001b[0m\u001b[0;34m)\u001b[0m\u001b[0;34m\u001b[0m\u001b[0;34m\u001b[0m\u001b[0m\n\u001b[0m\u001b[1;32m     17\u001b[0m \u001b[0;34m\u001b[0m\u001b[0m\n\u001b[1;32m     18\u001b[0m \u001b[0;34m\u001b[0m\u001b[0m\n",
      "\u001b[0;32m~/Scrivania/Python_project/before_grid_bucket/class/Concentrations.py\u001b[0m in \u001b[0;36mcompute_concentration\u001b[0;34m(self, psi1, psi2, psi3, psi4, psi5, step, K_eq)\u001b[0m\n\u001b[1;32m    105\u001b[0m                 \u001b[0mrhs\u001b[0m\u001b[0;34m=\u001b[0m\u001b[0mself\u001b[0m\u001b[0;34m.\u001b[0m\u001b[0mcompute_rhs\u001b[0m\u001b[0;34m(\u001b[0m\u001b[0mrhs\u001b[0m\u001b[0;34m,\u001b[0m\u001b[0mold_it\u001b[0m\u001b[0;34m,\u001b[0m\u001b[0mpsi1\u001b[0m\u001b[0;34m[\u001b[0m\u001b[0mi\u001b[0m\u001b[0;34m]\u001b[0m\u001b[0;34m,\u001b[0m\u001b[0mpsi2\u001b[0m\u001b[0;34m[\u001b[0m\u001b[0mi\u001b[0m\u001b[0;34m]\u001b[0m\u001b[0;34m,\u001b[0m\u001b[0mpsi3\u001b[0m\u001b[0;34m[\u001b[0m\u001b[0mi\u001b[0m\u001b[0;34m]\u001b[0m\u001b[0;34m,\u001b[0m\u001b[0mpsi4\u001b[0m\u001b[0;34m[\u001b[0m\u001b[0mi\u001b[0m\u001b[0;34m]\u001b[0m\u001b[0;34m,\u001b[0m\u001b[0mpsi5\u001b[0m\u001b[0;34m[\u001b[0m\u001b[0mi\u001b[0m\u001b[0;34m]\u001b[0m\u001b[0;34m,\u001b[0m\u001b[0mK_eq\u001b[0m\u001b[0;34m)\u001b[0m\u001b[0;34m\u001b[0m\u001b[0;34m\u001b[0m\u001b[0m\n\u001b[1;32m    106\u001b[0m                 \u001b[0mJacob\u001b[0m\u001b[0;34m=\u001b[0m\u001b[0mself\u001b[0m\u001b[0;34m.\u001b[0m\u001b[0mcompute_Jacob\u001b[0m\u001b[0;34m(\u001b[0m\u001b[0mJacob\u001b[0m\u001b[0;34m,\u001b[0m\u001b[0mold_it\u001b[0m\u001b[0;34m)\u001b[0m\u001b[0;34m\u001b[0m\u001b[0;34m\u001b[0m\u001b[0m\n\u001b[0;32m--> 107\u001b[0;31m                 \u001b[0mJac\u001b[0m\u001b[0;34m=\u001b[0m\u001b[0msps\u001b[0m\u001b[0;34m.\u001b[0m\u001b[0mlinalg\u001b[0m\u001b[0;34m.\u001b[0m\u001b[0mfactorized\u001b[0m\u001b[0;34m(\u001b[0m\u001b[0mJacob\u001b[0m\u001b[0;34m)\u001b[0m\u001b[0;34m\u001b[0m\u001b[0;34m\u001b[0m\u001b[0m\n\u001b[0m\u001b[1;32m    108\u001b[0m                 \u001b[0mdx\u001b[0m\u001b[0;34m=\u001b[0m\u001b[0mJac\u001b[0m\u001b[0;34m(\u001b[0m\u001b[0mnp\u001b[0m\u001b[0;34m.\u001b[0m\u001b[0mzeros\u001b[0m\u001b[0;34m(\u001b[0m\u001b[0;36m6\u001b[0m\u001b[0;34m)\u001b[0m\u001b[0;34m-\u001b[0m\u001b[0mrhs\u001b[0m\u001b[0;34m)\u001b[0m\u001b[0;34m\u001b[0m\u001b[0;34m\u001b[0m\u001b[0m\n\u001b[1;32m    109\u001b[0m                 \u001b[0merr\u001b[0m\u001b[0;34m=\u001b[0m\u001b[0mnp\u001b[0m\u001b[0;34m.\u001b[0m\u001b[0mlinalg\u001b[0m\u001b[0;34m.\u001b[0m\u001b[0mnorm\u001b[0m\u001b[0;34m(\u001b[0m\u001b[0mdx\u001b[0m\u001b[0;34m)\u001b[0m\u001b[0;34m/\u001b[0m\u001b[0mnp\u001b[0m\u001b[0;34m.\u001b[0m\u001b[0mlinalg\u001b[0m\u001b[0;34m.\u001b[0m\u001b[0mnorm\u001b[0m\u001b[0;34m(\u001b[0m\u001b[0mold_it\u001b[0m\u001b[0;34m)\u001b[0m\u001b[0;34m\u001b[0m\u001b[0;34m\u001b[0m\u001b[0m\n",
      "\u001b[0;32m~/.local/lib/python3.8/site-packages/scipy/sparse/linalg/dsolve/linsolve.py\u001b[0m in \u001b[0;36mfactorized\u001b[0;34m(A)\u001b[0m\n\u001b[1;32m    486\u001b[0m         \u001b[0;32mreturn\u001b[0m \u001b[0msolve\u001b[0m\u001b[0;34m\u001b[0m\u001b[0;34m\u001b[0m\u001b[0m\n\u001b[1;32m    487\u001b[0m     \u001b[0;32melse\u001b[0m\u001b[0;34m:\u001b[0m\u001b[0;34m\u001b[0m\u001b[0;34m\u001b[0m\u001b[0m\n\u001b[0;32m--> 488\u001b[0;31m         \u001b[0;32mreturn\u001b[0m \u001b[0msplu\u001b[0m\u001b[0;34m(\u001b[0m\u001b[0mA\u001b[0m\u001b[0;34m)\u001b[0m\u001b[0;34m.\u001b[0m\u001b[0msolve\u001b[0m\u001b[0;34m\u001b[0m\u001b[0;34m\u001b[0m\u001b[0m\n\u001b[0m\u001b[1;32m    489\u001b[0m \u001b[0;34m\u001b[0m\u001b[0m\n\u001b[1;32m    490\u001b[0m \u001b[0;34m\u001b[0m\u001b[0m\n",
      "\u001b[0;32m~/.local/lib/python3.8/site-packages/scipy/sparse/linalg/dsolve/linsolve.py\u001b[0m in \u001b[0;36msplu\u001b[0;34m(A, permc_spec, diag_pivot_thresh, relax, panel_size, options)\u001b[0m\n\u001b[1;32m    319\u001b[0m \u001b[0;34m\u001b[0m\u001b[0m\n\u001b[1;32m    320\u001b[0m     \u001b[0;31m# sum duplicates for non-canonical format\u001b[0m\u001b[0;34m\u001b[0m\u001b[0;34m\u001b[0m\u001b[0;34m\u001b[0m\u001b[0m\n\u001b[0;32m--> 321\u001b[0;31m     \u001b[0mA\u001b[0m\u001b[0;34m.\u001b[0m\u001b[0msum_duplicates\u001b[0m\u001b[0;34m(\u001b[0m\u001b[0;34m)\u001b[0m\u001b[0;34m\u001b[0m\u001b[0;34m\u001b[0m\u001b[0m\n\u001b[0m\u001b[1;32m    322\u001b[0m     \u001b[0mA\u001b[0m \u001b[0;34m=\u001b[0m \u001b[0mA\u001b[0m\u001b[0;34m.\u001b[0m\u001b[0masfptype\u001b[0m\u001b[0;34m(\u001b[0m\u001b[0;34m)\u001b[0m  \u001b[0;31m# upcast to a floating point format\u001b[0m\u001b[0;34m\u001b[0m\u001b[0;34m\u001b[0m\u001b[0m\n\u001b[1;32m    323\u001b[0m \u001b[0;34m\u001b[0m\u001b[0m\n",
      "\u001b[0;32m~/.local/lib/python3.8/site-packages/scipy/sparse/compressed.py\u001b[0m in \u001b[0;36msum_duplicates\u001b[0;34m(self)\u001b[0m\n\u001b[1;32m   1094\u001b[0m         \u001b[0mThis\u001b[0m \u001b[0;32mis\u001b[0m \u001b[0man\u001b[0m \u001b[0;34m*\u001b[0m\u001b[0;32min\u001b[0m \u001b[0mplace\u001b[0m\u001b[0;34m*\u001b[0m \u001b[0moperation\u001b[0m\u001b[0;34m.\u001b[0m\u001b[0;34m\u001b[0m\u001b[0;34m\u001b[0m\u001b[0m\n\u001b[1;32m   1095\u001b[0m         \"\"\"\n\u001b[0;32m-> 1096\u001b[0;31m         \u001b[0;32mif\u001b[0m \u001b[0mself\u001b[0m\u001b[0;34m.\u001b[0m\u001b[0mhas_canonical_format\u001b[0m\u001b[0;34m:\u001b[0m\u001b[0;34m\u001b[0m\u001b[0;34m\u001b[0m\u001b[0m\n\u001b[0m\u001b[1;32m   1097\u001b[0m             \u001b[0;32mreturn\u001b[0m\u001b[0;34m\u001b[0m\u001b[0;34m\u001b[0m\u001b[0m\n\u001b[1;32m   1098\u001b[0m         \u001b[0mself\u001b[0m\u001b[0;34m.\u001b[0m\u001b[0msort_indices\u001b[0m\u001b[0;34m(\u001b[0m\u001b[0;34m)\u001b[0m\u001b[0;34m\u001b[0m\u001b[0;34m\u001b[0m\u001b[0m\n",
      "\u001b[0;32m~/.local/lib/python3.8/site-packages/scipy/sparse/compressed.py\u001b[0m in \u001b[0;36m__get_has_canonical_format\u001b[0;34m(self)\u001b[0m\n\u001b[1;32m   1076\u001b[0m             \u001b[0mself\u001b[0m\u001b[0;34m.\u001b[0m\u001b[0m_has_canonical_format\u001b[0m \u001b[0;34m=\u001b[0m \u001b[0;32mFalse\u001b[0m\u001b[0;34m\u001b[0m\u001b[0;34m\u001b[0m\u001b[0m\n\u001b[1;32m   1077\u001b[0m         \u001b[0;32melif\u001b[0m \u001b[0;32mnot\u001b[0m \u001b[0mhasattr\u001b[0m\u001b[0;34m(\u001b[0m\u001b[0mself\u001b[0m\u001b[0;34m,\u001b[0m \u001b[0;34m'_has_canonical_format'\u001b[0m\u001b[0;34m)\u001b[0m\u001b[0;34m:\u001b[0m\u001b[0;34m\u001b[0m\u001b[0;34m\u001b[0m\u001b[0m\n\u001b[0;32m-> 1078\u001b[0;31m             self.has_canonical_format = bool(\n\u001b[0m\u001b[1;32m   1079\u001b[0m                 _sparsetools.csr_has_canonical_format(\n\u001b[1;32m   1080\u001b[0m                     len(self.indptr) - 1, self.indptr, self.indices))\n",
      "\u001b[0;32m~/.local/lib/python3.8/site-packages/scipy/sparse/compressed.py\u001b[0m in \u001b[0;36m__set_has_canonical_format\u001b[0;34m(self, val)\u001b[0m\n\u001b[1;32m   1084\u001b[0m         \u001b[0mself\u001b[0m\u001b[0;34m.\u001b[0m\u001b[0m_has_canonical_format\u001b[0m \u001b[0;34m=\u001b[0m \u001b[0mbool\u001b[0m\u001b[0;34m(\u001b[0m\u001b[0mval\u001b[0m\u001b[0;34m)\u001b[0m\u001b[0;34m\u001b[0m\u001b[0;34m\u001b[0m\u001b[0m\n\u001b[1;32m   1085\u001b[0m         \u001b[0;32mif\u001b[0m \u001b[0mval\u001b[0m\u001b[0;34m:\u001b[0m\u001b[0;34m\u001b[0m\u001b[0;34m\u001b[0m\u001b[0m\n\u001b[0;32m-> 1086\u001b[0;31m             \u001b[0mself\u001b[0m\u001b[0;34m.\u001b[0m\u001b[0mhas_sorted_indices\u001b[0m \u001b[0;34m=\u001b[0m \u001b[0;32mTrue\u001b[0m\u001b[0;34m\u001b[0m\u001b[0;34m\u001b[0m\u001b[0m\n\u001b[0m\u001b[1;32m   1087\u001b[0m \u001b[0;34m\u001b[0m\u001b[0m\n\u001b[1;32m   1088\u001b[0m     has_canonical_format = property(fget=__get_has_canonical_format,\n",
      "\u001b[0;32m~/.local/lib/python3.8/site-packages/scipy/sparse/compressed.py\u001b[0m in \u001b[0;36m__set_sorted\u001b[0;34m(self, val)\u001b[0m\n\u001b[1;32m   1121\u001b[0m         \u001b[0;32mreturn\u001b[0m \u001b[0mself\u001b[0m\u001b[0;34m.\u001b[0m\u001b[0m_has_sorted_indices\u001b[0m\u001b[0;34m\u001b[0m\u001b[0;34m\u001b[0m\u001b[0m\n\u001b[1;32m   1122\u001b[0m \u001b[0;34m\u001b[0m\u001b[0m\n\u001b[0;32m-> 1123\u001b[0;31m     \u001b[0;32mdef\u001b[0m \u001b[0m__set_sorted\u001b[0m\u001b[0;34m(\u001b[0m\u001b[0mself\u001b[0m\u001b[0;34m,\u001b[0m \u001b[0mval\u001b[0m\u001b[0;34m)\u001b[0m\u001b[0;34m:\u001b[0m\u001b[0;34m\u001b[0m\u001b[0;34m\u001b[0m\u001b[0m\n\u001b[0m\u001b[1;32m   1124\u001b[0m         \u001b[0mself\u001b[0m\u001b[0;34m.\u001b[0m\u001b[0m_has_sorted_indices\u001b[0m \u001b[0;34m=\u001b[0m \u001b[0mbool\u001b[0m\u001b[0;34m(\u001b[0m\u001b[0mval\u001b[0m\u001b[0;34m)\u001b[0m\u001b[0;34m\u001b[0m\u001b[0;34m\u001b[0m\u001b[0m\n\u001b[1;32m   1125\u001b[0m \u001b[0;34m\u001b[0m\u001b[0m\n",
      "\u001b[0;31mKeyboardInterrupt\u001b[0m: "
     ]
    }
   ],
   "source": [
    "for i in range(1,n_steps+1,1):\n",
    "#for i in range(1,500,1):\n",
    "    if np.isclose((i-1) % save_every, 0):\n",
    "        exporter.write_vtu({\"Ca\":concentrations.Ca[:,i-1], \"CaSiO3\":concentrations.CaSiO3[:,i-1], \"H_piu\":concentrations.H_piu[:,i-1], \"HCO3\":concentrations.HCO3[:,i-1], \"CO2\":concentrations.CO2[:,i-1],\"SiO2\":concentrations.SiO2[:,i-1]}, time_step=int((i-1) // save_every))\n",
    "\n",
    "    psi1,psi2,psi3,psi4,psi5=concentrations.compute_psi(i-1,psi1,psi2,psi3,psi4,psi5)\n",
    "    rd=reaction.compute_rd_6_reagents(concentrations.Ca[:,i-1],concentrations.SiO2[:,i-1],concentrations.H_piu[:,i-1],concentrations.CaSiO3[:,i-1],rd)\n",
    "    psi1,psi2,psi3,psi4,psi5=concentrations.one_step_transport_reaction(psi1,psi2,psi3,psi4,psi5,\n",
    "                                               psi1_lhs,psi1_rhs_b,psi1_rhs_matrix,\n",
    "                                               psi2_lhs,psi2_rhs_b,psi2_rhs_matrix,\n",
    "                                               psi3_lhs,psi3_rhs_b,psi3_rhs_matrix,\n",
    "                                               psi4_lhs,psi4_rhs_b,psi4_rhs_matrix,\n",
    "                                               psi5_lhs,psi5_rhs_b,psi5_rhs_matrix,\n",
    "                                               rd)\n",
    "    \n",
    "    concentrations.compute_concentration(psi1,psi2,psi3,psi4,psi5,i,K_eq)\n",
    "\n",
    "\n",
    "\n",
    "exporter.write_vtu({\"Ca\":concentrations.Ca[:,-1], \"CaSiO3\":concentrations.CaSiO3[:,-1], \"H_piu\":concentrations.H_piu[:,-1], \"HCO3\":concentrations.HCO3[:,-1], \"CO2\":concentrations.CO2[:,-1],\"SiO2\":concentrations.SiO2[:,-1]}, time_step=(n_steps // save_every))\n",
    "time_steps = np.arange(\n",
    "    0, psi1_transport.data[pp.PARAMETERS][\"transport\"][\"t_max\"] + dt, save_every * dt\n",
    ")\n",
    "exporter.write_pvd(time_steps)\n",
    "    "
   ]
  },
  {
   "cell_type": "code",
   "execution_count": null,
   "id": "5aa441bd",
   "metadata": {},
   "outputs": [],
   "source": [
    "print(\"Ca=\")\n",
    "print(concentrations.Ca[:,-1])\n",
    "print(\"CaSiO3=\")\n",
    "print(concentrations.CaSiO3[:,-1])\n",
    "print(\"CO2=\")\n",
    "print(concentrations.CO2[:,-1])\n",
    "print(\"HCO3=\")\n",
    "print(concentrations.HCO3[:,-1])\n",
    "print(\"SiO2=\")\n",
    "print(concentrations.SiO2[:,-1])\n",
    "print(\"H_piu=\")\n",
    "print(concentrations.H_piu[:,-1])"
   ]
  },
  {
   "cell_type": "code",
   "execution_count": null,
   "id": "b5e0bfd1",
   "metadata": {},
   "outputs": [],
   "source": [
    "exporter.write_pvd(time_steps)"
   ]
  },
  {
   "cell_type": "code",
   "execution_count": null,
   "id": "e3a7b4da",
   "metadata": {},
   "outputs": [],
   "source": []
  },
  {
   "cell_type": "code",
   "execution_count": null,
   "id": "53ba2594",
   "metadata": {},
   "outputs": [],
   "source": []
  },
  {
   "cell_type": "code",
   "execution_count": null,
   "id": "31162d77",
   "metadata": {},
   "outputs": [],
   "source": []
  }
 ],
 "metadata": {
  "kernelspec": {
   "display_name": "Python 3",
   "language": "python",
   "name": "python3"
  },
  "language_info": {
   "codemirror_mode": {
    "name": "ipython",
    "version": 3
   },
   "file_extension": ".py",
   "mimetype": "text/x-python",
   "name": "python",
   "nbconvert_exporter": "python",
   "pygments_lexer": "ipython3",
   "version": "3.8.8"
  }
 },
 "nbformat": 4,
 "nbformat_minor": 5
}
