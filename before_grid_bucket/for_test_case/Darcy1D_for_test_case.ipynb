{
 "cells": [
  {
   "cell_type": "code",
   "execution_count": 1,
   "id": "ed84f6e9",
   "metadata": {},
   "outputs": [],
   "source": [
    "import numpy as np\n",
    "import scipy.sparse as sps\n",
    "import porepy as pp\n",
    "import math\n",
    "import matplotlib.pyplot as plt"
   ]
  },
  {
   "cell_type": "code",
   "execution_count": 2,
   "id": "a309ca2b",
   "metadata": {},
   "outputs": [],
   "source": [
    "import sys\n",
    "sys.path.append(\"../class\")\n",
    "from Flow_class import Flow"
   ]
  },
  {
   "cell_type": "code",
   "execution_count": 3,
   "id": "46e4631a",
   "metadata": {},
   "outputs": [],
   "source": [
    "Nx=100\n",
    "L=0.045\n",
    "#phys_dims=[1,1]\n",
    "phys_dims=[L]\n",
    "#g=pp.CartGrid([Nx,Ny],phys_dims)\n",
    "g=pp.CartGrid([Nx],phys_dims)\n",
    "g.compute_geometry()\n",
    "#pp.plot_grid(g,figsize=(15,12))\n",
    "#p.plot_grid(g)"
   ]
  },
  {
   "cell_type": "code",
   "execution_count": 4,
   "id": "f6f1966f",
   "metadata": {},
   "outputs": [],
   "source": [
    "# Permeability\n",
    "perm = pp.SecondOrderTensor(1e-9*np.ones(g.num_cells))  \n",
    "f_lambda= lambda x,y,z: 0.0\n",
    "# Boundary conditions\n",
    "b_faces = g.tags['domain_boundary_faces'].nonzero()[0]\n",
    "bc = pp.BoundaryCondition(g, b_faces, ['dir']*b_faces.size)\n",
    "bc_val = np.zeros(g.num_faces)\n",
    "bc_val[0]=0.3\n",
    "bc_val[bc_val.size-1]=0.0\n",
    "\n",
    "# Collect all parameters in a dictionary\n",
    "parameters = {\"second_order_tensor\": perm, \"f_lambda\": f_lambda, \"bc\": bc, \"bc_values\": bc_val}"
   ]
  },
  {
   "cell_type": "code",
   "execution_count": 5,
   "id": "a776cf9e",
   "metadata": {},
   "outputs": [
    {
     "name": "stdout",
     "output_type": "stream",
     "text": [
      "MVEM\n"
     ]
    }
   ],
   "source": [
    "flow=Flow(g,parameters,\"MVEM\")\n",
    "flow.set_source()\n",
    "p=flow.solve()"
   ]
  },
  {
   "cell_type": "code",
   "execution_count": 6,
   "id": "012a4395",
   "metadata": {},
   "outputs": [
    {
     "name": "stdout",
     "output_type": "stream",
     "text": [
      "[0.2985 0.2955 0.2925 0.2895 0.2865 0.2835 0.2805 0.2775 0.2745 0.2715\n",
      " 0.2685 0.2655 0.2625 0.2595 0.2565 0.2535 0.2505 0.2475 0.2445 0.2415\n",
      " 0.2385 0.2355 0.2325 0.2295 0.2265 0.2235 0.2205 0.2175 0.2145 0.2115\n",
      " 0.2085 0.2055 0.2025 0.1995 0.1965 0.1935 0.1905 0.1875 0.1845 0.1815\n",
      " 0.1785 0.1755 0.1725 0.1695 0.1665 0.1635 0.1605 0.1575 0.1545 0.1515\n",
      " 0.1485 0.1455 0.1425 0.1395 0.1365 0.1335 0.1305 0.1275 0.1245 0.1215\n",
      " 0.1185 0.1155 0.1125 0.1095 0.1065 0.1035 0.1005 0.0975 0.0945 0.0915\n",
      " 0.0885 0.0855 0.0825 0.0795 0.0765 0.0735 0.0705 0.0675 0.0645 0.0615\n",
      " 0.0585 0.0555 0.0525 0.0495 0.0465 0.0435 0.0405 0.0375 0.0345 0.0315\n",
      " 0.0285 0.0255 0.0225 0.0195 0.0165 0.0135 0.0105 0.0075 0.0045 0.0015]\n"
     ]
    },
    {
     "data": {
      "image/png": "[encoded data removed]",
      "text/plain": [
       "<Figure size 432x288 with 1 Axes>"
      ]
     },
     "metadata": {
      "needs_background": "light"
     },
     "output_type": "display_data"
    }
   ],
   "source": [
    "h=1/Nx\n",
    "x=np.linspace(1/(2*Nx),1-1/(2*Nx),Nx)\n",
    "plt.plot(x,p)\n",
    "print(p)"
   ]
  },
  {
   "cell_type": "code",
   "execution_count": 7,
   "id": "6a14ff2b",
   "metadata": {},
   "outputs": [
    {
     "name": "stdout",
     "output_type": "stream",
     "text": [
      "[6.66666667e-09 6.66666667e-09 6.66666667e-09 6.66666667e-09\n",
      " 6.66666667e-09 6.66666667e-09 6.66666667e-09 6.66666667e-09\n",
      " 6.66666667e-09 6.66666667e-09 6.66666667e-09 6.66666667e-09\n",
      " 6.66666667e-09 6.66666667e-09 6.66666667e-09 6.66666667e-09\n",
      " 6.66666667e-09 6.66666667e-09 6.66666667e-09 6.66666667e-09\n",
      " 6.66666667e-09 6.66666667e-09 6.66666667e-09 6.66666667e-09\n",
      " 6.66666667e-09 6.66666667e-09 6.66666667e-09 6.66666667e-09\n",
      " 6.66666667e-09 6.66666667e-09 6.66666667e-09 6.66666667e-09\n",
      " 6.66666667e-09 6.66666667e-09 6.66666667e-09 6.66666667e-09\n",
      " 6.66666667e-09 6.66666667e-09 6.66666667e-09 6.66666667e-09\n",
      " 6.66666667e-09 6.66666667e-09 6.66666667e-09 6.66666667e-09\n",
      " 6.66666667e-09 6.66666667e-09 6.66666667e-09 6.66666667e-09\n",
      " 6.66666667e-09 6.66666667e-09 6.66666667e-09 6.66666667e-09\n",
      " 6.66666667e-09 6.66666667e-09 6.66666667e-09 6.66666667e-09\n",
      " 6.66666667e-09 6.66666667e-09 6.66666667e-09 6.66666667e-09\n",
      " 6.66666667e-09 6.66666667e-09 6.66666667e-09 6.66666667e-09\n",
      " 6.66666667e-09 6.66666667e-09 6.66666667e-09 6.66666667e-09\n",
      " 6.66666667e-09 6.66666667e-09 6.66666667e-09 6.66666667e-09\n",
      " 6.66666667e-09 6.66666667e-09 6.66666667e-09 6.66666667e-09\n",
      " 6.66666667e-09 6.66666667e-09 6.66666667e-09 6.66666667e-09\n",
      " 6.66666667e-09 6.66666667e-09 6.66666667e-09 6.66666667e-09\n",
      " 6.66666667e-09 6.66666667e-09 6.66666667e-09 6.66666667e-09\n",
      " 6.66666667e-09 6.66666667e-09 6.66666667e-09 6.66666667e-09\n",
      " 6.66666667e-09 6.66666667e-09 6.66666667e-09 6.66666667e-09\n",
      " 6.66666667e-09 6.66666667e-09 6.66666667e-09 6.66666667e-09\n",
      " 6.66666667e-09]\n"
     ]
    }
   ],
   "source": [
    "vel=flow.get_flux(p)\n",
    "x_vel=np.linspace(0,L,g.num_faces)\n",
    "#plt.plot(x_vel,vel)\n",
    "print(vel)"
   ]
  },
  {
   "cell_type": "code",
   "execution_count": null,
   "id": "a0defd35",
   "metadata": {},
   "outputs": [],
   "source": []
  }
 ],
 "metadata": {
  "kernelspec": {
   "display_name": "Python 3",
   "language": "python",
   "name": "python3"
  },
  "language_info": {
   "codemirror_mode": {
    "name": "ipython",
    "version": 3
   },
   "file_extension": ".py",
   "mimetype": "text/x-python",
   "name": "python",
   "nbconvert_exporter": "python",
   "pygments_lexer": "ipython3",
   "version": "3.8.8"
  }
 },
 "nbformat": 4,
 "nbformat_minor": 5
}
