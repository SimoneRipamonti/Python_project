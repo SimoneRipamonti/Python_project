{
 "cells": [
  {
   "cell_type": "code",
   "execution_count": 1,
   "id": "bb0fa811",
   "metadata": {},
   "outputs": [],
   "source": [
    "import numpy as np\n",
    "import scipy.sparse as sps\n",
    "import porepy as pp\n",
    "import math\n",
    "import matplotlib.pyplot as plt"
   ]
  },
  {
   "cell_type": "code",
   "execution_count": 2,
   "id": "9a98d44c",
   "metadata": {},
   "outputs": [],
   "source": [
    "import sys\n",
    "sys.path.append(\"../class\")\n",
    "from Flow_class import Flow\n",
    "from Reaction_class import Reaction\n",
    "from Transport_class import Transport\n",
    "from Concentrations import Concentrations"
   ]
  },
  {
   "cell_type": "code",
   "execution_count": 3,
   "id": "134056c9",
   "metadata": {},
   "outputs": [],
   "source": [
    "Nx=100\n",
    "Ny=1\n",
    "Lx=0.045\n",
    "Ly=0.01\n",
    "#Ly=1.0\n",
    "Nt=10000\n",
    "hx=Lx/Nx\n",
    "hy=Ly/Ny\n",
    "phys_dims=[Lx,Ly]\n",
    "g=pp.CartGrid([Nx,Ny],phys_dims)\n",
    "g.compute_geometry()\n",
    "#pp.plot_grid(g,figsize=(15,12))"
   ]
  },
  {
   "cell_type": "code",
   "execution_count": 4,
   "id": "9902290c",
   "metadata": {},
   "outputs": [],
   "source": [
    "# Permeability\n",
    "perm = pp.SecondOrderTensor(1e-9*np.ones(g.num_cells))                     \n",
    "#f_lambda= lambda x,y,z: math.sin(4*math.pi*x)\n",
    "f_lambda=lambda x,y,z:0.0\n",
    "\n",
    "tol=1e-5\n",
    "bc_lambda=lambda x,y,z:0.3*int(x<tol)\n",
    "\n",
    "# Collect all parameters in a dictionary\n",
    "parameters = {\"second_order_tensor\": perm, \"f_lambda\": f_lambda, \"bc_lambda\": bc_lambda}"
   ]
  },
  {
   "cell_type": "code",
   "execution_count": 5,
   "id": "de8c3170",
   "metadata": {},
   "outputs": [
    {
     "name": "stdout",
     "output_type": "stream",
     "text": [
      "MVEM\n"
     ]
    },
    {
     "name": "stderr",
     "output_type": "stream",
     "text": [
      "/home/dell/.local/lib/python3.8/site-packages/scipy/sparse/_index.py:125: SparseEfficiencyWarning: Changing the sparsity structure of a csr_matrix is expensive. lil_matrix is more efficient.\n",
      "  self._set_arrayXarray(i, j, x)\n"
     ]
    }
   ],
   "source": [
    "flow=Flow(g,parameters,\"MVEM\")\n",
    "flow.set_bc()\n",
    "flow.set_source()\n",
    "p=flow.solve()"
   ]
  },
  {
   "cell_type": "code",
   "execution_count": 6,
   "id": "5fd106da",
   "metadata": {},
   "outputs": [],
   "source": [
    "flux=flow.get_flux(p)"
   ]
  },
  {
   "cell_type": "code",
   "execution_count": 7,
   "id": "7dd8e324",
   "metadata": {},
   "outputs": [
    {
     "name": "stdout",
     "output_type": "stream",
     "text": [
      "[6.66666667e-11 6.66666667e-11 6.66666667e-11 6.66666667e-11\n",
      " 6.66666667e-11 6.66666667e-11 6.66666667e-11 6.66666667e-11\n",
      " 6.66666667e-11 6.66666667e-11 6.66666667e-11 6.66666667e-11\n",
      " 6.66666667e-11 6.66666667e-11 6.66666667e-11 6.66666667e-11\n",
      " 6.66666667e-11 6.66666667e-11 6.66666667e-11 6.66666667e-11\n",
      " 6.66666667e-11 6.66666667e-11 6.66666667e-11 6.66666667e-11\n",
      " 6.66666667e-11 6.66666667e-11 6.66666667e-11 6.66666667e-11\n",
      " 6.66666667e-11 6.66666667e-11 6.66666667e-11 6.66666667e-11\n",
      " 6.66666667e-11 6.66666667e-11 6.66666667e-11 6.66666667e-11\n",
      " 6.66666667e-11 6.66666667e-11 6.66666667e-11 6.66666667e-11\n",
      " 6.66666667e-11 6.66666667e-11 6.66666667e-11 6.66666667e-11\n",
      " 6.66666667e-11 6.66666667e-11 6.66666667e-11 6.66666667e-11\n",
      " 6.66666667e-11 6.66666667e-11 6.66666667e-11 6.66666667e-11\n",
      " 6.66666667e-11 6.66666667e-11 6.66666667e-11 6.66666667e-11\n",
      " 6.66666667e-11 6.66666667e-11 6.66666667e-11 6.66666667e-11\n",
      " 6.66666667e-11 6.66666667e-11 6.66666667e-11 6.66666667e-11\n",
      " 6.66666667e-11 6.66666667e-11 6.66666667e-11 6.66666667e-11\n",
      " 6.66666667e-11 6.66666667e-11 6.66666667e-11 6.66666667e-11\n",
      " 6.66666667e-11 6.66666667e-11 6.66666667e-11 6.66666667e-11\n",
      " 6.66666667e-11 6.66666667e-11 6.66666667e-11 6.66666667e-11\n",
      " 6.66666667e-11 6.66666667e-11 6.66666667e-11 6.66666667e-11\n",
      " 6.66666667e-11 6.66666667e-11 6.66666667e-11 6.66666667e-11\n",
      " 6.66666667e-11 6.66666667e-11 6.66666667e-11 6.66666667e-11\n",
      " 6.66666667e-11 6.66666667e-11 6.66666667e-11 6.66666667e-11\n",
      " 6.66666667e-11 6.66666667e-11 6.66666667e-11 6.66666667e-11\n",
      " 6.66666667e-11 0.00000000e+00 0.00000000e+00 0.00000000e+00\n",
      " 0.00000000e+00 0.00000000e+00 0.00000000e+00 0.00000000e+00\n",
      " 0.00000000e+00 0.00000000e+00 0.00000000e+00 0.00000000e+00\n",
      " 0.00000000e+00 0.00000000e+00 0.00000000e+00 0.00000000e+00\n",
      " 0.00000000e+00 0.00000000e+00 0.00000000e+00 0.00000000e+00\n",
      " 0.00000000e+00 0.00000000e+00 0.00000000e+00 0.00000000e+00\n",
      " 0.00000000e+00 0.00000000e+00 0.00000000e+00 0.00000000e+00\n",
      " 0.00000000e+00 0.00000000e+00 0.00000000e+00 0.00000000e+00\n",
      " 0.00000000e+00 0.00000000e+00 0.00000000e+00 0.00000000e+00\n",
      " 0.00000000e+00 0.00000000e+00 0.00000000e+00 0.00000000e+00\n",
      " 0.00000000e+00 0.00000000e+00 0.00000000e+00 0.00000000e+00\n",
      " 0.00000000e+00 0.00000000e+00 0.00000000e+00 0.00000000e+00\n",
      " 0.00000000e+00 0.00000000e+00 0.00000000e+00 0.00000000e+00\n",
      " 0.00000000e+00 0.00000000e+00 0.00000000e+00 0.00000000e+00\n",
      " 0.00000000e+00 0.00000000e+00 0.00000000e+00 0.00000000e+00\n",
      " 0.00000000e+00 0.00000000e+00 0.00000000e+00 0.00000000e+00\n",
      " 0.00000000e+00 0.00000000e+00 0.00000000e+00 0.00000000e+00\n",
      " 0.00000000e+00 0.00000000e+00 0.00000000e+00 0.00000000e+00\n",
      " 0.00000000e+00 0.00000000e+00 0.00000000e+00 0.00000000e+00\n",
      " 0.00000000e+00 0.00000000e+00 0.00000000e+00 0.00000000e+00\n",
      " 0.00000000e+00 0.00000000e+00 0.00000000e+00 0.00000000e+00\n",
      " 0.00000000e+00 0.00000000e+00 0.00000000e+00 0.00000000e+00\n",
      " 0.00000000e+00 0.00000000e+00 0.00000000e+00 0.00000000e+00\n",
      " 0.00000000e+00 0.00000000e+00 0.00000000e+00 0.00000000e+00\n",
      " 0.00000000e+00 0.00000000e+00 0.00000000e+00 0.00000000e+00\n",
      " 0.00000000e+00 0.00000000e+00 0.00000000e+00 0.00000000e+00\n",
      " 0.00000000e+00 0.00000000e+00 0.00000000e+00 0.00000000e+00\n",
      " 0.00000000e+00 0.00000000e+00 0.00000000e+00 0.00000000e+00\n",
      " 0.00000000e+00 0.00000000e+00 0.00000000e+00 0.00000000e+00\n",
      " 0.00000000e+00 0.00000000e+00 0.00000000e+00 0.00000000e+00\n",
      " 0.00000000e+00 0.00000000e+00 0.00000000e+00 0.00000000e+00\n",
      " 0.00000000e+00 0.00000000e+00 0.00000000e+00 0.00000000e+00\n",
      " 0.00000000e+00 0.00000000e+00 0.00000000e+00 0.00000000e+00\n",
      " 0.00000000e+00 0.00000000e+00 0.00000000e+00 0.00000000e+00\n",
      " 0.00000000e+00 0.00000000e+00 0.00000000e+00 0.00000000e+00\n",
      " 0.00000000e+00 0.00000000e+00 0.00000000e+00 0.00000000e+00\n",
      " 0.00000000e+00 0.00000000e+00 0.00000000e+00 0.00000000e+00\n",
      " 0.00000000e+00 0.00000000e+00 0.00000000e+00 0.00000000e+00\n",
      " 0.00000000e+00 0.00000000e+00 0.00000000e+00 0.00000000e+00\n",
      " 0.00000000e+00 0.00000000e+00 0.00000000e+00 0.00000000e+00\n",
      " 0.00000000e+00 0.00000000e+00 0.00000000e+00 0.00000000e+00\n",
      " 0.00000000e+00 0.00000000e+00 0.00000000e+00 0.00000000e+00\n",
      " 0.00000000e+00 0.00000000e+00 0.00000000e+00 0.00000000e+00\n",
      " 0.00000000e+00 0.00000000e+00 0.00000000e+00 0.00000000e+00\n",
      " 0.00000000e+00 0.00000000e+00 0.00000000e+00 0.00000000e+00\n",
      " 0.00000000e+00 0.00000000e+00 0.00000000e+00 0.00000000e+00\n",
      " 0.00000000e+00 0.00000000e+00 0.00000000e+00 0.00000000e+00\n",
      " 0.00000000e+00 0.00000000e+00 0.00000000e+00 0.00000000e+00\n",
      " 0.00000000e+00 0.00000000e+00 0.00000000e+00 0.00000000e+00\n",
      " 0.00000000e+00 0.00000000e+00 0.00000000e+00 0.00000000e+00\n",
      " 0.00000000e+00]\n"
     ]
    }
   ],
   "source": [
    "print(flux)"
   ]
  },
  {
   "cell_type": "code",
   "execution_count": 8,
   "id": "61898970",
   "metadata": {},
   "outputs": [],
   "source": [
    "psi1=np.zeros(g.num_cells)\n",
    "psi2=np.zeros(g.num_cells)\n",
    "psi3=np.zeros(g.num_cells)\n",
    "psi4=np.zeros(g.num_cells)\n",
    "psi5=np.zeros(g.num_cells)\n",
    "psi6=np.zeros(g.num_cells)\n",
    "rd=np.zeros(g.num_cells)"
   ]
  },
  {
   "cell_type": "code",
   "execution_count": 9,
   "id": "c10eae7a",
   "metadata": {},
   "outputs": [],
   "source": [
    "unity = np.ones(g.num_cells)\n",
    "porosity=0.3*unity\n",
    "aperture=1"
   ]
  },
  {
   "cell_type": "code",
   "execution_count": 10,
   "id": "1d655e81",
   "metadata": {},
   "outputs": [],
   "source": [
    "reaction_data={\"kd\":1.83e-7,\n",
    "               \"K_eq\":4.45e-7,\n",
    "               \"K_sol\":10e9,\n",
    "               \"porosity\":porosity }"
   ]
  },
  {
   "cell_type": "code",
   "execution_count": 11,
   "id": "68b65d19",
   "metadata": {},
   "outputs": [],
   "source": [
    "reaction=Reaction(g,reaction_data)"
   ]
  },
  {
   "cell_type": "code",
   "execution_count": 12,
   "id": "b5cd4c01",
   "metadata": {},
   "outputs": [],
   "source": [
    "K_eq=reaction.data[pp.PARAMETERS][\"reaction\"][\"K_eq\"]"
   ]
  },
  {
   "cell_type": "code",
   "execution_count": 13,
   "id": "59f6ba60",
   "metadata": {},
   "outputs": [
    {
     "name": "stdout",
     "output_type": "stream",
     "text": [
      "bc_HCO3_in=\n",
      "0.0164254306\n"
     ]
    }
   ],
   "source": [
    "bc_type_Ca=[\"dir\",\"dir\"]\n",
    "bc_value_Ca=[0.0,0.0]\n",
    "#init_cond_Ca=lambda x,y,z:int(x<0.5)\n",
    "init_cond_Ca=lambda x,y,z:0.0\n",
    "\n",
    "bc_type_CaSiO3=[\"dir\",\"dir\"]\n",
    "bc_value_CaSiO3=[0.0,0.0]\n",
    "#init_cond_CaSiO3=lambda x,y,z:int(x<0.5)\n",
    "init_cond_CaSiO3=lambda x,y,z:1.0\n",
    "\n",
    "bc_type_CO2=[\"dir\",\"dir\"]\n",
    "bc_value_CO2=[0.3691108,0.0]\n",
    "#init_cond_Ca=lambda x,y,z:int(x<0.5)\n",
    "init_cond_CO2=lambda x,y,z:1.0e-3\n",
    "\n",
    "bc_type_SiO2=[\"dir\",\"dir\"]\n",
    "bc_value_SiO2=[0.0,0.0]\n",
    "#init_cond_Ca=lambda x,y,z:int(x<0.5)\n",
    "init_cond_SiO2=lambda x,y,z:0.0\n",
    "\n",
    "bc_type_H_piu=[\"dir\",\"dir\"]\n",
    "bc_value_H_piu=[1.0e-5,0.0]\n",
    "#init_cond_Ca=lambda x,y,z:int(x<0.5)\n",
    "init_cond_H_piu=lambda x,y,z:1.0e-7\n",
    "\n",
    "\n",
    "\n",
    "bc_HCO3_in=K_eq*bc_value_CO2[0]/bc_value_H_piu[0]\n",
    "print(\"bc_HCO3_in=\")\n",
    "print(bc_HCO3_in)\n",
    "#bc_HCO3_out=K_eq*bc_value_CO2[1]/bc_value_H_piu[1]\n",
    "bc_HCO3_out=0.0\n",
    "\n",
    "bc_type_HCO3=[\"dir\",\"dir\"]\n",
    "bc_value_HCO3=[bc_HCO3_in,bc_HCO3_out]\n",
    "#init_cond_Ca=lambda x,y,z:int(x<0.5)\n",
    "init_cond_HCO3=lambda x,y,z:0.0"
   ]
  },
  {
   "cell_type": "code",
   "execution_count": 14,
   "id": "b074dd66",
   "metadata": {},
   "outputs": [],
   "source": [
    "data_6reagents = {\"bc_type_Ca\": bc_type_Ca,\n",
    "            \"bc_value_Ca\": bc_value_Ca,\n",
    "            \"bc_type_CO2\": bc_type_CO2,\n",
    "            \"bc_value_CO2\": bc_value_CO2,\n",
    "            \"bc_type_HCO3\": bc_type_HCO3,\n",
    "            \"bc_value_HCO3\": bc_value_HCO3,\n",
    "            \"bc_type_CaSiO3\": bc_type_CaSiO3,\n",
    "            \"bc_value_CaSiO3\": bc_value_CaSiO3,\n",
    "            \"bc_type_SiO2\": bc_type_SiO2,\n",
    "            \"bc_value_SiO2\": bc_value_SiO2,\n",
    "            \"bc_type_H_piu\": bc_type_H_piu,\n",
    "            \"bc_value_H_piu\": bc_value_H_piu,\n",
    "            \"time_step\": 34.56,\n",
    "            \"t_max\": 345600,\n",
    "            \"method\": \"Implicit\",\n",
    "            \"lambda_lin_decay\":0,\n",
    "            \"init_cond_Ca\":init_cond_Ca,\n",
    "            \"init_cond_CO2\":init_cond_CO2,\n",
    "            \"init_cond_CaSiO3\":init_cond_CaSiO3,\n",
    "            \"init_cond_SiO2\":init_cond_SiO2,\n",
    "            \"init_cond_HCO3\":init_cond_HCO3,\n",
    "            \"init_cond_H_piu\":init_cond_H_piu,}"
   ]
  },
  {
   "cell_type": "code",
   "execution_count": 15,
   "id": "7e6083f4",
   "metadata": {},
   "outputs": [],
   "source": [
    "concentrations=Concentrations(g,Nt,data_6reagents)\n",
    "concentrations.set_initial_cond(K_eq)"
   ]
  },
  {
   "cell_type": "code",
   "execution_count": 16,
   "id": "c2cffc28",
   "metadata": {},
   "outputs": [],
   "source": [
    "psi1,psi2,psi3,psi4,psi5=concentrations.compute_psi(0,psi1,psi2,psi3,psi4,psi5)"
   ]
  },
  {
   "cell_type": "code",
   "execution_count": 17,
   "id": "e87aea44",
   "metadata": {},
   "outputs": [],
   "source": [
    "bc_psi1,bc_psi2,bc_psi3,bc_psi4,bc_psi5=concentrations.set_bc_psi()"
   ]
  },
  {
   "cell_type": "code",
   "execution_count": 18,
   "id": "db3d6d34",
   "metadata": {},
   "outputs": [],
   "source": [
    "data_reagent_psi1= {\n",
    "            \"bc_type\": bc_type_Ca,\n",
    "            \"bc_value\": bc_psi1,\n",
    "            \"mass_weight\": porosity * aperture,\n",
    "            \"darcy_flux\":flux,\n",
    "            \"lambda_lin_decay\":0.,\n",
    "            \"method\": \"Implicit\",\n",
    "            \"time_step\": 34.56,\n",
    "            \"t_max\": 345600,\n",
    "}\n",
    "\n",
    "data_reagent_psi2= {\n",
    "            \"bc_type\": bc_type_H_piu,\n",
    "            \"bc_value\": bc_psi2,\n",
    "            \"mass_weight\": porosity * aperture,\n",
    "            \"darcy_flux\":flux,\n",
    "            \"lambda_lin_decay\":0.,\n",
    "            \"method\": \"Implicit\",\n",
    "            \"time_step\": 34.56,\n",
    "            \"t_max\": 345600,\n",
    "}\n",
    "\n",
    "data_reagent_psi3= {\n",
    "            \"bc_type\": bc_type_CO2,\n",
    "            \"bc_value\": bc_psi3,\n",
    "            \"mass_weight\": porosity * aperture,\n",
    "            \"darcy_flux\":flux,\n",
    "            \"lambda_lin_decay\":0.,\n",
    "            \"method\": \"Implicit\",\n",
    "            \"time_step\": 34.56,\n",
    "            \"t_max\": 345600,\n",
    "}\n",
    "\n",
    "data_reagent_psi4= {\n",
    "            \"bc_type\": bc_type_CaSiO3,\n",
    "            \"bc_value\": bc_psi4,\n",
    "            \"mass_weight\": porosity * aperture,\n",
    "            \"darcy_flux\":np.zeros(g.num_faces),\n",
    "            \"lambda_lin_decay\":0.,\n",
    "            \"method\": \"Implicit\",\n",
    "            \"time_step\": 34.56,\n",
    "            \"t_max\": 345600,\n",
    "}\n",
    "\n",
    "data_reagent_psi5= {\n",
    "            \"bc_type\": bc_type_SiO2,\n",
    "            \"bc_value\": bc_psi5,\n",
    "            \"mass_weight\": porosity * aperture,\n",
    "            \"darcy_flux\":flux,\n",
    "            \"lambda_lin_decay\":0.,\n",
    "            \"method\": \"Implicit\",\n",
    "            \"time_step\": 34.56,\n",
    "            \"t_max\": 345600,\n",
    "}"
   ]
  },
  {
   "cell_type": "code",
   "execution_count": 19,
   "id": "0a7d6521",
   "metadata": {},
   "outputs": [],
   "source": [
    "psi1_transport=Transport(g,data_reagent_psi1)\n",
    "#psi1=psi1_transport.set_bc(psi1)\n",
    "psi1_transport.set_bc()\n",
    "psi1_lhs,psi1_rhs_b,psi1_rhs_matrix=psi1_transport.get_transport_lhs_rhs()\n",
    "\n",
    "psi2_transport=Transport(g,data_reagent_psi2)\n",
    "#psi2=psi2_transport.set_bc(psi2)\n",
    "psi2_transport.set_bc()\n",
    "psi2_lhs,psi2_rhs_b,psi2_rhs_matrix=psi2_transport.get_transport_lhs_rhs()\n",
    "\n",
    "psi3_transport=Transport(g,data_reagent_psi3)\n",
    "#psi3=psi3_transport.set_bc(psi3)\n",
    "psi3_transport.set_bc()\n",
    "psi3_lhs,psi3_rhs_b,psi3_rhs_matrix=psi3_transport.get_transport_lhs_rhs()\n",
    "\n",
    "psi4_transport=Transport(g,data_reagent_psi4)\n",
    "#psi4=psi4_transport.set_bc(psi4)\n",
    "psi4_transport.set_bc()\n",
    "psi4_lhs,psi4_rhs_b,psi4_rhs_matrix=psi4_transport.get_transport_lhs_rhs()\n",
    "\n",
    "psi5_transport=Transport(g,data_reagent_psi5)\n",
    "#psi5=psi5_transport.set_bc(psi5)\n",
    "psi5_transport.set_bc()\n",
    "psi5_lhs,psi5_rhs_b,psi5_rhs_matrix=psi5_transport.get_transport_lhs_rhs()"
   ]
  },
  {
   "cell_type": "code",
   "execution_count": 20,
   "id": "272b1ca4",
   "metadata": {},
   "outputs": [],
   "source": [
    "n_steps = int(np.round(concentrations.data[pp.PARAMETERS][\"6reagents\"][\"t_max\"] / concentrations.data[pp.PARAMETERS][\"6reagents\"][\"time_step\"]))"
   ]
  },
  {
   "cell_type": "code",
   "execution_count": 21,
   "id": "439a872b",
   "metadata": {},
   "outputs": [],
   "source": [
    "dt=psi1_transport.data[pp.PARAMETERS][\"transport\"][\"time_step\"]"
   ]
  },
  {
   "cell_type": "code",
   "execution_count": 22,
   "id": "51fbf19f",
   "metadata": {},
   "outputs": [],
   "source": [
    "save_every=100\n",
    "exporter = pp.Exporter(g, file_name=\"6_reagents\",folder_name=\"solution_6_reagents_2D\")"
   ]
  },
  {
   "cell_type": "code",
   "execution_count": 23,
   "id": "911fce25",
   "metadata": {},
   "outputs": [
    {
     "name": "stdout",
     "output_type": "stream",
     "text": [
      "Ca:\n",
      "[0. 0. 0. 0. 0. 0. 0. 0. 0. 0. 0. 0. 0. 0. 0. 0. 0. 0. 0. 0. 0. 0. 0. 0.\n",
      " 0. 0. 0. 0. 0. 0. 0. 0. 0. 0. 0. 0. 0. 0. 0. 0. 0. 0. 0. 0. 0. 0. 0. 0.\n",
      " 0. 0. 0. 0. 0. 0. 0. 0. 0. 0. 0. 0. 0. 0. 0. 0. 0. 0. 0. 0. 0. 0. 0. 0.\n",
      " 0. 0. 0. 0. 0. 0. 0. 0. 0. 0. 0. 0. 0. 0. 0. 0. 0. 0. 0. 0. 0. 0. 0. 0.\n",
      " 0. 0. 0. 0.]\n",
      "CaSiO3:\n",
      "[1. 1. 1. 1. 1. 1. 1. 1. 1. 1. 1. 1. 1. 1. 1. 1. 1. 1. 1. 1. 1. 1. 1. 1.\n",
      " 1. 1. 1. 1. 1. 1. 1. 1. 1. 1. 1. 1. 1. 1. 1. 1. 1. 1. 1. 1. 1. 1. 1. 1.\n",
      " 1. 1. 1. 1. 1. 1. 1. 1. 1. 1. 1. 1. 1. 1. 1. 1. 1. 1. 1. 1. 1. 1. 1. 1.\n",
      " 1. 1. 1. 1. 1. 1. 1. 1. 1. 1. 1. 1. 1. 1. 1. 1. 1. 1. 1. 1. 1. 1. 1. 1.\n",
      " 1. 1. 1. 1.]\n",
      "H_piu:\n",
      "[1.e-07 1.e-07 1.e-07 1.e-07 1.e-07 1.e-07 1.e-07 1.e-07 1.e-07 1.e-07\n",
      " 1.e-07 1.e-07 1.e-07 1.e-07 1.e-07 1.e-07 1.e-07 1.e-07 1.e-07 1.e-07\n",
      " 1.e-07 1.e-07 1.e-07 1.e-07 1.e-07 1.e-07 1.e-07 1.e-07 1.e-07 1.e-07\n",
      " 1.e-07 1.e-07 1.e-07 1.e-07 1.e-07 1.e-07 1.e-07 1.e-07 1.e-07 1.e-07\n",
      " 1.e-07 1.e-07 1.e-07 1.e-07 1.e-07 1.e-07 1.e-07 1.e-07 1.e-07 1.e-07\n",
      " 1.e-07 1.e-07 1.e-07 1.e-07 1.e-07 1.e-07 1.e-07 1.e-07 1.e-07 1.e-07\n",
      " 1.e-07 1.e-07 1.e-07 1.e-07 1.e-07 1.e-07 1.e-07 1.e-07 1.e-07 1.e-07\n",
      " 1.e-07 1.e-07 1.e-07 1.e-07 1.e-07 1.e-07 1.e-07 1.e-07 1.e-07 1.e-07\n",
      " 1.e-07 1.e-07 1.e-07 1.e-07 1.e-07 1.e-07 1.e-07 1.e-07 1.e-07 1.e-07\n",
      " 1.e-07 1.e-07 1.e-07 1.e-07 1.e-07 1.e-07 1.e-07 1.e-07 1.e-07 1.e-07]\n",
      "CO2:\n",
      "[0.001 0.001 0.001 0.001 0.001 0.001 0.001 0.001 0.001 0.001 0.001 0.001\n",
      " 0.001 0.001 0.001 0.001 0.001 0.001 0.001 0.001 0.001 0.001 0.001 0.001\n",
      " 0.001 0.001 0.001 0.001 0.001 0.001 0.001 0.001 0.001 0.001 0.001 0.001\n",
      " 0.001 0.001 0.001 0.001 0.001 0.001 0.001 0.001 0.001 0.001 0.001 0.001\n",
      " 0.001 0.001 0.001 0.001 0.001 0.001 0.001 0.001 0.001 0.001 0.001 0.001\n",
      " 0.001 0.001 0.001 0.001 0.001 0.001 0.001 0.001 0.001 0.001 0.001 0.001\n",
      " 0.001 0.001 0.001 0.001 0.001 0.001 0.001 0.001 0.001 0.001 0.001 0.001\n",
      " 0.001 0.001 0.001 0.001 0.001 0.001 0.001 0.001 0.001 0.001 0.001 0.001\n",
      " 0.001 0.001 0.001 0.001]\n"
     ]
    }
   ],
   "source": [
    "print(\"Ca:\")\n",
    "print(concentrations.Ca[:,0])\n",
    "print(\"CaSiO3:\")\n",
    "print(concentrations.CaSiO3[:,0])\n",
    "print(\"H_piu:\")\n",
    "print(concentrations.H_piu[:,0])\n",
    "print(\"CO2:\")\n",
    "print(concentrations.CO2[:,0])"
   ]
  },
  {
   "cell_type": "code",
   "execution_count": 24,
   "id": "b299d495",
   "metadata": {},
   "outputs": [
    {
     "name": "stderr",
     "output_type": "stream",
     "text": [
      "/home/dell/.local/lib/python3.8/site-packages/scipy/sparse/linalg/dsolve/linsolve.py:318: SparseEfficiencyWarning: splu requires CSC matrix format\n",
      "  warn('splu requires CSC matrix format', SparseEfficiencyWarning)\n"
     ]
    }
   ],
   "source": [
    "for i in range(1,n_steps+1,1):\n",
    "#for i in range(1,500,1):\n",
    "    if np.isclose((i-1) % save_every, 0):\n",
    "        exporter.write_vtu({\"Ca\":concentrations.Ca[:,i-1], \"CaSiO3\":concentrations.CaSiO3[:,i-1], \"H_piu\":concentrations.H_piu[:,i-1], \"HCO3\":concentrations.HCO3[:,i-1], \"CO2\":concentrations.CO2[:,i-1],\"SiO2\":concentrations.SiO2[:,i-1]}, time_step=int((i-1) // save_every))\n",
    "\n",
    "    psi1,psi2,psi3,psi4,psi5=concentrations.compute_psi(i-1,psi1,psi2,psi3,psi4,psi5)\n",
    "    rd=reaction.compute_rd_6_reagents(concentrations.Ca[:,i-1],concentrations.SiO2[:,i-1],concentrations.H_piu[:,i-1],concentrations.CaSiO3[:,i-1],rd)\n",
    "    psi1,psi2,psi3,psi4,psi5=concentrations.one_step_transport_reaction(psi1,psi2,psi3,psi4,psi5,\n",
    "                                               psi1_lhs,psi1_rhs_b,psi1_rhs_matrix,\n",
    "                                               psi2_lhs,psi2_rhs_b,psi2_rhs_matrix,\n",
    "                                               psi3_lhs,psi3_rhs_b,psi3_rhs_matrix,\n",
    "                                               psi4_lhs,psi4_rhs_b,psi4_rhs_matrix,\n",
    "                                               psi5_lhs,psi5_rhs_b,psi5_rhs_matrix,\n",
    "                                               rd)\n",
    "    \n",
    "    concentrations.compute_concentration(psi1,psi2,psi3,psi4,psi5,i,K_eq)\n",
    "\n",
    "\n",
    "\n",
    "exporter.write_vtu({\"Ca\":concentrations.Ca[:,-1], \"CaSiO3\":concentrations.CaSiO3[:,-1], \"H_piu\":concentrations.H_piu[:,-1], \"HCO3\":concentrations.HCO3[:,-1], \"CO2\":concentrations.CO2[:,-1],\"SiO2\":concentrations.SiO2[:,-1]}, time_step=(n_steps // save_every))\n",
    "time_steps = np.arange(\n",
    "    0, psi1_transport.data[pp.PARAMETERS][\"transport\"][\"t_max\"] + dt, save_every * dt\n",
    ")\n",
    "exporter.write_pvd(time_steps)\n",
    "    "
   ]
  },
  {
   "cell_type": "code",
   "execution_count": 25,
   "id": "5aa441bd",
   "metadata": {},
   "outputs": [
    {
     "name": "stdout",
     "output_type": "stream",
     "text": [
      "Ca=\n",
      "[0.02564957 0.06602225 0.06795042 0.06802094 0.0680179  0.06799862\n",
      " 0.06794444 0.06781473 0.0675443  0.06704536 0.06622019 0.06498429\n",
      " 0.06329372 0.06116688 0.05869138 0.05601229 0.05330484 0.05074063\n",
      " 0.04845765 0.04654197 0.04502378 0.04388558 0.04307743 0.0425337\n",
      " 0.04218711 0.04197801 0.04185892 0.0417952  0.04176343 0.04174892\n",
      " 0.04174306 0.04174116 0.04174086 0.04174107 0.04174137 0.0417416\n",
      " 0.04174175 0.04174185 0.0417419  0.04174192 0.04174194 0.04174194\n",
      " 0.04174194 0.04174195 0.04174195 0.04174195 0.04174195 0.04174195\n",
      " 0.04174195 0.04174195 0.04174195 0.04174195 0.04174195 0.04174195\n",
      " 0.04174195 0.04174195 0.04174195 0.04174195 0.04174195 0.04174195\n",
      " 0.04174195 0.04174195 0.04174195 0.04174195 0.04174195 0.04174195\n",
      " 0.04174195 0.04174195 0.04174195 0.04174195 0.04174195 0.04174195\n",
      " 0.04174195 0.04174195 0.04174195 0.04174195 0.04174195 0.04174195\n",
      " 0.04174195 0.04174195 0.04174195 0.04174195 0.04174195 0.04174195\n",
      " 0.04174195 0.04174195 0.04174195 0.04174195 0.04174195 0.04174195\n",
      " 0.04174195 0.04174195 0.04174195 0.04174195 0.04174195 0.04174195\n",
      " 0.04174195 0.04174195 0.04174195 0.04174195]\n",
      "CaSiO3=\n",
      "[0.0500325  0.78720844 0.95169451 0.95808194 0.95826118 0.95825976\n",
      " 0.95825838 0.95825812 0.95825807 0.95825806 0.95825805 0.95825805\n",
      " 0.95825805 0.95825805 0.95825805 0.95825805 0.95825805 0.95825805\n",
      " 0.95825805 0.95825805 0.95825805 0.95825805 0.95825805 0.95825805\n",
      " 0.95825805 0.95825805 0.95825805 0.95825805 0.95825805 0.95825805\n",
      " 0.95825805 0.95825805 0.95825805 0.95825805 0.95825805 0.95825805\n",
      " 0.95825805 0.95825805 0.95825805 0.95825805 0.95825805 0.95825805\n",
      " 0.95825805 0.95825805 0.95825805 0.95825805 0.95825805 0.95825805\n",
      " 0.95825805 0.95825805 0.95825805 0.95825805 0.95825805 0.95825805\n",
      " 0.95825805 0.95825805 0.95825805 0.95825805 0.95825805 0.95825805\n",
      " 0.95825805 0.95825805 0.95825805 0.95825805 0.95825805 0.95825805\n",
      " 0.95825805 0.95825805 0.95825805 0.95825805 0.95825805 0.95825805\n",
      " 0.95825805 0.95825805 0.95825805 0.95825805 0.95825805 0.95825805\n",
      " 0.95825805 0.95825805 0.95825805 0.95825805 0.95825805 0.95825805\n",
      " 0.95825805 0.95825805 0.95825805 0.95825805 0.95825805 0.95825805\n",
      " 0.95825805 0.95825805 0.95825805 0.95825805 0.95825805 0.95825805\n",
      " 0.95825805 0.95825805 0.95825805 0.95825805]\n",
      "CO2=\n",
      "[ 0.31781956  0.23707533  0.23321692  0.23306394  0.2330192   0.23288453\n",
      "  0.23250072  0.23156152  0.22954785  0.225706    0.21910318  0.20877912\n",
      "  0.1939727   0.17436148  0.15023185  0.12251288  0.09265276  0.06237162\n",
      "  0.0333643   0.00703581 -0.01566917 -0.03431885 -0.04894249 -0.05991147\n",
      " -0.06779682 -0.07323896 -0.07685062 -0.07915881 -0.08058134 -0.08142783\n",
      " -0.08191477 -0.08218585 -0.08233205 -0.08240852 -0.08244733 -0.08246648\n",
      " -0.08247565 -0.08247993 -0.08248188 -0.08248274 -0.08248311 -0.08248327\n",
      " -0.08248333 -0.08248336 -0.08248337 -0.08248337 -0.08248337 -0.08248337\n",
      " -0.08248337 -0.08248337 -0.08248337 -0.08248337 -0.08248337 -0.08248337\n",
      " -0.08248337 -0.08248337 -0.08248337 -0.08248337 -0.08248337 -0.08248337\n",
      " -0.08248337 -0.08248337 -0.08248337 -0.08248337 -0.08248337 -0.08248337\n",
      " -0.08248337 -0.08248337 -0.08248337 -0.08248337 -0.08248337 -0.08248337\n",
      " -0.08248337 -0.08248337 -0.08248337 -0.08248337 -0.08248337 -0.08248337\n",
      " -0.08248337 -0.08248337 -0.08248337 -0.08248337 -0.08248337 -0.08248337\n",
      " -0.08248337 -0.08248337 -0.08248337 -0.08248337 -0.08248337 -0.08248337\n",
      " -0.08248337 -0.08248337 -0.08248337 -0.08248337 -0.08248337 -0.08248337\n",
      " -0.08248337 -0.08248337 -0.08248337 -0.08248337]\n",
      "HCO3=\n",
      "[0.06771666 0.14846063 0.15231687 0.15245753 0.1524498  0.15240561\n",
      " 0.15228125 0.15198285 0.15135897 0.15020377 0.14828515 0.1453974\n",
      " 0.14142508 0.13639564 0.13049933 0.12406591 0.11750433 0.11122484\n",
      " 0.10556749 0.10075569 0.0968825  0.09392581 0.09178158 0.09030217\n",
      " 0.08933009 0.08872138 0.08835805 0.08815142 0.08803958 0.0879821\n",
      " 0.08795417 0.08794143 0.08793605 0.087934   0.08793335 0.08793321\n",
      " 0.08793323 0.08793328 0.08793332 0.08793335 0.08793336 0.08793337\n",
      " 0.08793337 0.08793337 0.08793337 0.08793337 0.08793337 0.08793337\n",
      " 0.08793337 0.08793337 0.08793337 0.08793337 0.08793337 0.08793337\n",
      " 0.08793337 0.08793337 0.08793337 0.08793337 0.08793337 0.08793337\n",
      " 0.08793337 0.08793337 0.08793337 0.08793337 0.08793337 0.08793337\n",
      " 0.08793337 0.08793337 0.08793337 0.08793337 0.08793337 0.08793337\n",
      " 0.08793337 0.08793337 0.08793337 0.08793337 0.08793337 0.08793337\n",
      " 0.08793337 0.08793337 0.08793337 0.08793337 0.08793337 0.08793337\n",
      " 0.08793337 0.08793337 0.08793337 0.08793337 0.08793337 0.08793337\n",
      " 0.08793337 0.08793337 0.08793337 0.08793337 0.08793337 0.08793337\n",
      " 0.08793337 0.08793337 0.08793337 0.08793337]\n",
      "SiO2=\n",
      "[0.02564957 0.06602225 0.06795042 0.06802094 0.0680179  0.06799862\n",
      " 0.06794444 0.06781473 0.0675443  0.06704536 0.06622019 0.06498429\n",
      " 0.06329372 0.06116688 0.05869138 0.05601229 0.05330484 0.05074063\n",
      " 0.04845765 0.04654197 0.04502378 0.04388558 0.04307743 0.0425337\n",
      " 0.04218711 0.04197801 0.04185892 0.0417952  0.04176343 0.04174892\n",
      " 0.04174306 0.04174116 0.04174086 0.04174107 0.04174137 0.0417416\n",
      " 0.04174175 0.04174185 0.0417419  0.04174192 0.04174194 0.04174194\n",
      " 0.04174194 0.04174195 0.04174195 0.04174195 0.04174195 0.04174195\n",
      " 0.04174195 0.04174195 0.04174195 0.04174195 0.04174195 0.04174195\n",
      " 0.04174195 0.04174195 0.04174195 0.04174195 0.04174195 0.04174195\n",
      " 0.04174195 0.04174195 0.04174195 0.04174195 0.04174195 0.04174195\n",
      " 0.04174195 0.04174195 0.04174195 0.04174195 0.04174195 0.04174195\n",
      " 0.04174195 0.04174195 0.04174195 0.04174195 0.04174195 0.04174195\n",
      " 0.04174195 0.04174195 0.04174195 0.04174195 0.04174195 0.04174195\n",
      " 0.04174195 0.04174195 0.04174195 0.04174195 0.04174195 0.04174195\n",
      " 0.04174195 0.04174195 0.04174195 0.04174195 0.04174195 0.04174195\n",
      " 0.04174195 0.04174195 0.04174195 0.04174195]\n",
      "H_piu=\n",
      "[ 2.08855111e-06  7.10616184e-07  6.81352815e-07  6.80277668e-07\n",
      "  6.80181563e-07  6.79985576e-07  6.79419301e-07  6.78003290e-07\n",
      "  6.74877670e-07  6.68686059e-07  6.57523124e-07  6.38984644e-07\n",
      "  6.10343328e-07  5.68866150e-07  5.12287478e-07  4.39429560e-07\n",
      "  3.50884740e-07  2.49542892e-07  1.40640975e-07  3.10745495e-08\n",
      " -7.19714991e-08 -1.62595202e-07 -2.37296082e-07 -2.95237686e-07\n",
      " -3.37731471e-07 -3.67344793e-07 -3.87044816e-07 -3.99604138e-07\n",
      " -4.07301993e-07 -4.11849503e-07 -4.14443940e-07 -4.15875704e-07\n",
      " -4.16641003e-07 -4.17037656e-07 -4.17237202e-07 -4.17334727e-07\n",
      " -4.17381071e-07 -4.17402501e-07 -4.17412150e-07 -4.17416384e-07\n",
      " -4.17418196e-07 -4.17418952e-07 -4.17419260e-07 -4.17419383e-07\n",
      " -4.17419431e-07 -4.17419449e-07 -4.17419456e-07 -4.17419458e-07\n",
      " -4.17419459e-07 -4.17419459e-07 -4.17419459e-07 -4.17419459e-07\n",
      " -4.17419459e-07 -4.17419459e-07 -4.17419459e-07 -4.17419459e-07\n",
      " -4.17419459e-07 -4.17419459e-07 -4.17419459e-07 -4.17419459e-07\n",
      " -4.17419459e-07 -4.17419459e-07 -4.17419459e-07 -4.17419459e-07\n",
      " -4.17419459e-07 -4.17419459e-07 -4.17419459e-07 -4.17419459e-07\n",
      " -4.17419459e-07 -4.17419459e-07 -4.17419459e-07 -4.17419459e-07\n",
      " -4.17419459e-07 -4.17419459e-07 -4.17419459e-07 -4.17419459e-07\n",
      " -4.17419459e-07 -4.17419459e-07 -4.17419459e-07 -4.17419459e-07\n",
      " -4.17419459e-07 -4.17419459e-07 -4.17419459e-07 -4.17419459e-07\n",
      " -4.17419459e-07 -4.17419459e-07 -4.17419459e-07 -4.17419459e-07\n",
      " -4.17419459e-07 -4.17419459e-07 -4.17419459e-07 -4.17419459e-07\n",
      " -4.17419459e-07 -4.17419459e-07 -4.17419459e-07 -4.17419459e-07\n",
      " -4.17419459e-07 -4.17419459e-07 -4.17419459e-07 -4.17419459e-07]\n"
     ]
    }
   ],
   "source": [
    "print(\"Ca=\")\n",
    "print(concentrations.Ca[:,-1])\n",
    "print(\"CaSiO3=\")\n",
    "print(concentrations.CaSiO3[:,-1])\n",
    "print(\"CO2=\")\n",
    "print(concentrations.CO2[:,-1])\n",
    "print(\"HCO3=\")\n",
    "print(concentrations.HCO3[:,-1])\n",
    "print(\"SiO2=\")\n",
    "print(concentrations.SiO2[:,-1])\n",
    "print(\"H_piu=\")\n",
    "print(concentrations.H_piu[:,-1])"
   ]
  },
  {
   "cell_type": "code",
   "execution_count": 26,
   "id": "b5e0bfd1",
   "metadata": {},
   "outputs": [],
   "source": [
    "exporter.write_pvd(time_steps)"
   ]
  },
  {
   "cell_type": "code",
   "execution_count": null,
   "id": "e3a7b4da",
   "metadata": {},
   "outputs": [],
   "source": []
  },
  {
   "cell_type": "code",
   "execution_count": null,
   "id": "53ba2594",
   "metadata": {},
   "outputs": [],
   "source": []
  },
  {
   "cell_type": "code",
   "execution_count": null,
   "id": "31162d77",
   "metadata": {},
   "outputs": [],
   "source": []
  }
 ],
 "metadata": {
  "kernelspec": {
   "display_name": "Python 3",
   "language": "python",
   "name": "python3"
  },
  "language_info": {
   "codemirror_mode": {
    "name": "ipython",
    "version": 3
   },
   "file_extension": ".py",
   "mimetype": "text/x-python",
   "name": "python",
   "nbconvert_exporter": "python",
   "pygments_lexer": "ipython3",
   "version": "3.8.8"
  }
 },
 "nbformat": 4,
 "nbformat_minor": 5
}
