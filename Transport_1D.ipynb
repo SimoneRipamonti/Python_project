{
 "cells": [
  {
   "cell_type": "code",
   "execution_count": 1,
   "id": "46131a5c",
   "metadata": {},
   "outputs": [],
   "source": [
    "import numpy as np\n",
    "import scipy.sparse as sps\n",
    "import porepy as pp"
   ]
  },
  {
   "cell_type": "code",
   "execution_count": 2,
   "id": "0428e8cb",
   "metadata": {},
   "outputs": [],
   "source": [
    "import sys\n",
    "sys.path.append(\"./class\")\n",
    "from Transport_class import Transport"
   ]
  },
  {
   "cell_type": "code",
   "execution_count": 3,
   "id": "27afefe1",
   "metadata": {},
   "outputs": [],
   "source": [
    "Nx=100\n",
    "#Ny=20\n",
    "phys_dims=[1.0]\n",
    "#phys_dims=[0.045]\n",
    "#phys_dims=[1,1]\n",
    "#g=pp.CartGrid([Nx,Ny],phys_dims)\n",
    "g=pp.CartGrid([Nx],phys_dims)\n",
    "g.compute_geometry()            "
   ]
  },
  {
   "cell_type": "code",
   "execution_count": 4,
   "id": "991a98c7",
   "metadata": {},
   "outputs": [
    {
     "name": "stdout",
     "output_type": "stream",
     "text": [
      "101\n"
     ]
    }
   ],
   "source": [
    "unity = np.ones(g.num_cells)\n",
    "empty = np.empty(0)\n",
    "#porosity=0.3*unity\n",
    "porosity=unity\n",
    "aperture=1\n",
    "bc_type=[\"dir\",\"dir\"]\n",
    "bc_value=[1.,0.]\n",
    "#bc_value=[0.38553623, 0.]\n",
    "#init_cond=lambda x,y,z:int(x<0.5)\n",
    "init_cond=lambda x,y,z:0.0\n",
    "#init_cond=lambda x,y,z:0.00545 \n",
    "print(g.num_faces)"
   ]
  },
  {
   "cell_type": "code",
   "execution_count": 5,
   "id": "66bceabd",
   "metadata": {},
   "outputs": [],
   "source": [
    "specified_parameters = {\n",
    "            \"bc_type\": bc_type,\n",
    "            \"bc_value\": bc_value,\n",
    "            #\"time_step\": 34.56,\n",
    "            \"time_step\": 0.01,\n",
    "            \"mass_weight\": porosity * aperture,\n",
    "            \"darcy_flux\":np.ones(g.num_faces),\n",
    "            #\"darcy_flux\":6.67e-9*np.ones(Nx+1),\n",
    "            \"t_max\": 1,\n",
    "            #\"t_max\":345600,\n",
    "            \"method\": \"Explicit\",\n",
    "            \"lambda_lin_decay\":0,\n",
    "            \"initial_cond\":init_cond,\n",
    "}"
   ]
  },
  {
   "cell_type": "code",
   "execution_count": 6,
   "id": "e75c1748",
   "metadata": {},
   "outputs": [],
   "source": [
    "tracer=np.zeros(g.num_cells)\n",
    "transport=Transport(g,specified_parameters)\n",
    "#transport.set_bc()\n",
    "#transport.set_initial_cond(tracer)\n",
    "#lhs,rhs_b,rhs_matrix=transport.get_transport_lhs_rhs()\n",
    "lhs,rhs_b,rhs_matrix=transport.set_and_get_matrices(tracer)"
   ]
  },
  {
   "cell_type": "code",
   "execution_count": 7,
   "id": "48dc139d",
   "metadata": {},
   "outputs": [
    {
     "name": "stdout",
     "output_type": "stream",
     "text": [
      "[1. 1. 1. 1. 1. 1. 1. 1. 1. 1. 1. 1. 1. 1. 1. 1. 1. 1. 1. 1. 1. 1. 1. 1.\n",
      " 1. 1. 1. 1. 1. 1. 1. 1. 1. 1. 1. 1. 1. 1. 1. 1. 1. 1. 1. 1. 1. 1. 1. 1.\n",
      " 1. 1. 1. 1. 1. 1. 1. 1. 1. 1. 1. 1. 1. 1. 1. 1. 1. 1. 1. 1. 1. 1. 1. 1.\n",
      " 1. 1. 1. 1. 1. 1. 1. 1. 1. 1. 1. 1. 1. 1. 1. 1. 1. 1. 1. 1. 1. 1. 1. 1.\n",
      " 1. 1. 1. 1.]\n"
     ]
    },
    {
     "name": "stderr",
     "output_type": "stream",
     "text": [
      "/home/dell/.local/lib/python3.8/site-packages/scipy/sparse/linalg/dsolve/linsolve.py:318: SparseEfficiencyWarning: splu requires CSC matrix format\n",
      "  warn('splu requires CSC matrix format', SparseEfficiencyWarning)\n"
     ]
    }
   ],
   "source": [
    "IEsolver = sps.linalg.factorized(lhs)\n",
    "\n",
    "data_transport=transport.data[pp.PARAMETERS][\"transport\"]\n",
    "n_steps = int(np.round(data_transport[\"t_max\"] / data_transport[\"time_step\"]))\n",
    "\n",
    "save_every=1\n",
    "\n",
    "# Exporter\n",
    "exporter = pp.Exporter(transport.g, file_name=\"tracer\",folder_name=\"solution\")\n",
    "    \n",
    "for i in range(1,n_steps+1,1):\n",
    "#for i in range(1,2,1):\n",
    "    if np.isclose(i % save_every, 0):\n",
    "        # Export existing solution (final export is taken care of below)\n",
    "        exporter.write_vtu({\"tracer\":tracer}, time_step=int(i // save_every))\n",
    "        if data_transport[\"method\"]==\"Explicit\":\n",
    "            tracer = IEsolver(rhs_matrix*tracer+rhs_b)\n",
    "            #print(tracer)\n",
    "        else:\n",
    "            tracer = IEsolver(rhs_matrix*tracer+rhs_b)\n",
    "            #print(tracer)\n",
    "print(tracer)\n",
    "exporter.write_vtu({\"tracer\":tracer}, time_step=(n_steps // save_every))\n",
    "time_steps = np.arange(0,data_transport[\"t_max\"] + data_transport[\"time_step\"], save_every * data_transport[\"time_step\"])\n",
    "exporter.write_pvd(time_steps)"
   ]
  },
  {
   "cell_type": "code",
   "execution_count": null,
   "id": "776588d7",
   "metadata": {},
   "outputs": [],
   "source": []
  }
 ],
 "metadata": {
  "kernelspec": {
   "display_name": "Python 3",
   "language": "python",
   "name": "python3"
  },
  "language_info": {
   "codemirror_mode": {
    "name": "ipython",
    "version": 3
   },
   "file_extension": ".py",
   "mimetype": "text/x-python",
   "name": "python",
   "nbconvert_exporter": "python",
   "pygments_lexer": "ipython3",
   "version": "3.8.8"
  }
 },
 "nbformat": 4,
 "nbformat_minor": 5
}
