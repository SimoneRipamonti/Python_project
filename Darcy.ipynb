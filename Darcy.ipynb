{
 "cells": [
  {
   "cell_type": "code",
   "execution_count": 1,
   "id": "ed84f6e9",
   "metadata": {},
   "outputs": [],
   "source": [
    "import numpy as np\n",
    "import scipy.sparse as sps\n",
    "import porepy as pp\n",
    "import math\n",
    "import matplotlib.pyplot as plt"
   ]
  },
  {
   "cell_type": "code",
   "execution_count": 2,
   "id": "a309ca2b",
   "metadata": {},
   "outputs": [],
   "source": [
    "import sys\n",
    "sys.path.append(\"./class\")\n",
    "from Flow_class import Flow"
   ]
  },
  {
   "cell_type": "code",
   "execution_count": 3,
   "id": "46e4631a",
   "metadata": {},
   "outputs": [],
   "source": [
    "Nx=100\n",
    "#phys_dims=[1,1]\n",
    "phys_dims=[1]\n",
    "#g=pp.CartGrid([Nx,Ny],phys_dims)\n",
    "g=pp.CartGrid([Nx],phys_dims)\n",
    "g.compute_geometry()\n",
    "#pp.plot_grid(g,figsize=(15,12))\n",
    "#p.plot_grid(g)"
   ]
  },
  {
   "cell_type": "code",
   "execution_count": 4,
   "id": "f6f1966f",
   "metadata": {},
   "outputs": [],
   "source": [
    "# Permeability\n",
    "perm = pp.SecondOrderTensor(1e-7*np.ones(g.num_cells))                     \n",
    "f_lambda= lambda x,y,z: math.sin(4*math.pi*x)\n",
    "# Boundary conditions\n",
    "b_faces = g.tags['domain_boundary_faces'].nonzero()[0]\n",
    "bc = pp.BoundaryCondition(g, b_faces, ['dir']*b_faces.size)\n",
    "bc_val = np.zeros(g.num_faces)\n",
    "bc_val[0]=1e6\n",
    "bc_val[bc_val.size-1]=-800000.0\n",
    "\n",
    "# Collect all parameters in a dictionary\n",
    "parameters = {\"second_order_tensor\": perm, \"f_lambda\": f_lambda, \"bc\": bc, \"bc_values\": bc_val}"
   ]
  },
  {
   "cell_type": "code",
   "execution_count": 5,
   "id": "a776cf9e",
   "metadata": {},
   "outputs": [
    {
     "name": "stdout",
     "output_type": "stream",
     "text": [
      "MVEM\n"
     ]
    }
   ],
   "source": [
    "flow=Flow(g,parameters,\"MVEM\")\n",
    "flow.set_source()\n",
    "p=flow.solve()"
   ]
  },
  {
   "cell_type": "code",
   "execution_count": 6,
   "id": "012a4395",
   "metadata": {},
   "outputs": [
    {
     "data": {
      "text/plain": [
       "[<matplotlib.lines.Line2D at 0x7f627077a7c0>]"
      ]
     },
     "execution_count": 6,
     "metadata": {},
     "output_type": "execute_result"
    },
    {
     "data": {
      "image/png": "[encoded data removed]",
      "text/plain": [
       "<Figure size 432x288 with 1 Axes>"
      ]
     },
     "metadata": {
      "needs_background": "light"
     },
     "output_type": "display_data"
    }
   ],
   "source": [
    "h=1/Nx\n",
    "x=np.linspace(1/(2*Nx),1-1/(2*Nx),Nx)\n",
    "plt.plot(x,p)"
   ]
  },
  {
   "cell_type": "code",
   "execution_count": null,
   "id": "6a14ff2b",
   "metadata": {},
   "outputs": [],
   "source": []
  }
 ],
 "metadata": {
  "kernelspec": {
   "display_name": "Python 3",
   "language": "python",
   "name": "python3"
  },
  "language_info": {
   "codemirror_mode": {
    "name": "ipython",
    "version": 3
   },
   "file_extension": ".py",
   "mimetype": "text/x-python",
   "name": "python",
   "nbconvert_exporter": "python",
   "pygments_lexer": "ipython3",
   "version": "3.8.8"
  }
 },
 "nbformat": 4,
 "nbformat_minor": 5
}
